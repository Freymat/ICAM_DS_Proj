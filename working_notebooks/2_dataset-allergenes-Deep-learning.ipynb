{
 "cells": [
  {
   "cell_type": "code",
   "execution_count": 5,
   "metadata": {},
   "outputs": [],
   "source": [
    "# 1. Built-in modules\n",
    "import os\n",
    "import sys\n",
    "\n",
    "# 2. Third-party modules\n",
    "import pandas as pd\n",
    "from pprint import pprint\n",
    "import missingno as msno\n",
    "import matplotlib.pyplot as plt\n",
    "import numpy as np\n",
    "import re\n",
    "\n",
    "# 3. Custom modules"
   ]
  },
  {
   "cell_type": "markdown",
   "metadata": {},
   "source": [
    "Classification avec Decision Tree et MLPClassifier"
   ]
  },
  {
   "cell_type": "markdown",
   "metadata": {},
   "source": [
    "# Fonctions de base"
   ]
  },
  {
   "cell_type": "code",
   "execution_count": null,
   "metadata": {},
   "outputs": [],
   "source": [
    "def get_unique_values_and_maxlength(dataset, column_name):\n",
    "    \"\"\"\n",
    "    Compute unique values and maximum length for a given column of a dataset\n",
    "    \n",
    "    Args:\n",
    "        dataset(dataset): A dataset with variables\n",
    "        column_name(string): A column name\n",
    "        \n",
    "    Returns:\n",
    "        A tuple containing a list of unique values for the given column\n",
    "        and the maximum length of the values\n",
    "    \"\"\"\n",
    "    unique_values = list(dataset[column_name].unique())\n",
    "    max_length = max([len(str(value)) for value in unique_values])\n",
    "    return  max_length, unique_values"
   ]
  },
  {
   "cell_type": "code",
   "execution_count": 108,
   "metadata": {},
   "outputs": [],
   "source": [
    "def extract_columns(input_file, columns, chunk_size=10000):\n",
    "    \"\"\"\n",
    "    Extrait les colonnes spécifiées du fichier CSV et les concatène dans un nouveau fichier CSV.\n",
    "    \n",
    "    Arguments :\n",
    "    input_file : str - Chemin vers le fichier CSV d'entrée.\n",
    "    columns : list - Liste des noms des colonnes à extraire.\n",
    "    chunk_size : int - Taille des chunks à lire.\n",
    "    \"\"\"\n",
    "\n",
    "    # Récupérer le nom de base du fichier CSV d'entrée\n",
    "    base_filename = os.path.splitext(os.path.basename(input_file))[0]\n",
    "\n",
    "    # Ouvrir le fichier CSV en utilisant pandas\n",
    "    chunks = pd.read_csv(input_file, delimiter='\\t', encoding=\"utf-8\", chunksize=chunk_size, low_memory=False)\n",
    "\n",
    "    # Nom du fichier CSV de sortie basé sur les colonnes sélectionnées\n",
    "    output_file = f\"{base_filename}.csv\"\n",
    "\n",
    "    # Itérer à travers les chunks et extraire les colonnes choisies\n",
    "    with open(output_file, 'w', encoding=\"utf-8\") as f_out:\n",
    "        for i, chunk in enumerate(chunks):\n",
    "            # Extraire les colonnes spécifiées\n",
    "            extracted_columns = chunk[columns]\n",
    "            # Écrire les données extraites dans le fichier de sortie\n",
    "            extracted_columns.to_csv(f_out, index=False, header=(i == 0), encoding=\"utf-8\")\n"
   ]
  },
  {
   "cell_type": "markdown",
   "metadata": {},
   "source": [
    "# Vectorisation à partir du champ 'ingredients_text' directement\n",
    "sans passer par l'étape 'création d'une colonne ingredients_tokens."
   ]
  },
  {
   "cell_type": "code",
   "execution_count": 109,
   "metadata": {},
   "outputs": [
    {
     "name": "stderr",
     "output_type": "stream",
     "text": [
      "/tmp/ipykernel_28838/4235003242.py:2: DtypeWarning: Columns (0,17) have mixed types. Specify dtype option on import or set low_memory=False.\n",
      "  data_allergens_no_tags_gluten_presence = pd.read_csv('data_allergens_no_tags_gluten_presence.csv')\n"
     ]
    }
   ],
   "source": [
    "# On charge le fichier data_allergens_no_tags_gluten_presence.csv\n",
    "data_allergens_no_tags_gluten_presence = pd.read_csv('data_allergens_no_tags_gluten_presence.csv')\n"
   ]
  },
  {
   "cell_type": "code",
   "execution_count": 110,
   "metadata": {},
   "outputs": [],
   "source": [
    "df = data_allergens_no_tags_gluten_presence"
   ]
  },
  {
   "cell_type": "code",
   "execution_count": 111,
   "metadata": {},
   "outputs": [
    {
     "name": "stdout",
     "output_type": "stream",
     "text": [
      " Nombre de lignes contenant du gluten: 108188\n",
      " Nombre de lignes ne contenant pas de gluten: 139292\n"
     ]
    }
   ],
   "source": [
    "# nombre de lignes où la colonne 'gluten_presence' contient 1\n",
    "print(f\" Nombre de lignes contenant du gluten: {df['gluten_presence'].sum()}\")\n",
    "# nombre de lignes où la colonne 'gluten_presence' contient 0\n",
    "print(f\" Nombre de lignes ne contenant pas de gluten: {(df['gluten_presence'] == 0).sum()}\")"
   ]
  },
  {
   "cell_type": "code",
   "execution_count": 112,
   "metadata": {},
   "outputs": [
    {
     "data": {
      "text/plain": [
       "0         eau graines de téguments de moutarde vinaigre ...\n",
       "1         antioxydant : érythorbate de sodium, colorant ...\n",
       "2         baguette Poite vin Pain baguette 50,6%: farine...\n",
       "3         Paln suédois 42,6%: farine de BLÉ, eau, farine...\n",
       "4         FROMAGE BLANC 7.896 MG 73,304, crème de marron...\n",
       "                                ...                        \n",
       "247475    FARINE DE BLÉ, carbonate de calcium, POUDRE DE...\n",
       "247476    Viande de volaille 73 % ; peau de poulet 13 % ...\n",
       "247477    ROASTED PEANUTS, SUGAR, LESS OF THAN 2% OF: MO...\n",
       "247478    45 % massepain (44% amandes, sucre, sirop de g...\n",
       "247479    farine de blé  eau porc 17 % chou barde de por...\n",
       "Name: ingredients_text, Length: 247480, dtype: object"
      ]
     },
     "execution_count": 112,
     "metadata": {},
     "output_type": "execute_result"
    }
   ],
   "source": [
    "# afficher la colonne 'ingredients_text'\n",
    "df['ingredients_text']"
   ]
  },
  {
   "cell_type": "code",
   "execution_count": 113,
   "metadata": {},
   "outputs": [
    {
     "name": "stdout",
     "output_type": "stream",
     "text": [
      "Nombre de valeurs manquantes dans la colonne 'ingredients_text': 3452\n"
     ]
    }
   ],
   "source": [
    "# nombre de ligne avec des valeurs manquantes dans la colonne 'ingredients_text'\n",
    "print(f\"Nombre de valeurs manquantes dans la colonne 'ingredients_text': {df['ingredients_text'].isna().sum()}\")"
   ]
  },
  {
   "cell_type": "code",
   "execution_count": 114,
   "metadata": {},
   "outputs": [],
   "source": [
    "# supprimer les lignes où la colonne 'ingredients_text' contient des valeurs manquantes\n",
    "df = df.dropna(subset=['ingredients_text'])"
   ]
  },
  {
   "cell_type": "code",
   "execution_count": 115,
   "metadata": {},
   "outputs": [
    {
     "name": "stdout",
     "output_type": "stream",
     "text": [
      "Nombre de lignes contenant du gluten: 106752\n",
      "Nombre de lignes ne contenant pas de gluten: 137276\n",
      "Nombre de valeurs manquantes dans la colonne 'ingredients_text': 0\n"
     ]
    }
   ],
   "source": [
    "# nombre de lignes où la colonne 'gluten_presence' contient 1\n",
    "print(f\"Nombre de lignes contenant du gluten: {df['gluten_presence'].sum()}\")\n",
    "# nombre de lignes où la colonne 'gluten_presence' contient 0\n",
    "print(f\"Nombre de lignes ne contenant pas de gluten: {(df['gluten_presence'] == 0).sum()}\")\n",
    "# nombre de ligne avec des valeurs manquantes dans la colonne 'ingredients_text'\n",
    "print(f\"Nombre de valeurs manquantes dans la colonne 'ingredients_text': {df['ingredients_text'].isna().sum()}\")"
   ]
  },
  {
   "cell_type": "code",
   "execution_count": 116,
   "metadata": {},
   "outputs": [],
   "source": [
    "# rechercher la valeur \"gluten\" et la valeur \"free\" dans la colonne 'ingredients_text'\n",
    "\n",
    "gluten_free = df['ingredients_text'].str.contains('gluten' and 'free', case=False, na=False).sum()"
   ]
  },
  {
   "cell_type": "code",
   "execution_count": 117,
   "metadata": {},
   "outputs": [
    {
     "name": "stdout",
     "output_type": "stream",
     "text": [
      "['Wheatflour contains Gluten (With Wheatflour, Calcium Carbonate, Iron, Niacin, Thiamin) • nu tt Salted Caramel (14%) (Sugar • Sweetened Condensed Milk (20%) (Whole Milk • Sugar) • Glucose Syrup • Palm Oil • Butter Oil (_Milk_) • Salt • Flavouring) • Belgian Milk Chocolate Chunks (13%) (Sugar • Dried Whole Milk • Cocoa Butter • Cocoa Mass • Emulsifier: Soya Lecithin • Vanilla Flavouring) • Sugar • Butter (_Milk_) • Palm Oil • Rapeseed Oil • Invert Sugar Syrup • Golden Syrup (Invert Sugar Syrup) • Fructose • Dried Skimmed Milk • Maltodextrin • Dried Free Range Egg • Molasses • Raising Agent: Sodium Bicarbonate, E450 • Flavouring • Salt.'\n",
      " 'British Outdoor Bred Pork (90%) · Water · Gluten Free Crumb (Rice Flour, Chickpea Flour · Cornflour · Salt · Dextrose), Salt, Parsley · Lemon Zest · Dried Herbs (Thyme · Sage, Parsley, Oregano · Marjoram) · Ground Spices (Nutmeg, Mace · Coriander, Cayenne · Black Pepper) · Onions · Dextrose· Preservative: E223 (Sulphites) · Rapeseed Oil · Antioxidant: Ascorbic Acid. Sausages filled into natural pork casings.'\n",
      " 'Salted Caramel (37%) (Sugar, Glucose Syrup , Sweetened Condensed Milk (Whole _Milk_, Sugar, Lactose (_Milk_), Water, Unsalted Butter (_Milk_), Golden Syrup (Invert Sugar Syrup), Palm Oil, Salt, Emulsifier: Rapeseed Lecithin, E491, Flavouring), Gluten Free Digestive Biscuit Crumb (Cornflour, Sugar, Rice Flour, Potato Starch, Water, Glucose Syrup, Rice Bran, Millet, Raising Agent: E450, E501, Caramelised Sugar, Dried _Egg_, Stabiliser: Xanthan Gum, Salt, Palm Oil, Palm Kernel Oil, Coconut Oil, Rapeseed Oil), Milk Chocolate (14%) (Sugar, Cocoa Butter, Cocoa Mass, Dried Skimmed _Milk_, _Milk_ Fat, Lactose (_Milk_), Emulsifier: _Soya_ Lecithin), Roasted _Hazelnuts_ (5%), Sugar, Golden Syrup (Invert Sugar Syrup), Palm Fat, Rapeseed Oil, Palm Oil, Coconut Oil, Flavouring, Salt, Emulsifier: E471.'\n",
      " ...\n",
      " 'Non-Dairy Creamer (glucose syrup, hydrogenated coconut oil, modified starch (1450), emulsifiers (471, 472c), stabiliser (340), free flow agent (551), flavour), Organic Almond Milk Powder (22%) (almonds, rice syrup, acacia fibre, cornstarch, corn syrup, flavour), Sugar, Flavour, Vegetable Gums (gum acacia, gellan gum), Turmeric, Tea Powder].'\n",
      " 'Creamer (Glucose Syrup, Palm Kernel Oil, Sodium Caseinate (Milk Protein), Stabilizers (E340: Potassium Phosphates, E452i: Sodium Polyphosphate), Emulsifier (E471: Mono and Diglycerides of Fatty Acids), Free Flowing Agent (E551: Silicon Dioxide)] & Instant Coffee.'\n",
      " 'XYLITOL* (SWEETENER), GUM ARABIC (THICKENER), CALCIUM STEARATE+ (ANTI CAKING AGENT), PEPPERMINT 011, MENTHOL, EUCALYPTUS OIL, CARNAUBA WAX (GLAZING AGENT). *FROM TREES & PLANTS. +FROM VEGETABLE SOURCES. SUITABLE FOR VEGANS. GLUTEN FREE.']\n"
     ]
    }
   ],
   "source": [
    "# afficher le dataframe qui contient la valeur \"gluten\" et la valeur \"free\" dans la colonne 'ingredients_text'\n",
    "df[df['ingredients_text'].str.contains('gluten' and 'free', case=False, na=False)]\n",
    "# affichier uniquement la colonne 'ingredients_text' du dataframe\n",
    "df[df['ingredients_text'].str.contains('gluten' and 'free', case=False, na=False)]['ingredients_text']\n",
    "# affichier le texte complet\n",
    "print(df[df['ingredients_text'].str.contains('gluten' and 'free', case=False, na=False)]['ingredients_text'].values)"
   ]
  },
  {
   "cell_type": "markdown",
   "metadata": {},
   "source": [
    "=> Il faudra gérer ces cas où du gluten est prédit à cause de l'expression gluten free."
   ]
  },
  {
   "cell_type": "code",
   "execution_count": 118,
   "metadata": {},
   "outputs": [
    {
     "name": "stdout",
     "output_type": "stream",
     "text": [
      "Requirement already satisfied: pip in /home/matthieu/anaconda3/envs/dsproj/lib/python3.11/site-packages (24.0)\n",
      "Requirement already satisfied: nltk in /home/matthieu/anaconda3/envs/dsproj/lib/python3.11/site-packages (3.8.1)\n",
      "Requirement already satisfied: click in /home/matthieu/anaconda3/envs/dsproj/lib/python3.11/site-packages (from nltk) (8.1.7)\n",
      "Requirement already satisfied: joblib in /home/matthieu/anaconda3/envs/dsproj/lib/python3.11/site-packages (from nltk) (1.3.2)\n",
      "Requirement already satisfied: regex>=2021.8.3 in /home/matthieu/anaconda3/envs/dsproj/lib/python3.11/site-packages (from nltk) (2023.12.25)\n",
      "Requirement already satisfied: tqdm in /home/matthieu/anaconda3/envs/dsproj/lib/python3.11/site-packages (from nltk) (4.66.1)\n"
     ]
    }
   ],
   "source": [
    "! pip install --upgrade pip\n",
    "! pip install nltk"
   ]
  },
  {
   "cell_type": "code",
   "execution_count": 10,
   "metadata": {},
   "outputs": [],
   "source": [
    "import nltk\n",
    "from nltk.stem import WordNetLemmatizer\n",
    "from nltk.tokenize import word_tokenize\n",
    "from string import punctuation"
   ]
  },
  {
   "cell_type": "code",
   "execution_count": 120,
   "metadata": {},
   "outputs": [
    {
     "name": "stderr",
     "output_type": "stream",
     "text": [
      "[nltk_data] Downloading package punkt to /home/matthieu/nltk_data...\n",
      "[nltk_data]   Package punkt is already up-to-date!\n",
      "[nltk_data] Downloading package stopwords to\n",
      "[nltk_data]     /home/matthieu/nltk_data...\n",
      "[nltk_data]   Package stopwords is already up-to-date!\n",
      "[nltk_data] Downloading package wordnet to /home/matthieu/nltk_data...\n",
      "[nltk_data]   Package wordnet is already up-to-date!\n"
     ]
    },
    {
     "data": {
      "text/plain": [
       "True"
      ]
     },
     "execution_count": 120,
     "metadata": {},
     "output_type": "execute_result"
    }
   ],
   "source": [
    "# Télécharger les ressources nécessaires pour NLTK (exécuter une seule fois)\n",
    "nltk.download('punkt')\n",
    "nltk.download('stopwords')\n",
    "nltk.download('wordnet')"
   ]
  },
  {
   "cell_type": "code",
   "execution_count": 11,
   "metadata": {},
   "outputs": [],
   "source": [
    "# Imports\n",
    "from nltk.tokenize import word_tokenize\n",
    "from nltk.corpus import stopwords\n",
    "from nltk.stem import WordNetLemmatizer"
   ]
  },
  {
   "cell_type": "code",
   "execution_count": 122,
   "metadata": {},
   "outputs": [],
   "source": [
    "# Nous allons créer la liste des stopwords en dehors de la fonction tokenize, pour éviter de la recalculer à chaque appel de la fonction.\n",
    "\n",
    "# Liste des langues pour lesquelles nous voulons des stopwords\n",
    "langues = ['english', 'french', 'german']\n",
    "# Concaténer toutes les listes de stopwords pour les différentes langues\n",
    "stopwords_all = []\n",
    "for langue in langues:\n",
    "    stopwords_all.extend(stopwords.words(langue))\n"
   ]
  },
  {
   "cell_type": "code",
   "execution_count": 7,
   "metadata": {},
   "outputs": [],
   "source": [
    "# Ecrivons la fonction de tokenisation, nous voulons qu'elle supprime également les valeurs numériques\n",
    "\n",
    "def tokenize(texte):\n",
    "\n",
    "    # Tokenisation du texte\n",
    "    tokens = word_tokenize(texte)\n",
    "\n",
    "    # Suppression de la ponctuation, des valeurs numériques et des mots vides (stop words)\n",
    "    tokens_cleaned = [mot.replace('_', '').replace('-', '').lower() for mot in tokens if mot not in punctuation \n",
    "                      and mot.lower() not in stopwords_all \n",
    "                      and not bool(re.match(r'\\d', mot))\n",
    "                      and len(mot) > 2]\n",
    "                    \n",
    "\n",
    "    return tokens_cleaned\n"
   ]
  },
  {
   "cell_type": "code",
   "execution_count": 124,
   "metadata": {},
   "outputs": [
    {
     "data": {
      "text/plain": [
       "['baguette',\n",
       " 'poite',\n",
       " 'vin',\n",
       " 'pain',\n",
       " 'baguette',\n",
       " 'farine',\n",
       " 'blé',\n",
       " 'eau',\n",
       " 'sel',\n",
       " 'levure',\n",
       " 'gluten',\n",
       " 'farine',\n",
       " 'ble',\n",
       " 'maité',\n",
       " 'levure',\n",
       " 'désactivée',\n",
       " 'acide',\n",
       " 'ascorbique',\n",
       " 'garniture',\n",
       " 'fromage',\n",
       " 'michèvre',\n",
       " 'lait',\n",
       " 'pasteurisé',\n",
       " 'lait',\n",
       " 'vache',\n",
       " 'lait',\n",
       " 'chèvre',\n",
       " 'sel',\n",
       " 'ferments',\n",
       " 'lactiques',\n",
       " 'daffinage',\n",
       " 'coagulant',\n",
       " 'tomate',\n",
       " 'saladg',\n",
       " 'huile',\n",
       " \"d'olive\",\n",
       " 'basilic']"
      ]
     },
     "execution_count": 124,
     "metadata": {},
     "output_type": "execute_result"
    }
   ],
   "source": [
    "texte = df['ingredients_text'].iloc[2]\n",
    "tokenize(texte)\n"
   ]
  },
  {
   "cell_type": "code",
   "execution_count": 125,
   "metadata": {},
   "outputs": [
    {
     "name": "stdout",
     "output_type": "stream",
     "text": [
      "E150 - Caramel,E160a - Carotene,E202 - Potassium sorbate,E316 - Sodium erythorbate,E466 - Sodium carboxy methyl cellulose\n"
     ]
    }
   ],
   "source": [
    "texte = df['additives_en'].iloc[1]\n",
    "print(texte)"
   ]
  },
  {
   "cell_type": "code",
   "execution_count": 126,
   "metadata": {},
   "outputs": [
    {
     "data": {
      "text/plain": [
       "['e150',\n",
       " 'caramel',\n",
       " 'e160a',\n",
       " 'carotene',\n",
       " 'e202',\n",
       " 'potassium',\n",
       " 'sorbate',\n",
       " 'e316',\n",
       " 'sodium',\n",
       " 'erythorbate',\n",
       " 'e466',\n",
       " 'sodium',\n",
       " 'carboxy',\n",
       " 'methyl',\n",
       " 'cellulose']"
      ]
     },
     "execution_count": 126,
     "metadata": {},
     "output_type": "execute_result"
    }
   ],
   "source": [
    "tokenize(texte)"
   ]
  },
  {
   "cell_type": "code",
   "execution_count": 127,
   "metadata": {},
   "outputs": [
    {
     "name": "stderr",
     "output_type": "stream",
     "text": [
      "/tmp/ipykernel_28838/2528447956.py:2: SettingWithCopyWarning: \n",
      "A value is trying to be set on a copy of a slice from a DataFrame.\n",
      "Try using .loc[row_indexer,col_indexer] = value instead\n",
      "\n",
      "See the caveats in the documentation: https://pandas.pydata.org/pandas-docs/stable/user_guide/indexing.html#returning-a-view-versus-a-copy\n",
      "  df['ingredients_tokens'] = df['ingredients_text'].apply(tokenize)\n"
     ]
    }
   ],
   "source": [
    "# ajout de la colonne 'ingredients_tokens' au dataframe\n",
    "df['ingredients_tokens'] = df['ingredients_text'].apply(tokenize)"
   ]
  },
  {
   "cell_type": "code",
   "execution_count": 128,
   "metadata": {},
   "outputs": [
    {
     "data": {
      "text/html": [
       "<div>\n",
       "<style scoped>\n",
       "    .dataframe tbody tr th:only-of-type {\n",
       "        vertical-align: middle;\n",
       "    }\n",
       "\n",
       "    .dataframe tbody tr th {\n",
       "        vertical-align: top;\n",
       "    }\n",
       "\n",
       "    .dataframe thead th {\n",
       "        text-align: right;\n",
       "    }\n",
       "</style>\n",
       "<table border=\"1\" class=\"dataframe\">\n",
       "  <thead>\n",
       "    <tr style=\"text-align: right;\">\n",
       "      <th></th>\n",
       "      <th>0</th>\n",
       "      <th>1</th>\n",
       "      <th>2</th>\n",
       "      <th>3</th>\n",
       "      <th>4</th>\n",
       "    </tr>\n",
       "  </thead>\n",
       "  <tbody>\n",
       "    <tr>\n",
       "      <th>code</th>\n",
       "      <td>100</td>\n",
       "      <td>1199</td>\n",
       "      <td>2264</td>\n",
       "      <td>3827</td>\n",
       "      <td>4794</td>\n",
       "    </tr>\n",
       "    <tr>\n",
       "      <th>creator</th>\n",
       "      <td>del51</td>\n",
       "      <td>kiliweb</td>\n",
       "      <td>kiliweb</td>\n",
       "      <td>kiliweb</td>\n",
       "      <td>kiliweb</td>\n",
       "    </tr>\n",
       "    <tr>\n",
       "      <th>created_datetime</th>\n",
       "      <td>2015-10-11T14:09:21Z</td>\n",
       "      <td>2018-02-05T12:26:34Z</td>\n",
       "      <td>2018-02-12T12:52:40Z</td>\n",
       "      <td>2018-02-15T10:44:33Z</td>\n",
       "      <td>2018-02-19T10:55:56Z</td>\n",
       "    </tr>\n",
       "    <tr>\n",
       "      <th>product_name</th>\n",
       "      <td>moutarde au moût de raisin</td>\n",
       "      <td>Solène céréales poulet</td>\n",
       "      <td>Baguette Poitevin</td>\n",
       "      <td>Suedois saumon</td>\n",
       "      <td>Fromage blanc à la creme de marron</td>\n",
       "    </tr>\n",
       "    <tr>\n",
       "      <th>generic_name</th>\n",
       "      <td>NaN</td>\n",
       "      <td>NaN</td>\n",
       "      <td>NaN</td>\n",
       "      <td>NaN</td>\n",
       "      <td>NaN</td>\n",
       "    </tr>\n",
       "    <tr>\n",
       "      <th>categories</th>\n",
       "      <td>Condiments, Sauces, Moutardes, groceries</td>\n",
       "      <td>NaN</td>\n",
       "      <td>NaN</td>\n",
       "      <td>NaN</td>\n",
       "      <td>NaN</td>\n",
       "    </tr>\n",
       "    <tr>\n",
       "      <th>categories_tags</th>\n",
       "      <td>condiments,sauces,mustards,groceries</td>\n",
       "      <td>NaN</td>\n",
       "      <td>NaN</td>\n",
       "      <td>NaN</td>\n",
       "      <td>NaN</td>\n",
       "    </tr>\n",
       "    <tr>\n",
       "      <th>categories_en</th>\n",
       "      <td>Condiments,Sauces,Mustards,Groceries</td>\n",
       "      <td>NaN</td>\n",
       "      <td>NaN</td>\n",
       "      <td>NaN</td>\n",
       "      <td>NaN</td>\n",
       "    </tr>\n",
       "    <tr>\n",
       "      <th>ingredients_text</th>\n",
       "      <td>eau graines de téguments de moutarde vinaigre ...</td>\n",
       "      <td>antioxydant : érythorbate de sodium, colorant ...</td>\n",
       "      <td>baguette Poite vin Pain baguette 50,6%: farine...</td>\n",
       "      <td>Paln suédois 42,6%: farine de BLÉ, eau, farine...</td>\n",
       "      <td>FROMAGE BLANC 7.896 MG 73,304, crème de marron...</td>\n",
       "    </tr>\n",
       "    <tr>\n",
       "      <th>ingredients_tags</th>\n",
       "      <td>eau-graines-de-teguments-de-moutarde-vinaigre-...</td>\n",
       "      <td>antioxidant,colour,tomato,vegetable,fruit-vege...</td>\n",
       "      <td>baguette-poite-vin-pain-baguette,water,salt,ye...</td>\n",
       "      <td>paln-suedois,water,rye-flour,flour,cereal-flou...</td>\n",
       "      <td>fromage-blanc-7-896-mg-73-304,creme-de-marron-...</td>\n",
       "    </tr>\n",
       "    <tr>\n",
       "      <th>ingredients_analysis_tags</th>\n",
       "      <td>palm-oil-content-unknown,vegan-status-unknown,...</td>\n",
       "      <td>may-contain-palm-oil,non-vegan,vegetarian-stat...</td>\n",
       "      <td>palm-oil-content-unknown,non-vegan,vegetarian-...</td>\n",
       "      <td>palm-oil-free,non-vegan,non-vegetarian</td>\n",
       "      <td>palm-oil-content-unknown,vegan-status-unknown,...</td>\n",
       "    </tr>\n",
       "    <tr>\n",
       "      <th>allergens</th>\n",
       "      <td>mustard</td>\n",
       "      <td>eggs,mustard</td>\n",
       "      <td>gluten,milk</td>\n",
       "      <td>fish,gluten,milk</td>\n",
       "      <td>milk</td>\n",
       "    </tr>\n",
       "    <tr>\n",
       "      <th>allergens_en</th>\n",
       "      <td>NaN</td>\n",
       "      <td>NaN</td>\n",
       "      <td>NaN</td>\n",
       "      <td>NaN</td>\n",
       "      <td>NaN</td>\n",
       "    </tr>\n",
       "    <tr>\n",
       "      <th>traces</th>\n",
       "      <td>NaN</td>\n",
       "      <td>NaN</td>\n",
       "      <td>NaN</td>\n",
       "      <td>NaN</td>\n",
       "      <td>NaN</td>\n",
       "    </tr>\n",
       "    <tr>\n",
       "      <th>traces_tags</th>\n",
       "      <td>NaN</td>\n",
       "      <td>NaN</td>\n",
       "      <td>NaN</td>\n",
       "      <td>NaN</td>\n",
       "      <td>NaN</td>\n",
       "    </tr>\n",
       "    <tr>\n",
       "      <th>traces_en</th>\n",
       "      <td>NaN</td>\n",
       "      <td>NaN</td>\n",
       "      <td>NaN</td>\n",
       "      <td>NaN</td>\n",
       "      <td>NaN</td>\n",
       "    </tr>\n",
       "    <tr>\n",
       "      <th>additives_n</th>\n",
       "      <td>0.0</td>\n",
       "      <td>5.0</td>\n",
       "      <td>0.0</td>\n",
       "      <td>2.0</td>\n",
       "      <td>0.0</td>\n",
       "    </tr>\n",
       "    <tr>\n",
       "      <th>additives</th>\n",
       "      <td>NaN</td>\n",
       "      <td>NaN</td>\n",
       "      <td>NaN</td>\n",
       "      <td>NaN</td>\n",
       "      <td>NaN</td>\n",
       "    </tr>\n",
       "    <tr>\n",
       "      <th>additives_tags</th>\n",
       "      <td>NaN</td>\n",
       "      <td>e150,e160a,e202,e316,e466</td>\n",
       "      <td>NaN</td>\n",
       "      <td>e300,e503</td>\n",
       "      <td>NaN</td>\n",
       "    </tr>\n",
       "    <tr>\n",
       "      <th>additives_en</th>\n",
       "      <td>NaN</td>\n",
       "      <td>E150 - Caramel,E160a - Carotene,E202 - Potassi...</td>\n",
       "      <td>NaN</td>\n",
       "      <td>E300 - Ascorbic acid,E503 - Ammonium carbonates</td>\n",
       "      <td>NaN</td>\n",
       "    </tr>\n",
       "    <tr>\n",
       "      <th>pnns_groups_1</th>\n",
       "      <td>Fat and sauces</td>\n",
       "      <td>unknown</td>\n",
       "      <td>unknown</td>\n",
       "      <td>unknown</td>\n",
       "      <td>unknown</td>\n",
       "    </tr>\n",
       "    <tr>\n",
       "      <th>pnns_groups_2</th>\n",
       "      <td>Dressings and sauces</td>\n",
       "      <td>unknown</td>\n",
       "      <td>unknown</td>\n",
       "      <td>unknown</td>\n",
       "      <td>unknown</td>\n",
       "    </tr>\n",
       "    <tr>\n",
       "      <th>food_groups</th>\n",
       "      <td>dressings-and-sauces</td>\n",
       "      <td>NaN</td>\n",
       "      <td>NaN</td>\n",
       "      <td>NaN</td>\n",
       "      <td>NaN</td>\n",
       "    </tr>\n",
       "    <tr>\n",
       "      <th>food_groups_tags</th>\n",
       "      <td>fats-and-sauces,dressings-and-sauces</td>\n",
       "      <td>NaN</td>\n",
       "      <td>NaN</td>\n",
       "      <td>NaN</td>\n",
       "      <td>NaN</td>\n",
       "    </tr>\n",
       "    <tr>\n",
       "      <th>food_groups_en</th>\n",
       "      <td>Fats and sauces,Dressings and sauces</td>\n",
       "      <td>NaN</td>\n",
       "      <td>NaN</td>\n",
       "      <td>NaN</td>\n",
       "      <td>NaN</td>\n",
       "    </tr>\n",
       "    <tr>\n",
       "      <th>main_category</th>\n",
       "      <td>groceries</td>\n",
       "      <td>NaN</td>\n",
       "      <td>NaN</td>\n",
       "      <td>NaN</td>\n",
       "      <td>NaN</td>\n",
       "    </tr>\n",
       "    <tr>\n",
       "      <th>main_category_en</th>\n",
       "      <td>Groceries</td>\n",
       "      <td>NaN</td>\n",
       "      <td>NaN</td>\n",
       "      <td>NaN</td>\n",
       "      <td>NaN</td>\n",
       "    </tr>\n",
       "    <tr>\n",
       "      <th>gluten_presence</th>\n",
       "      <td>0</td>\n",
       "      <td>0</td>\n",
       "      <td>1</td>\n",
       "      <td>1</td>\n",
       "      <td>0</td>\n",
       "    </tr>\n",
       "    <tr>\n",
       "      <th>ingredients_tokens</th>\n",
       "      <td>[eau, graines, téguments, moutarde, vinaigre, ...</td>\n",
       "      <td>[antioxydant, érythorbate, sodium, colorant, c...</td>\n",
       "      <td>[baguette, poite, vin, pain, baguette, farine,...</td>\n",
       "      <td>[paln, suédois, farine, blé, eau, farine, seig...</td>\n",
       "      <td>[fromage, blanc, crème, marron, vanillée, sucr...</td>\n",
       "    </tr>\n",
       "  </tbody>\n",
       "</table>\n",
       "</div>"
      ],
      "text/plain": [
       "                                                                           0  \\\n",
       "code                                                                     100   \n",
       "creator                                                                del51   \n",
       "created_datetime                                        2015-10-11T14:09:21Z   \n",
       "product_name                                     moutarde au moût de raisin    \n",
       "generic_name                                                             NaN   \n",
       "categories                          Condiments, Sauces, Moutardes, groceries   \n",
       "categories_tags                         condiments,sauces,mustards,groceries   \n",
       "categories_en                           Condiments,Sauces,Mustards,Groceries   \n",
       "ingredients_text           eau graines de téguments de moutarde vinaigre ...   \n",
       "ingredients_tags           eau-graines-de-teguments-de-moutarde-vinaigre-...   \n",
       "ingredients_analysis_tags  palm-oil-content-unknown,vegan-status-unknown,...   \n",
       "allergens                                                            mustard   \n",
       "allergens_en                                                             NaN   \n",
       "traces                                                                   NaN   \n",
       "traces_tags                                                              NaN   \n",
       "traces_en                                                                NaN   \n",
       "additives_n                                                              0.0   \n",
       "additives                                                                NaN   \n",
       "additives_tags                                                           NaN   \n",
       "additives_en                                                             NaN   \n",
       "pnns_groups_1                                                 Fat and sauces   \n",
       "pnns_groups_2                                           Dressings and sauces   \n",
       "food_groups                                             dressings-and-sauces   \n",
       "food_groups_tags                        fats-and-sauces,dressings-and-sauces   \n",
       "food_groups_en                          Fats and sauces,Dressings and sauces   \n",
       "main_category                                                      groceries   \n",
       "main_category_en                                                   Groceries   \n",
       "gluten_presence                                                            0   \n",
       "ingredients_tokens         [eau, graines, téguments, moutarde, vinaigre, ...   \n",
       "\n",
       "                                                                           1  \\\n",
       "code                                                                    1199   \n",
       "creator                                                              kiliweb   \n",
       "created_datetime                                        2018-02-05T12:26:34Z   \n",
       "product_name                                          Solène céréales poulet   \n",
       "generic_name                                                             NaN   \n",
       "categories                                                               NaN   \n",
       "categories_tags                                                          NaN   \n",
       "categories_en                                                            NaN   \n",
       "ingredients_text           antioxydant : érythorbate de sodium, colorant ...   \n",
       "ingredients_tags           antioxidant,colour,tomato,vegetable,fruit-vege...   \n",
       "ingredients_analysis_tags  may-contain-palm-oil,non-vegan,vegetarian-stat...   \n",
       "allergens                                                       eggs,mustard   \n",
       "allergens_en                                                             NaN   \n",
       "traces                                                                   NaN   \n",
       "traces_tags                                                              NaN   \n",
       "traces_en                                                                NaN   \n",
       "additives_n                                                              5.0   \n",
       "additives                                                                NaN   \n",
       "additives_tags                                     e150,e160a,e202,e316,e466   \n",
       "additives_en               E150 - Caramel,E160a - Carotene,E202 - Potassi...   \n",
       "pnns_groups_1                                                        unknown   \n",
       "pnns_groups_2                                                        unknown   \n",
       "food_groups                                                              NaN   \n",
       "food_groups_tags                                                         NaN   \n",
       "food_groups_en                                                           NaN   \n",
       "main_category                                                            NaN   \n",
       "main_category_en                                                         NaN   \n",
       "gluten_presence                                                            0   \n",
       "ingredients_tokens         [antioxydant, érythorbate, sodium, colorant, c...   \n",
       "\n",
       "                                                                           2  \\\n",
       "code                                                                    2264   \n",
       "creator                                                              kiliweb   \n",
       "created_datetime                                        2018-02-12T12:52:40Z   \n",
       "product_name                                               Baguette Poitevin   \n",
       "generic_name                                                             NaN   \n",
       "categories                                                               NaN   \n",
       "categories_tags                                                          NaN   \n",
       "categories_en                                                            NaN   \n",
       "ingredients_text           baguette Poite vin Pain baguette 50,6%: farine...   \n",
       "ingredients_tags           baguette-poite-vin-pain-baguette,water,salt,ye...   \n",
       "ingredients_analysis_tags  palm-oil-content-unknown,non-vegan,vegetarian-...   \n",
       "allergens                                                        gluten,milk   \n",
       "allergens_en                                                             NaN   \n",
       "traces                                                                   NaN   \n",
       "traces_tags                                                              NaN   \n",
       "traces_en                                                                NaN   \n",
       "additives_n                                                              0.0   \n",
       "additives                                                                NaN   \n",
       "additives_tags                                                           NaN   \n",
       "additives_en                                                             NaN   \n",
       "pnns_groups_1                                                        unknown   \n",
       "pnns_groups_2                                                        unknown   \n",
       "food_groups                                                              NaN   \n",
       "food_groups_tags                                                         NaN   \n",
       "food_groups_en                                                           NaN   \n",
       "main_category                                                            NaN   \n",
       "main_category_en                                                         NaN   \n",
       "gluten_presence                                                            1   \n",
       "ingredients_tokens         [baguette, poite, vin, pain, baguette, farine,...   \n",
       "\n",
       "                                                                           3  \\\n",
       "code                                                                    3827   \n",
       "creator                                                              kiliweb   \n",
       "created_datetime                                        2018-02-15T10:44:33Z   \n",
       "product_name                                                  Suedois saumon   \n",
       "generic_name                                                             NaN   \n",
       "categories                                                               NaN   \n",
       "categories_tags                                                          NaN   \n",
       "categories_en                                                            NaN   \n",
       "ingredients_text           Paln suédois 42,6%: farine de BLÉ, eau, farine...   \n",
       "ingredients_tags           paln-suedois,water,rye-flour,flour,cereal-flou...   \n",
       "ingredients_analysis_tags             palm-oil-free,non-vegan,non-vegetarian   \n",
       "allergens                                                   fish,gluten,milk   \n",
       "allergens_en                                                             NaN   \n",
       "traces                                                                   NaN   \n",
       "traces_tags                                                              NaN   \n",
       "traces_en                                                                NaN   \n",
       "additives_n                                                              2.0   \n",
       "additives                                                                NaN   \n",
       "additives_tags                                                     e300,e503   \n",
       "additives_en                 E300 - Ascorbic acid,E503 - Ammonium carbonates   \n",
       "pnns_groups_1                                                        unknown   \n",
       "pnns_groups_2                                                        unknown   \n",
       "food_groups                                                              NaN   \n",
       "food_groups_tags                                                         NaN   \n",
       "food_groups_en                                                           NaN   \n",
       "main_category                                                            NaN   \n",
       "main_category_en                                                         NaN   \n",
       "gluten_presence                                                            1   \n",
       "ingredients_tokens         [paln, suédois, farine, blé, eau, farine, seig...   \n",
       "\n",
       "                                                                           4  \n",
       "code                                                                    4794  \n",
       "creator                                                              kiliweb  \n",
       "created_datetime                                        2018-02-19T10:55:56Z  \n",
       "product_name                              Fromage blanc à la creme de marron  \n",
       "generic_name                                                             NaN  \n",
       "categories                                                               NaN  \n",
       "categories_tags                                                          NaN  \n",
       "categories_en                                                            NaN  \n",
       "ingredients_text           FROMAGE BLANC 7.896 MG 73,304, crème de marron...  \n",
       "ingredients_tags           fromage-blanc-7-896-mg-73-304,creme-de-marron-...  \n",
       "ingredients_analysis_tags  palm-oil-content-unknown,vegan-status-unknown,...  \n",
       "allergens                                                               milk  \n",
       "allergens_en                                                             NaN  \n",
       "traces                                                                   NaN  \n",
       "traces_tags                                                              NaN  \n",
       "traces_en                                                                NaN  \n",
       "additives_n                                                              0.0  \n",
       "additives                                                                NaN  \n",
       "additives_tags                                                           NaN  \n",
       "additives_en                                                             NaN  \n",
       "pnns_groups_1                                                        unknown  \n",
       "pnns_groups_2                                                        unknown  \n",
       "food_groups                                                              NaN  \n",
       "food_groups_tags                                                         NaN  \n",
       "food_groups_en                                                           NaN  \n",
       "main_category                                                            NaN  \n",
       "main_category_en                                                         NaN  \n",
       "gluten_presence                                                            0  \n",
       "ingredients_tokens         [fromage, blanc, crème, marron, vanillée, sucr...  "
      ]
     },
     "execution_count": 128,
     "metadata": {},
     "output_type": "execute_result"
    }
   ],
   "source": [
    "df.head().T"
   ]
  },
  {
   "cell_type": "code",
   "execution_count": 129,
   "metadata": {},
   "outputs": [
    {
     "data": {
      "text/plain": [
       "0         eau graines de téguments de moutarde vinaigre ...\n",
       "1         antioxydant : érythorbate de sodium, colorant ...\n",
       "2         baguette Poite vin Pain baguette 50,6%: farine...\n",
       "3         Paln suédois 42,6%: farine de BLÉ, eau, farine...\n",
       "4         FROMAGE BLANC 7.896 MG 73,304, crème de marron...\n",
       "                                ...                        \n",
       "247475    FARINE DE BLÉ, carbonate de calcium, POUDRE DE...\n",
       "247476    Viande de volaille 73 % ; peau de poulet 13 % ...\n",
       "247477    ROASTED PEANUTS, SUGAR, LESS OF THAN 2% OF: MO...\n",
       "247478    45 % massepain (44% amandes, sucre, sirop de g...\n",
       "247479    farine de blé  eau porc 17 % chou barde de por...\n",
       "Name: ingredients_text, Length: 244028, dtype: object"
      ]
     },
     "execution_count": 129,
     "metadata": {},
     "output_type": "execute_result"
    }
   ],
   "source": [
    "df['ingredients_text']"
   ]
  },
  {
   "cell_type": "code",
   "execution_count": 130,
   "metadata": {},
   "outputs": [
    {
     "data": {
      "text/plain": [
       "['antioxydant',\n",
       " 'érythorbate',\n",
       " 'sodium',\n",
       " 'colorant',\n",
       " 'caramel',\n",
       " 'origine',\n",
       " 'tomate',\n",
       " 'mayonnaise',\n",
       " 'huile',\n",
       " 'colza',\n",
       " 'eau',\n",
       " 'jaunes',\n",
       " \"d'oeuf\",\n",
       " 'vinaigre',\n",
       " 'moutarde',\n",
       " 'eau',\n",
       " 'graines',\n",
       " 'moutarde',\n",
       " 'sel',\n",
       " 'vinaigre',\n",
       " 'curcuma',\n",
       " 'sel',\n",
       " 'dextrose',\n",
       " 'stabilisateur',\n",
       " 'gomme',\n",
       " 'cellulose',\n",
       " 'conservateur',\n",
       " 'sorbate',\n",
       " 'potassium',\n",
       " 'colorant',\n",
       " 'carotène',\n",
       " 'arôme']"
      ]
     },
     "execution_count": 130,
     "metadata": {},
     "output_type": "execute_result"
    }
   ],
   "source": [
    "df['ingredients_tokens'][1]"
   ]
  },
  {
   "cell_type": "code",
   "execution_count": 131,
   "metadata": {},
   "outputs": [
    {
     "data": {
      "text/plain": [
       "0         [eau, graines, téguments, moutarde, vinaigre, ...\n",
       "1         [antioxydant, érythorbate, sodium, colorant, c...\n",
       "2         [baguette, poite, vin, pain, baguette, farine,...\n",
       "3         [paln, suédois, farine, blé, eau, farine, seig...\n",
       "4         [fromage, blanc, crème, marron, vanillée, sucr...\n",
       "                                ...                        \n",
       "247475    [farine, blé, carbonate, calcium, poudre, lait...\n",
       "247476    [viande, volaille, peau, poulet, eau, conserva...\n",
       "247477    [roasted, peanuts, sugar, less, molasses, full...\n",
       "247478    [massepain, amandes, sucre, sirop, glucose, fr...\n",
       "247479    [farine, blé, eau, porc, chou, barde, porc, sa...\n",
       "Name: ingredients_tokens, Length: 244028, dtype: object"
      ]
     },
     "execution_count": 131,
     "metadata": {},
     "output_type": "execute_result"
    }
   ],
   "source": [
    "df['ingredients_tokens']"
   ]
  },
  {
   "cell_type": "code",
   "execution_count": 132,
   "metadata": {},
   "outputs": [],
   "source": [
    "# Exporter le df en csv\n",
    "df.to_csv('data_allergens_ingredients_tokenized.csv', index=False)"
   ]
  },
  {
   "cell_type": "markdown",
   "metadata": {},
   "source": [
    "# Quel type de modèle choisir ?"
   ]
  },
  {
   "cell_type": "code",
   "execution_count": 133,
   "metadata": {},
   "outputs": [
    {
     "name": "stderr",
     "output_type": "stream",
     "text": [
      "/tmp/ipykernel_28838/1782296754.py:2: DtypeWarning: Columns (0,17) have mixed types. Specify dtype option on import or set low_memory=False.\n",
      "  df = pd.read_csv('data_allergens_ingredients_tokenized.csv')\n"
     ]
    }
   ],
   "source": [
    "# Importer le df\n",
    "df = pd.read_csv('data_allergens_ingredients_tokenized.csv')"
   ]
  },
  {
   "cell_type": "code",
   "execution_count": 134,
   "metadata": {},
   "outputs": [
    {
     "name": "stdout",
     "output_type": "stream",
     "text": [
      "Nombre d'échantillons dans le dataframe: 244028\n"
     ]
    }
   ],
   "source": [
    "# nombre d'échantillons dans le dataframe\n",
    "print(f\"Nombre d'échantillons dans le dataframe: {df.shape[0]}\")"
   ]
  },
  {
   "cell_type": "code",
   "execution_count": 135,
   "metadata": {},
   "outputs": [
    {
     "name": "stdout",
     "output_type": "stream",
     "text": [
      "Nombre moyen de mots par échantillon: 410.67\n"
     ]
    }
   ],
   "source": [
    "# nombre moyen de mots par échantillon\n",
    "moyenne_mots = df['ingredients_tokens'].apply(len).mean()\n",
    "print(f\"Nombre moyen de mots par échantillon: {moyenne_mots:.2f}\")"
   ]
  },
  {
   "cell_type": "code",
   "execution_count": 136,
   "metadata": {},
   "outputs": [
    {
     "name": "stdout",
     "output_type": "stream",
     "text": [
      "Rapport du nombre d’échantillons au nombre de mots par échantillon: 594.22\n"
     ]
    }
   ],
   "source": [
    "# Rapport rapport du nombre d’échantillons au nombre de mots par échantillon\n",
    "rapport = df.shape[0] / moyenne_mots\n",
    "print(f\"Rapport du nombre d’échantillons au nombre de mots par échantillon: {rapport:.2f}\")"
   ]
  },
  {
   "cell_type": "markdown",
   "metadata": {},
   "source": [
    "D'après cette source je devrais me tourner vers : https://medium.com/big-apps-tech/nlp-natural-language-processing-text-classification-workflow-take-n-grams-as-input-e549037b658d\n",
    "\n",
    "\"Lorsque la valeur de ce rapport est petite (<1500), les modèles qui prennent les n-grammes en entrée fonctionnent mieux que les modèles de séquence. Lorsque la valeur de ce rapport est grande (> = 1500), les modèles de séquence qui fonctionnent le mieux.\"\n",
    "\n",
    "Mais je ne m'intéresse pas aux séquences puisque j'ai des listes d'ingrédients. je suis donc une approche 'sac de mots'. \n",
    "MAIS: je ne dois  oublier que les ingrédients peuvent être classés par ordre de quantité présente dans le produit(l'ordre des mots contient bien de l'info)"
   ]
  },
  {
   "cell_type": "code",
   "execution_count": 137,
   "metadata": {},
   "outputs": [
    {
     "name": "stdout",
     "output_type": "stream",
     "text": [
      "Nombre de NaN dans la colonne 'ingredients_tokens': 0\n",
      "Nombre de NaN dans la colonne 'gluten_presence': 0\n"
     ]
    }
   ],
   "source": [
    "# Verification\n",
    "# nombre de NaN dans la colonne 'ingredients_tokens'\n",
    "print(f\"Nombre de NaN dans la colonne 'ingredients_tokens': {df['ingredients_tokens'].isna().sum()}\")\n",
    "# Nombre de Nan dans la colonne 'gluten_presence'\n",
    "print(f\"Nombre de NaN dans la colonne 'gluten_presence': {df['gluten_presence'].isna().sum()}\")"
   ]
  },
  {
   "cell_type": "markdown",
   "metadata": {},
   "source": [
    "# Vectorisation One-hot encoding"
   ]
  },
  {
   "cell_type": "code",
   "execution_count": 138,
   "metadata": {},
   "outputs": [
    {
     "name": "stderr",
     "output_type": "stream",
     "text": [
      "/tmp/ipykernel_28838/2077198670.py:2: DtypeWarning: Columns (0,17) have mixed types. Specify dtype option on import or set low_memory=False.\n",
      "  df = pd.read_csv('data_allergens_ingredients_tokenized.csv')\n"
     ]
    }
   ],
   "source": [
    "# charger data_allergens_ingredients_tokenized.csv\n",
    "df = pd.read_csv('data_allergens_ingredients_tokenized.csv')"
   ]
  },
  {
   "cell_type": "code",
   "execution_count": 139,
   "metadata": {},
   "outputs": [
    {
     "data": {
      "text/plain": [
       "0         ['eau', 'graines', 'téguments', 'moutarde', 'v...\n",
       "1         ['antioxydant', 'érythorbate', 'sodium', 'colo...\n",
       "2         ['baguette', 'poite', 'vin', 'pain', 'baguette...\n",
       "3         ['paln', 'suédois', 'farine', 'blé', 'eau', 'f...\n",
       "4         ['fromage', 'blanc', 'crème', 'marron', 'vanil...\n",
       "                                ...                        \n",
       "244023    ['farine', 'blé', 'carbonate', 'calcium', 'pou...\n",
       "244024    ['viande', 'volaille', 'peau', 'poulet', 'eau'...\n",
       "244025    ['roasted', 'peanuts', 'sugar', 'less', 'molas...\n",
       "244026    ['massepain', 'amandes', 'sucre', 'sirop', 'gl...\n",
       "244027    ['farine', 'blé', 'eau', 'porc', 'chou', 'bard...\n",
       "Name: ingredients_tokens, Length: 244028, dtype: object"
      ]
     },
     "execution_count": 139,
     "metadata": {},
     "output_type": "execute_result"
    }
   ],
   "source": [
    "df['ingredients_tokens']"
   ]
  },
  {
   "cell_type": "code",
   "execution_count": 140,
   "metadata": {},
   "outputs": [
    {
     "data": {
      "text/html": [
       "<div>\n",
       "<style scoped>\n",
       "    .dataframe tbody tr th:only-of-type {\n",
       "        vertical-align: middle;\n",
       "    }\n",
       "\n",
       "    .dataframe tbody tr th {\n",
       "        vertical-align: top;\n",
       "    }\n",
       "\n",
       "    .dataframe thead th {\n",
       "        text-align: right;\n",
       "    }\n",
       "</style>\n",
       "<table border=\"1\" class=\"dataframe\">\n",
       "  <thead>\n",
       "    <tr style=\"text-align: right;\">\n",
       "      <th></th>\n",
       "      <th>code</th>\n",
       "      <th>creator</th>\n",
       "      <th>created_datetime</th>\n",
       "      <th>product_name</th>\n",
       "      <th>generic_name</th>\n",
       "      <th>categories</th>\n",
       "      <th>categories_tags</th>\n",
       "      <th>categories_en</th>\n",
       "      <th>ingredients_text</th>\n",
       "      <th>ingredients_tags</th>\n",
       "      <th>...</th>\n",
       "      <th>additives_en</th>\n",
       "      <th>pnns_groups_1</th>\n",
       "      <th>pnns_groups_2</th>\n",
       "      <th>food_groups</th>\n",
       "      <th>food_groups_tags</th>\n",
       "      <th>food_groups_en</th>\n",
       "      <th>main_category</th>\n",
       "      <th>main_category_en</th>\n",
       "      <th>gluten_presence</th>\n",
       "      <th>ingredients_tokens</th>\n",
       "    </tr>\n",
       "  </thead>\n",
       "  <tbody>\n",
       "    <tr>\n",
       "      <th>244023</th>\n",
       "      <td>990530101021839124</td>\n",
       "      <td>kiliweb</td>\n",
       "      <td>2020-10-22T12:25:54Z</td>\n",
       "      <td>Cookie triple chocolat x4</td>\n",
       "      <td>NaN</td>\n",
       "      <td>Snacks, Snacks sucrés, Biscuits et gâteaux, Bi...</td>\n",
       "      <td>snacks,sweet-snacks,biscuits-and-cakes,biscuit...</td>\n",
       "      <td>Snacks,Sweet snacks,Biscuits and cakes,Biscuit...</td>\n",
       "      <td>FARINE DE BLÉ, carbonate de calcium, POUDRE DE...</td>\n",
       "      <td>wheat-flour,cereal,flour,wheat,cereal-flour,e1...</td>\n",
       "      <td>...</td>\n",
       "      <td>E322 - Lecithins,E322i - Lecithin,E500 - Sodiu...</td>\n",
       "      <td>Sugary snacks</td>\n",
       "      <td>Biscuits and cakes</td>\n",
       "      <td>biscuits-and-cakes</td>\n",
       "      <td>sugary-snacks,biscuits-and-cakes</td>\n",
       "      <td>Sugary snacks,Biscuits and cakes</td>\n",
       "      <td>cookies-with-milk-chocolate</td>\n",
       "      <td>Cookies with milk chocolate</td>\n",
       "      <td>1</td>\n",
       "      <td>['farine', 'blé', 'carbonate', 'calcium', 'pou...</td>\n",
       "    </tr>\n",
       "    <tr>\n",
       "      <th>244024</th>\n",
       "      <td>990530101110772053</td>\n",
       "      <td>kiliweb</td>\n",
       "      <td>2023-09-29T06:53:50Z</td>\n",
       "      <td>Saucisses de volaille</td>\n",
       "      <td>NaN</td>\n",
       "      <td>Viandes et dérivés, Charcuteries, Saucisses, S...</td>\n",
       "      <td>meats-and-their-products,prepared-meats,sausag...</td>\n",
       "      <td>Meats and their products,Prepared meats,Sausag...</td>\n",
       "      <td>Viande de volaille 73 % ; peau de poulet 13 % ...</td>\n",
       "      <td>poultry-meat,poultry,chicken-skin,poultry-skin...</td>\n",
       "      <td>...</td>\n",
       "      <td>E262 - Sodium acetates,E326 - Potassium lactate</td>\n",
       "      <td>Fish Meat Eggs</td>\n",
       "      <td>Processed meat</td>\n",
       "      <td>processed-meat</td>\n",
       "      <td>fish-meat-eggs,processed-meat</td>\n",
       "      <td>Fish‚ Meat‚ Eggs,Processed meat</td>\n",
       "      <td>poultry-sausages</td>\n",
       "      <td>Poultry sausages</td>\n",
       "      <td>1</td>\n",
       "      <td>['viande', 'volaille', 'peau', 'poulet', 'eau'...</td>\n",
       "    </tr>\n",
       "    <tr>\n",
       "      <th>244025</th>\n",
       "      <td>99227777</td>\n",
       "      <td>product-scan-com</td>\n",
       "      <td>2022-09-18T00:42:46Z</td>\n",
       "      <td>Creamy Peanut Butter</td>\n",
       "      <td>NaN</td>\n",
       "      <td>Plant-based foods and beverages,Plant-based fo...</td>\n",
       "      <td>plant-based-foods-and-beverages,plant-based-fo...</td>\n",
       "      <td>Plant-based foods and beverages,Plant-based fo...</td>\n",
       "      <td>ROASTED PEANUTS, SUGAR, LESS OF THAN 2% OF: MO...</td>\n",
       "      <td>roasted-peanuts,nut,peanut,sugar,added-sugar,d...</td>\n",
       "      <td>...</td>\n",
       "      <td>E471 - Mono- and diglycerides of fatty acids</td>\n",
       "      <td>Cereals and potatoes</td>\n",
       "      <td>Legumes</td>\n",
       "      <td>legumes</td>\n",
       "      <td>cereals-and-potatoes,legumes</td>\n",
       "      <td>Cereals and potatoes,Legumes</td>\n",
       "      <td>peanut-butters</td>\n",
       "      <td>Peanut butters</td>\n",
       "      <td>0</td>\n",
       "      <td>['roasted', 'peanuts', 'sugar', 'less', 'molas...</td>\n",
       "    </tr>\n",
       "    <tr>\n",
       "      <th>244026</th>\n",
       "      <td>99515874</td>\n",
       "      <td>kiliweb</td>\n",
       "      <td>2017-12-17T13:58:05Z</td>\n",
       "      <td>Mini stollen</td>\n",
       "      <td>NaN</td>\n",
       "      <td>stollen</td>\n",
       "      <td>snacks,sweet-snacks,festive-foods,biscuits-and...</td>\n",
       "      <td>Snacks,Sweet snacks,Festive foods,Biscuits and...</td>\n",
       "      <td>45 % massepain (44% amandes, sucre, sirop de g...</td>\n",
       "      <td>marzipan,wheat-flour,cereal,flour,wheat,cereal...</td>\n",
       "      <td>...</td>\n",
       "      <td>NaN</td>\n",
       "      <td>Sugary snacks</td>\n",
       "      <td>Biscuits and cakes</td>\n",
       "      <td>biscuits-and-cakes</td>\n",
       "      <td>sugary-snacks,biscuits-and-cakes</td>\n",
       "      <td>Sugary snacks,Biscuits and cakes</td>\n",
       "      <td>stollen</td>\n",
       "      <td>Stollen</td>\n",
       "      <td>1</td>\n",
       "      <td>['massepain', 'amandes', 'sucre', 'sirop', 'gl...</td>\n",
       "    </tr>\n",
       "    <tr>\n",
       "      <th>244027</th>\n",
       "      <td>99885434</td>\n",
       "      <td>openfoodfacts-contributors</td>\n",
       "      <td>2019-07-08T10:52:02Z</td>\n",
       "      <td>raviolis pékinois surgelés</td>\n",
       "      <td>NaN</td>\n",
       "      <td>Surgelés, Plats préparés, Plats à base de pâte...</td>\n",
       "      <td>frozen-foods,meals,pasta-dishes,stuffed-pastas...</td>\n",
       "      <td>Frozen foods,Meals,Pasta dishes,Stuffed pastas...</td>\n",
       "      <td>farine de blé  eau porc 17 % chou barde de por...</td>\n",
       "      <td>farine-de-ble-eau-porc-17-chou-barde-de-porc-s...</td>\n",
       "      <td>...</td>\n",
       "      <td>E150a - Plain caramel,E621 - Monosodium glutam...</td>\n",
       "      <td>Composite foods</td>\n",
       "      <td>One-dish meals</td>\n",
       "      <td>one-dish-meals</td>\n",
       "      <td>composite-foods,one-dish-meals</td>\n",
       "      <td>Composite foods,One-dish meals</td>\n",
       "      <td>frozen-ravioli</td>\n",
       "      <td>Frozen ravioli</td>\n",
       "      <td>1</td>\n",
       "      <td>['farine', 'blé', 'eau', 'porc', 'chou', 'bard...</td>\n",
       "    </tr>\n",
       "  </tbody>\n",
       "</table>\n",
       "<p>5 rows × 29 columns</p>\n",
       "</div>"
      ],
      "text/plain": [
       "                      code                     creator      created_datetime  \\\n",
       "244023  990530101021839124                     kiliweb  2020-10-22T12:25:54Z   \n",
       "244024  990530101110772053                     kiliweb  2023-09-29T06:53:50Z   \n",
       "244025            99227777            product-scan-com  2022-09-18T00:42:46Z   \n",
       "244026            99515874                     kiliweb  2017-12-17T13:58:05Z   \n",
       "244027            99885434  openfoodfacts-contributors  2019-07-08T10:52:02Z   \n",
       "\n",
       "                      product_name generic_name  \\\n",
       "244023   Cookie triple chocolat x4          NaN   \n",
       "244024       Saucisses de volaille          NaN   \n",
       "244025        Creamy Peanut Butter          NaN   \n",
       "244026                Mini stollen          NaN   \n",
       "244027  raviolis pékinois surgelés          NaN   \n",
       "\n",
       "                                               categories  \\\n",
       "244023  Snacks, Snacks sucrés, Biscuits et gâteaux, Bi...   \n",
       "244024  Viandes et dérivés, Charcuteries, Saucisses, S...   \n",
       "244025  Plant-based foods and beverages,Plant-based fo...   \n",
       "244026                                            stollen   \n",
       "244027  Surgelés, Plats préparés, Plats à base de pâte...   \n",
       "\n",
       "                                          categories_tags  \\\n",
       "244023  snacks,sweet-snacks,biscuits-and-cakes,biscuit...   \n",
       "244024  meats-and-their-products,prepared-meats,sausag...   \n",
       "244025  plant-based-foods-and-beverages,plant-based-fo...   \n",
       "244026  snacks,sweet-snacks,festive-foods,biscuits-and...   \n",
       "244027  frozen-foods,meals,pasta-dishes,stuffed-pastas...   \n",
       "\n",
       "                                            categories_en  \\\n",
       "244023  Snacks,Sweet snacks,Biscuits and cakes,Biscuit...   \n",
       "244024  Meats and their products,Prepared meats,Sausag...   \n",
       "244025  Plant-based foods and beverages,Plant-based fo...   \n",
       "244026  Snacks,Sweet snacks,Festive foods,Biscuits and...   \n",
       "244027  Frozen foods,Meals,Pasta dishes,Stuffed pastas...   \n",
       "\n",
       "                                         ingredients_text  \\\n",
       "244023  FARINE DE BLÉ, carbonate de calcium, POUDRE DE...   \n",
       "244024  Viande de volaille 73 % ; peau de poulet 13 % ...   \n",
       "244025  ROASTED PEANUTS, SUGAR, LESS OF THAN 2% OF: MO...   \n",
       "244026  45 % massepain (44% amandes, sucre, sirop de g...   \n",
       "244027  farine de blé  eau porc 17 % chou barde de por...   \n",
       "\n",
       "                                         ingredients_tags  ...  \\\n",
       "244023  wheat-flour,cereal,flour,wheat,cereal-flour,e1...  ...   \n",
       "244024  poultry-meat,poultry,chicken-skin,poultry-skin...  ...   \n",
       "244025  roasted-peanuts,nut,peanut,sugar,added-sugar,d...  ...   \n",
       "244026  marzipan,wheat-flour,cereal,flour,wheat,cereal...  ...   \n",
       "244027  farine-de-ble-eau-porc-17-chou-barde-de-porc-s...  ...   \n",
       "\n",
       "                                             additives_en  \\\n",
       "244023  E322 - Lecithins,E322i - Lecithin,E500 - Sodiu...   \n",
       "244024    E262 - Sodium acetates,E326 - Potassium lactate   \n",
       "244025       E471 - Mono- and diglycerides of fatty acids   \n",
       "244026                                                NaN   \n",
       "244027  E150a - Plain caramel,E621 - Monosodium glutam...   \n",
       "\n",
       "               pnns_groups_1       pnns_groups_2         food_groups  \\\n",
       "244023         Sugary snacks  Biscuits and cakes  biscuits-and-cakes   \n",
       "244024        Fish Meat Eggs      Processed meat      processed-meat   \n",
       "244025  Cereals and potatoes             Legumes             legumes   \n",
       "244026         Sugary snacks  Biscuits and cakes  biscuits-and-cakes   \n",
       "244027       Composite foods      One-dish meals      one-dish-meals   \n",
       "\n",
       "                        food_groups_tags                    food_groups_en  \\\n",
       "244023  sugary-snacks,biscuits-and-cakes  Sugary snacks,Biscuits and cakes   \n",
       "244024     fish-meat-eggs,processed-meat   Fish‚ Meat‚ Eggs,Processed meat   \n",
       "244025      cereals-and-potatoes,legumes      Cereals and potatoes,Legumes   \n",
       "244026  sugary-snacks,biscuits-and-cakes  Sugary snacks,Biscuits and cakes   \n",
       "244027    composite-foods,one-dish-meals    Composite foods,One-dish meals   \n",
       "\n",
       "                      main_category             main_category_en  \\\n",
       "244023  cookies-with-milk-chocolate  Cookies with milk chocolate   \n",
       "244024             poultry-sausages             Poultry sausages   \n",
       "244025               peanut-butters               Peanut butters   \n",
       "244026                      stollen                      Stollen   \n",
       "244027               frozen-ravioli               Frozen ravioli   \n",
       "\n",
       "       gluten_presence                                 ingredients_tokens  \n",
       "244023               1  ['farine', 'blé', 'carbonate', 'calcium', 'pou...  \n",
       "244024               1  ['viande', 'volaille', 'peau', 'poulet', 'eau'...  \n",
       "244025               0  ['roasted', 'peanuts', 'sugar', 'less', 'molas...  \n",
       "244026               1  ['massepain', 'amandes', 'sucre', 'sirop', 'gl...  \n",
       "244027               1  ['farine', 'blé', 'eau', 'porc', 'chou', 'bard...  \n",
       "\n",
       "[5 rows x 29 columns]"
      ]
     },
     "execution_count": 140,
     "metadata": {},
     "output_type": "execute_result"
    }
   ],
   "source": [
    "# afficher la dernière ligne du df\n",
    "df.tail()"
   ]
  },
  {
   "cell_type": "code",
   "execution_count": 141,
   "metadata": {},
   "outputs": [
    {
     "name": "stdout",
     "output_type": "stream",
     "text": [
      "['eau', 'graines', 'téguments', 'moutarde', 'vinaigre', 'vin', 'rouge', 'sel', 'vin', 'rouge', 'sucre', 'moût', 'raisin', 'oignons', 'colorants', 'extraits', 'carotte', 'extrait', 'paprika', 'huile', 'tournesol', 'moutarde', 'sel', 'cette', 'moutarde', 'uniquement', 'disponible', 'chez', 'courte', 'paille']\n",
      "<class 'str'>\n"
     ]
    }
   ],
   "source": [
    "texte = df['ingredients_tokens'][0]\n",
    "print(texte)\n",
    "print(type(texte))\n"
   ]
  },
  {
   "cell_type": "code",
   "execution_count": 142,
   "metadata": {},
   "outputs": [
    {
     "name": "stdout",
     "output_type": "stream",
     "text": [
      "['eau', 'graines', 'téguments', 'moutarde', 'vinaigre', 'vin', 'rouge', 'sel', 'vin', 'rouge', 'sucre', 'moût', 'raisin', 'oignons', 'colorants', 'extraits', 'carotte', 'extrait', 'paprika', 'huile', 'tournesol', 'moutarde', 'sel', 'cette', 'moutarde', 'uniquement', 'disponible', 'chez', 'courte', 'paille']\n",
      "eau\n",
      "graines\n",
      "téguments\n",
      "moutarde\n",
      "vinaigre\n",
      "vin\n",
      "rouge\n",
      "sel\n",
      "vin\n",
      "rouge\n",
      "sucre\n",
      "moût\n",
      "raisin\n",
      "oignons\n",
      "colorants\n",
      "extraits\n",
      "carotte\n",
      "extrait\n",
      "paprika\n",
      "huile\n",
      "tournesol\n",
      "moutarde\n",
      "sel\n",
      "cette\n",
      "moutarde\n",
      "uniquement\n",
      "disponible\n",
      "chez\n",
      "courte\n",
      "paille\n"
     ]
    }
   ],
   "source": [
    "# df['ingredients_tokens'][0] est considéré comme du texte (str)\n",
    "# il faut le transformer en liste\n",
    "\n",
    "texte = eval(texte)\n",
    "print(texte)\n",
    "for mot in texte:\n",
    "    print(mot)"
   ]
  },
  {
   "cell_type": "code",
   "execution_count": 5,
   "metadata": {},
   "outputs": [
    {
     "ename": "NameError",
     "evalue": "name 'texte' is not defined",
     "output_type": "error",
     "traceback": [
      "\u001b[0;31m---------------------------------------------------------------------------\u001b[0m",
      "\u001b[0;31mNameError\u001b[0m                                 Traceback (most recent call last)",
      "Cell \u001b[0;32mIn[5], line 11\u001b[0m\n\u001b[1;32m      5\u001b[0m vectorizer \u001b[38;5;241m=\u001b[39m CountVectorizer()\n\u001b[1;32m      7\u001b[0m \u001b[38;5;66;03m# joindre les tokens afin de pouvoir les traiter\u001b[39;00m\n\u001b[1;32m      8\u001b[0m \u001b[38;5;66;03m# texte = df['ingredients_tokens'].apply(lambda x: ' '.join(x))\u001b[39;00m\n\u001b[1;32m      9\u001b[0m \n\u001b[1;32m     10\u001b[0m \u001b[38;5;66;03m# Appliquer le vectoriseur sur les tokens\u001b[39;00m\n\u001b[0;32m---> 11\u001b[0m X \u001b[38;5;241m=\u001b[39m vectorizer\u001b[38;5;241m.\u001b[39mfit_transform(texte)\n",
      "\u001b[0;31mNameError\u001b[0m: name 'texte' is not defined"
     ]
    }
   ],
   "source": [
    "# vectorisation des tokens\n",
    "from sklearn.feature_extraction.text import CountVectorizer\n",
    "\n",
    "# Initialiser le vectoriseur\n",
    "vectorizer = CountVectorizer()\n",
    "\n",
    "# joindre les tokens afin de pouvoir les traiter\n",
    "# texte = df['ingredients_tokens'].apply(lambda x: ' '.join(x))\n",
    "\n",
    "# Appliquer le vectoriseur sur les tokens\n",
    "X = vectorizer.fit_transform(texte)"
   ]
  },
  {
   "cell_type": "code",
   "execution_count": 144,
   "metadata": {},
   "outputs": [
    {
     "name": "stdout",
     "output_type": "stream",
     "text": [
      "[[0 0 0 0 0 0 1 0 0 0 0 0 0 0 0 0 0 0 0 0 0 0 0 0 0]\n",
      " [0 0 0 0 0 0 0 0 0 1 0 0 0 0 0 0 0 0 0 0 0 0 0 0 0]\n",
      " [0 0 0 0 0 0 0 0 0 0 0 0 0 0 0 0 0 0 0 0 0 1 0 0 0]\n",
      " [0 0 0 0 0 0 0 0 0 0 0 1 0 0 0 0 0 0 0 0 0 0 0 0 0]\n",
      " [0 0 0 0 0 0 0 0 0 0 0 0 0 0 0 0 0 0 0 0 0 0 0 0 1]\n",
      " [0 0 0 0 0 0 0 0 0 0 0 0 0 0 0 0 0 0 0 0 0 0 0 1 0]\n",
      " [0 0 0 0 0 0 0 0 0 0 0 0 0 0 0 0 0 1 0 0 0 0 0 0 0]\n",
      " [0 0 0 0 0 0 0 0 0 0 0 0 0 0 0 0 0 0 1 0 0 0 0 0 0]\n",
      " [0 0 0 0 0 0 0 0 0 0 0 0 0 0 0 0 0 0 0 0 0 0 0 1 0]\n",
      " [0 0 0 0 0 0 0 0 0 0 0 0 0 0 0 0 0 1 0 0 0 0 0 0 0]\n",
      " [0 0 0 0 0 0 0 0 0 0 0 0 0 0 0 0 0 0 0 1 0 0 0 0 0]\n",
      " [0 0 0 0 0 0 0 0 0 0 0 0 1 0 0 0 0 0 0 0 0 0 0 0 0]\n",
      " [0 0 0 0 0 0 0 0 0 0 0 0 0 0 0 0 1 0 0 0 0 0 0 0 0]\n",
      " [0 0 0 0 0 0 0 0 0 0 0 0 0 1 0 0 0 0 0 0 0 0 0 0 0]\n",
      " [0 0 0 1 0 0 0 0 0 0 0 0 0 0 0 0 0 0 0 0 0 0 0 0 0]\n",
      " [0 0 0 0 0 0 0 0 1 0 0 0 0 0 0 0 0 0 0 0 0 0 0 0 0]\n",
      " [1 0 0 0 0 0 0 0 0 0 0 0 0 0 0 0 0 0 0 0 0 0 0 0 0]\n",
      " [0 0 0 0 0 0 0 1 0 0 0 0 0 0 0 0 0 0 0 0 0 0 0 0 0]\n",
      " [0 0 0 0 0 0 0 0 0 0 0 0 0 0 0 1 0 0 0 0 0 0 0 0 0]\n",
      " [0 0 0 0 0 0 0 0 0 0 1 0 0 0 0 0 0 0 0 0 0 0 0 0 0]\n",
      " [0 0 0 0 0 0 0 0 0 0 0 0 0 0 0 0 0 0 0 0 1 0 0 0 0]\n",
      " [0 0 0 0 0 0 0 0 0 0 0 1 0 0 0 0 0 0 0 0 0 0 0 0 0]\n",
      " [0 0 0 0 0 0 0 0 0 0 0 0 0 0 0 0 0 0 1 0 0 0 0 0 0]\n",
      " [0 1 0 0 0 0 0 0 0 0 0 0 0 0 0 0 0 0 0 0 0 0 0 0 0]\n",
      " [0 0 0 0 0 0 0 0 0 0 0 1 0 0 0 0 0 0 0 0 0 0 0 0 0]\n",
      " [0 0 0 0 0 0 0 0 0 0 0 0 0 0 0 0 0 0 0 0 0 0 1 0 0]\n",
      " [0 0 0 0 0 1 0 0 0 0 0 0 0 0 0 0 0 0 0 0 0 0 0 0 0]\n",
      " [0 0 1 0 0 0 0 0 0 0 0 0 0 0 0 0 0 0 0 0 0 0 0 0 0]\n",
      " [0 0 0 0 1 0 0 0 0 0 0 0 0 0 0 0 0 0 0 0 0 0 0 0 0]\n",
      " [0 0 0 0 0 0 0 0 0 0 0 0 0 0 1 0 0 0 0 0 0 0 0 0 0]]\n"
     ]
    }
   ],
   "source": [
    "print(X.toarray())\n",
    "# toarray() permet de visualiser la matrice creuse sous forme de tableau"
   ]
  },
  {
   "cell_type": "markdown",
   "metadata": {},
   "source": [
    "le vectorizer fonctionne !"
   ]
  },
  {
   "cell_type": "code",
   "execution_count": 145,
   "metadata": {},
   "outputs": [
    {
     "name": "stdout",
     "output_type": "stream",
     "text": [
      "[[0 0 0 ... 0 0 0]\n",
      " [0 0 0 ... 0 0 0]\n",
      " [0 0 1 ... 0 0 0]\n",
      " ...\n",
      " [0 0 0 ... 0 0 0]\n",
      " [0 0 0 ... 0 1 0]\n",
      " [0 0 0 ... 0 0 0]]\n"
     ]
    }
   ],
   "source": [
    "# Vectorisons les tokens de la colonne 'ingredients_tokens' du dataframe df.\n",
    "\n",
    "data = df['ingredients_tokens']\n",
    "\n",
    "# creating the feature matrix \n",
    "from sklearn.feature_extraction.text import CountVectorizer\n",
    "matrix = CountVectorizer(max_features=500)\n",
    "X = matrix.fit_transform(data).toarray()\n",
    "\n",
    "print(X)\n",
    "\n",
    "\n",
    "\n",
    "\n",
    "\n"
   ]
  },
  {
   "cell_type": "code",
   "execution_count": 146,
   "metadata": {},
   "outputs": [
    {
     "data": {
      "text/plain": [
       "(244028, 500)"
      ]
     },
     "execution_count": 146,
     "metadata": {},
     "output_type": "execute_result"
    }
   ],
   "source": [
    "X.shape"
   ]
  },
  {
   "cell_type": "code",
   "execution_count": 7,
   "metadata": {},
   "outputs": [],
   "source": [
    "from sklearn.model_selection import train_test_split\n",
    "from sklearn.tree import DecisionTreeClassifier\n",
    "from sklearn.metrics import accuracy_score \n"
   ]
  },
  {
   "cell_type": "code",
   "execution_count": 148,
   "metadata": {},
   "outputs": [
    {
     "name": "stdout",
     "output_type": "stream",
     "text": [
      "Accuracy: 0.8807728557964185\n"
     ]
    }
   ],
   "source": [
    "# Diviser les données en features (X) et target (y)\n",
    "X\n",
    "y = df['gluten_presence']\n",
    "\n",
    "# Diviser les données en ensembles d'entraînement et de test\n",
    "X_train, X_test, y_train, y_test = train_test_split(X, y, test_size=0.2, random_state=42)\n",
    "\n",
    "# Initialiser et entraîner le modèle d'arbre de décision\n",
    "clf = DecisionTreeClassifier()\n",
    "clf.fit(X_train, y_train)\n",
    "\n",
    "# Faire des prédictions sur l'ensemble de test\n",
    "y_pred = clf.predict(X_test)\n",
    "\n",
    "# Calculer l'exactitude du modèle\n",
    "accuracy = accuracy_score(y_test, y_pred)\n",
    "print(\"Accuracy:\", accuracy)"
   ]
  },
  {
   "cell_type": "code",
   "execution_count": 149,
   "metadata": {},
   "outputs": [],
   "source": [
    "# On a amélioré l'accuracy de 0.01, grâce au meilleur nettoyage (_ et - supprimés)"
   ]
  },
  {
   "cell_type": "code",
   "execution_count": 150,
   "metadata": {},
   "outputs": [
    {
     "name": "stdout",
     "output_type": "stream",
     "text": [
      "Pas de gluten, faites vous plaisir\n"
     ]
    }
   ],
   "source": [
    "# tester le modèle avec un nouvel échantillon\n",
    "nouvel_échantillon = ['lait, sucre, oeufs, sel, glutenfree']\n",
    "nouvel_échantillon_vectorisé = matrix.transform(nouvel_échantillon).toarray()\n",
    "prediction = clf.predict(nouvel_échantillon_vectorisé)\n",
    "\n",
    "if prediction[0] == 1:\n",
    "    print(\"Attention: Présence de gluten\")\n",
    "else :\n",
    "    print(\"Pas de gluten, faites vous plaisir\")\n"
   ]
  },
  {
   "cell_type": "markdown",
   "metadata": {},
   "source": [
    "glutenfree est detecté comme sans gluten, mais pas 'gluten free'"
   ]
  },
  {
   "cell_type": "markdown",
   "metadata": {},
   "source": [
    "Evaluation"
   ]
  },
  {
   "cell_type": "code",
   "execution_count": 8,
   "metadata": {},
   "outputs": [],
   "source": [
    "from sklearn.metrics import f1_score, confusion_matrix, classification_report, recall_score, precision_score\n",
    "# classification report est un super outil de rapport.\n",
    "from sklearn.model_selection import learning_curve # pour comprendre si le modèle est en underfitting ou overfitting.\n",
    "# Pour ensuite évaluer s'il faut créer des polynômes ou faire de la sélection de features.\n",
    "import numpy as np"
   ]
  },
  {
   "cell_type": "code",
   "execution_count": 152,
   "metadata": {},
   "outputs": [],
   "source": [
    "model = DecisionTreeClassifier()"
   ]
  },
  {
   "cell_type": "code",
   "execution_count": 2,
   "metadata": {},
   "outputs": [],
   "source": [
    "from sklearn.metrics import f1_score, confusion_matrix, classification_report, recall_score, precision_score\n",
    "# classification report est un super outil de rapport.\n",
    "from sklearn.model_selection import learning_curve # pour comprendre si le modèle est en underfitting ou overfitting.\n",
    "# Pour ensuite évaluer s'il faut créer des polynômes ou faire de la sélection de features.\n",
    "import numpy as np\n",
    "\n",
    "def evaluation(model, X_train, X_test, y_train, y_test, display_learning_curve=False):\n",
    "    model.fit(X_train, y_train)\n",
    "    y_pred = model.predict(X_test)\n",
    "    print(f\"Lines in \")\n",
    "    print(confusion_matrix(y_test, y_pred))\n",
    "    print(classification_report(y_test, y_pred))\n",
    "    print(f\"f1_score: {round(f1_score(y_test, y_pred), 2)}\")\n",
    "    print(f\"recall_score: {round(recall_score(y_test, y_pred), 2)}\")\n",
    "    print(f\"precision_score: {round(precision_score(y_test, y_pred), 2)}\")\n",
    "    \n",
    "\n",
    "    if display_learning_curve == True:\n",
    "        # learning curve pour comprendre si le modèle est en underfitting ou overfitting.\n",
    "        N, train_score, val_score = learning_curve(model, X_train, y_train, cv=4, scoring='f1' , train_sizes=np.linspace(0.1, 1, 10))\n",
    "        plt.figure(figsize=(12,8))\n",
    "        plt.plot(N, train_score.mean(axis=1), label='train score') # cf vidéo 21.30\n",
    "        plt.plot(N, val_score.mean(axis=1), label='validation score')\n",
    "        plt.xlabel('Training Examples')\n",
    "        plt.ylabel('F1 Score')\n",
    "        plt.legend()"
   ]
  },
  {
   "cell_type": "code",
   "execution_count": 154,
   "metadata": {},
   "outputs": [],
   "source": [
    "# evaluation(model, X_train, X_test, y_train, y_test, display_learning_curve=True)"
   ]
  },
  {
   "cell_type": "markdown",
   "metadata": {},
   "source": [
    "# Bi-grammes\n",
    "L'idée est de vectoriser des bigrammes\n",
    "- évaluer si cela améliore les scores\n",
    "- évaluer si cela permet de remédier au fait que l'expression 'gluten-free' est détectée comme contenant du gluten."
   ]
  },
  {
   "cell_type": "code",
   "execution_count": 155,
   "metadata": {},
   "outputs": [
    {
     "name": "stdout",
     "output_type": "stream",
     "text": [
      "[[0 0 0 ... 0 0 0]\n",
      " [0 0 0 ... 0 0 0]\n",
      " [0 0 0 ... 0 0 0]\n",
      " ...\n",
      " [0 0 0 ... 0 0 0]\n",
      " [0 0 0 ... 0 1 0]\n",
      " [0 0 0 ... 0 0 0]]\n"
     ]
    }
   ],
   "source": [
    "# Vectorisons les tokens de la colonne 'ingredients_tokens' du dataframe df.\n",
    "# traitons les 1-grammes et les 2-grammes\n",
    "\n",
    "data = df['ingredients_tokens']\n",
    "\n",
    "# creating the feature matrix \n",
    "from sklearn.feature_extraction.text import CountVectorizer\n",
    "matrix = CountVectorizer(max_features=500, ngram_range=(1, 2)) # 1 et 2 grammes\n",
    "X = matrix.fit_transform(data).toarray()\n",
    "\n",
    "print(X)"
   ]
  },
  {
   "cell_type": "code",
   "execution_count": 156,
   "metadata": {},
   "outputs": [
    {
     "name": "stdout",
     "output_type": "stream",
     "text": [
      "Accuracy: 0.8745441134286768\n"
     ]
    }
   ],
   "source": [
    "# Diviser les données en features (X) et target (y)\n",
    "X\n",
    "y = df['gluten_presence']\n",
    "\n",
    "# Diviser les données en ensembles d'entraînement et de test\n",
    "X_train, X_test, y_train, y_test = train_test_split(X, y, test_size=0.2, random_state=42)\n",
    "\n",
    "# Initialiser et entraîner le modèle d'arbre de décision\n",
    "clf = DecisionTreeClassifier()\n",
    "clf.fit(X_train, y_train)\n",
    "\n",
    "# Faire des prédictions sur l'ensemble de test\n",
    "y_pred = clf.predict(X_test)\n",
    "\n",
    "# Calculer l'exactitude du modèle\n",
    "accuracy = accuracy_score(y_test, y_pred)\n",
    "print(\"Accuracy:\", accuracy)"
   ]
  },
  {
   "cell_type": "markdown",
   "metadata": {},
   "source": [
    "Le score semble légèrement moins bon. (0.875 contre 0.880 avec des monogrammes)\n",
    "Il faut toutefois comparer les recall scores, et les prédictions de l'expression 'gluten  free'"
   ]
  },
  {
   "cell_type": "code",
   "execution_count": 157,
   "metadata": {},
   "outputs": [
    {
     "name": "stdout",
     "output_type": "stream",
     "text": [
      "Lines in \n",
      "[[25216  2375]\n",
      " [ 3700 17515]]\n",
      "              precision    recall  f1-score   support\n",
      "\n",
      "           0       0.87      0.91      0.89     27591\n",
      "           1       0.88      0.83      0.85     21215\n",
      "\n",
      "    accuracy                           0.88     48806\n",
      "   macro avg       0.88      0.87      0.87     48806\n",
      "weighted avg       0.88      0.88      0.87     48806\n",
      "\n",
      "f1_score: 0.85\n",
      "recall_score: 0.83\n",
      "precision_score: 0.88\n"
     ]
    },
    {
     "ename": "KeyboardInterrupt",
     "evalue": "",
     "output_type": "error",
     "traceback": [
      "\u001b[0;31m---------------------------------------------------------------------------\u001b[0m",
      "\u001b[0;31mKeyboardInterrupt\u001b[0m                         Traceback (most recent call last)",
      "Cell \u001b[0;32mIn[157], line 2\u001b[0m\n\u001b[1;32m      1\u001b[0m model \u001b[38;5;241m=\u001b[39m DecisionTreeClassifier()\n\u001b[0;32m----> 2\u001b[0m evaluation(model, X_train, X_test, y_train, y_test, display_learning_curve\u001b[38;5;241m=\u001b[39m\u001b[38;5;28;01mTrue\u001b[39;00m)\n",
      "Cell \u001b[0;32mIn[153], line 14\u001b[0m, in \u001b[0;36mevaluation\u001b[0;34m(model, X_train, X_test, y_train, y_test, display_learning_curve)\u001b[0m\n\u001b[1;32m      9\u001b[0m \u001b[38;5;28mprint\u001b[39m(\u001b[38;5;124mf\u001b[39m\u001b[38;5;124m\"\u001b[39m\u001b[38;5;124mprecision_score: \u001b[39m\u001b[38;5;132;01m{\u001b[39;00m\u001b[38;5;28mround\u001b[39m(precision_score(y_test,\u001b[38;5;250m \u001b[39my_pred),\u001b[38;5;250m \u001b[39m\u001b[38;5;241m2\u001b[39m)\u001b[38;5;132;01m}\u001b[39;00m\u001b[38;5;124m\"\u001b[39m)\n\u001b[1;32m     12\u001b[0m \u001b[38;5;28;01mif\u001b[39;00m display_learning_curve \u001b[38;5;241m==\u001b[39m \u001b[38;5;28;01mTrue\u001b[39;00m:\n\u001b[1;32m     13\u001b[0m     \u001b[38;5;66;03m# learning curve pour comprendre si le modèle est en underfitting ou overfitting.\u001b[39;00m\n\u001b[0;32m---> 14\u001b[0m     N, train_score, val_score \u001b[38;5;241m=\u001b[39m learning_curve(model, X_train, y_train, cv\u001b[38;5;241m=\u001b[39m\u001b[38;5;241m4\u001b[39m, scoring\u001b[38;5;241m=\u001b[39m\u001b[38;5;124m'\u001b[39m\u001b[38;5;124mf1\u001b[39m\u001b[38;5;124m'\u001b[39m , train_sizes\u001b[38;5;241m=\u001b[39mnp\u001b[38;5;241m.\u001b[39mlinspace(\u001b[38;5;241m0.1\u001b[39m, \u001b[38;5;241m1\u001b[39m, \u001b[38;5;241m10\u001b[39m))\n\u001b[1;32m     15\u001b[0m     plt\u001b[38;5;241m.\u001b[39mfigure(figsize\u001b[38;5;241m=\u001b[39m(\u001b[38;5;241m12\u001b[39m,\u001b[38;5;241m8\u001b[39m))\n\u001b[1;32m     16\u001b[0m     plt\u001b[38;5;241m.\u001b[39mplot(N, train_score\u001b[38;5;241m.\u001b[39mmean(axis\u001b[38;5;241m=\u001b[39m\u001b[38;5;241m1\u001b[39m), label\u001b[38;5;241m=\u001b[39m\u001b[38;5;124m'\u001b[39m\u001b[38;5;124mtrain score\u001b[39m\u001b[38;5;124m'\u001b[39m) \u001b[38;5;66;03m# cf vidéo 21.30\u001b[39;00m\n",
      "File \u001b[0;32m~/anaconda3/envs/dsproj/lib/python3.11/site-packages/sklearn/model_selection/_validation.py:1558\u001b[0m, in \u001b[0;36mlearning_curve\u001b[0;34m(estimator, X, y, groups, train_sizes, cv, scoring, exploit_incremental_learning, n_jobs, pre_dispatch, verbose, shuffle, random_state, error_score, return_times, fit_params)\u001b[0m\n\u001b[1;32m   1555\u001b[0m     \u001b[38;5;28;01mfor\u001b[39;00m n_train_samples \u001b[38;5;129;01min\u001b[39;00m train_sizes_abs:\n\u001b[1;32m   1556\u001b[0m         train_test_proportions\u001b[38;5;241m.\u001b[39mappend((train[:n_train_samples], test))\n\u001b[0;32m-> 1558\u001b[0m results \u001b[38;5;241m=\u001b[39m parallel(\n\u001b[1;32m   1559\u001b[0m     delayed(_fit_and_score)(\n\u001b[1;32m   1560\u001b[0m         clone(estimator),\n\u001b[1;32m   1561\u001b[0m         X,\n\u001b[1;32m   1562\u001b[0m         y,\n\u001b[1;32m   1563\u001b[0m         scorer,\n\u001b[1;32m   1564\u001b[0m         train,\n\u001b[1;32m   1565\u001b[0m         test,\n\u001b[1;32m   1566\u001b[0m         verbose,\n\u001b[1;32m   1567\u001b[0m         parameters\u001b[38;5;241m=\u001b[39m\u001b[38;5;28;01mNone\u001b[39;00m,\n\u001b[1;32m   1568\u001b[0m         fit_params\u001b[38;5;241m=\u001b[39mfit_params,\n\u001b[1;32m   1569\u001b[0m         return_train_score\u001b[38;5;241m=\u001b[39m\u001b[38;5;28;01mTrue\u001b[39;00m,\n\u001b[1;32m   1570\u001b[0m         error_score\u001b[38;5;241m=\u001b[39merror_score,\n\u001b[1;32m   1571\u001b[0m         return_times\u001b[38;5;241m=\u001b[39mreturn_times,\n\u001b[1;32m   1572\u001b[0m     )\n\u001b[1;32m   1573\u001b[0m     \u001b[38;5;28;01mfor\u001b[39;00m train, test \u001b[38;5;129;01min\u001b[39;00m train_test_proportions\n\u001b[1;32m   1574\u001b[0m )\n\u001b[1;32m   1575\u001b[0m results \u001b[38;5;241m=\u001b[39m _aggregate_score_dicts(results)\n\u001b[1;32m   1576\u001b[0m train_scores \u001b[38;5;241m=\u001b[39m results[\u001b[38;5;124m\"\u001b[39m\u001b[38;5;124mtrain_scores\u001b[39m\u001b[38;5;124m\"\u001b[39m]\u001b[38;5;241m.\u001b[39mreshape(\u001b[38;5;241m-\u001b[39m\u001b[38;5;241m1\u001b[39m, n_unique_ticks)\u001b[38;5;241m.\u001b[39mT\n",
      "File \u001b[0;32m~/anaconda3/envs/dsproj/lib/python3.11/site-packages/joblib/parallel.py:1088\u001b[0m, in \u001b[0;36mParallel.__call__\u001b[0;34m(self, iterable)\u001b[0m\n\u001b[1;32m   1085\u001b[0m \u001b[38;5;28;01mif\u001b[39;00m \u001b[38;5;28mself\u001b[39m\u001b[38;5;241m.\u001b[39mdispatch_one_batch(iterator):\n\u001b[1;32m   1086\u001b[0m     \u001b[38;5;28mself\u001b[39m\u001b[38;5;241m.\u001b[39m_iterating \u001b[38;5;241m=\u001b[39m \u001b[38;5;28mself\u001b[39m\u001b[38;5;241m.\u001b[39m_original_iterator \u001b[38;5;129;01mis\u001b[39;00m \u001b[38;5;129;01mnot\u001b[39;00m \u001b[38;5;28;01mNone\u001b[39;00m\n\u001b[0;32m-> 1088\u001b[0m \u001b[38;5;28;01mwhile\u001b[39;00m \u001b[38;5;28mself\u001b[39m\u001b[38;5;241m.\u001b[39mdispatch_one_batch(iterator):\n\u001b[1;32m   1089\u001b[0m     \u001b[38;5;28;01mpass\u001b[39;00m\n\u001b[1;32m   1091\u001b[0m \u001b[38;5;28;01mif\u001b[39;00m pre_dispatch \u001b[38;5;241m==\u001b[39m \u001b[38;5;124m\"\u001b[39m\u001b[38;5;124mall\u001b[39m\u001b[38;5;124m\"\u001b[39m \u001b[38;5;129;01mor\u001b[39;00m n_jobs \u001b[38;5;241m==\u001b[39m \u001b[38;5;241m1\u001b[39m:\n\u001b[1;32m   1092\u001b[0m     \u001b[38;5;66;03m# The iterable was consumed all at once by the above for loop.\u001b[39;00m\n\u001b[1;32m   1093\u001b[0m     \u001b[38;5;66;03m# No need to wait for async callbacks to trigger to\u001b[39;00m\n\u001b[1;32m   1094\u001b[0m     \u001b[38;5;66;03m# consumption.\u001b[39;00m\n",
      "File \u001b[0;32m~/anaconda3/envs/dsproj/lib/python3.11/site-packages/joblib/parallel.py:901\u001b[0m, in \u001b[0;36mParallel.dispatch_one_batch\u001b[0;34m(self, iterator)\u001b[0m\n\u001b[1;32m    899\u001b[0m     \u001b[38;5;28;01mreturn\u001b[39;00m \u001b[38;5;28;01mFalse\u001b[39;00m\n\u001b[1;32m    900\u001b[0m \u001b[38;5;28;01melse\u001b[39;00m:\n\u001b[0;32m--> 901\u001b[0m     \u001b[38;5;28mself\u001b[39m\u001b[38;5;241m.\u001b[39m_dispatch(tasks)\n\u001b[1;32m    902\u001b[0m     \u001b[38;5;28;01mreturn\u001b[39;00m \u001b[38;5;28;01mTrue\u001b[39;00m\n",
      "File \u001b[0;32m~/anaconda3/envs/dsproj/lib/python3.11/site-packages/joblib/parallel.py:819\u001b[0m, in \u001b[0;36mParallel._dispatch\u001b[0;34m(self, batch)\u001b[0m\n\u001b[1;32m    817\u001b[0m \u001b[38;5;28;01mwith\u001b[39;00m \u001b[38;5;28mself\u001b[39m\u001b[38;5;241m.\u001b[39m_lock:\n\u001b[1;32m    818\u001b[0m     job_idx \u001b[38;5;241m=\u001b[39m \u001b[38;5;28mlen\u001b[39m(\u001b[38;5;28mself\u001b[39m\u001b[38;5;241m.\u001b[39m_jobs)\n\u001b[0;32m--> 819\u001b[0m     job \u001b[38;5;241m=\u001b[39m \u001b[38;5;28mself\u001b[39m\u001b[38;5;241m.\u001b[39m_backend\u001b[38;5;241m.\u001b[39mapply_async(batch, callback\u001b[38;5;241m=\u001b[39mcb)\n\u001b[1;32m    820\u001b[0m     \u001b[38;5;66;03m# A job can complete so quickly than its callback is\u001b[39;00m\n\u001b[1;32m    821\u001b[0m     \u001b[38;5;66;03m# called before we get here, causing self._jobs to\u001b[39;00m\n\u001b[1;32m    822\u001b[0m     \u001b[38;5;66;03m# grow. To ensure correct results ordering, .insert is\u001b[39;00m\n\u001b[1;32m    823\u001b[0m     \u001b[38;5;66;03m# used (rather than .append) in the following line\u001b[39;00m\n\u001b[1;32m    824\u001b[0m     \u001b[38;5;28mself\u001b[39m\u001b[38;5;241m.\u001b[39m_jobs\u001b[38;5;241m.\u001b[39minsert(job_idx, job)\n",
      "File \u001b[0;32m~/anaconda3/envs/dsproj/lib/python3.11/site-packages/joblib/_parallel_backends.py:208\u001b[0m, in \u001b[0;36mSequentialBackend.apply_async\u001b[0;34m(self, func, callback)\u001b[0m\n\u001b[1;32m    206\u001b[0m \u001b[38;5;28;01mdef\u001b[39;00m \u001b[38;5;21mapply_async\u001b[39m(\u001b[38;5;28mself\u001b[39m, func, callback\u001b[38;5;241m=\u001b[39m\u001b[38;5;28;01mNone\u001b[39;00m):\n\u001b[1;32m    207\u001b[0m \u001b[38;5;250m    \u001b[39m\u001b[38;5;124;03m\"\"\"Schedule a func to be run\"\"\"\u001b[39;00m\n\u001b[0;32m--> 208\u001b[0m     result \u001b[38;5;241m=\u001b[39m ImmediateResult(func)\n\u001b[1;32m    209\u001b[0m     \u001b[38;5;28;01mif\u001b[39;00m callback:\n\u001b[1;32m    210\u001b[0m         callback(result)\n",
      "File \u001b[0;32m~/anaconda3/envs/dsproj/lib/python3.11/site-packages/joblib/_parallel_backends.py:597\u001b[0m, in \u001b[0;36mImmediateResult.__init__\u001b[0;34m(self, batch)\u001b[0m\n\u001b[1;32m    594\u001b[0m \u001b[38;5;28;01mdef\u001b[39;00m \u001b[38;5;21m__init__\u001b[39m(\u001b[38;5;28mself\u001b[39m, batch):\n\u001b[1;32m    595\u001b[0m     \u001b[38;5;66;03m# Don't delay the application, to avoid keeping the input\u001b[39;00m\n\u001b[1;32m    596\u001b[0m     \u001b[38;5;66;03m# arguments in memory\u001b[39;00m\n\u001b[0;32m--> 597\u001b[0m     \u001b[38;5;28mself\u001b[39m\u001b[38;5;241m.\u001b[39mresults \u001b[38;5;241m=\u001b[39m batch()\n",
      "File \u001b[0;32m~/anaconda3/envs/dsproj/lib/python3.11/site-packages/joblib/parallel.py:288\u001b[0m, in \u001b[0;36mBatchedCalls.__call__\u001b[0;34m(self)\u001b[0m\n\u001b[1;32m    284\u001b[0m \u001b[38;5;28;01mdef\u001b[39;00m \u001b[38;5;21m__call__\u001b[39m(\u001b[38;5;28mself\u001b[39m):\n\u001b[1;32m    285\u001b[0m     \u001b[38;5;66;03m# Set the default nested backend to self._backend but do not set the\u001b[39;00m\n\u001b[1;32m    286\u001b[0m     \u001b[38;5;66;03m# change the default number of processes to -1\u001b[39;00m\n\u001b[1;32m    287\u001b[0m     \u001b[38;5;28;01mwith\u001b[39;00m parallel_backend(\u001b[38;5;28mself\u001b[39m\u001b[38;5;241m.\u001b[39m_backend, n_jobs\u001b[38;5;241m=\u001b[39m\u001b[38;5;28mself\u001b[39m\u001b[38;5;241m.\u001b[39m_n_jobs):\n\u001b[0;32m--> 288\u001b[0m         \u001b[38;5;28;01mreturn\u001b[39;00m [func(\u001b[38;5;241m*\u001b[39margs, \u001b[38;5;241m*\u001b[39m\u001b[38;5;241m*\u001b[39mkwargs)\n\u001b[1;32m    289\u001b[0m                 \u001b[38;5;28;01mfor\u001b[39;00m func, args, kwargs \u001b[38;5;129;01min\u001b[39;00m \u001b[38;5;28mself\u001b[39m\u001b[38;5;241m.\u001b[39mitems]\n",
      "File \u001b[0;32m~/anaconda3/envs/dsproj/lib/python3.11/site-packages/joblib/parallel.py:288\u001b[0m, in \u001b[0;36m<listcomp>\u001b[0;34m(.0)\u001b[0m\n\u001b[1;32m    284\u001b[0m \u001b[38;5;28;01mdef\u001b[39;00m \u001b[38;5;21m__call__\u001b[39m(\u001b[38;5;28mself\u001b[39m):\n\u001b[1;32m    285\u001b[0m     \u001b[38;5;66;03m# Set the default nested backend to self._backend but do not set the\u001b[39;00m\n\u001b[1;32m    286\u001b[0m     \u001b[38;5;66;03m# change the default number of processes to -1\u001b[39;00m\n\u001b[1;32m    287\u001b[0m     \u001b[38;5;28;01mwith\u001b[39;00m parallel_backend(\u001b[38;5;28mself\u001b[39m\u001b[38;5;241m.\u001b[39m_backend, n_jobs\u001b[38;5;241m=\u001b[39m\u001b[38;5;28mself\u001b[39m\u001b[38;5;241m.\u001b[39m_n_jobs):\n\u001b[0;32m--> 288\u001b[0m         \u001b[38;5;28;01mreturn\u001b[39;00m [func(\u001b[38;5;241m*\u001b[39margs, \u001b[38;5;241m*\u001b[39m\u001b[38;5;241m*\u001b[39mkwargs)\n\u001b[1;32m    289\u001b[0m                 \u001b[38;5;28;01mfor\u001b[39;00m func, args, kwargs \u001b[38;5;129;01min\u001b[39;00m \u001b[38;5;28mself\u001b[39m\u001b[38;5;241m.\u001b[39mitems]\n",
      "File \u001b[0;32m~/anaconda3/envs/dsproj/lib/python3.11/site-packages/sklearn/utils/fixes.py:117\u001b[0m, in \u001b[0;36m_FuncWrapper.__call__\u001b[0;34m(self, *args, **kwargs)\u001b[0m\n\u001b[1;32m    115\u001b[0m \u001b[38;5;28;01mdef\u001b[39;00m \u001b[38;5;21m__call__\u001b[39m(\u001b[38;5;28mself\u001b[39m, \u001b[38;5;241m*\u001b[39margs, \u001b[38;5;241m*\u001b[39m\u001b[38;5;241m*\u001b[39mkwargs):\n\u001b[1;32m    116\u001b[0m     \u001b[38;5;28;01mwith\u001b[39;00m config_context(\u001b[38;5;241m*\u001b[39m\u001b[38;5;241m*\u001b[39m\u001b[38;5;28mself\u001b[39m\u001b[38;5;241m.\u001b[39mconfig):\n\u001b[0;32m--> 117\u001b[0m         \u001b[38;5;28;01mreturn\u001b[39;00m \u001b[38;5;28mself\u001b[39m\u001b[38;5;241m.\u001b[39mfunction(\u001b[38;5;241m*\u001b[39margs, \u001b[38;5;241m*\u001b[39m\u001b[38;5;241m*\u001b[39mkwargs)\n",
      "File \u001b[0;32m~/anaconda3/envs/dsproj/lib/python3.11/site-packages/sklearn/model_selection/_validation.py:686\u001b[0m, in \u001b[0;36m_fit_and_score\u001b[0;34m(estimator, X, y, scorer, train, test, verbose, parameters, fit_params, return_train_score, return_parameters, return_n_test_samples, return_times, return_estimator, split_progress, candidate_progress, error_score)\u001b[0m\n\u001b[1;32m    684\u001b[0m         estimator\u001b[38;5;241m.\u001b[39mfit(X_train, \u001b[38;5;241m*\u001b[39m\u001b[38;5;241m*\u001b[39mfit_params)\n\u001b[1;32m    685\u001b[0m     \u001b[38;5;28;01melse\u001b[39;00m:\n\u001b[0;32m--> 686\u001b[0m         estimator\u001b[38;5;241m.\u001b[39mfit(X_train, y_train, \u001b[38;5;241m*\u001b[39m\u001b[38;5;241m*\u001b[39mfit_params)\n\u001b[1;32m    688\u001b[0m \u001b[38;5;28;01mexcept\u001b[39;00m \u001b[38;5;167;01mException\u001b[39;00m:\n\u001b[1;32m    689\u001b[0m     \u001b[38;5;66;03m# Note fit time as time until error\u001b[39;00m\n\u001b[1;32m    690\u001b[0m     fit_time \u001b[38;5;241m=\u001b[39m time\u001b[38;5;241m.\u001b[39mtime() \u001b[38;5;241m-\u001b[39m start_time\n",
      "File \u001b[0;32m~/anaconda3/envs/dsproj/lib/python3.11/site-packages/sklearn/tree/_classes.py:969\u001b[0m, in \u001b[0;36mDecisionTreeClassifier.fit\u001b[0;34m(self, X, y, sample_weight, check_input)\u001b[0m\n\u001b[1;32m    939\u001b[0m \u001b[38;5;28;01mdef\u001b[39;00m \u001b[38;5;21mfit\u001b[39m(\u001b[38;5;28mself\u001b[39m, X, y, sample_weight\u001b[38;5;241m=\u001b[39m\u001b[38;5;28;01mNone\u001b[39;00m, check_input\u001b[38;5;241m=\u001b[39m\u001b[38;5;28;01mTrue\u001b[39;00m):\n\u001b[1;32m    940\u001b[0m \u001b[38;5;250m    \u001b[39m\u001b[38;5;124;03m\"\"\"Build a decision tree classifier from the training set (X, y).\u001b[39;00m\n\u001b[1;32m    941\u001b[0m \n\u001b[1;32m    942\u001b[0m \u001b[38;5;124;03m    Parameters\u001b[39;00m\n\u001b[0;32m   (...)\u001b[0m\n\u001b[1;32m    966\u001b[0m \u001b[38;5;124;03m        Fitted estimator.\u001b[39;00m\n\u001b[1;32m    967\u001b[0m \u001b[38;5;124;03m    \"\"\"\u001b[39;00m\n\u001b[0;32m--> 969\u001b[0m     \u001b[38;5;28msuper\u001b[39m()\u001b[38;5;241m.\u001b[39mfit(\n\u001b[1;32m    970\u001b[0m         X,\n\u001b[1;32m    971\u001b[0m         y,\n\u001b[1;32m    972\u001b[0m         sample_weight\u001b[38;5;241m=\u001b[39msample_weight,\n\u001b[1;32m    973\u001b[0m         check_input\u001b[38;5;241m=\u001b[39mcheck_input,\n\u001b[1;32m    974\u001b[0m     )\n\u001b[1;32m    975\u001b[0m     \u001b[38;5;28;01mreturn\u001b[39;00m \u001b[38;5;28mself\u001b[39m\n",
      "File \u001b[0;32m~/anaconda3/envs/dsproj/lib/python3.11/site-packages/sklearn/tree/_classes.py:458\u001b[0m, in \u001b[0;36mBaseDecisionTree.fit\u001b[0;34m(self, X, y, sample_weight, check_input)\u001b[0m\n\u001b[1;32m    447\u001b[0m \u001b[38;5;28;01melse\u001b[39;00m:\n\u001b[1;32m    448\u001b[0m     builder \u001b[38;5;241m=\u001b[39m BestFirstTreeBuilder(\n\u001b[1;32m    449\u001b[0m         splitter,\n\u001b[1;32m    450\u001b[0m         min_samples_split,\n\u001b[0;32m   (...)\u001b[0m\n\u001b[1;32m    455\u001b[0m         \u001b[38;5;28mself\u001b[39m\u001b[38;5;241m.\u001b[39mmin_impurity_decrease,\n\u001b[1;32m    456\u001b[0m     )\n\u001b[0;32m--> 458\u001b[0m builder\u001b[38;5;241m.\u001b[39mbuild(\u001b[38;5;28mself\u001b[39m\u001b[38;5;241m.\u001b[39mtree_, X, y, sample_weight)\n\u001b[1;32m    460\u001b[0m \u001b[38;5;28;01mif\u001b[39;00m \u001b[38;5;28mself\u001b[39m\u001b[38;5;241m.\u001b[39mn_outputs_ \u001b[38;5;241m==\u001b[39m \u001b[38;5;241m1\u001b[39m \u001b[38;5;129;01mand\u001b[39;00m is_classifier(\u001b[38;5;28mself\u001b[39m):\n\u001b[1;32m    461\u001b[0m     \u001b[38;5;28mself\u001b[39m\u001b[38;5;241m.\u001b[39mn_classes_ \u001b[38;5;241m=\u001b[39m \u001b[38;5;28mself\u001b[39m\u001b[38;5;241m.\u001b[39mn_classes_[\u001b[38;5;241m0\u001b[39m]\n",
      "\u001b[0;31mKeyboardInterrupt\u001b[0m: "
     ]
    }
   ],
   "source": [
    "model = DecisionTreeClassifier()\n",
    "evaluation(model, X_train, X_test, y_train, y_test, display_learning_curve=True)"
   ]
  },
  {
   "cell_type": "code",
   "execution_count": null,
   "metadata": {},
   "outputs": [
    {
     "name": "stdout",
     "output_type": "stream",
     "text": [
      "Attention: Présence de gluten\n"
     ]
    }
   ],
   "source": [
    "# tester le modèle avec un nouvel échantillon\n",
    "nouvel_échantillon = ['oeuf, farine, sucre, sel']\n",
    "nouvel_échantillon_vectorisé = matrix.transform(nouvel_échantillon).toarray()\n",
    "prediction = clf.predict(nouvel_échantillon_vectorisé)\n",
    "\n",
    "if prediction[0] == 1:\n",
    "    print(\"Attention: Présence de gluten\")\n",
    "else :\n",
    "    print(\"Pas de gluten, faites vous plaisir\")"
   ]
  },
  {
   "cell_type": "markdown",
   "metadata": {},
   "source": [
    "2-grammes uniquement (ngram_range=(2, 2))"
   ]
  },
  {
   "cell_type": "code",
   "execution_count": null,
   "metadata": {},
   "outputs": [
    {
     "name": "stdout",
     "output_type": "stream",
     "text": [
      "[[0 0 0 ... 0 0 0]\n",
      " [0 0 0 ... 0 0 0]\n",
      " [0 0 0 ... 0 0 0]\n",
      " ...\n",
      " [0 0 0 ... 0 0 0]\n",
      " [0 0 0 ... 0 0 0]\n",
      " [0 0 0 ... 0 0 0]]\n"
     ]
    }
   ],
   "source": [
    "# Vectorisons les tokens de la colonne 'ingredients_tokens' du dataframe df.\n",
    "# traitons uniquement les 2-grammes (ngram_range=(2, 2))\n",
    "\n",
    "data = df['ingredients_tokens']\n",
    "\n",
    "# creating the feature matrix \n",
    "from sklearn.feature_extraction.text import CountVectorizer\n",
    "matrix = CountVectorizer(max_features=500, ngram_range=(2, 2))\n",
    "X = matrix.fit_transform(data).toarray()\n",
    "\n",
    "print(X)"
   ]
  },
  {
   "cell_type": "code",
   "execution_count": null,
   "metadata": {},
   "outputs": [
    {
     "name": "stdout",
     "output_type": "stream",
     "text": [
      "Accuracy: 0.8322542310371676\n"
     ]
    }
   ],
   "source": [
    "# Diviser les données en features (X) et target (y)\n",
    "X\n",
    "y = df['gluten_presence']\n",
    "\n",
    "# Diviser les données en ensembles d'entraînement et de test\n",
    "X_train, X_test, y_train, y_test = train_test_split(X, y, test_size=0.2, random_state=42)\n",
    "\n",
    "# Initialiser et entraîner le modèle d'arbre de décision\n",
    "clf = DecisionTreeClassifier()\n",
    "clf.fit(X_train, y_train)\n",
    "\n",
    "# Faire des prédictions sur l'ensemble de test\n",
    "y_pred = clf.predict(X_test)\n",
    "\n",
    "# Calculer l'exactitude du modèle\n",
    "accuracy = accuracy_score(y_test, y_pred)\n",
    "print(\"Accuracy:\", accuracy)"
   ]
  },
  {
   "cell_type": "markdown",
   "metadata": {},
   "source": [
    "On est moins bons !"
   ]
  },
  {
   "cell_type": "code",
   "execution_count": null,
   "metadata": {},
   "outputs": [
    {
     "name": "stdout",
     "output_type": "stream",
     "text": [
      "Pas de gluten, faites vous plaisir\n"
     ]
    }
   ],
   "source": [
    "# tester le modèle avec un nouvel échantillon\n",
    "nouvel_échantillon = ['blé']\n",
    "nouvel_échantillon_vectorisé = matrix.transform(nouvel_échantillon).toarray()\n",
    "prediction = clf.predict(nouvel_échantillon_vectorisé)\n",
    "\n",
    "if prediction[0] == 1:\n",
    "    print(\"Attention: Présence de gluten\")\n",
    "else :\n",
    "    print(\"Pas de gluten, faites vous plaisir\")"
   ]
  },
  {
   "cell_type": "markdown",
   "metadata": {},
   "source": [
    "Le modèle ne détecte plus le gluten !"
   ]
  },
  {
   "cell_type": "markdown",
   "metadata": {},
   "source": [
    "# Tweaking du decision tree à 1-gram\n",
    "essayons de forcer la création de token 'glutenfree', 'sansgluten', 'ohnegluten' à la place de 'gluten free', 'sans gluten', 'ohne gluten'."
   ]
  },
  {
   "cell_type": "code",
   "execution_count": 29,
   "metadata": {},
   "outputs": [
    {
     "name": "stderr",
     "output_type": "stream",
     "text": [
      "/tmp/ipykernel_48606/2077198670.py:2: DtypeWarning: Columns (0,17) have mixed types. Specify dtype option on import or set low_memory=False.\n",
      "  df = pd.read_csv('data_allergens_ingredients_tokenized.csv')\n"
     ]
    }
   ],
   "source": [
    "# charger data_allergens_ingredients_tokenized.csv\n",
    "df = pd.read_csv('data_allergens_ingredients_tokenized.csv')"
   ]
  },
  {
   "cell_type": "code",
   "execution_count": 30,
   "metadata": {},
   "outputs": [],
   "source": [
    "# Nous allons créer la liste des stopwords en dehors de la fonction tokenize, pour éviter de la recalculer à chaque appel de la fonction.\n",
    "\n",
    "# Liste des langues pour lesquelles nous voulons des stopwords\n",
    "langues = ['english', 'french', 'german']\n",
    "# Concaténer toutes les listes de stopwords pour les différentes langues\n",
    "stopwords_all = []\n",
    "for langue in langues:\n",
    "    stopwords_all.extend(stopwords.words(langue))"
   ]
  },
  {
   "cell_type": "code",
   "execution_count": 31,
   "metadata": {},
   "outputs": [],
   "source": [
    "import re\n",
    "from nltk.tokenize import word_tokenize\n",
    "from nltk.corpus import stopwords\n",
    "from string import punctuation\n",
    "\n",
    "def tokenize(texte):\n",
    "    # Tokenisation du texte\n",
    "    tokens = word_tokenize(texte)\n",
    "\n",
    "    # Suppression de la ponctuation, des valeurs numériques et des mots vides (stop words)\n",
    "    tokens_cleaned = []\n",
    "    i = 0\n",
    "    while i < len(tokens):\n",
    "        if (tokens[i].lower() == 'gluten' and i < len(tokens) - 1 and tokens[i+1].lower() == 'free') or \\\n",
    "        (tokens[i].lower() == 'ohne' and i < len(tokens) - 1 and tokens[i+1].lower() == 'gluten') or \\\n",
    "           (tokens[i].lower() == 'sans' and i < len(tokens) - 1 and tokens[i+1].lower() == 'gluten'):\n",
    "            tokens_cleaned.append(tokens[i].lower() + tokens[i+1].lower())\n",
    "            i += 2\n",
    "        else:\n",
    "            token = tokens[i].replace('_', '').replace('-', '').lower()\n",
    "            if token not in punctuation and token.lower() not in stopwords.words('english') and not bool(re.match(r'\\d', token)) and len(token) > 2:\n",
    "                tokens_cleaned.append(token)\n",
    "            i += 1\n",
    "\n",
    "    return tokens_cleaned\n"
   ]
  },
  {
   "cell_type": "code",
   "execution_count": 5,
   "metadata": {},
   "outputs": [],
   "source": [
    "from nltk.tokenize import word_tokenize\n",
    "from nltk.corpus import stopwords\n",
    "from string import punctuation\n",
    "\n",
    "# Nous allons créer la liste des stopwords en dehors de la fonction tokenize, pour éviter de la recalculer à chaque appel de la fonction.\n",
    "\n",
    "# Liste des langues pour lesquelles nous voulons des stopwords\n",
    "langues = ['english', 'french', 'german']\n",
    "# Concaténer toutes les listes de stopwords pour les différentes langues\n",
    "stopwords_all = []\n",
    "for langue in langues:\n",
    "    stopwords_all.extend(stopwords.words(langue))\n",
    "\n",
    "\n",
    "def tokenize(texte):\n",
    "    # Tokenisation du texte\n",
    "    tokens = word_tokenize(texte)\n",
    "\n",
    "    # Suppression de la ponctuation, des valeurs numériques et des mots vides (stop words)\n",
    "    tokens_cleaned = []\n",
    "    i = 0\n",
    "    while i < len(tokens):\n",
    "        if (tokens[i].lower() == 'gluten' and i < len(tokens) - 1 and tokens[i+1].lower() == 'free') or \\\n",
    "        (tokens[i].lower() == 'ohne' and i < len(tokens) - 1 and tokens[i+1].lower() == 'gluten') or \\\n",
    "           (tokens[i].lower() == 'sans' and i < len(tokens) - 1 and tokens[i+1].lower() == 'gluten'):\n",
    "            tokens_cleaned.append(tokens[i].lower() + tokens[i+1].lower())\n",
    "            i += 2\n",
    "        else:\n",
    "            token = tokens[i].replace('_', '').replace('-', '').lower()\n",
    "            if token not in punctuation and token.lower() not in stopwords_all and not bool(re.match(r'\\d', token)) and len(token) > 2:\n",
    "                tokens_cleaned.append(token)\n",
    "            i += 1\n",
    "\n",
    "    return tokens_cleaned"
   ]
  },
  {
   "cell_type": "code",
   "execution_count": 8,
   "metadata": {},
   "outputs": [
    {
     "name": "stdout",
     "output_type": "stream",
     "text": [
      "['i', 'me', 'my', 'myself', 'we', 'our', 'ours', 'ourselves', 'you', \"you're\", \"you've\", \"you'll\", \"you'd\", 'your', 'yours', 'yourself', 'yourselves', 'he', 'him', 'his', 'himself', 'she', \"she's\", 'her', 'hers', 'herself', 'it', \"it's\", 'its', 'itself', 'they', 'them', 'their', 'theirs', 'themselves', 'what', 'which', 'who', 'whom', 'this', 'that', \"that'll\", 'these', 'those', 'am', 'is', 'are', 'was', 'were', 'be', 'been', 'being', 'have', 'has', 'had', 'having', 'do', 'does', 'did', 'doing', 'a', 'an', 'the', 'and', 'but', 'if', 'or', 'because', 'as', 'until', 'while', 'of', 'at', 'by', 'for', 'with', 'about', 'against', 'between', 'into', 'through', 'during', 'before', 'after', 'above', 'below', 'to', 'from', 'up', 'down', 'in', 'out', 'on', 'off', 'over', 'under', 'again', 'further', 'then', 'once', 'here', 'there', 'when', 'where', 'why', 'how', 'all', 'any', 'both', 'each', 'few', 'more', 'most', 'other', 'some', 'such', 'no', 'nor', 'not', 'only', 'own', 'same', 'so', 'than', 'too', 'very', 's', 't', 'can', 'will', 'just', 'don', \"don't\", 'should', \"should've\", 'now', 'd', 'll', 'm', 'o', 're', 've', 'y', 'ain', 'aren', \"aren't\", 'couldn', \"couldn't\", 'didn', \"didn't\", 'doesn', \"doesn't\", 'hadn', \"hadn't\", 'hasn', \"hasn't\", 'haven', \"haven't\", 'isn', \"isn't\", 'ma', 'mightn', \"mightn't\", 'mustn', \"mustn't\", 'needn', \"needn't\", 'shan', \"shan't\", 'shouldn', \"shouldn't\", 'wasn', \"wasn't\", 'weren', \"weren't\", 'won', \"won't\", 'wouldn', \"wouldn't\", 'au', 'aux', 'avec', 'ce', 'ces', 'dans', 'de', 'des', 'du', 'elle', 'en', 'et', 'eux', 'il', 'ils', 'je', 'la', 'le', 'les', 'leur', 'lui', 'ma', 'mais', 'me', 'même', 'mes', 'moi', 'mon', 'ne', 'nos', 'notre', 'nous', 'on', 'ou', 'par', 'pas', 'pour', 'qu', 'que', 'qui', 'sa', 'se', 'ses', 'son', 'sur', 'ta', 'te', 'tes', 'toi', 'ton', 'tu', 'un', 'une', 'vos', 'votre', 'vous', 'c', 'd', 'j', 'l', 'à', 'm', 'n', 's', 't', 'y', 'été', 'étée', 'étées', 'étés', 'étant', 'étante', 'étants', 'étantes', 'suis', 'es', 'est', 'sommes', 'êtes', 'sont', 'serai', 'seras', 'sera', 'serons', 'serez', 'seront', 'serais', 'serait', 'serions', 'seriez', 'seraient', 'étais', 'était', 'étions', 'étiez', 'étaient', 'fus', 'fut', 'fûmes', 'fûtes', 'furent', 'sois', 'soit', 'soyons', 'soyez', 'soient', 'fusse', 'fusses', 'fût', 'fussions', 'fussiez', 'fussent', 'ayant', 'ayante', 'ayantes', 'ayants', 'eu', 'eue', 'eues', 'eus', 'ai', 'as', 'avons', 'avez', 'ont', 'aurai', 'auras', 'aura', 'aurons', 'aurez', 'auront', 'aurais', 'aurait', 'aurions', 'auriez', 'auraient', 'avais', 'avait', 'avions', 'aviez', 'avaient', 'eut', 'eûmes', 'eûtes', 'eurent', 'aie', 'aies', 'ait', 'ayons', 'ayez', 'aient', 'eusse', 'eusses', 'eût', 'eussions', 'eussiez', 'eussent', 'aber', 'alle', 'allem', 'allen', 'aller', 'alles', 'als', 'also', 'am', 'an', 'ander', 'andere', 'anderem', 'anderen', 'anderer', 'anderes', 'anderm', 'andern', 'anderr', 'anders', 'auch', 'auf', 'aus', 'bei', 'bin', 'bis', 'bist', 'da', 'damit', 'dann', 'der', 'den', 'des', 'dem', 'die', 'das', 'dass', 'daß', 'derselbe', 'derselben', 'denselben', 'desselben', 'demselben', 'dieselbe', 'dieselben', 'dasselbe', 'dazu', 'dein', 'deine', 'deinem', 'deinen', 'deiner', 'deines', 'denn', 'derer', 'dessen', 'dich', 'dir', 'du', 'dies', 'diese', 'diesem', 'diesen', 'dieser', 'dieses', 'doch', 'dort', 'durch', 'ein', 'eine', 'einem', 'einen', 'einer', 'eines', 'einig', 'einige', 'einigem', 'einigen', 'einiger', 'einiges', 'einmal', 'er', 'ihn', 'ihm', 'es', 'etwas', 'euer', 'eure', 'eurem', 'euren', 'eurer', 'eures', 'für', 'gegen', 'gewesen', 'hab', 'habe', 'haben', 'hat', 'hatte', 'hatten', 'hier', 'hin', 'hinter', 'ich', 'mich', 'mir', 'ihr', 'ihre', 'ihrem', 'ihren', 'ihrer', 'ihres', 'euch', 'im', 'in', 'indem', 'ins', 'ist', 'jede', 'jedem', 'jeden', 'jeder', 'jedes', 'jene', 'jenem', 'jenen', 'jener', 'jenes', 'jetzt', 'kann', 'kein', 'keine', 'keinem', 'keinen', 'keiner', 'keines', 'können', 'könnte', 'machen', 'man', 'manche', 'manchem', 'manchen', 'mancher', 'manches', 'mein', 'meine', 'meinem', 'meinen', 'meiner', 'meines', 'mit', 'muss', 'musste', 'nach', 'nicht', 'nichts', 'noch', 'nun', 'nur', 'ob', 'oder', 'ohne', 'sehr', 'sein', 'seine', 'seinem', 'seinen', 'seiner', 'seines', 'selbst', 'sich', 'sie', 'ihnen', 'sind', 'so', 'solche', 'solchem', 'solchen', 'solcher', 'solches', 'soll', 'sollte', 'sondern', 'sonst', 'über', 'um', 'und', 'uns', 'unsere', 'unserem', 'unseren', 'unser', 'unseres', 'unter', 'viel', 'vom', 'von', 'vor', 'während', 'war', 'waren', 'warst', 'was', 'weg', 'weil', 'weiter', 'welche', 'welchem', 'welchen', 'welcher', 'welches', 'wenn', 'werde', 'werden', 'wie', 'wieder', 'will', 'wir', 'wird', 'wirst', 'wo', 'wollen', 'wollte', 'würde', 'würden', 'zu', 'zum', 'zur', 'zwar', 'zwischen']\n"
     ]
    }
   ],
   "source": [
    "print(stopwords_all)"
   ]
  },
  {
   "cell_type": "code",
   "execution_count": 32,
   "metadata": {},
   "outputs": [
    {
     "data": {
      "text/plain": [
       "['ohnegluten',\n",
       " 'sansgluten',\n",
       " 'glutenfree',\n",
       " 'sugar',\n",
       " 'salt',\n",
       " 'eggs',\n",
       " 'milk',\n",
       " 'beurre']"
      ]
     },
     "execution_count": 32,
     "metadata": {},
     "output_type": "execute_result"
    }
   ],
   "source": [
    "texte = 'ohne gluten sans gluten gluten free sugar, salt, eggs, milk, 2ml de beurre'\n",
    "tokenize(texte)\n"
   ]
  },
  {
   "cell_type": "code",
   "execution_count": 4,
   "metadata": {},
   "outputs": [
    {
     "name": "stderr",
     "output_type": "stream",
     "text": [
      "/tmp/ipykernel_14199/2077198670.py:2: DtypeWarning: Columns (0,17) have mixed types. Specify dtype option on import or set low_memory=False.\n",
      "  df = pd.read_csv('data_allergens_ingredients_tokenized.csv')\n"
     ]
    }
   ],
   "source": [
    "# charger data_allergens_ingredients_tokenized.csv\n",
    "df = pd.read_csv('data_allergens_ingredients_tokenized.csv')"
   ]
  },
  {
   "cell_type": "code",
   "execution_count": 6,
   "metadata": {},
   "outputs": [],
   "source": [
    "# Appliquer la fonction tokenize sur la colonne 'ingredients_text' du dataframe et ajouter le résultat dans une nouvelle colonne 'ingredients_tokens'\n",
    "df['ingredients_tokens'] = df['ingredients_text'].apply(tokenize)"
   ]
  },
  {
   "cell_type": "markdown",
   "metadata": {},
   "source": [
    "Essayons le classifier sur notre nouveau df."
   ]
  },
  {
   "cell_type": "code",
   "execution_count": 7,
   "metadata": {},
   "outputs": [
    {
     "name": "stdout",
     "output_type": "stream",
     "text": [
      "[list(['isolat', 'protéines', 'soja', 'fructose', 'inuline', 'fibres', \"d'avoine\", 'sansgluten', 'huile', 'soja', 'mélange', 'minéraux', 'citrate', 'calcium', 'oxyde', 'magnésium', 'fumarate', 'ferreux', 'sélénite', 'sodium', 'oxyde', 'zinc', 'carbonate', 'manganèse', 'chlorure', 'chrome', 'iii', 'iodure', 'potassium', 'citrate', 'cuivre', 'poudre', 'café', 'décaféiné', 'phosphate', 'potassium', 'émulsifiant', 'lécithine', 'soja', 'arôme', 'naturel', 'poudre', 'lin', 'biologique1', 'épaississants', 'gomme', 'xanthane', 'gomme', 'guar', 'colorant', 'caramel', 'mélange', 'vitamines', 'acide', 'lascorbique', 'vit', 'acétate', 'dlalphatocophéryle', 'vit', 'nicotinamide', 'niacine', 'acétate', 'rétinyle', 'vit', 'dpantothénate', 'calcium', 'acide', 'pantothénique', 'dbiotine', 'biotine', 'cholécalciférol', 'vit', 'phylloquinone', 'vit', 'chlorhydrate', 'pyridoxine', 'vit', 'chlorhydrate', 'thiamine', 'vit', 'cyanocobalamine', 'vit', 'b12', 'riboflavine', 'vit', 'acide', 'ptéroylmonoglutamique', 'acide', 'folique', 'chlorure', 'sodium', 'édulcorant', 'glycosides', 'stéviol', 'poudre', 'fruits', 'papaye', 'grenade', 'myrtille', 'persil', 'poudre', 'antiagglomérant', 'dioxyde', 'silicium'])\n",
      " list(['farine', 'ble', 'eau', 'farine', 'seigle', 'sucre', 'sirop', 'sucre', 'huile', 'colza', 'gluten', 'ble', 'sel', 'levure', 'levain', 'poudre', 'émulsifiants', 'e471', 'e472e', 'poudre', 'lever', 'e503', 'fructose', 'farine', 'malt', \"d'orge\", 'agent', 'traitement', 'farines', 'e300', 'enzymes', 'garniture', 'salade', 'verte', 'filet', 'poulet', 'rôti', 'filet', 'poulet', 'origine', 'france', 'eau', 'dextrose', 'huile', 'tournesol', 'sel', 'protéines', 'pois', 'arômes', 'stabilisant', 'e451', 'fibre', 'blé', 'sansgluten', 'gélifiant', 'e407a', 'carottes', 'räpées', 'mayonnaise', 'huile', 'colza', 'eau', 'vinaigre', 'jaune', \"d'oeuf\", 'moutarde', 'dijon', 'eau', 'graine', 'moutarde', 'vinaigre', 'sel', 'antioxydant', 'disulfite', 'potassium', 'acidifiant', 'acide', 'oltrique'])\n",
      " list(['tomate', 'lait', 'demiécrémé', 'bœuf', 'haché', 'pâtes', 'sansgluten', 'fécule', 'maïs', 'farine', 'riz', 'émulsifiant', 'e471', 'eau', 'fromage', 'regato', 'lait', 'huile', 'colza', 'oignons', 'fécule', 'maïs', 'purée', 'tomate', 'fromage', 'pâte', 'dure', 'lait', 'concentré', 'tomate', 'cerise', 'carottes', 'céleri', 'purée', \"d'ail\", 'sel', 'huile', 'tournesol', 'infusée', 'basilic', 'farine', 'fève', 'huile', \"d'olive\", 'vierge', 'extra', 'sucre', 'vinaigre', 'vin', 'rouge', 'origan', 'poivre', 'noir', 'grossièrement', 'moulu', 'basilic', 'stabilisant', 'pectine', 'romarin', 'noix', 'muscade', 'moulue', 'poivre', 'blanc', 'moulu', 'feuilles', 'laurier', 'moulues'])\n",
      " list(['morceaux', 'chocolat', 'lait', 'belge', 'sucre', 'lait', 'poudre', 'entier', 'beurre', 'cacao', 'masse', 'cacao', 'émulsifiant', 'lécithine', 'soja', 'arôme', 'vanille', 'farine', 'riz', 'sucre', 'beurre', 'lait', 'farine', 'maïs', 'fécule', 'maïs', 'avoine', 'sansgluten', 'œufs', 'poules', 'élevées', 'plein', 'air', 'pasteurisés', 'amidon', 'tapioca', 'sirop', 'sucre', 'inverti', 'sel', 'poudre', 'lever', 'bicarbonate', 'soude', 'e450', 'stabilisant', 'gomme', 'xanthane'])\n",
      " list(['raisins', 'secs', 'raisins', 'smyrne', 'raisins', 'raisins', 'corinthe', 'vostizza', 'massepain', 'sucre', 'amandes', 'poudre', 'sirop', 'glucose', 'sirop', 'sucre', 'inverti', 'sucre', 'farine', 'sansgluten', 'farine', 'riz', 'amidon', 'tapioca', 'fécule', 'pomme', 'terre', 'stabilisant', 'gomme', 'xanthane', 'cerises', 'confites', 'cerises', 'sirop', 'glucosefructose', 'sucre', 'concentrés', 'fruit', 'légume', 'carotte', 'noire', 'aronia', 'correcteur', \"d'acidité\", 'acide', 'citrique', 'eau', 'sucre', 'muscovado', 'huile', 'palme', 'sirop', 'glucose', 'humectant', 'glycérol', 'amandes', 'poudre', 'huile', 'colza', 'ecorces', \"d'orange\", 'citron', 'confites', 'écorce', \"d'orange·\", 'sirop', 'glucosefructose', 'écorce', 'citron', 'sucre', 'correcteur', \"d'acidité\", 'acide', 'citrique', 'golden', 'syrup', 'sirop', 'sucre', 'inverti', 'écorce', \"d'orange\", 'infusion', 'raisin', 'sec', 'concentrée', 'sirop', 'sucre', 'inverti', 'sel', 'sirop', 'sucre', 'noir', 'fécule', 'écorce', 'citron', 'stabilisant', 'gomme', 'guar', 'gomme', 'xanthane', 'emulsifiant', 'e471', 'e475', 'épices', 'moulues', 'coriandre', 'cannelle', 'gingembre', 'noix', 'muscade', 'carvi', 'clous', 'girofle', 'fibres', 'pomme', 'terre', 'poudre', 'lever', 'phosphates', 'calcium', 'bicarbonate', 'soude', 'écorce', 'psyllium', 'déshydratée'])\n",
      " list(['quinoa', 'champignons', 'oignons', 'celeri', 'carottes', 'flocons', \"d'avoine\", 'sansgluten', 'noix', 'fécule', 'tapioca', 'quot', 'farine', 'pois', 'chiches', 'puree', 'tomates', 'sel', 'marin', 'huile', 'tournesol', 'ail', 'sucre', 'canne', 'quot', 'eau', 'filtree', 'pommes', 'terre', 'vinaigre', 'cidre', 'mélasse', 'povrons', 'verts', 'arôme', 'fumée', 'produit', 'partir', \"d'hickory\", 'graines', 'moutarde', 'moulues', 'épices', 'poivre', 'noir', 'allergènes', 'consultez', 'ingrédients', 'gras', 'proouits', \"l'agriculture\", 'produits', 'conformement', 'regles', 'production', 'biologique', 'selon', 'certification', 'biologique', 'usorg050', 'conservé', 'à18'])\n",
      " list(['porc', 'britannique', 'élevé', 'plein', 'air', 'eau', 'blancs', \"d'œuf\", 'poules', 'élevées', 'plein', 'air', 'pasteurisés', 'chapelure', 'sansgluten', 'farine', 'riz', 'farine', 'pois', 'chiches', 'farine', 'maïs', 'sel', 'dextrose', 'sel', 'sauge', 'séchée', 'sauge', 'poivre', 'noir', 'broyé', 'extrait', 'levure', 'persil', 'stabilisateur', 'e450', 'coriandre', 'broyée', 'noix', 'muscade', 'poudre', 'conservateur', 'e223', 'sulfites', 'antioxydant', 'acide', 'ascorbique'])\n",
      " list(['eau', 'extrait', 'noix', 'coco', 'gomme', 'metabisulfite', 'potassium', 'contient', 'sulfites', 'sansgluten'])\n",
      " list(['pommes', 'terre', 'déshydratées', 'hule', 'végétale', 'assaisonnement', 'sel', 'maltodextrine', 'maïs', 'diacétate', 'sodium', 'ingrédients', 'laitiers', 'modifiés', 'sucre', 'acide', 'citrique', 'glutamate', 'monosodique', 'acide', 'malique', 'inosinate', 'disodique', 'guanylate', 'disodique', 'arômes', 'naturel', 'artificiel', 'amidon', 'pommes', 'terre', 'farine', 'riz', 'sucre', 'mono', 'diglycérides', 'dextrose', 'lécithine', 'soya', 'acide', 'citrique', 'contiens', 'ingrédients', 'lait', 'soya.', 'sansgluten'])\n",
      " list(['maïs', 'huile', 'végétale', 'sel', 'hydroxyde', 'calciijm', 'sansgluten', 'grains', 'entiers', 'portion'])\n",
      " list(['avoine', 'entière', 'sansgluten', 'sucre', 'sucre', 'doré', \"d'avoine\", 'sansgluten', 'amidon', 'maïs', 'miel', 'sel', 'sirop', 'doré', 'carbonate', 'calcium', 'huile', 'colza', 'riche', 'gras', 'monoinsaturés', 'phosphate', 'trisodique', 'monoglycérides', 'arôme', 'naturel', \"d'amande\", 'vitamines', 'minéraux', 'fer', 'niacinamide', 'niacine', 'pantothénate', 'calcium', 'chlorhydrate', 'pyridoxine', 'vitamine', 'acide', 'folique', 'tocophérols', 'conserver', 'fraîcheur'])\n",
      " list(['avoine', 'entière', 'sansgluten', 'sucre', 'sucre', 'doré', \"d'avoine\", 'sansgluten', 'amidon', 'maïs', 'miel', 'sel', 'sirop', 'doré', 'carbonate', 'calcium', 'huile', 'canola', 'riche', 'gras', 'monoinsaturés', 'phosphate', 'trisodique', 'monoglycérides', 'arôme', 'naturel', \"d'amande\", 'vitamines', 'minéraux', 'fer', 'niacinamide', 'niacine', 'pantothénate', 'calcium', 'chlorhydrate', 'pyridoxine', 'vitamine', 'acide', 'folique', 'tocophérols', 'conserver', 'fraîcheur'])\n",
      " list(['farine', 'sansgluten', 'fécule', 'maïs', 'farine', 'riz', 'farine', 'soja', 'amidon', 'riz', 'raisins', 'smyrne', 'macérés', \"l'orange\", 'raisins', 'smyrne', 'jus', \"d'orange\", 'concentré', 'oeufs', 'pasteurisés', 'eau', 'sucre', 'beurre', 'lait', 'poudre', 'lever', 'e450', 'e501', 'fibre', 'betterave', 'sucrière', 'stabilisant', 'gomme', 'xanthane', 'jus', 'raisin', 'blanc', 'concentré'])\n",
      " list(['farine', 'sansgluten', 'farine', 'riz', 'farine', 'tapioca', 'fécule', 'pomme', 'terre', 'fécule', 'riz', 'farine', 'maïs', 'fécule', 'maïs', 'farine', 'riz', 'fermenté', 'mélange', 'graines', 'graines', 'millet', 'graines', 'lin', 'brun', 'graines', 'lin', 'graines', 'tournesol', 'levure', 'levure', 'levure', 'enrichie', 'vitamine', 'écorce', 'psyllium', 'blanc', \"d'œuf\", 'humectant', 'glycérol', 'sucre', 'roux', 'sel', 'stabilisants', 'gomme', 'xanthane', 'fibres', 'pomme', 'terre', 'carbonate', 'calcium', 'colorant', 'caramel', 'ordinaire', 'huile', 'palme', 'huile', 'colza', 'émulsifiant', 'mono', 'diglycérides', \"d'acides\", 'gras'])\n",
      " list(['protéine', 'contenue', 'blé', 'seigle', \"l'orne\", 'glui', 'pon', 'dont', 'nent', 'chaque', 'journée', 'faites', 'plais', 'ravec', 'recette', 'moelleuse', 'gourmande', 'pain', 'mie', 'nature', 'nouveau', 'look', 'pain', 'mie', 'mie', 'farine', 'soja', 'sansgluten', 'san', 'ctose', 'adapté', 'personnes', 'intolérantes', 'allergo', 'sucre', 'prjent', 'lait', 'daitiers', 'assimilé', 'grâce', 'ertaines', 'personnes', 'aciase', 'lactose', 'iors', 'prt', 'digestif', 'gluten', 'lactose', 'atlergo', 'prisma', 'ingrédiens', 'eau', 'amidon', 'maïs', 'amidon', 'modifié', 'pomme', 'terre', 'farine', 'soja', 'amidon', 'modifié', 'tapioca', 'huile', 'tournesol', 'oléique', 'levure', 'boulanger', 'sirop', 'glucose', 'épaissis', 'sants', 'hydroxypropylméthylcellulose', 'gomme', 'xanthane', 'gomme', 'guar', 'sucre', 'sel', 'conservateur', 'propionate', 'calcium', 'arôme', 'naturel', 'émulsifiant', 'stéaroyl2lactylate', 'sodium', 'fabriqué', 'atelier', 'utilise', 'fruits', 'coque', 'eufs'])\n",
      " list(['avoine', 'sansgluten', 'huile', 'canola', 'sucre', 'canne', 'isolat', 'protéine', 'soja', 'chocolat', 'noir', 'misucré', 'sucre', 'liqueur', 'chocolat', 'beurre', 'cacao', 'lécithine', 'soja', 'extrait', 'vanille', 'eau', 'gomme', 'arabique', 'pâte', 'raisins', 'secs', 'poudre', 'cacao', 'farine', \"d'avoine\", 'sansgluten', 'miel', 'millet', 'mélasse', 'sarrasin', 'amarante', 'quinoa', 'cannelle', 'extrait', 'vanille', 'arôme', 'naturel', 'sel', 'mer', 'tocophérols', 'contient', 'soja', 'peut', 'contenir', 'arachides', 'noix', 'graines', 'sésame', 'sansgluten', 'sans', 'ingrédients', 'issus', 'génie', 'génétique'])\n",
      " list(['farine', 'avoine', 'sansgluten', 'concentré', 'protéines', 'lactosérum', 'lait', 'agent', 'charge', 'maltodextrine', 'concentré', 'protéines', 'lait', 'lait', 'poudre', 'huile', 'mct', 'lait', 'arômes', 'chocolat', 'cacao', 'édulcorant', 'sucralose', 'oxyde', 'magnésium', 'oxyde', 'zinc', 'extrait', 'poivre', 'noir', 'pyridoxine', 'hcl', 'pipérine', 'complexe', 'enzymatique', 'digezyme®', 'amylase', 'protéase', 'cellulase', 'lactase', 'lipase', 'méthylcobalamine'])\n",
      " list(['boisson', 'soja', 'enrichie', 'eau', 'feves', 'soja', 'décortiquees', 'phosphate', 'tricalcique', 'vitamines', 'riboflavine', 'b12', 'sucre', 'épais', 'sissants', 'amidon', 'modifié', 'tapioca', 'pectine', 'carraghénanes', 'sauce', 'ramel', 'sucre', 'eau', 'sucre', 'canne', 'roux', 'caramélisé', 'maltodextrine', 'arómes', 'sel', 'marin', 'arôme', 'naturel', 'contient', 'soja', 'sans', 'produits', 'laitiers', 'sansgluten', 'sans', 'blé', 'arachides', 'use', \"'best\", 'date', 'see', 'top', 'pack', 'packed', 'protective', 'atmosphere', 'varied', 'balanced', 'diet', 'healthy', 'lifestyle', 'recommended', 'good', 'health', 'délicieux', 'dessert', 'soja', 'caramel', 'source', 'calcium', 'source', 'riboflavine', 'source', 'vitamine', 'b12'])\n",
      " list(['eau', 'sucre', 'concentré', 'tomate', 'vinaigre', 'amidon', 'épicé', 'épices', 'amidon', 'modifié', 'maïs', 'poudre', 'betterave', 'rouge', 'malt', \"d'orge\", 'sansgluten', 'épaississant', 'gomme', 'guar', 'sel', 'conservateur', 'sorbate', 'potassium', 'acidifiant', 'acide', 'lactique'])\n",
      " list(['avoine', 'sansgluten', 'chocolat', 'lait', 'sucre', 'beurre', 'cacao', 'lait', 'entier', 'pâte', 'cacao', 'émulsifiant', 'lécithine', 'soja', 'arômes', 'naturels', 'farine', \"d'avoine\", 'sansgluten', 'sucre', 'huiles', 'végétales', 'palme', 'sirop', 'betterave', 'sucre', 'sirop', 'sucre', 'partiellement', 'inversé', 'agents', 'levants', 'hydrogénocarbonate', 'sodium', 'sel', 'peut', 'contenir', 'fruits', 'coque'])\n",
      " list(['yellow', 'corn', 'sunflower', 'oil', 'cane', 'sugar', 'sea', 'salt', 'crédients', 'marmite', 'doux', 'sale', 'jaune', 'huile', 'tournesol', 'sucre', 'canne', 'sel', 'salt', 'ingredients', 'yellow', 'corn', 'sunflower', 'oil', 'sea', 'grédients', 'sel', 'mer', 'jaune', 'huile', 'tournesolsel', 'mer', 'ite', 'cheddar', 'ingredients', 'yellow', 'corn', 'sunflower', 'gil', 'whey', 'powder', 'maltodextrin', 'cheddar', 'ider', 'milk', 'salt', 'bacterial', 'culture', 'microbial', 'izyme', 'canola', 'oil', 'salt', 'citric', 'acid', 'lactic', 'acid', 'ntains', 'milk', 'gredients', 'cheddar', 'blanc', 'jaune', 'huile', 'tournesol', 'lactoserum', 'maltodextrine', 'bleu', 'poudre', 'lait', 'sel', 'culture', 'bacterienne', 'enzyme', 'microbien', 'huile', 'canola', 'sel', 'lactique', 'ontient', 'lait', 'brands', 'industrial', 'place', 'middletown', 'usa', '©2017', 'bfy', 'brands', 'rights', 'reserved', '/tor', 'tacility', 'process', 'peanuts', 'tree', 'nuts', 'made', 'facility', 'processes', 'milk', 'ingredients', 'vans', 'installations', 'traitent', \"d'arachides\", 'noix', 'fait', 'installations', 'traitent', 'ingredlents', 'made', 'fabriqué', 'sweet', 'salty', 'kettle', 'corn', 'never', 'fried', 'jamais', 'frit', 'certifie', 'certified', 'non', 'gmo', 'project', 'verified', 'vérifié', 'nongmoproject', 'org', 'projetsans0gm', 'org', 'projet', 'sans', 'ogm', 'seulement', 'ingredient', 'marmite', 'dounsale', 'glutenfree', 'sansgluten', 'sea', 'salt', 'never', 'fried', 'sel', 'mer', 'ammuo', 'seulements', 'icrédients', 'certifie', 'certified', 'non', 'msans', 'projet'])\n",
      " list(['avoine', 'sansgluten', 'graines', 'lin', 'graines', 'citrouille', 'noix', 'coco', 'amandes', 'noix', 'grenoble', 'graines', 'chia'])\n",
      " list(['dattes', 'fraîches', 'naturelles', 'sans', 'gmo', 'sans', 'sucre', 'ajoutée', 'sans', 'sulfites', 'sansgluten', 'sans', 'trace', 'noix'])\n",
      " list(['pommes', 'terre', 'frites', 'goût', 'truffe', \"d'ete\", 'tuber', 'aestivum', 'vitt', 'pommes', 'terre', 'huile', 'tournesol', 'huile', \"d'olive\", 'truffe', \"d'été\", 'tuber', 'aestivum', 'vitt', 'liophilisée', 'équivalent', 'truffe', 'fraîche', 'sel', 'arôme', 'sansgluten'])\n",
      " list(['pommes', 'terre', 'huile', 'tournesol', 'huile', \"d'olive\", 'fruffe', \"d'été\", 'tuber', 'aestivum', 'vit', 'liophilisée', 'équivalent', 'tuffe', 'fraîche', 'sel', 'arôme', 'sansgluten', 'chips', 'met', 'truffel', 'aardappelen', 'gevriesdroogde', 'zomefruffel', 'tuber', 'aestivum', 'vitt', 'hetelfde', 'verse', 'truffe', 'zout', 'glutenvrij', 'chips', 'med', 'tryffe', 'ingredienser', 'potatis', 'solrosolja', 'olivolja', 'frystorkad', 'sommarty', 'fiel', 'tuber', 'aesüvum', 'vitt', 'motsvarar', 'fârsk', 'mel', 'salt', 'aromer', 'glutenfri', 'potetchips', 'med', 'troffe', 'potet', 'sommer', 'traffel', 'tuber', 'aestivum', 'vitt', 'tilsvarer', 'med', 'fersk', 'troffel', 'salt', 'aromaa', 'gluten', 'bramb', 'jrw', 'lanüem', 'lanp', 'letni', 'tuber', 'aestivum', 'witt', 'odpovidâ', 'eerstvému', 'lanfil', 'sùl', 'aromat', 'med', 'troffel', 'tuber', 'sait', 'gluten', 'fri'])\n",
      " list(['farine', 'sorgho', 'poudre', 'carotte', 'violette', 'eau', 'issu', \"l'agriculture\", 'biologique', 'certifié', 'sansgluten', 'sans', 'ogm'])\n",
      " list(['oeuf', 'entier', 'pasteurisé', 'amidon', 'blé', 'sansgluten', 'sucre', 'margarine', 'végétale', 'graisse', 'palme', 'eau', 'huile', 'colza', 'émulsifiants', 'mono', 'diglycérides', \"d'acides\", 'gras', 'lécithine', 'tournesol', 'sel', 'acidifiant', 'acide', 'citrique', 'arôme', 'naturel', 'colorant', 'bêta', 'carotène', 'farine', 'lupin', 'lait', 'écrémé', 'poudre', 'poudre', 'lactosérum', 'doux', 'lait', 'dextrose', 'sel', 'arôme', 'naturel', 'émulsifiant', 'lécithine', 'tournesol'])\n",
      " list(['yaourt', 'lait', 'écrémé', 'crème', 'poudre', 'lait', 'écrémé', 'ferments', 'lactiques', 'lait', 'sucre', 'eau', 'jusde', 'citron', 'citron', 'amidon', 'jus', 'potiron', 'concentré', 'minéraux', 'lait', 'epaississants', 'carraghénanes', 'gomme', 'guar', 'arôme', 'naturel', 'citron', 'autres', 'arômes', 'naturels', 'lait', \"d'origine\", 'france', 'sansgluten', 'ingrédients', \"d'origine\", 'naturelle'])\n",
      " list(['lait', 'écrémé', 'réhydraté', 'sucre', 'beurre', 'cacao', 'amandes', 'huile', 'coco', 'lait', 'poudre', 'écrémé', 'sirop', 'glucose', 'beurre', 'concentré', 'sirop', 'glucosefructose', 'lactose', 'protéines', 'lait', 'pâte', 'cacao¹', 'émulsifiants', 'e442', 'e476', 'e471', 'gousses', 'vanille', 'épuisées', 'broyées', 'stabilisants', 'e407', 'e410', 'e412', 'arôme', 'naturel', 'vanille¹', 'dont', 'lait', 'arôme', 'colorant', 'e160a', 'peut', 'contenir', 'soja', 'autres', 'fruits', 'coque', 'sansgluten', \"'vérifié\", 'rainforest', 'alliance', 'ra.org', 'allergèn', 'lait', 'fruits', 'coque', 'lait', 'amandes', 'beurre', 'lait', 'traces', 'ennutsenpeanutsensoybeans'])\n",
      " list(['cet', 'emb', 'crime', 'glacie', 'chocolot', 'noir', 'sauce', 'oux', 'myrilles', 'pays', 'nordiques', 'aremetisie', 'enrobin', 'noir', 'morceaux', 'feves', 'cocoo', 'grillées', 'morceaux', 'myrtilles', 'pays', 'nordiques', 'ingridients', 'chocolat', 'noir', 'sucre', 'pite', 'cocon', 'beure', 'caceo', 'matière', 'grasse', 'lait', 'émulsiliants', 'echines', 'soja', 'rome', 'nuturel', 'vanille', 'lait', 'érémé', 'réhydraté', 'crème', 'lait', 'sirap', 'glucose', 'suite', 'lait', 'imé', 'noure', 'myrille', 'nordique', 'base', 'concentré', 'morcoaux', 'feves', 'cocoo', 'grillées', 'sirap', 'glucose', 'fructose', 'cacno', 'muigre', 'morceaux', 'deshydrates', 'myrille', 'nordique', 'eau', 'émulsifiant', 'mone', 'diglycérides', \"d'agides\", 'gras', 'quot', 'quot', 'stabilisonts', 'aime', 'groines', 'caroube', 'gomme', 'guar', 'amidon', 'modifié', 'acidifiant', 'acide', 'citrique', 'comecteur', \"d'acidiné\", 'cihrates', 'sodium', 'arbme', 'notuel', 'jus', 'concentré', 'carotte', 'noire', 'sel', 'extrait', 'vanille', 'peut', 'contenir', 'arachides', 'fruits', 'coque', 'oeufs', \"d'origine\", 'végételle', 'sansgluten', 'conserver', 'è18', '°c.ne', 'recongeler', 'produit', 'décongelé', 'let/'])\n",
      " list(['flocons', \"d'avoine\", 'sansgluten', 'graines', 'sarrasin', 'décortiquées', 'noix', 'coco', 'toastées', 'dattes', 'graines', 'tournesol', 'décortiquées', 'amandes', 'fleur', 'sel', 'guérande', 'ingrédients', 'issus', 'agriculture', 'biologique'])\n",
      " list(['lait', 'écrémé', 'base', 'poudre', 'lait', 'lait', 'écrémé', 'sucre', 'crème', 'poudre', 'lait', 'écrémé', 'arômes', 'naturels', 'arôme', 'naturel', 'vanille', 'autres', 'arômes', 'naturels', 'ferments', 'lactiques', 'sansgluten'])\n",
      " list(['flocons', \"d'avoine\", 'sansgluten', 'lin', 'jaune', 'farine', 'sarrasin', 'mélange', \"d'huiles\", 'poudre', 'tournesol', 'oléique', 'colza', 'lin', 'support', 'sirop', 'manioc', 'non', 'raffiné', 'fibres', \"d'acacia\", 'antioxydant', 'extrait', 'naturel', 'romarin', 'protéines', 'lait', 'origine', 'suisse', 'sirop', 'manioc', 'non', 'raffiné', 'cacao', 'agave', 'lait', 'coco', 'protéines', 'pois', 'maca', 'sel', 'guérande', 'baies', \"d'açaï\", 'lithothamne', 'acérola', 'moringa', 'carottes', 'roucou', 'riz', 'feuilles', 'curry', 'basilic', 'citrons', 'épinards', 'persil', 'amla', 'thé', 'vert', 'shitake', 'lichens', 'spiruline', 'antioxydant', 'extrait', 'naturel', 'romarin'])\n",
      " list(['flocons', \"d'avoine\", 'sansgluten', 'lin', 'jaune', 'farine', 'sarrasin', 'mélange', \"d'huiles\", 'poudre', 'tournesol', 'oléique', 'colza', 'lin', 'support', 'sirop', 'manioc', 'non', 'raffiné', 'fibres', \"d'acacia\", 'antioxydant', 'extrait', 'naturel', 'romarin', 'protéines', 'lait', 'origine', 'suisse', 'sirop', 'manioc', 'non', 'raffiné', 'fruits', 'rouges', 'framboise', 'cassis', 'fraise', 'agave', 'lait', 'coco', 'betterave', 'protéines', 'pois', 'maca', 'sel', 'guérande', 'arôme', 'naturel', 'baies', \"d'açaï\", 'acide', 'citrique', 'lithothamne', 'acérola', 'moringa', 'carottes', 'roucou', 'riz', 'feuilles', 'curry', 'basilic', 'citrons', 'épinards', 'persil', 'amla', 'thé', 'vert', 'shitake', 'lichens', 'spiruline', 'antioxydant', 'extrait', 'naturel', 'romarin'])\n",
      " list(['flocons', \"d'avoine\", 'sansgluten', 'lin', 'jaune', 'farine', 'sarrasin', 'mélange', \"d'huiles\", 'poudre', 'tournesol', 'oléique', 'colza', 'lin', 'support', 'sirop', 'manioc', 'non', 'raffiné', 'fibres', \"d'acacia\", 'antioxydant', 'extrait', 'naturel', 'romarin', 'protéines', 'lait', 'origine', 'suisse', 'sirop', 'manioc', 'non', 'raffiné', 'fruits', 'rouges', 'framboise', 'cassis', 'fraise', 'agave', 'lait', 'coco', 'betterave', 'protéines', 'pois', 'maca', 'sel', 'guérande', 'arôme', 'naturel', 'baies', \"d'açaï\", 'acide', 'citrique', 'lithothamne', 'acérola', 'moringa', 'carottes', 'roucou', 'riz', 'feuilles', 'curry', 'basilic', 'citrons', 'épinards', 'persil', 'amla', 'thé', 'vert', 'shitake', 'lichens', 'spiruline', 'antioxydant', 'extrait', 'naturel', 'romarin'])\n",
      " list(['flocons', \"d'avoine\", 'sansgluten', 'lin', 'jaune', 'farine', 'sarrasin', 'mélange', \"d'huiles\", 'poudre', 'tournesol', 'oléique', 'colza', 'lin', 'support', 'sirop', 'manioc', 'non', 'raffiné', 'fibres', \"d'acacia\", 'antioxydant', 'extrait', 'naturel', 'romarin', 'protéines', 'lait', 'origine', 'suisse', 'sirop', 'manioc', 'non', 'raffiné', 'cacao', 'agave', 'lait', 'coco', 'protéines', 'pois', 'maca', 'sel', 'guérande', 'baies', \"d'açaï\", 'lithothamne', 'acérola', 'moringa', 'carottes', 'roucou', 'riz', 'feuilles', 'curry', 'basilic', 'citrons', 'épinards', 'persil', 'amla', 'thé', 'vert', 'shitake', 'lichens', 'spiruline', 'antioxydant', 'extrait', 'naturel', 'romarin'])\n",
      " list(['flocons', \"d'avoine\", 'sansgluten', 'lin', 'jaune', 'farine', 'sarrasin', 'protéines', 'lait', 'origine', 'suisse', 'sirop', 'manioc', 'non', 'raffiné', 'mélange', \"d'huiles\", 'poudre', 'tournesol', 'oléique', 'colza', 'lin', 'support', 'sirop', 'manioc', 'non', 'raffiné', 'fibres', \"d'acacia\", 'antioxydant', 'extrait', 'naturel', 'romarin', 'agave', 'amandes', 'complètes', 'lait', 'coco', 'protéines', 'pois', 'maca', 'sel', 'guérande', 'arôme', 'naturel', 'baies', \"d'açaï\", 'lithothamne', 'acérola', 'moringa', 'carottes', 'roucou', 'riz', 'feuilles', 'curry', 'basilic', 'citrons', 'épinards', 'persil', 'amla', 'thé', 'vert', 'shitake', 'lichens', 'spiruline', 'antioxydant', 'extrait', 'naturel', 'romarin'])\n",
      " list(['flocons', \"d'avoine\", 'sansgluten', 'lin', 'jaune', 'farine', 'sarrasin', 'protéines', 'lait', 'origine', 'suisse', 'sirop', 'manioc', 'non', 'raffiné', 'mélange', \"d'huiles\", 'poudre', 'tournesol', 'oléique', 'colza', 'lin', 'support', 'sirop', 'manioc', 'non', 'raffiné', 'fibres', \"d'acacia\", 'antioxydant', 'extrait', 'naturel', 'romarin', 'agave', 'amandes', 'complètes', 'lait', 'coco', 'protéines', 'pois', 'maca', 'sel', 'guérande', 'arôme', 'naturel', 'baies', \"d'açaï\", 'lithothamne', 'acérola', 'moringa', 'carottes', 'roucou', 'riz', 'feuilles', 'curry', 'basilic', 'citrons', 'épinards', 'persil', 'amla', 'thé', 'vert', 'shitake', 'lichens', 'spiruline', 'antioxydant', 'extrait', 'naturel', 'romarin'])\n",
      " list(['protéines', 'pois', 'farine', 'tournesol', 'déshuilée', 'farine', 'avoine', 'sansgluten', 'tomate', 'poudre', 'lin', 'jaune', 'farine', 'riz', 'saveur', 'céleri', 'minéraux', 'matière', 'grasse', 'végétale', 'huile', 'tournesol', 'maltodextrine', 'carotte', 'morceaux', 'oignon', 'grillé', 'poudre', 'sel', 'fibres', 'acacia', 'maltodextrine', 'extrait', 'thé', 'vert', 'colorant', 'apocarotenal', 'vitamines', 'b12', 'poivre', 'extrait', 'naturel', 'romarin'])\n",
      " list(['protéines', 'pois', 'tomate', 'poudre', 'farine', 'tournesol', 'déshuilée', 'farine', 'avoine', 'sansgluten', 'saveurs', 'céleri', 'lin', 'jaune', 'farine', 'riz', 'minéraux', 'matière', 'grasse', 'végétale', 'huile', 'tournesol', 'maltodextrine', 'oignon', 'grillé', 'poudre', 'sel', 'fibres', 'acacia', 'ail', 'poudre', 'maltodextrine', 'colorant', 'apocarotenal', 'extrait', 'thé', 'vert', 'herbes', 'provence', 'vitamines', 'b12', 'poivre', 'extrait', 'naturel', 'romarin', 'piment', 'cayenne'])\n",
      " list(['protéines', 'pois', 'légumes', 'carotte', 'morceaux', 'poireau', 'morceaux', 'tomate', 'poudre', 'oignon', 'grillé', 'poudre', 'épinard', 'farine', 'tournesol', 'déshuilée', 'farine', 'avoine', 'sansgluten', 'saveurs', 'céleri', 'lin', 'jaune', 'farine', 'riz', 'minéraux', 'matière', 'grasse', 'végétale', 'huile', 'tournesol', 'maltodextrine', 'fibres', 'acacia', 'sel', 'maltodextrine', 'extrait', 'thé', 'vert', 'vitamines', 'b12', 'poivre', 'extrait', 'naturel', 'romarin'])\n",
      " list(['eau', 'maltodextrines', 'protéines', 'lait', 'jus', 'concentrés', 'fruits', 'déshydratés', 'citron', 'orange', 'grenade', 'dextrose', 'fructose', 'huiles', 'colza', 'protéines', 'riz', 'fibres', 'blé', 'sansgluten', 'arômes', 'oligofructose', 'epaississants', 'gomme', 'xanthane', 'farine', 'graine', 'guar', 'fécule', 'pomme', 'terre', 'fibres', 'chicorée', 'huile', 'pépins', 'raisin', 'extraits', 'levures', 'enrichies', 'vitamines', 'minéraux', 'extraits', 'levures', 'vitamines', 'minéraux', 'zinc', 'fer', 'sélénium', 'sel', 'extrait', 'café', 'vert', 'jus', 'concentré', \"d'acérola\", 'déshydraté', 'enrichi', 'vitamine', 'extrait', 'eau', 'mer', 'magnésium', 'marin', 'minéraux', 'lait', 'extrait', \"d'algue\", 'lithothamnium', 'calcareum', 'emulsifiant', 'lécithine', 'tournesol', 'vitaminee', 'colorant', \"d'origine\", 'naturelle', 'carotène', 'edulcorant', 'sucralose', 'extrait', 'tomate', 'extrait', 'tagète'])\n",
      " list(['ean', 'protéines', 'lait', 'huiles', 'colza', 'protéines', 'riz', 'poudres', 'fruits', 'déshydratés', 'fraise', 'framboise', 'fructose', 'oligofructose', 'poudre', 'yaourt', 'maigre', 'lait', 'huile', 'pépins', 'raisins', 'fibres', 'blé', 'sansgluten', 'glucomannane', 'arômes', 'epaississants', 'gomme', 'xanthane', 'farine', 'graines', 'guar', 'extraits', 'levures', 'enrichies', 'vitamines', 'minéraux', 'extraits', 'levures', 'vitamin', 'minéraux', 'fer', 'cuivre', 'manganèse', 'iode', 'sélénium', 'composés', 'minéraux', 'lait', 'colorant', 'origine', 'natur', 'poudre', 'betterave', 'extrait', \"d'algues\", 'lithothamnium', 'calcareum', 'extrait', 'eau', 'mer', 'magnésium', 'marin', 'extrait', 'café', 'vert', 'jus', 'concentré', \"d'acérola\", 'déshydraté', 'enrichi', 'vitamine', 'ferments', 'lactiques', 'lactobacillus', 'paracasei', 'bifidobacterium', 'lactis', 'edulcorant', 'sucralose', 'ßcarotène', 'extrait', 'tomate', 'vitamine', 'extrait', 'tagète'])\n",
      " list(['sirop', 'riz', 'non', 'raffiné', 'flocons', \"d'avoine\", 'sansgluten', 'amandes', 'noix', 'cajou', 'carottes', 'patates', 'douces', 'protéines', 'pois', 'graines', 'lin', 'graines', 'courge', 'sarrasin', 'grillé', \"d'avoine\", 'oignons', 'agave', 'fibres', \"d'acacia\", 'lithothamne', 'sel', 'mer', 'acérola', 'moringa', 'roucou', 'riz', 'feuilles', 'curry', 'basilic', 'citrons', 'épinards', 'persil', 'amla', 'thé', 'vert', 'shitake', 'lichens'])\n",
      " list(['banane', 'flocons', \"d'avoine\", 'sansgluten', 'dattes', 'medjool', 'graines', 'chanvre', 'cacao', 'pur', 'poudre', 'huile', 'coco', 'éclats', 'fèves', 'cacao', 'pur', 'café', 'instantané', 'guarana', 'poudre', 'maca', 'poudre', 'sel', 'rose', \"l'himalaya\"])\n",
      " list(['mélange', 'protéines', 'protéine', 'soja', 'émulsifiant', 'lécithine', 'soja', 'protéines', 'lait', 'protéine', 'soja', 'texturisée', 'protéine', 'soja', 'amidon', 'carbonate', 'calcium', 'enrobage', 'chocolat', 'blanc', 'polyol', 'édulcorant', 'maltitol', 'beurre', 'cacao', 'poudre', 'lait', 'entier', 'émulsifiant', 'lécithine', 'soja', 'arôme', 'naturel', 'vanille', 'sirop', 'glucose', 'pâte', 'fruit', 'pâte', 'pomme', 'pâte', 'raisin', 'noix', 'soja', 'oligofructose', 'extrait', 'racine', 'chicorée', 'humectant', 'glycérine', 'granulé', 'raisin', 'raisin', 'sucre', 'sirop', 'fructose', 'farine', 'riz', 'huile', 'palme', 'rspo', 'agent', 'gélifiant', 'pectine', 'arôme', 'naturel', 'correcteur', 'acidité', 'acide', 'citrique', 'correcteurs', 'acidité', 'lactate', 'potassium', 'oxyde', 'magnésium', 'gluconate', 'potassium', 'acide', 'malique', 'flocons', 'avoine', 'sansgluten', 'stabilisants', 'phosphate', 'tricalcique', 'phosphate', 'dipotassique', 'granule', 'pomme', 'purée', 'pommes', 'jus', 'pommes', 'sirop', 'fructose', 'sucre', 'farine', 'riz', 'huile', 'palme', 'rspo', 'agent', 'gélifiant', 'pectine', 'correcteurs', 'acidité', 'acide', 'citrique', 'arôme', 'naturel', 'huile', 'soja', 'arômes', 'sirop', 'fructose', 'gomme', 'arabique', 'émulsifiants', 'mono', 'diglycérides', 'lécithine', 'soja', 'mélange', 'vitamines', 'minéraux', 'palmitate', 'rétinol', 'vit', 'cholécalciférol', 'vit', 'acétate', 'dalphatocophérol', 'vit', 'dbiotine', 'vit', 'acide', 'ptéroylmonoglutamique', 'vit', 'nicotinamide', 'vit', 'dpantothénate', 'calcium', 'vit', 'mononitrate', 'thiamine', 'vit', 'cyanocobalamine', 'vit', 'b12', 'riboflavine', 'vit', 'chlorhydrate', 'pyridoxine', 'vit', 'acide', 'ascorbique', 'vit', 'phytoménadione', 'vit', 'chlorure', 'chrome', 'gluconate', 'cuivre', 'fluorure', 'sodium', 'iodure', 'potassium', 'fumarate', 'ferreux', 'sulfate', 'manganèse', 'molybdate', 'sodium', 'sélénite', 'sodium', 'oxyde', 'zinc', 'sel', 'antioxydants', 'tocopherols'])\n",
      " list(['flocons', \"d'avoine\", 'sansgluten', 'lin', 'jaune', 'farine', 'sarrasin', 'protéines', 'lait', 'origine', 'suisse', 'sirop', 'manioc', 'non', 'raffiné', 'mélange', \"d'huiles\", 'poudre', 'tournesol', 'oléique', 'colza', 'lin', 'support', 'sirop', 'manioc', 'non', 'raffiné', 'fibres', \"d'acacia\", 'antioxydant', 'extrait', 'naturel', 'romarin', 'agave', 'amandes', 'complètes', 'lait', 'coco', 'protéines', 'pois', 'maca', 'sel', 'guérande', 'arôme', 'naturel', 'baies', \"d'açaï\", 'lithothamne', 'acérola', 'moringa', 'carottes', 'roucou', 'riz', 'feuilles', 'curry', 'basilic', 'citrons', 'épinards', 'persil', 'amla', 'thé', 'vert', 'shitake', 'lichens', 'spiruline', 'antioxydant', 'extrait', 'naturel', 'romarin', 'ingrédients', 'issus', \"l'agriculture\", 'biologique'])\n",
      " list(['sucre', 'beurre', 'cacao', 'poudre', 'lait', 'entier', 'pâte', 'cacao', 'émulsifiant', 'lécithine', 'soja', 'e322', 'arôme', 'naturel', 'vanille', 'peut', 'contenir', 'traces', 'fruits', 'coques', 'allergènes', 'présents', 'lait', 'soja', 'sans', 'alcool', 'sansgluten', 'sans', 'huile', 'palme'])\n",
      " list(['pâte', 'pistaches', 'grillées', 'sucre', 'canne', 'huile', 'tournesol', 'écrémé', 'poudre', 'lait', 'farine', \"d'avoine\", 'sansgluten', 'inuline', \"d'agave\", 'lécithine', 'tournesol'])\n",
      " list(['sucre', 'huile', 'palme', 'noisettes', 'lait', 'écrémé', 'poudre', 'cacao', 'maigre', 'émulsifiants', 'lécithines', 'soja', 'vanilline', 'sansgluten'])\n",
      " list(['sucre', 'huile', 'palme', 'noisettes', 'lait', 'écrémé', 'poudre', 'cacao', 'maigre', 'émulsifiants', 'lécithines', 'soja', 'vanilline', 'sansgluten'])\n",
      " list(['sucre', 'huile', 'palme', 'noisettes', 'lait', 'écrémé', 'poudre', 'cacao', 'maigre', 'émulsifiants', 'lécithines', 'soja', 'vanilline', 'sansgluten'])\n",
      " list(['sucre', 'huile', 'palme', 'noisettes', 'cacao', 'maigre', 'lait', 'écrémé', 'poudre', 'lactoserum', 'poudre', 'émulsifiants', 'lécithines', 'soja', 'vanilline', 'sansgluten'])\n",
      " list(['sucre', 'huile', 'palme', 'noisettes', 'lait', 'écrémé', 'poudre', 'cacao', 'maigre', 'émulsifiants', 'lécithines', 'soja', 'vanilline', 'sansgluten'])\n",
      " list(['pomme', 'origine', 'france', 'pêche', 'fruit', 'passion', 'graines', 'lin', 'chia', 'farines', 'complètes', 'avoine', 'sansgluten', 'riz', 'arômes', 'naturels', 'jus', 'citron', 'concentré', 'antioxydant', 'acide', 'ascorbique'])\n",
      " list(['lait', 'origine', 'france', 'fermenté', 'fraise', 'sucre', 'fécule', 'manioc', 'épaississant', 'pectine', 'arômes', 'naturels', 'vitamine', 'sansgluten'])\n",
      " list(['lait', 'origine', 'france', 'fermenté', 'sucre', 'fécule', 'manioc', 'épaississant', 'pectine', 'arômes', 'naturels', 'vitamine', 'sansgluten', 'contient', 'lait'])\n",
      " list(['lait', 'origine', 'france', 'fermenté', 'fraise', 'sucre', 'fécule', 'manioc', 'épaississant', 'pectine', 'arômes', 'naturels', 'vitamine', 'sansgluten', 'contient', 'lait'])\n",
      " list(['pomme', 'pêche', 'fruit', 'passion', 'graines', 'lin', 'chia', 'farines', 'complètes', 'avoine', 'sansgluten', 'riz', 'arômes', 'naturels', 'jus', 'citron', 'concentré', 'antioxydant', 'acide', 'ascorbique'])\n",
      " list(['chlorure', 'potassium', 'légumes', 'herbes', 'aromatique', 'mise', 'uvre', 'algue', 'marine', 'kelp', 'légumes', 'herbes', 'aromatiques', 'poireau', 'oignorï', 'poivron', 'livèche', 'raifort', 'thym', 'romarin', 'basilic', 'céleri', 'citron', 'épinard', 'ail', 'issus', \"l'agriculture\", 'biologique', 'sansgluten', 'lactose', 'protéines', 'lactiques', 'bienêtre', 'naturel'])\n",
      " list(['pommes', 'bananes', 'sansgluten', 'ise', 'moyenne', 'eur', 'énergéfqee'])\n",
      " list(['eau', 'cuisson', 'légumes', 'carottes', 'maïs', 'petit', 'pois', 'oignons', 'céleri', 'viande', 'poulet', 'riz', 'pomme', 'terre', 'amidon', 'transformé', 'maïs', 'huiles', 'végétales', 'colza', 'tournesol', 'vitamine', 'sel', 'fécule', 'pommes', 'terre', 'arômes', 'sansgluten'])\n",
      " list(['fruits', 'jus', 'fruits', 'base', 'jus', 'concentrés', 'jus', 'pommes', 'purée', 'pommes', 'purée', 'bananes', 'jus', 'citron', 'eau', 'sucre', 'antioxydant', 'acide', 'ascorbique', 'sansgluten'])\n",
      " list(['blédidej', 'miel', 'ingrédients', 'eau', 'lait', 'écrémé', 'céréales', 'infantiles', 'farine', 'riz', 'miel', 'amidon', 'transformé', 'maïs', 'maltodextrines', 'sucre', 'matières', 'grasses', 'végétales', 'palme', 'coprah', 'soja', 'colza', 'tournesol', 'emulsifiant', 'lécithine', 'soja', 'vitamines', 'maltodextrines', 'matières', 'grasses', 'végétales', 'palme', 'coprah', 'soja', 'colza', 'tournesol', 'protéines', 'lait', 'lactose', 'lait', 'emulsifiant', 'lécithine', 'soja', 'antioxydant', 'extrait', 'riche', 'tocophérols', 'vitamines', 'b12', 'minéraux', 'citrate', 'sodium', 'diphosphate', 'ferrique', 'phosphate', 'calcium', 'sulfates', 'zinc', 'cuivre', 'carbonate', 'calcium', 'bicarbonate', 'sodium', 'iodure', 'potassium', 'blédidej', 'saveur', 'vanille', 'ingrédients', 'eau', 'lait', 'écrémé', 'céréales', 'infantiles', 'farine', 'riz', 'maltodextrines', 'sucre', 'amidon', 'transformé', 'maïs', 'matières', 'grasses', 'végétales', 'palme', 'coprah', 'soja', 'colza', 'tournesol', 'arôme', 'vanilline', 'emulsifiant', 'lécithine', 'soja', 'vitamines', 'maltodextrines', 'matières', 'grasses', 'végétales', 'palme', 'coprah', 'soja', 'colza', 'tournesol', 'lactosérum', 'partiellement', 'déminéralisé', 'lait', 'lactose', 'lait', 'emulsifiant', 'lécithine', 'soja', 'antioxydant', 'extrait', 'riche', 'tocophérols', 'vitamines', 'b12', 'minéraux', 'citrate', 'sodium', 'diphosphate', 'ferrique', 'phosphate', 'calcium', 'sulfates', 'zinc', 'cuivre', 'carbonate', 'calcium', 'bicarbonate', 'sodium', 'iodure', 'potassium', 'sansgluten'])\n",
      " list(['céréales', 'farine', 'riz', 'vitamine', 'sansgluten'])\n",
      " list(['eau', 'lait', 'écrémé', 'céréales', 'infantiles', 'farine', 'riz', 'maltodextrines', 'sucre', 'amidon', 'transformé', 'maïs', 'matières', 'grasses', 'végétales', 'palme', 'coprah', 'soja', 'colza', 'tournesol', 'émulsifiant', 'lécithine', 'soja', 'vitamines', 'maltodextrines', 'matières', 'grasses', 'végétales', 'palme', 'coprah', 'soja', 'colza', 'tournesol', 'lactosérum', 'partiellement', 'déminéralisé', 'lait', 'lactose', 'lait', 'emulsifiant', 'lécithine', 'soja', 'antioxydant', 'extrait', 'riche', 'tocophérols', 'vitamines', 'b12', 'minéraux', 'citrate', 'sodium', 'diphosphate', 'ferrique', 'phosphate', 'calcium', 'sulfates', 'zinc', 'cuivre', 'carbonate', 'calcium', 'bicarbonate', 'sodium', 'iodure', 'potassium', 'sansgluten'])\n",
      " list(['inaréòents', 'pommes', 'coings', 'jus', 'pomme', 'reconstitué', 'base', 'jus', 'concentré', 'vitamine', 'sansgluten', 'vre', 'valeur', 'référence', 'étiquetage'])\n",
      " list(['pommes', 'jus', 'pomme', 'reconstitué', 'base', 'concentré', 'pruneaux', 'vitamine', 'sansgluten', 'valeur', 'référence', \"l'étiquetage\"])\n",
      " list(['potirons', 'cuisson', 'pommés', 'sansgluten'])\n",
      " list(['petits', 'pois', 'eau', 'cuisson', 'sansgluten'])\n",
      " list(['eau', 'cuisson', 'pommes', 'terre', 'poireaux', 'sansgluten'])\n",
      " list(['carottes', 'eau', 'cuisson', 'sansgluten'])\n",
      " list(['ingéditnfs•', 'pommes', 'ings', 'jus', 'pommes', 'reconstitué', 'base', 'jus', 'concentré', 'vitamine', 'sansgluten', 'sans', 'sucres', 'aioutés•'])\n",
      " list(['pommes', 'abricots', 'vitamine', 'sansgluten', 'sans', 'sucres', 'ajoutés'])\n",
      " list(['oreillons', 'pêche', 'pavie', 'eau', 'sucre', 'acidifiant', 'acide', 'citrique', 'sansgluten', 'avant', 'ouverture', 'conserve', 'endroit', 'frais', 'sec'])\n",
      " list(['pêches', 'cubes', 'poires', 'cubes', 'segments', \"d'ananas\", 'raisins', 'bigarreaux', 'dénoyautés', 'e127', 'eau', 'sirop', 'glucosefructose', 'sucre', 'acidifiant', 'acide', 'citrique', 'arôme', 'naturel', 'sansgluten', 'conserve', 'endroit', 'frais', 'sec', 'ouv7ture', 'réfrigérateur', 'contenant', 'adapté', 'comme', 'mtéaorle'])\n",
      " list(['poires', 'cubes', 'pommes', 'cubes', 'eau', 'sucre', 'arôme', 'naturel', 'citron', 'menthe', 'antioxydant', 'acide', 'ascorbique', 'acidifiant', 'acide', 'citrique', 'sansgluten', 'produit', 'préparé', 'grèce', 'comme', 'tous', 'produits', 'catégqrie', 'avant', 'ouverture', 'conserve', 'endroit', 'frais', 'sec', \"l'abri\", 'lumière', 'aprèsouyerture', 'conserve', 'jours'])\n",
      " list(['jambon', 'trais', 'porc', 'bouillon', 'eau', 'couennes', 'porc', 'oignons', 'os/e', 'porc', 'cdrottes', 'sel', 'persil', 'ail', 'clou', 'girofle', 'poivre', 'sel', 'dextrose', 'maïs', 'arômes', 'nature', 'antioxydaqt', 'isoascorbatedisodium', 'conservateur', 'nitrite', 'sodium', 'fabriqué', 'fra', 'sansgluten'])\n",
      " list(['céréales', 'flocons', \"d'avoine\", 'complets', 'riz', 'complet', 'sucre', 'canne', 'huile', 'tournesol', 'tournesol', 'antioxydant', 'extrait', 'romarin', 'pépites', 'chocolat', 'pâte', 'cacao', 'sucre', 'canne', 'beurre', 'cacao', 'émulsifiant', 'lécithine', 'tournesol', 'extrait', 'vanille', 'noix', 'coco', 'râpée', 'sirop', 'riz', 'cacao', 'maigre', 'poudre', 'extrait', 'vanille', 'avoine', 'certifié', 'sansgluten', 'cacao', 'issu', 'commerce', 'equitable'])\n",
      " list(['céréales', 'riz', 'quot', 'complet', 'corn', 'flakes', 'sucre', 'canne', 'sel', 'mer', 'farine', 'sarrasin', 'quot', 'maïs', 'riz', 'morceaux', 'chocolat', 'chocolat', 'noir', 'pâte', 'cacao', 'sucre', 'canne', 'beurre', 'cacao', 'chocolat', 'lait', 'sucre', 'canne', 'beurre', 'cacao', 'lait', 'entier', 'poudre', 'pâte', 'cacao', 'chocolat', 'blanc', 'sucre', 'canne', 'beurre', 'cacao', 'lait', 'entier', 'poudre', 'chocolat', 'poudre', 'sucré', 'canne', 'cacao', 'poudre', 'sucre', 'canne', 'chocolat', 'sucre', 'canne', 'pâte', 'cacao', 'beurre', 'cacao', 'extrait', 'vanille', 'sel', 'mer', 'ingrédients', 'issus', \"l'agriculture\", 'biologique', 'sansgluten', 'peut', 'contenir', 'traces', 'fruits', 'coque'])\n",
      " list(['bonbons', 'acii', 'uiés', 'aciditnnt', 'acide', 'citrique', 'sansgluten', 'convienjv'])\n",
      " list(['flocons', \"d'avoine\", 'sansgluten', 'sucre', 'canne', 'huile', 'tournesol', 'oléique', 'noix', 'coco', 'râpée', 'maltodextrine', 'sirop', 'riz', 'noix', 'cajou', 'billettes', 'riz', 'farine', 'riz', 'noisettes', 'hachées', 'torréfiées', 'amandes', 'effilées', 'grillées', 'sel', 'mer', 'antioxydants', 'esters', \"d'acides\", 'gras', \"l'acide\", 'ascorbique', 'extrait', 'riche', 'tocophérols', 'extraits', 'romarin'])\n",
      " list(['amidon', 'natif', 'pomme', 'terre', 'amidon', 'modifié', 'pomme', 'terre', 'amidon', 'modifié', 'maïs', 'farine', 'maïs', 'farine', 'riz', 'farine', \"d'avoine\", 'sansgluten', 'farine', 'lentilles', 'graisse', 'palme', 'non', 'hydrogénée', 'fibres', 'pomme', 'terre', 'sucre', 'poudres', 'lever', 'carbonates', 'sodium', 'diphosphates', 'phosphates', 'calcium', 'protéines', 'lait', 'fibre', \"d'avoine\", 'graines', 'pavot', 'gaines', 'lin', 'émulsifiant', 'mono', 'diglycérides', \"d'acides\", 'gras', 'sel'])\n",
      " list(['pâtes', 'sansgluten', 'précuites', 'eau', 'farine', 'maïs', 'farine', 'riz', 'émulsifiant', 'mono', 'diglycérides', \"d'acides\", 'gras', 'eau', 'tomates', 'concassées', 'concentré', 'tomate', 'ricotta', 'crème', 'stabilisant', 'carraghénanes', 'oignons', 'carottes', 'amidon', 'modifié', 'huile', 'colza', 'parmesan', 'sel', 'poudre', \"d'oignon\", 'plantes', 'aromatiques', 'huile', \"d'olive\", 'sucre', 'poivre'])\n",
      " list(['farine', 'riz', 'complet', 'amidon', 'sucre', 'fécule', 'pomme', 'terre', 'huile', 'tournesol', 'oléique', 'pépites', 'chocolat', 'noir', 'pâte', 'cacao', 'sucre', 'beurre', 'cacao', 'émulsifiant', 'lécithines', 'soja', 'arôme', 'naturel', 'vanille', 'noisettes', 'torréfiées', 'sirop', 'riz', 'isolat', 'protéines', 'soja', 'émulsifiant', 'lécithines', 'soja', 'fibres', \"d'avoine\", 'sansgluten', 'émulsifiant', 'lécithines', 'colza', 'fibre', 'sarrasin', 'arôme', 'naturel', 'cacao', 'poudres', 'lever', 'carbonates', 'sodium', 'acide', 'citrique'])\n",
      " list(['farine', 'riz', 'complet', 'sucre', 'fécule', 'pomme', 'terre', 'amidon', 'maïs', 'huile', 'tournesol', 'oléique', 'cacao', 'poudre', 'amandes', 'torréfiées', 'sirop', 'riz', 'fibres', \"d'avoine\", 'sansgluten', 'isolat', 'protéines', 'soja', 'émulsifiant', 'lécithines', 'soia', 'émulsifiant', 'lécithines', 'colza', 'poudres', 'lever', 'acide', 'citrique', 'carbonates', 'sodium', 'arôme', 'naturel', \"d'amande\", 'amère'])\n",
      " list(['eau', 'épinards', 'ricotta', 'fromage', 'sans', 'lactose', 'fécule', 'tapioca', 'farine', 'riz', 'fromage', 'pâte', 'midure', 'sans', 'lactose', 'préparation', 'farine', 'petits', 'pois', 'farine', 'petits', 'pois', 'fibres', 'alimentaires', 'base', 'pommes', 'terre', 'petits', 'pois', 'plantago', 'psyllium', 'arômes', 'naturels', 'chapelure', 'sansgluten', 'farine', 'riz', 'sel', 'cuisine', 'émulsifiant', 'e471', 'oignons', 'œuf', 'entier', 'poudre', 'blanc', \"d'œuf\", 'poudre', \"d'oeufs\", \"d'élevage\", 'plein', 'air', 'huile', 'colza', 'sel', 'cuisine', 'émulsifiant', 'e471', 'épaississant', 'gomme', 'guar', 'ail', 'poivre', 'noix', 'muscade'])\n",
      " list(['édients', 'porc', 'paprik', '.5001', 'lactose', '.amidon', 'lait', 'ecr', 'fabilisant', 'e•4521', 'antioxydant', 'e301', 'conservateurs', 'ez250', '—252', 'e235', 'bcyau.haturel', 'porc', 'sansgluten', 'recommandé', 'conte'])\n",
      " list(['amandes', 'melon', 'confit', 'sucre', 'sucre', 'glace', 'sirop', 'sucre', 'inverti', 'sirop', 'glucose', 'blé', 'garanti', 'sansgluten', 'blanc', \"d'oeuf\", 'écorces', \"d'orange\", 'confite', 'correcteur', \"d'acidité\", 'acide', 'citrique', 'e330', 'pain', 'azyme', 'fécule', 'pomme', 'ferre', 'eau', 'jus', 'citron', 'extraif', 'grandmarnier'])\n",
      " list(['sirop', 'riz', 'flocons', \"d'avoine\", 'sansgluten', 'farine', 'riz', 'maïs', 'pépites', 'chocolat', 'pâte', 'cacao', 'sucre', 'beurre', 'cacao', 'émulsifiant', 'lécithines', 'tournesol', 'huile', 'tournesol', 'sirop', 'riz', 'déshydraté', 'cacao', 'maigre', 'poudre', 'sucre', 'farine', 'maïs', 'sel', 'arôme', 'naturel', 'noisette', 'dextrose', 'émulsifiant', 'lécithines', 'tournesol', 'antioxydant', 'extrait', 'riche', 'tocophérols', 'traces', 'éventuelles', 'lait', 'fruits', 'coque', 'arachides'])\n",
      " list(['sirop', 'glucosefructose', 'amandes', 'flocons', \"d'avoine\", 'sansgluten', 'raisins', 'graines', 'courge', 'maïs', 'riz', 'soufflé', 'huile', 'tournesol', 'miel', 'sirop', 'glucose', 'sel', 'émulsifiant', 'lécithines', 'tournesol', 'antioxydant', 'extrait', 'riche', 'tocophérols', 'agent', \"d'enrobage\", 'huile', 'coton', 'traces', 'lait', 'arachides', 'autres', 'fruits', 'coque'])\n",
      " list(['farine', 'avoine', 'sansgluten', 'farine', 'riz', 'semoule', 'riz', 'amidon', 'pomme', 'terre', 'amidon', 'maïs', 'huile', 'tournesol', 'flocons', 'avoine', 'sansgluten', 'levure', 'sucre', 'fibres', 'betterave', 'sirop', 'sucre', 'inverti', 'poudre', 'lever', 'carbonates', 'sodium', 'épaississants', 'carboxymethyl', 'cellulose', 'sodique', 'gomme', 'guar', 'sel', 'émulsifiant', 'mono', 'glycérides', 'acides', 'gras'])\n",
      " list(['amandes', 'valencia', 'sucre', 'oeufs', 'entiers', 'beurre', 'frais', 'lait', 'baratte', 'extra', 'fin', 'a.o.p', 'charentespoitou', 'extrait', 'pur', 'vanille', 'sansgluten', 'allergèn', 'amande', 'oeufs', 'lait'])\n",
      " list(['eau', 'haricots', 'verts', 'pommes', 'terre', 'riz', 'cuit', 'sole', 'tro', 'pical', 'oignons', 'amidon', 'maïs', 'huile', 'colza', 'huile', 'tournesol', 'jus', 'citron', 'reconstitué', 'persil', 'ail', 'sel', 'marin', 'sans', 'additif', 'san', 'arôme', 'sans', 'amidon', 'transformé', 'sansgluten', 'pauvre', 'sel', 'certains', 'ingrédients', 'produit', 'proviennent', 'france'])\n",
      " list(['eau', 'pommes', 'terre', 'pommes', 'terre', 'réhydratées', 'viande', 'porc', 'jambon', 'france', 'oignons', 'carottes', 'amidon', 'maïs', 'eme', 'liquide', 'épinards', 'concentré', 'tomates', 'huile', 'colza', 'huile', 'tournesol', 'jus', 'citron', 'reconstitué', 'selmarin', 'ail', 'poudre', 'sans', 'addi', 'tif', 'sans', 'arôme', 'sans', 'amidon', 'transformé', 'sansgluten', 'certains', 'ingrédi', 'ents', 'produit', 'proviennent', 'france'])\n",
      " list(['eau', 'légumes', 'carottes', 'pommes', 'terre', 'champignons', 'oignon', 'lait', 'écrémé', 'riz', 'cuit', 'viande', 'volaille', 'viande', 'poulet', 'france', 'viande', 'dinde', 'france', 'amidon', 'maïs', 'crème', 'liquide', 'jus', 'citron', 'reconstitué', 'huile', 'colza', 'huile', 'tournesol', 'sel', 'marin', 'laurier', 'thym', 'sans', 'additif', 'sans', 'arôme', 'sans', 'amidon', 'transformé', 'sansgluten'])\n",
      " list(['légumes', 'épinards', 'carottes', 'petits', 'pois', 'haricots', 'verts', 'eau', 'cuisson', 'pommes', 'terre', 'saumon', 'amidon', 'maïs', 'crème', 'liquide', 'huile', 'colza', 'huile', 'tournesol', 'sel', 'marin', 'laurier', 'sansgluten', 'sans', 'amidon', 'transformé'])\n",
      " list(['légumes', 'petits', 'pois', 'carottes', 'oignons', 'épinards', 'nav', 'ets', 'eau', 'cuisson', 'pommes', 'terre', 'viande', 'veau', 'france', 'flocons', 'pomme', 'terre', 'réhydratés', 'lait', 'écrémé', 'poud', 'reconstitué', 'amidon', 'maïs', 'persil', 'creme', 'liquide', 'huile', 'colza', 'huile', 'tournesol', 'sel', 'marin', 'certains', 'ingrédients', 'produit', 'proviennent', 'france', 'sansgluten', 'sans', 'amidon', 'transformé'])\n",
      " list(['légumes', 'carottes', 'petits', 'pois', 'courgettes', 'oignons', 'navets', 'eau', 'cuisson', 'riz', 'cuit', 'colin', \"d'alaska\", 'pommes', 'terre', 'lait', 'écrémé', 'amidon', 'maïs', 'jus', 'citron', 'base', 'concentré', 'huile', 'colza', 'huile', 'tournesol', 'sel', 'marin', 'persil', 'laurier', 'thym', 'sansgluten', 'sans', 'amidon', 'transformé'])\n",
      " list(['pommes', 'terre', 'eau', 'cuisson', 'viande', 'bovine', 'france', 'oignons', 'carottes', 'amidon', 'maïs', 'creme', 'liquide', 'huile', \"d'olive\", 'vierge', 'extra', 'sel', 'marin', 'huile', 'tournesol', 'huile', 'colza', 'ail', 'thym', 'certains', 'ingrédients', 'produit', 'proviennent', 'france', 'sansgluten', 'sans', 'amidon', 'transformé'])\n",
      " list(['eau', 'cuisson', 'poireaux', 'pommes', 'terre', 'riz', 'cuit', 'eau', 'riz', 'colin', \"d'alaska\", 'carottes', 'amidon', 'maïs', 'oignons', 'courgettes', 'creme', 'liquide', 'jus', 'citron', 'reconstitué', 'base', 'concentré', 'huile', 'colza', 'huile', 'tournesol', 'ciboulette', 'sel', 'marin', 'ail', 'poudre', 'muscade', 'poivre', 'sansgluten', 'sans', 'amidon', 'transformé', 'sans', 'additif', 'sans', 'arôme'])\n",
      " list(['ricotta', 'lactoserum', 'sel', 'correcteur', \"d'acidité\", 'acide', 'citrique', 'farine', 'maïs', 'précuite', 'eau', 'oeuf', 'entier', 'épinards', 'amidon', 'maïs', 'grana', 'padano', 'aop', 'lait', 'sel', 'présure', 'conservateur', 'lysozyme', \"d'oeuf\", 'mascarpone', 'creme', 'lait', 'mozzarella', 'blanc', \"d'oeuf\", 'flocons', 'pomme', 'terre', 'protéines', 'pois', 'fibres', 'végétales', 'pois', 'pomme', 'terre', 'psyllium', 'bambou', 'plantain', 'indes', 'sel', 'épaississants', 'gomme', 'xanthane', 'gomme', 'guar', 'noix', 'muscade', 'farce', 'spécialité', 'céréalière', 'sansgluten', 'oeufs', 'entiers', 'produit', 'traces', 'éventuelles', 'soja', 'aop', 'appellation', \"d'origine\", 'protégée'])\n",
      " list(['légumes', 'pommes', 'terre', 'carottes', 'purée', 'tomates', 'base', 'concentré', 'haricots', 'verts', 'oignons', 'eau', 'cuisson', 'colin', \"d'alaska\", 'amidon', 'maïs', 'huile', 'colza', 'huile', 'tournesol', 'ciboulette', 'sel', 'marin', 'sansgluten', 'sans', 'amidon', 'transformé', 'sans', 'additif', 'sans', 'arôme'])\n",
      " list(['farine', \"d'avoine\", 'farine', 'riz', 'semoule', 'riz', 'amidon', 'pomme', 'terre', 'amidon', 'maïs', 'huile', 'tournesol', 'flocons', \"d'avoine\", 'levure', 'sucre', 'fibres', 'betterave', 'sirop', 'sucre', 'inverti', 'poudre', 'lever', 'carbonates', 'sodium', 'sel', 'iodé', 'émulsifiant', 'mono', 'diglycérides', \"d'acides\", 'gras', 'épaississants', 'carboxyméthylcellulose', 'gomme', 'guar', 'sansgluten', 'traces', 'éventuelles', 'graines', 'sésame', 'lait'])\n",
      " list(['sirop', 'riz', 'flocons', \"d'avoine\", 'sansgluten', 'céréales', 'croustillantes', 'farine', 'riz', 'sucre', 'farine', 'maïs', 'dextrose', 'sel', 'flocons', 'maïs', 'maïs', 'sel', 'pépites', 'chocolat', 'noir', 'pâte', 'cacao', 'sucre', 'beurre', 'cacao', 'émulsifiant', 'lécithines', 'tournesol', 'huile', 'tournesol', 'sirop', 'riz', 'poudre', 'cacao', 'maigre', 'poudre', 'arôme', 'naturel', 'noisette', 'émulsifiant', 'lécithines', 'tournesol', 'antioxydant', 'extrait', 'riche', 'tocophérols', 'traces', 'éventuelles', 'lait', 'fruits', 'coque'])\n",
      " list(['sirop', 'glucosefructose', 'céréales', 'flocons', \"d'avoine\", 'pétales', 'maïs', 'maïs', 'sel', 'riz', 'soufflé', 'amande', 'raisins', 'raisin', 'agent', \"d'enrobage\", 'huile', 'coton', 'graines', 'courge', 'huile', 'tournesol', 'miel', 'sirop', 'glucose', 'émulsifiant', 'lécithines', 'tournesol', 'antioxydant', 'extrait', 'riche', 'tocophérols', 'sansgluten', 'traces', 'éventuelles', 'lait', 'oeufs', 'autres', 'fruits', 'coque'])\n",
      " list(['flocons', \"d'avoine\", 'sucre', 'copeaux', 'chocolat', 'noir', 'sucre', 'pâte', 'cacao', 'beurre', 'cacao', 'matière', 'grasse', 'laitiere', 'émulsifiant', 'lécithines', 'soja', 'arôme', 'naturel', 'vanille', 'huile', 'colza', 'sirop', 'glucose', 'miel', 'sansgluten'])\n",
      " list(['flocons', \"d'avoine\", 'sucre', 'huile', 'colza', 'fruits', 'rouges', 'lyophilisés', 'fraises', 'mûres', 'framboises', 'sirop', 'glucose', 'miel', 'sansgluten'])\n",
      " list(['noisette', 'sucre', 'canne', 'blond', 'beurre', 'cacao', 'lait', 'entier', 'masse', 'cacao', 'lait', 'écrémé', 'huile', 'tournesol', 'sel', 'vanille', 'poudre', 'pralin', 'issu', \"l'agriculture\", 'biologique', 'issu', 'commerce', 'équitable', 'sansgluten', 'sansgluten', 'coques', \"d'arachides\", 'chocolat', 'cacao', 'mini', 'sansgluten', 'traces', 'possibles', \"d'autres\", 'fruits'])\n",
      " list(['coco', 'sansgluten', 'enrobée', 'chocolat', 'noir', 'biologique', 'adaptée', 'personnes', 'gluten', 'siil.np', 'flucose', 'noix', 'coco', 'râpée', 'chocolat', 'sucre', 'canne', 'roux', 'beurre', 'cacao', 'soja', 'beurre', 'cacao', 'pouc', 'orédients', 'issus', 'cup', 'biologique', 'arachide', 'fruits', 'coque', 'lait', 'atelier'])\n",
      " list(['pois', 'chiches', 'cuits', 'eau', 'huile', 'tournesol', 'sirop', 'ble', 'sansgluten', 'sel', 'marin', 'oignon', 'jus', 'citron', 'épices', 'cumin', 'paprika', 'ail', 'poivre', 'ciboulette', 'acide', 'citrique', 'correcteur', \"d'acidité\", 'guar', 'épaississant'])\n",
      " list(['eau', 'source', 'amandes', 'sucre', 'canne', 'sirop', 'blé', 'sansgluten', 'maltodextrine', 'maïs', 'chocolat', 'sucre', 'roux', 'canne', 'cacao', 'cacao', 'sel', 'marin', 'épaississant', 'gomme', 'xanthane', 'issus', \"l'agriculture\", 'biologique', 'poudre', 'cacao', 'issue', 'commerce', 'equitable', 'convient', \"l'alimentation\", 'végétarien', 'végétalien'])\n",
      " list(['thon', 'eau', 'chair', 'poisson', 'huile', 'colza', 'crème', 'crème', 'lait', 'stabilisant', 'carraghénanes', 'fibres', 'blé', 'sansgluten', 'moutarde', 'dijon', 'eau', 'graines', 'moutarde', 'vinaigre', \"d'alcool\", 'sel', 'huile', 'tournesol', 'épaississants', 'cellulose', 'gomme', 'xanthane', 'sel', 'jus', 'citron', 'concentré', 'tomates', 'poivre', 'vert', 'concassé'])\n",
      " list(['filets', 'sardine', 'eau', 'pulpe', 'poissons', 'crème', 'crème', 'lait', 'stabilisant', 'carrghénanes', 'poisson', 'huile', 'colza', 'fibres', 'blé', 'sansgluten', 'jus', 'citron', 'épaississants', 'cellulose', 'xanthane', 'sel', 'huile', 'tournesol', 'poivre'])\n",
      " list(['eau', 'filets', 'maquereaux', 'moutarde', 'eau', 'graines', 'moutarde', 'vinaigre', \"d'alcool\", 'sel', 'vinaigre', 'vin', 'blanc', 'sucre', 'épices', 'huile', 'tournesol', 'échalotes', 'fibres', 'blé', 'sansgluten', 'sel', 'jus', 'citron', 'thym', 'poivre'])\n",
      " list(['encornet', 'géant', 'cuit', 'acidifiants', 'e330', 'e331', 'e500ii', 'émulsifiant', 'e450', 'poivrons', 'rouges', 'grillés', 'oignons', 'huile', \"d'olive\", 'courgettes', 'grillées', 'concentré', 'tomates', 'eau', 'aubergines', 'grillées', 'huile', 'tournesol', 'ail', 'basilic', 'jus', 'citron', 'farine', 'blé', 'sel', 'fibres', 'blé', 'sansgluten', 'épices', 'plantes', 'aromatiques'])\n",
      " list(['pâte', 'cacao', 'sucre', 'amandes', 'entières', 'grillées', 'beurre', 'cacao', 'émulsifiant', 'lécithines', 'soja', 'arôme', 'cacao', 'minimum', 'chocolat', 'noir', 'peut', 'contenir', 'traces', 'lait', 'd´autres', 'fruits', 'coque', 'sansgluten'])\n",
      " list(['jus', 'soja', 'eau', 'graines', 'soja', 'sucre', 'amande', 'phosphate', 'calcium', 'arômes', 'naturels', 'stabilisant', 'gomme', 'gellane', 'sel', 'soja', 'filière', 'française', 'garanti', 'sans', 'ogm', 'produit', 'garanti', 'sansgluten'])\n",
      " list(['fraise', 'jus', 'soja', 'eau', 'graines', 'soja', 'sucre', 'fraise', 'phosphate', 'calcium', 'concentré', 'jus', 'carotte', 'épaississants', 'pectine', 'farine', 'graines', 'caroube', 'concentré', 'jus', 'citron', 'arôme', 'naturel', 'concentré', 'jus', 'betterave', 'ferments', 'sélectionnés', 'rhubarbe', 'jus', 'soja', 'eau', 'graines', 'soja', 'fruits', 'rhubarbe', 'purée', 'pomme', 'sucre', 'phosphate', 'calcium', 'arôme', 'naturel', 'jus', 'concentré', 'citron', 'épaississants', 'farine', 'graines', 'caroube', 'pectine', 'ferments', 'sélectionnés', 'soja', 'filière', 'française', 'garanti', 'sans', 'ogm', 'produits', 'garantis', 'sansgluten'])\n",
      " list(['jus', 'soja', 'sucre', 'framboise', 'jus', 'fruit', 'passion', 'sels', 'calcium', 'épaississants', 'pectine', 'farine', 'graines', 'caroube', 'jus', 'baie', 'sureau', 'concentré', 'arôme', 'naturel', 'jus', 'citron', 'concentré', 'ferments', 'sélectionnés', 'conforme', 'norme', 'graines', 'soja', 'filière', 'française', 'garanties', 'sans', 'ogm', 'produit', 'garanti', 'sansgluten'])\n",
      " list(['jus', 'soja', 'sucre', 'myrtilles', 'sels', 'calcium', 'jus', 'concentré', 'myrtille', 'épaississants', 'farine', 'graines', 'caroube', 'pectine', 'arôme', 'naturel', 'ferments', 'sélectionnés', 'conforme', 'norme', 'graines', 'soja', 'filière', 'française', 'garanties', 'sans', 'ogm', 'produit', 'garanti', 'sansgluten'])\n",
      " list(['jus', 'soja', 'sucre', 'pâte', 'praliné', 'sucre', 'noisettes', 'torréfiées', 'amandes', 'torréfiées', 'huiles', \"d'amande\", 'noisette', 'épaississants', 'amidon', 'transformé', 'maïs', 'sans', 'ogm', 'pectine', 'arôme', 'sels', 'calcium', 'sel', 'conforme', 'norme', 'graines', 'soja', 'filière', 'française', 'garanties', 'sans', 'ogm', 'produit', 'garanti', 'sansgluten'])\n",
      " list(['dessert', 'soja', 'saveur', 'vanille', 'enrichi', 'calcium', 'jus', 'soja', 'eau', 'graines', 'soja', 'quot', 'sucre', 'épaississants', 'amido', 'transformě', 'sans', 'ögm', 'pectine', 'arôme', 'vanille', 'phosphate', 'calcium', 'sel', 'soja', 'filière', 'française', 'garanti', 'sans', 'ogm', 'produit', 'garanti', 'sansgluten'])\n",
      " list(['sauce', 'petits', 'légumes', 'légumes', 'courgettes', 'carottes', 'poivrons', 'rouges', 'petits', 'pois', 'oignons', 'eau', 'spécialité', 'culinaire', 'base', 'soja', 'jus', 'soja', 'eau', 'graines', 'soja', 'huile', 'soja', 'maltodextrine', 'sucre', 'émulsifiants', 'e471', 'e472b', 'épaississants', 'gomme', 'xanthane', 'carraghénanes', 'arômes', 'antioxydant', 'alpha', 'tocophéro', 'amidon', 'sel', 'huile', \"d'olive\", 'vierge', 'extra', 'curry', 'arôme', 'naturel', 'céleri', 'poivre', 'steak', 'soja', 'curry', 'eau', 'jus', 'soja', 'eau', 'graines', 'soja', 'protéines', 'soja', 'concentré', 'tomates', 'huile', 'tournesol', 'oignons', 'sucre', 'curry', 'moutarde', 'sel', 'fibre', 'blé', 'garanties', 'sansgluten', 'gélifiant', 'méthylcellulose', 'riz', 'blanc', 'précuit', 'riz', 'long', 'blanc', 'eau'])\n",
      " list(['lait', 'entier', 'œufs', 'entiers', 'sirop', 'blé', 'sansgluten', 'sucre', 'canne', 'non', 'raffiné', 'poudre', 'cacao', 'issu', 'commerce', 'équitable', 'poudre', 'lait', 'écrémé', 'sel'])\n",
      " list(['lait', 'entier', 'œufs', 'entiers', 'caramel', 'sucre', 'canne', 'eau', 'sirop', 'blé', 'sansgluten', 'sucre', 'canne', 'non', 'raffiné', 'extrait', 'naturel', 'vanille', 'bourbon'])\n",
      " list(['jus', 'soja', 'eau', 'graines', 'soja', 'dépelliculées', 'ananas', 'sucre', 'canne', 'non', 'raffiné', 'sirop', 'blé', 'sansgluten', 'arôme', 'naturel', 'épaississants', 'pectinefarine', 'graines', 'caroubecitrate', 'calcium', 'correcteur', \"d'acidité\", 'acide', 'citrique', 'ferments', 'sélectionnés', 'dont', 'bifidus', 'lactobacillus', 'acidophilus', 'issus', \"l'agriculture\", 'biologique'])\n",
      " list(['jus', 'soja', 'eau', 'graines', 'soja', 'dépelliculées', 'banane', 'sucre', 'canne', 'non', 'raffiné', 'sirop', 'blé', 'garanti', 'sansgluten', 'arôme', 'naturel', 'épaississants', 'pectinefarine', 'graines', 'caroube', 'correcteur', \"d'acidité\", 'citrate', 'calcium', 'ferments', 'sélectionnés', 'dont', 'bifidus', 'lactobacillus', 'acidophilus', 'issus', \"l'agriculture\", 'biologique'])\n",
      " list(['jus', 'soja', 'eau', 'graines', 'soja', 'dépelliculées', 'fraise', 'sucre', 'canne', 'non', 'raffiné', 'sirop', 'blé', 'garanti', 'sansgluten', 'arôme', 'naturel', 'épaississants', 'pectine', 'farine', 'graines', 'caroube', 'jus', 'concentré', 'sureau', 'correcteur', \"d'acidité\", 'citrate', 'calcium', 'acide', 'citrique', 'ferments', 'sélectionnés', 'dont', 'bifidus', 'lactobacillus', 'acidophilus', 'issus', \"l'agriculture\", 'biologique'])\n",
      " list(['jus', 'soja', 'eau', 'graines', 'soja', 'sucre', 'canne', 'non', 'raffiné', 'framboise', 'jus', 'fruit', 'passion', 'amidon', 'tapioca', 'arôme', 'naturel', 'passion', 'arôme', 'naturel', 'framboise', 'épaississant', 'farine', 'graines', 'caroube', 'ferments', 'sélectionnés', 'dont', 'bifidus', 'lactobacillus', 'acidophilus', 'issus', \"l'agriculture\", 'biologique', 'source', 'protéines', 'végétales', 'naturellement', 'sansgluten', 'sans', 'ogm'])\n",
      " list(['jus', 'soja', 'eau', 'graines', 'soja', 'banane', 'jus', 'fruit', 'passion', 'jus', 'concentré', 'pomme', 'arôme', 'naturel', 'naturel', 'passion', 'amidon', 'tapioca', 'ferments', 'sélectionnés', 'dont', 'bifidus', 'lactobacillus', 'acidophilus', 'issus', \"l'agriculture\", 'biologique', 'riche', 'protéines', 'végétales', 'naturellement', 'sansgluten', 'sans', 'ogm', 'dients', 'soya', 'juce'])\n",
      " list(['jus', 'soja', 'eau', 'graines', 'soja', 'dépelliculées', 'pêche', 'sucre', 'canne', 'non', 'raffiné', 'sirop', 'blé', 'garanti', 'sansgluten', 'épaississants', 'pectinefarine', 'graines', 'caroube', 'arômes', 'naturels', 'correcteur', \"d'acidité\", 'acide', 'citriquecitrate', 'calcium', 'ferments', 'sélectionnés', 'dont', 'bifidus', 'lactobacillus', 'acidophilus', 'extrait', 'fleur', 'sureau'])\n",
      " list(['jus', 'soja', 'eau', 'graines', 'soja', 'dépelliculées', 'myrtille', 'sucre', 'canne', 'non', 'raffiné', 'sirop', 'blé', 'garanti', 'sansgluten', 'amidon', 'tapioca', 'quot', 'arôme', 'naturel', 'épaississants', 'pectine', 'farine', 'graines', 'caroube', 'comecteur', \"d'acidité\", 'citrate', 'calcium', 'ferments', 'sélectionnés', 'dont', 'bifidus', 'lactobacillus', 'acidophilus', 'quot', 'issus', \"l'agriculture\", 'biologique', 'sucre', 'canne', 'issu', 'commerce', 'équitable'])\n",
      " list(['jus', 'soja', 'eau', 'graines', 'soja', 'dépelliculées', 'sucre', 'canne', 'non', 'raffiné', 'amidon', 'riz', 'poudre', 'cacao', 'maigre', 'chocolat', 'poudre', 'sirop', 'blé', 'garanti', 'sansgluten', 'épaississants', 'carraghénanes', 'sel'])\n",
      " list(['jus', 'soja', 'eau', 'graines', 'soja', 'dépelliculées', 'sucre', 'canne', 'non', 'raffiné', 'amidon', 'riz', 'sirop', 'blé', 'garanti', 'sansgluten', 'arôme', 'naturel', 'vanille', 'dont', 'extrait', 'vanille', 'naturel', 'épaississants', 'carraghénanes', 'sel', 'issus', \"l'agriculture\", 'biologique'])\n",
      " list(['jus', 'soja', 'eau', 'graines', 'soja', 'figues', 'sucre', 'fructooligosaccharides', 'fibres', 'alimentaires', 'phosphate', 'calcium', 'épaississants', 'farine', 'graines', 'caroube', 'pectine', 'jus', 'concentré', 'citron', 'arôme', 'naturel', 'ferments', 'sélectionnés', \"'soja\", 'filière', 'française', 'garanti', 'sans', 'ogm', 'produits', 'garantis', 'sansgluten'])\n",
      " list(['jus', 'soja', 'eau', 'graines', 'soja', 'citron', 'jus', 'citron', 'pulpe', 'zeste', 'sucre', 'phosphate', 'calcium', 'épaississants', 'farine', 'graines', 'caroube', 'pectine', 'arômes', 'naturels', 'ferments', 'sélectionnés', 'soja', 'filière', 'française', 'garanti', 'sans', 'ogm', 'produit', 'garanti', 'sansgluten'])\n",
      " list(['jus', 'soja', 'eau', 'graines', 'soja', 'figues', 'sucre', 'fructooligosaccharides', 'fibres', 'alimentaires', 'phosphate', 'calcium', 'épaississants', 'farine', 'graines', 'caroube', 'pectine', 'jus', 'concentré', 'citron', 'arôme', 'naturel', 'ferments', 'sélectionnés', 'produit', 'garanti', 'sansgluten', 'soja', 'sans', 'ogm', 'consommer', 'jusql', 'voir', 'opercule'])\n",
      " list(['jus', 'soja', 'eau', 'graines', 'soja', 'farine', 'protéique', 'soja', 'poivrons', 'rouges', 'tomates', 'tomate', 'concassée', 'tomate', 'tomate', 'acidifiant', 'acide', 'mue', 'coulis', 'tomate', 'tomate', 'acidifiant', 'acide', 'citrique', 'huile', 'tournesol', 'poivrons', 'verts', 'oignons', 'lus', 'concentré', 'poivrons', 'rouges', 'persil', 'fibres', 'végétales', 'sel', 'sucre', 'géltfiant', 'méfiylcellulose', 'ail', 'sans', 'ogm', 'riche', 'protéines', 'végétales', 'riche', 'fibres', 'alimentaires', 'sans', 'cholestérol', 'pouvre', 'graisses', 'saturées', 'sansgluten', 'soiosun', \"n'utilise\", 'pos', 'solo', 'génétiquement', 'modifié', 'fabrication', 'produits'])\n",
      " list(['jus', 'soja', 'eau', 'graines', 'soja', 'sucre', 'phosphate', 'calcium', 'arôme', 'naturel', 'vanille', 'concentré', 'carotte', 'potiron', 'sel', 'stabilisant', 'carraghénanes', 'soja', 'filière', 'française', 'garanti', 'sans', 'ogm', 'produit', 'garanti', 'sansgluten'])\n",
      " list(['sucre', 'sirop', 'glucose', 'blé', 'garantie', 'sansgluten', 'fruits', 'secs', 'amandes', 'noisettes', 'miel', 'blanc', \"d'oeuf\", 'pain', 'anzyme', 'fécule', 'pomme', 'terre', 'eau', 'vanilline'])\n",
      " list(['amandes', 'melon', 'confit', 'sucre', 'sucre', 'glace', 'sirop', 'sucre', 'inverti', 'sirop', 'glucose', 'blé', 'garanti', 'sansgluten', 'blanc', \"d'œuf\", 'écorces', \"ď'orange\", 'confites', 'correcteur', \"ď'acidité\", 'acide', 'citrique', 'e330', 'pain', 'azyme', 'fécule', 'pomme', 'terre', 'eau', 'jus', 'citron', 'extrait', 'grandmarnier'])\n",
      " list(['lait', 'écrémé', 'réhydraté', 'viande', 'beuf', 'eau', 'flocons', 'pommes', 'terre', 'champignons', 'paris', 'emmental', 'oignons', 'crème', 'fraiche', 'crème', 'riz', 'beurre', 'sel', 'persil', 'huile', 'tournesol', 'poudre', 'jaune', \"d'eufs\", 'caramel', 'sucre', 'eau', 'épices', 'recette', 'sansgluten', 'beuf', 'origine', 'france', 'poids', 'net', 'informations', 'gras', 'destinées', 'allergiques', 'intolérants', 'allergie', 'intolérance', 'retrouvez', 'moteur', 'recherche', 'allergènes', 'site', 'www.fleurymichon.fr'])\n",
      " list(['contient', 'sulfites', 'sansgluten'])\n",
      " list(['nougat', 'tendre', 'caramel', 'beurre', 'sale', 'ingrédients', 'sucre', 'amandes', 'noisettes', 'proportion', 'variable', 'miel', 'sirop', 'glucose', 'caramel', 'beurre', 'salé', 'lait', 'sucre', 'sirop', 'glucose', 'lait', 'entier', 'poudre', 'beurre', 'salé', 'lait', 'eau', 'sel', 'guerande', 'arôme', 'naturel', 'vanille', 'poudre', 'lever', 'bicarbonate', 'soude', 'émulsifiant', 'sucroester', \"d'acide\", 'gras', 'crème', 'caramel', 'beurre', 'salé', 'lait', 'sucre', 'sirop', 'glucose', 'eau', 'crème', 'fraîche', 'lait', 'lait', 'entièr', 'poudre', 'beurre', 'salé', 'lait', 'fibre', 'alimentaires', 'sel', 'guérande', 'arôme', 'nature', 'vanille', 'amidon', 'maïs', 'blanc', \"d'oeuf\", 'gaufrettes', 'fécuie', 'pommes', 'terre', 'eau', 'arômes', 'peut', 'corienir', 'traces', \"d'autres\", 'fruits', 'coques', 'arachide9', 'soja', 'sansgluten', 'stockage', 'endroit', 'frais', 'sec', 'valeurs', 'moyennes', 'energie'])\n",
      " list(['sucre', 'amandes', 'miel', 'sirop', 'glucosej', 'amidon', 'maïs', 'blanc', \"d'oeufi\", 'gautrettes', 'técule', 'pommes', 'terre', 'eau', 'arômes', 'peut', 'contemr', 'traces', \"d'autres\", 'trutts', 'coques', 'arachides', 'lait', 'soja', 'sansgluten'])\n",
      " list(['tarte', 'nougat', 'caramel', 'beurre', 'salé', 'a/.aòoes', 'wisettes', 'proportion', 'vanable', 'grcv', 'anel', 'betyre', 'salé', 'lait', 'sucre', 'sirop', 'tnxtose', 'lait', 'ertm', 'crème', 'fraîche', 'lait', 'betrre', 'fibre', 'amentare', 'lait', 'sel', 'arôrno', 'czarel', 'betrre', 'lait', 'sucre', 'sirop', 'glucose', 'lait', 'erùer', 'poudre', 'beurre', 'lni', 'sel', 'œome', 'ndwel', 'soude', 'émulsifiari', 'sucroestet', 'gafreües', 'porrmes', 'terre', 'eal', 'arômes', 'sansgluten', 'peut', 'conterur', 'dos', 'traces', 'fairos', 'comps', 'œacrndes', 'soja', 'moyennes', 'pow', 'énergie'])\n",
      " list(['sucre', 'amandes', 'noisettes', 'proportions', 'variables', 'crème', 'marrons', 'glacés', 'sucre', 'huile', 'tournesol', 'beurre', 'cacao', 'marrons', 'glacés', 'marrons', 'sucre', 'sirop', 'glucose', 'arômes', 'lait', 'écrémé', 'poudre', 'lactoserum', 'poudre', 'lactose', 'sirop', 'glucose', 'émulsifiant', 'lécithine', 'toumesol', 'coloram', 'caramel', 'e150b', 'arômes', 'marrons', 'glacés', 'marrons', 'sucre', 'sirop', 'glucose', 'arôme', 'naturel', 'vanille', 'sirop', 'glucose', 'miel', 'amidon', 'maïs', 'blanc', \"d'oeuf\", 'gaufrettes', 'fécule', 'pommes', 'terre', 'eau', 'arômes', 'peut', 'contenir', 'traces', \"d'autres\", 'fruits', 'coque', 'arachides', 'soja', 'sansgluten'])\n",
      " list(['lait', 'écrémé', 'base', 'poudre', 'lait', 'lait', 'écrémé', 'fruits', 'fraise', 'poire', 'pêche', 'cerise', 'griotte', 'nectarine', 'mûre', 'poudre', 'lait', 'écrémé', 'jus', 'carotte', 'gélatine', 'amidon', 'transformé', 'maïs', 'jus', 'potiron', 'jus', 'raisin', 'arômes', 'epaississants', 'pectine', 'gomme', 'guar', 'carraghénanes', 'correcteurs', \"d'acidité\", 'acide', 'citrique', 'citrates', 'sodium', 'citrates', 'calcium', 'edulcorants', 'aspartame', 'acesulfame', 'ferments', 'lactiques', 'lait', 'sansgluten'])\n",
      " list(['spécialité', 'laitière', 'nature', 'ingrédients', 'lait', 'écrémé', 'crème', 'amidon', 'transformé', 'riz', 'poudre', 'lait', 'écrémé', 'ferments', 'lactiques', 'lait', \"d'origine\", 'france', 'sansgluten'])\n",
      " list(['yaourt', 'lait', 'écrémé', 'base', 'poudre', 'lait', 'lait', 'écrémé', 'crème', 'poudre', 'lait', 'écrémé', 'ferments', 'lactiques', 'fraise', 'cerise', 'mûre', 'framboise', 'sucre', 'amidon', 'transformé', 'jus', 'carotte', 'epaisissant', 'carraghénanes', 'correcteurs', \"d'acidité\", 'citrates', 'potassium', 'citrates', 'sodium', 'acide', 'citrique', 'arômes', 'naturels', 'lait', \"d'origine\", 'france', 'sansgluten', 'sans', 'colorant', 'couleur', 'apportée', 'jus', 'fruits', 'légumes'])\n",
      " list(['yaourt', 'lait', 'écrémé', 'base', 'poudre', 'lait', 'lait', 'écrémé', 'crème', 'poudre', 'lait', 'écrémé', 'ferments', 'lactiques', 'lait', 'sucre', 'arômes', 'naturels', 'concentré', 'minéraux', 'lait', 'vitamine', 'sansgluten', 'lait', \"d'origine\", 'france'])\n",
      " list(['ieeéqléus', 'yaourt', 'maigre', 'lait', 'écrémé', 'poudre', 'lait', 'écrémé', 'ferments', 'lactiques', 'lait', 'myrtille', 'sucre', 'amidon', 'epaississants', 'carraghénanes', 'gomme', 'guar', 'jus', 'citron', 'arômes', 'naturels', 'concentré', 'minéraux', 'lait', 'lait', \"d'origine\", 'france', 'sansgluten', 'wrédients', \"d'origine\", 'naturelle'])\n",
      " list(['lait', 'brebis', 'partiellement', 'écrémé', 'cerise', 'sucre', 'amidon', 'maïs', 'épaississants', 'carraghénanes', 'gomme', 'guar', 'jus', 'carotte', 'arôme', 'correcteur', 'acidité', 'citrates', 'sodium', 'jus', 'citron', 'ferments', 'lactiques', 'sansgluten'])\n",
      " list(['yaourt', 'lait', 'écrémé', 'base', 'poudre', 'lait', 'lait', 'écrémé', 'crème', 'poudre', 'lait', 'écrémé', 'ferments', 'lactiques', 'lait', 'fruits', 'ananas', 'mangue', 'noix', 'coco', 'préparée', 'lait', 'coco', 'noix', 'coco', 'râpée', 'sucre', 'eau', 'jus', 'carotte', 'lait', 'entier', 'concentré', 'amidon', 'transformé', 'maïs', 'jus', 'potiron', 'epaississant', 'carraghénanes', 'correcteurs', 'dacidité', 'acide', 'citrique', 'citrates', 'sodium', 'citrates', 'potassium', 'arômes', 'naturels', 'lait', \"d'origine\", 'france', 'sansgluten', 'sans', 'colorant', 'couleur', 'apportée', 'jus', 'fruits', 'légumes'])\n",
      " list(['yaourt', 'sucré', 'fruits', 'ingrédients', 'yaourt', 'lait', 'écrémé', 'base', 'poudre', 'lait', 'lait', 'écrémé', 'crème', 'poudre', 'lait', 'écrémé', 'ferments', 'lactiques', 'lait', 'fruits', 'fraise', 'cerise', 'mûre', 'framboise', 'sucre', 'amidon', 'transformé', 'maïs', 'jus', 'carotte', 'epaississant', 'carraghénanes', 'correcteurs', \"d'acidité\", 'citrates', 'potassium', 'citrates', 'sodium', 'acide', 'citrique', 'arômes', 'naturels', 'lait', \"d'origine\", 'france', 'sansgluten', 'sans', 'colorant', 'couleur', 'apportée', 'jus', 'fruits', 'légumes', 'malgré', 'tout', 'soin', 'apporté', 'sélection', 'fruits', 'produit', 'peut', 'contenir', 'noyaux', 'morceaux', 'noyaux', 'cerise'])\n",
      " list(['lait', 'écrémé', 'crèmesucre', 'citron', 'sirop', 'glucosefructose', 'amid', 'transformé', 'riz', 'poudre', 'lait', 'écrémé', 'correcteurs', \"d'acidité\", 'citrates', 'sodium', 'citrique', 'arômes', 'ferments', 'lactiques', 'lait', 'colorants', 'curcumine', 'lait', \"d'origine\", 'france', 'sansgluten'])\n",
      " list(['yaourt', 'lait', 'écrémé', 'base', 'poudre', 'lait', 'écrémé', 'crème', 'poudre', 'lait', 'écrémé', 'ferments', 'lactiques', 'lait', 'sucre', 'fruits', 'poire', 'pomme', 'jus', 'citron', 'amidon', 'transformé', 'maïs', 'epaississants', 'pectine', 'gomme', 'guar', 'carraghénanes', 'arômes', 'naturels', 'correcteur', \"d'acidité\", 'citrates', 'sodium', 'lait', \"d'origine\", 'france', 'sansgluten'])\n",
      " list(['yaourt', 'maigre', 'lait', 'écrémé', 'poudre', 'lait', 'écrémé', 'ferments', 'lactiques', 'lait', 'myrtille', 'sucre', 'amidon', 'maïs', 'epaississants', 'carraghénanes', 'gomme', 'guar', 'jus', 'citron', 'arômes', 'naturels', 'concentré', 'minéraux', 'lait', 'lait', \"d'origine\", 'france', 'sansgluten'])\n",
      " list(['lait', 'écrémé', 'crème', 'poudre', 'lait', 'écrémé', 'ferments', 'lactiques', 'lait', 'sucre', 'eau', 'jus', 'citron', 'citron', 'amidon', 'maïs', 'jus', 'potiron', 'concentré', 'minéraux', 'lait', 'epaississants', 'carraghénanes', 'gomme', 'guar', 'arôme', 'naturel', 'citron', 'autres', 'arômes', 'naturels', 'lait', \"d'origine\", 'france', 'sansgluten', 'ingrédients', 'dtorigine', 'naturelle'])\n",
      " list(['spécialité', 'lamère', 'sucrée', 'coco', 'latt', 'écrémé', 'crème', 'sucre', 'noix', 'coco', 'préparée', 'lalt', 'coco', 'noix', 'coco', 'râpée', 'amidon', 'transformé', 'riz', 'poudre', 'alt', 'écrémé', 'arôme', 'epalsslssant', 'carraghénanes', 'correcteuüacldlté', 'acide', 'tartrique', 'ferments', 'lactiques', 'lait', 'lait', \"d'origine\", 'france', 'sansgluten'])\n",
      " list(['yaourt', 'sucré', 'fruits', 'yaourt', 'lait', 'écrémé', 'base', 'poudre', 'lait', 'lait', 'écrémé', 'crème', 'poudre', 'lait', 'écrémé', 'ferments', 'lactiques', 'lait', 'fruits', 'fraise', 'cerise', 'mûre', 'framboise', 'sucre', 'amidon', 'transformé', 'maïs', 'jus', 'carotte', 'epaississant', 'carraghénanes', 'correcteurs', 'dacidité', 'citrates', 'potassium', 'citrates', 'sodium', 'acide', 'citrique', 'arômes', 'naturels', 'lait', \"d'origine\", 'france', 'sansgluten', 'sans', 'colorant', 'couleur', 'apportée', 'jus', 'fruits', 'légumes', 'malgré', 'tout', 'soin', 'apporté', 'sélection', 'fruits', 'produit', 'peut', 'contenir', 'noyaux', 'morceaux', 'noyaux', 'cerise'])\n",
      " list(['amandes', 'sucre', 'blanc', \"d'oeuf\", 'chocolat', 'poudre', 'sucre', 'cacao', 'poudre', 'miel', 'provence', 'extrait', 'vanille', 'sansgluten', 'traces', 'noisettes'])\n",
      " list(['chocolat', 'lait', 'cacao', 'minimum', 'sucre', 'canne', 'beurre', 'cacao', 'poudre', 'lait', 'entier', 'pâte', 'cacao', 'pralinė', 'noisette', 'noisettes', 'sucre', 'canne', 'chocolat', 'noir', 'cacao', 'minimum', 'pâte', 'cacao', 'sucre', 'canne', 'beurre', 'cacao', 'sansgluten', 'peut', 'contenir', 'traces', \"d'arachides\", \"d'autres\", 'fruits', 'coque', 'sésame', 'ingrédients', 'issus', \"l'agriculture\", 'biologique', 'cacao', 'sucre', 'bilan', 'masse', 'utilise', 'correspondre', 'volume', 'acheté', 'conditions', 'fairtrade/max', 'havelaar', 'poids', 'total'])\n",
      " list(['pâte', 'cacao', 'sucre', 'canne', 'beurre', 'cacao', 'amandes', 'sirop', 'riz', 'déshydraté', 'fibre', \"d'acacia\", 'arôme', 'naturel', 'vanille', 'sansgluten', 'peut', 'contenir', 'traces', \"d'arachides\", 'lait', \"d'autres\", 'fruits', 'coque', 'sésame', 'ingrédients', 'issus', \"l'agriculture\", 'biologique', 'cacao', 'sucre', 'bilan', 'masse', 'utilisé', 'correspondre', 'volume', 'acheté', 'conditions', 'fairtrade/max', 'havelaar', 'poids', 'total'])\n",
      " list(['gàtè', 'nougat', 'nature', 'bmande', 'noisette', 'ingré', 'lents', 'sucre', 'amandes', 'glucose', 'noisettes', 'noix', \"d'oeufs\", 'gélifiant', 'naturel', 'ectine', 'arômes', 'gaufrette', 'fécule', 'pomme', 'terre', 'eau', 'huile', 'tournesol', 'peut', 'traces', \"d'autre\", 'fruiits', 'coque', 'sansgluten', 'valeurs', 'nutritlenneles', 'vriùgie'])\n",
      " list(['viande', 'porc', 'rné', 'oog', 'produit', 'fini', 'lactose', 'dextrose', 'épices', 'plante', 'aromatique', 'conservateurs', 'salpêtre', 'nitrïe', 'lactiques', 'naturels', 'boyau', 'naturel', 'possibles', 'fruits', 'coque', 'lait', 'colorant', 'sansgluten', 'origi.no', 'emballage', 'près', 'numéro', 'fabriqué', 'grenier', 'marius', 'salaison', 'artisanale', 'savo', 'inutï', 'métiers', 'n0453'])\n",
      " list(['—s.•ss', 'saucisson', 'sec', 'noisettes', 'ingrédients', 'viande', 'porc', 'mis', 'œuvre', 'pout', 'produit', 'noisettes', 'entières', 'mis', 'œuvre', 'pout', 'produit', 'fini', 'lactose', 'set', 'saccharose', 'dextrose', 'épices', 'planta', 'aromatique€', 'arômes', 'naturels', 'conservateurs', 'satpêtre', \"'nitrite\", 'sodium', 'ferments', 'lactiques', 'naturels', 'boyau', 'naturel', 'porc', 'traces', 'possibles', 'lait', 'sanstcotorant', 'sansgluten', 'origine', 'viande', 'voir', 'emballage', 'près', 'numéro', 'lots'])\n",
      " list(['viande', 'fraîche', 'porc', 'français', 'mis', 'œuvre', 'produit', 'fini', 'lactose', 'sel', 'saccharose', 'épices', 'plante', 'aromatique', 'dextrose', 'arômes', 'naturels', 'conservateur', 'salpêtre', 'ferments', 'boyau', 'naturel', 'porc', 'sansgluten', 'traces', 'ossibles', 'fruits', 'coques', 'lait'])\n",
      " list(['riz', 'complet', 'riz', 'blanc', 'huile', 'germe', 'maïs', 'sel', 'marin', 'issus', \"l'agriculture\", 'biologique', 'peut', 'contenir', 'traces', 'lait', 'soja', 'sansgluten'])\n",
      " list(['vanillee', 'tokjeu', 'garanti', 'sansgluten', 'glutenvrij', 'suggestion', 'pâtisseries', 'glaces', 'chocolat', 'aromatiser', 'sucre', 'poudre', 'www.biopartenaire.com'])\n",
      " list(['champignons', 'bolets', 'sui/lus', 'luteus', 'slippery', 'jack', 'gele', 'boleten', 'boletos', 'anillados', 'boleti', 'garanti', 'sansgluten', 'glutenvrij'])\n",
      " list(['eau', 'levain', 'sansgluten', 'eau', 'farine', 'riz', 'complet', 'farine', 'riz', 'blanc', 'farine', 'sarrasin', 'amidon', 'maïs', 'farine', 'riz', 'complet', 'graines', 'sarrasin', 'millet', 'tournesol', 'lin', 'brun', 'fécule', 'pomme', 'terre', 'vinaigre', 'cidre', 'psyllium', 'blond', 'farine', 'châtaignes', 'levure', 'sel', 'marin', 'non', 'traité', 'huile', 'tournesol', 'sucre', 'canne', 'blond', 'épaississant', 'gomme', 'xanthane', 'ingrédients', 'issus', \"l'agriculture\", 'biologique', 'traces', 'possibles', 'soja', 'fruits', 'coque', 'graines', 'sésame', 'œufs', 'dérivés', 'lait'])\n",
      " list(['flocons', \"d'avoine\", 'sansgluten', 'sucre', 'canne', 'complet', 'huile', 'tournesol', 'sirop', 'riz', 'billettes', 'riz', 'riz', 'sel', 'amandes', 'tapioca'])\n",
      " list(['flocons', \"d'avoine\", 'complets', 'sansgluten', 'kachat', 'pétales', 'quot', 'abricots', 'secs', 'abricots', 'farine', 'riz', 'raisins', 'secs', 'raisins', 'huile', 'tournesol', 'graines', 'tournesol', 'dattes', 'séchées', 'dattes', 'farine', 'riz', 'figues', 'séchées', 'quot', 'figues', 'quot', 'farine', 'riz', 'lamelles', 'noix', 'coco', 'toastées', 'quot', 'graines', 'courge', 'baies', 'goji', 'bananes', 'séchées', 'ingrédients', 'issus', \"l'agriculture\", 'biologique'])\n",
      " list(['viande', 'dinde', 'eau', 'huile', 'tournesol', 'conservateurs', 'lactate', 'potassium', 'acétates', 'sodium', 'épices', 'plantes', 'aromatiques', 'dextrose', 'amidon', 'modifié', 'sel', 'stabilisants', 'triphosphates', 'diphosphates', 'fibre', 'blé', 'sansgluten', 'arôme', 'naturel', 'extrait', 'paprika', 'antioxydant', 'érythorbate', 'sodium', 'sauce', 'blanche', 'yaourt', 'lait', 'crème', 'fraîche', 'lait', 'eau', 'huile', 'colza', 'amidon', 'modifié', 'vinaigre', 'jaune', \"d'œuf\", 'moutarde', 'dijon', 'eau', 'graines', 'moutarde', 'vinaigre', 'sel', 'conservateur', 'disulfite', 'potassium', 'acidifiant', 'acide', 'citrique', 'ciboulette', 'persil', 'sel', 'ail', 'épaississant', 'gomme', 'xanthane', 'acidifiant', 'acide', 'lactique', 'conservateur', 'sorbate', 'potassium', 'épice', 'viande', 'dinde', 'origine', 'france'])\n",
      " list(['viande', 'dinde', 'eau', 'huile', 'tournesol', 'conservateurs', 'lactate', 'potassium', 'acétates', 'sodium', 'épices', 'plantes', 'aromatiques', 'dextrose', 'amidon', 'modifié', 'sel', 'stabilisants', 'triphosphates', 'diphosphates', 'fibre', 'blé', 'sansgluten', 'arôme', 'naturel', 'extrait', 'paprika', 'antioxydant', 'érythorbate', 'sodium', 'sauce', 'blanche', 'yaourt', 'lait', 'crème', 'fraîche', 'lait', 'eau', 'huile', 'colza', 'amidon', 'modifié', 'vinaigre', 'jaune', \"d'œuf\", 'moutarde', 'dijon', 'eau', 'graines', 'moutarde', 'vinaigre', 'sel', 'conservateur', 'disulfite', 'potassium', 'acidifiant', 'acide', 'citrique', 'ciboulette', 'persil', 'sel', 'ail', 'épaississant', 'gomme', 'xanthane', 'acidifiant', 'acide', 'lactique', 'conservateur', 'sorbate', 'potassium', 'épice', 'viande', 'dinde', 'origine', 'france'])\n",
      " list(['filet', 'poulet', 'eau', 'amidon', 'modifié', 'vinaigre', 'sel', 'arômes', 'fibre', 'blé', 'sansgluten', 'ferments', 'traces', 'éventuelles', 'lait', \"d'oeuf\", \"d'autres\", 'céréales', 'contenant', 'gluten', 'viande', 'origine', 'france', 'viande', 'mis', 'œuvre', 'produit', 'fini', 'alimentation', 'végétaux', 'minéraux', 'vitamines'])\n",
      " list(['poulet', 'pôtv', 'servez', 'plot', 'adapté', 'filets', 'poulet', 'traités', 'poudre', 'vinaigre', 'arôme', 'naturel', 'romarin', 'fibre', 'blé', 'sansgluten', 'colorant', 'caramel', 'crdinaire', 'ferments', 'treces', 'blé', 'lait', 'poulet', 'origine', 'france'])\n",
      " list(['filet', 'poulet', 'eau', 'amidon', 'modifié', 'sel', 'dextrose', 'épices', 'dont', 'paprika', 'plantes', 'aromatiques', 'fibres', 'blé', 'sansgluten', 'huile', 'tournesol', 'extrait', 'paprika', 'conservateurs', 'lactate', 'potassium', 'acétates', 'sodium', 'citrate', 'sodium', 'antioxydants', 'acide', 'ascorbique', 'érythorbate', 'sodium', 'ferments', 'viande', 'poulet', 'origine', 'france', 'viande', 'mis', 'oeuvre', 'produit', 'fini'])\n",
      " list(['huile', 'végétale', 'colza', 'tournesol', 'œufs', 'cabillaud', 'salés', 'fumés', 'boisson', 'soja', 'eau', 'fèves', 'soja', 'jus', 'citron', 'sel', 'sucre', 'épaississant', 'allergènes', 'poisson', 'soja', 'sansgluten', 'sans', 'produits', 'laitiers'])\n",
      " list(['viande', 'boeuf', 'origine', 'hors', 'sel', 'épices', 'plantes', 'aromatiques', 'extrait', \"d'épices\", 'dextrose', 'sucre', 'conservateurs', 'ascorbate', 'sodium', 'citrates', 'sodium', 'nitrate', 'potassium', 'présence', 'possible', 'fruits', 'coques', 'protéines', 'soja', 'protéines', 'lait', 'sansgluten'])\n",
      " list(['jambon', 'porc', 'origine', 'france', 'sel', 'présence', 'possible', 'fruits', 'coques', 'lait', 'sansgluten'])\n",
      " list(['jambon', 'porc', 'origine', 'espagne', 'sel', 'mer', 'présence', 'possible', 'fruits', 'coques', 'lait', 'sansgluten'])\n",
      " list(['viande', 'porc', 'origine', 'france', 'dont', 'noix', 'jambon', 'porc', 'sel', 'arômes', 'lactose', 'lait', 'écrémé', 'dextrose', 'sucre', 'conservateurs', 'nitrate', 'potassium', 'nitrite', 'sodium', 'ferments', 'viande', 'utilisés', 'préparation', 'produit', 'fini', 'présence', 'possible', 'fruits', 'coques', 'sansgluten'])\n",
      " list(['lieu', 'poivron', 'rouge', 'oignon', 'farine', 'blé', 'chorizo', 'viande', 'porc', 'épices', 'aromates', 'sirop', 'glucose', 'sel', 'antioxydants', 'e301', 'conservateur', 'e250', 'boyau', 'naturel', 'porc', 'fumage', 'bois', 'hêtre', 'concentré', 'tomates', 'eau', 'amidon', 'modifié', 'tapioca', 'huile', 'tournesol', 'ail', 'fibres', 'blé', 'sansgluten', 'mix', 'goût', 'chorizo', 'épices', 'plantes', 'aromatiques', 'arômes', 'naturels', 'sel', 'graines', 'pavot', 'bleu', 'huile', 'tournesol', 'sel', 'thym', 'piment', 'poivre', 'conservateurs', 'propionate', 'calcium', 'acide', 'sorbique', 'acidifiant', 'acide', 'lactique', 'émulsifiant', 'lécithine', 'soja'])\n",
      " list(['eau', 'sucre', 'canne', 'roux', 'fèves', 'soja', 'décortiquées', 'sans', 'ogm', 'amidon', 'blé', 'maltodextrine', 'extrait', 'café', 'extrait', 'vanille', 'épaississant', 'carraghénanes', 'sel', 'marin', 'produits', 'issus', \"l'agriculture\", 'biologique', \"l'amidon\", 'blé', 'desserts', 'garanti', 'sansgluten'])\n",
      " list(['légumes', 'carottes', 'oignons', 'poireaux', 'riz', 'cuit', 'lentilles', 'cuites', 'flocons', \"d'avoine\", 'sansgluten', 'emmental', 'huile', 'tournesol', 'arrow', 'root', 'sel'])\n",
      " list(['haricots', 'rouges', 'cuits', 'flocons', \"d'avoine\", 'sansgluten', 'poivrons', 'riz', 'eau', 'huile', \"d'olive\", 'concentré', 'tomate', 'sel', 'paprika'])\n",
      " list(['sorbet', 'plein', 'fruits', 'poire', 'purée', 'poires', 'williams', 'sucre', 'eau', 'sirop', 'glucose', \"d'amidon\", 'maïs', 'déshydraté', 'sucre', 'inverti', 'stabilisants', 'dextrose', 'gélatine', 'farine', 'graine', 'caroube', 'farine', 'graine', 'guar', 'gomme', 'cellulose', 'crème', 'glacée', 'chocolat', 'lait', 'frais', 'entier', 'creme', 'fraiche', 'cacao', 'poudre', 'sucre', 'inverti', 'sucre', 'jaunes', \"d'œufs\", 'lactose', 'proteines', 'lait', 'sorbitol', 'émulsifiant', 'monodiglycérides', 'acides', 'gras', 'gélifiants', 'graine', 'caroube', 'alginate', 'sodium', 'gomme', 'guar', 'carraghénane', 'chablons', 'chocolat', 'chocolat', 'noir', 'fèves', 'cacao', 'sucre', 'beurre', 'cacao', 'émulsifiant', 'lecithine', 'soja', 'extrait', 'naturel', 'vanille', 'colorants', 'e171', 'e172', 'sansgluten'])\n",
      " list(['eau', 'farine', 'sansgluten', 'farine', 'riz', 'farine', 'tapioca', 'fécule', 'pomme', 'terre', 'farine', 'maïs', 'fécule', 'riz', 'fécule', 'maïs', 'huile', 'tournesol', 'levure', 'levure', 'levure', 'enrichie', 'vitamine', 'écorce', 'psyllium', 'déshydratée', 'fibres', 'pomme', 'terre', 'sirop', 'sucre', 'inverti', 'poudre', 'blanc', \"d'œuf\", 'humectant', 'glycérol', 'sel', 'stabilisants', 'hydroxypropylméthylcellulose', 'gomme', 'xanthane', 'carbonate', 'calcium', 'fibres', \"d'agrumes\", 'flores', 'pois', 'huile', 'palme', 'huile', 'colza', 'fibres', 'plantain', 'fibres', \"d'algues\", 'émulsifiant', 'monoet', 'diglycérides', \"d'acides\", 'gras'])\n",
      " list(['eau', 'farine', 'sansgluten', 'farine', 'riz', 'farine', 'tapioca', 'fécule', 'pomme', 'terre', 'farine', 'maïs', 'fécule', 'riz', 'fécule', 'maïs', 'huile', 'tournesol', 'levure', 'levure', 'levure', 'enrichie', 'vitamine', 'écorce', 'psyllium', 'déshydratée', 'fibres', 'pomme', 'terra', 'sirop', 'sucre', 'inverti', 'poudre', 'blanc', 'œuf', 'humectant', 'glycérol', 'sel', 'stabilisants', 'hydroxypropylméthylcellulose', 'gomme', 'xanthane', 'carbonate', 'calcium', 'fibres', \"d'agrumes\", 'fibres', 'pois', 'huile', 'palme', 'huile', 'colza', 'fibres', 'plantain', 'fibres', \"d'algues\", 'émulsifiant', 'mono', 'diglycérides', \"d'acides\", 'gras'])\n",
      " list(['eau', 'farine', 'sansgluten', 'farine', 'riz', 'farine', 'tapioca', 'fécule', 'pomme', 'terre', 'fécule', 'riz', 'farine', 'maïs', 'fécule', 'maïs', 'farine', 'riz', 'fermenté', 'huile', 'tournesol', 'écorce', 'psyllium', 'déshydratée', 'fibres', 'pomme', 'terre', 'levure', 'levure', 'levure', 'enrichie', 'vitamine', 'sirop', 'sucre', 'inverti', 'humectant', 'glycérol', 'poudre', 'blanc', \"d'œuf\", 'sel', 'stabilisants', 'hydroxypropylméthylcellulose', 'gomme', 'xanthane', 'carbonate', 'calcium', 'huile', 'palme', 'huile', 'colza'])\n",
      " list(['viande', 'porc', 'fumet', 'foie', 'porc', 'sel', 'guérande', 'épices', 'origine', 'france', 'sans', 'colorant', 'sans', 'conservateur', 'sansgluten'])\n",
      " list(['ingrédicnts', 'maigre', 'poitrinc', 'porc', 'produit', 'sci', 'vin', 'sulfites', 'dextrine', 'conservateur', 'fr250', 'antioxyiant', 'e301', 'poivre', 'colorants', 'fa20', 'fa60c', 'sansgluten', 'sans', 'produits', 'laitiers'])\n",
      " list(['chair', 'poisson', 'eau', 'amidon', 'maïs', 'huile', 'colza', 'amidon', 'pomme', 'terre', 'sucre', 'stabilisants', 'sorbitol', 'diphosphates', 'triphosphates', 'polyphosphates', 'carraghénanes', 'sel', 'amidon', 'blé', 'sansgluten', 'oeuf', 'arôme', 'colorant', 'lycopène', 'peut', 'contenir', 'traces', 'mollusques', 'soja', 'crustacés'])\n",
      " list(['chair', 'poisson', 'eau', 'amidon', 'maïs', 'huile', 'colza', 'amidon', 'pomme', 'terre', 'sucre', 'stabilisants', 'sorbitol', 'diphosphates', 'triphosphates', 'polyphosphates', 'carraghénanes', 'sel', 'amidon', 'blé', 'sansgluten', 'oeuf', 'arôme', 'colorant', 'lycopène', 'peut', 'contenir', 'traces', 'mollusques', 'soja', 'crustacés'])\n",
      " list(['purée', 'pomme', 'purée', 'banane', 'antioxydant', 'acide', 'ascorbique', 'sansgluten'])\n",
      " list(['purée', 'pomme', 'purée', \"d'abricot\", 'antioxydant', 'acide', 'ascorbique', 'sansgluten'])\n",
      " list(['sucre', 'pâte', 'cacao', 'farine', 'riz', 'beurre', 'cacao', 'émulsifiant', 'lécithines', 'soja', 'polyricinoléate', 'polyglycérol', 'arôme', 'cacao', 'minimum', 'peut', 'contenir', 'traces', 'lait', \"d'arachides\", 'fruits', 'coque', 'sansgluten'])\n",
      " list(['sucre', 'sirop', 'glucose', 'ble', 'garanti', 'sansgluten', 'fruits', 'secs', 'amandes', 'noisettes', 'miel', 'blanc', \"d'ceuf\", 'pain', 'azyme', 'fécule', 'pomme', 'terre', 'eau', 'vanilline'])\n",
      " list(['recette', 'originale', 'née', \"l'audace\", 'rencontre', 'détonante', 'chef', 'toqué', 'aristocades', 'petits', 'biscuits', 'délicieusement', 'chics', 'saveurs', 'extrêmement', 'chocs', 'biscuits', 'sansgluten', 'sans', 'lait', 'poivron', 'baies', 'chef', 'amandes', 'bassin', 'méditerranéen', 'blancs', \"d'œufs\", 'oivrons', 'grillés', 'sucre', 'sel', 'mélange', 'baies', 'ail', 'onditionnés', 'sous', 'atmosphère', 'protectrice', 'tuten', 'milk', 'free', 'biscuits', 'pepper', 'peppercorn', 'mix', 'ingredients', 'chef', 'almonds', 'mediterranean', 'basin', 'egg', 'whites', 'mix', 'garlic', 'gluten', 'milchfreie', 'kekse', 'paprika', 'beerenmischung', 'zutaten', 'küchenchefs', 'mandeln', 'mittelmeerraum', 'eiweiss', 'rillte', 'paprika', 'zucker', 'salz', 'beerenmischung', 'knoblauch', 'schutzatmosphàre', 'verpackt', 'biscotti', 'senza', 'glutine', 'senza', 'latte', 'peperoni', 'bacche', 'gli', 'ingredienti', 'dello', 'chef', 'mandorle', 'del', 'bacino', 'del', 'mediterraneo', 'albumi', 'peperoni', 'grigliati', 'zucchero', 'sale', 'miscela', 'bacche', 'aglio', 'confezionato', 'atmosfera', 'protettiva'])\n",
      " list(['iscuits', 'apéritifs', 'sansgluten', 'roquefort', 'noix', 'ingrédients', 'chef', 'amandes', 'oeufs', 'roquefort', 'aop', 'ucre', 'noix', 'sel', 'poivre', 'abriqués', 'atelier', 'utilisant', 'noisettes', 'onditionnés', 'sous', 'atmosphère', 'protectrice'])\n",
      " list(['gâteau', 'bio', 'amandes', 'chocolat', 'sansgluten', 'ngrédients', 'oeufs', 'amandes', 'sucre', 'canne', 'roux', 'beurre', 'baratte', 'chocolat', 'poudre', 'poudre', 'vanille', 'madagascar', 'produits', 'issus', \"l'agriculture\", 'biologique', 'fabriqué', 'atelier', 'utilisant', 'noisettes'])\n",
      " list(['céréales', 'ons', \"d'avoine\", 'sansgluten', 'pétales', 'sel', 'farine', 'riz', 'sirop', 'glucosefructose', 'amandes14', 'raisins', 'raisins', 'huile', 'graines', 'courge', 'huile', 'tournesol', 'miel', 'sirop', 'glucose', 'émulsífiant', 'lécithines', 'tournes', 'vitamine', 'fabriquée', 'jer', 'utilisant', 'lait', 'oeufs', 'autres', 'fruits', 'coque', 'consommer', 'barre', 'obtenir', \"l'effet\", 'souhaité', \"s'hydater\", 'lièrement', 'complément', \"d'une\", 'activité', 'physique', 'important', 'conserver', 'alimentation', 'variée', 'équibrée', 'mode', 'vie', 'sain'])\n",
      " list(['chocolat', 'lait', 'fourré', 'praliné', 'noisette', 'inqyédients', 'sucre', 'matièreo', 'vanille', 'cacao', 'min', 'chocolat', 'peut', 'contenir', 'traces', \"'autres\", 'noix', 'cacahuette', 'sansgluten', 'bombén', 'chocolate', 'con'])\n",
      " list(['brocolis', 'fromage', 'chèvre', 'farine', 'blé', 'eau', 'basilic', 'échalote', 'huile', 'colza', 'fibre', 'blé', 'sansgluten', 'sel', 'épaississant', 'methylcellulose', 'ail', 'gluten', 'blé', 'épices', 'vinaigre', \"d'alcool\", 'levure', 'jus', 'citron', 'extrait', 'basilic', 'huile', 'tournesol'])\n",
      " list(['viande', 'poulet', 'huile', \"d'olive\", 'épices', 'plantes', 'aromatiques', 'dont', 'basilic', 'chapelure', 'blé', 'sel', 'dextrose', 'saccharose', 'tomate', 'poivron', 'fécule', 'fibres', 'blé', 'sansgluten', 'vinaigre', 'arômes', 'naturels', 'ferments', 'traces', 'éventuelles', 'lait', 'oeuf', \"d'autres\", 'céréales', 'contenant', 'gluten'])\n",
      " list(['viande', 'poulet', 'huile', \"d'olive\", 'épices', 'plantes', 'aromatiques', 'dont', 'basilic', 'chapelure', 'ble', 'sel', 'dextrose', 'saccharose', 'tomate', 'poivron', 'fécule', 'fibres', 'ble', 'sansgluten', 'vinaigre', \"d'alcool\", 'poudre', 'arômes', 'naturels', 'traces', 'éventuelles', 'lait', \"d'oeuf\", \"d'autres\", 'céréales', 'contenant', 'gluten'])\n",
      " list(['chocolat', 'lait', 'belge', 'sucre', 'beurre', 'cacao', 'lait', 'entier', 'poudre', 'pâte', 'cacao', 'émulsifiant', 'lécithines', 'soja', 'arôme', 'naturel', 'vanille', 'farine', \"d'avoine\", 'beurre', 'contient', 'lait', 'sucre', 'pépites', 'chocolat', 'lait', 'belge', 'sucre', 'lait', 'entier', 'poudre', 'beurre', 'cacao', 'pâte', 'cacao', 'émulsifiant', 'lécithines', 'soja', 'arôme', 'naturel', 'vanille', 'pépites', 'chocolat', 'noir', 'belge', 'sucre', 'pâte', 'cacao', 'beurre', 'cacao', 'émulsifiant', 'lécithines', 'soja', 'arôme', 'naturel', 'vanille', 'pépites', 'chocolat', 'blanc', 'belge', 'sucre', 'beurre', 'cacao', 'lait', 'entier', 'poudre', 'poudre', 'lait', 'écrémé', 'émulsifiant', 'lécithines', 'soja', 'arôme', 'naturel', 'vanille', 'flocons', \"d'avoine\", 'farine', 'tapioca', 'sirop', 'sucre', 'inverti', 'poudre', 'cacao', 'poudre', 'lever', 'carbonates', 'sodium', 'carbonates', \"d'ammonium\", 'arôme', 'naturel', 'stabilisant', 'gomme', 'xanthane', 'sansgluten', 'lait', \"d'origine\", 'hors', 'traces', 'éventuelles', 'fruits', 'coque'])\n",
      " list(['farine', \"d'avoine\", 'sansgluten', 'sucre', 'pépites', 'chocolat', 'lait', 'sucre', 'lait', 'entier', 'poudre', 'beurre', 'cacao', 'pâte', 'cacao', 'émulsifiant', 'lécithine', 'soja', 'arôme', 'naturel', 'huile', 'palme', 'margarine', 'huile', 'palme', 'huile', 'colza', 'eau', 'sel', 'émulsifiant', 'mono', 'diglycérides', \"d'acides\", 'gras', 'correcteur', \"d'acidité\", 'acide', 'citrique', 'farine', 'tapioca', 'eau', 'farine', 'riz', 'sirop', 'sucre', 'inverti', 'poudre', 'lever', 'carbonates', 'sodium', 'carbonates', \"d'ammonium\", 'arôme', 'naturel', 'épaississant', 'gomme', 'xanthane', 'lait', 'origine', 'hors', 'traces', 'éventuelles', 'fruits', 'coque'])\n",
      " list(['farine', \"d'avoine\", 'sansgluten', 'sucre', 'pépites', 'chocolat', 'lait', 'sucre', 'lait', 'entier', 'poudre', 'beurre', 'cacao', 'pâte', 'cacao', 'émulsifiant', 'lécithine', 'soja', 'arôme', 'naturel', 'huile', 'palme', 'margarine', 'huile', 'palme', 'huile', 'colza', 'eau', 'sel', 'émulsifiant', 'mono', 'diglycérides', \"d'acides\", 'gras', 'correcteur', \"d'acidité\", 'acide', 'citrique', 'farine', 'tapioca', 'eau', 'farine', 'riz', 'sirop', 'sucre', 'inverti', 'poudre', 'lever', 'carbonates', 'sodium', 'carbonates', \"d'ammonium\", 'arôme', 'naturel', 'épaississant', 'gomme', 'xanthane', 'lait', 'origine', 'hors', 'traces', 'éventuelles', 'fruits', 'coque'])\n",
      " list(['chocolat', 'lait', 'belge', 'sucre', 'beurre', 'cacao', 'lait', 'entier', 'poudre', 'pâte', 'cacao', 'émulsifiant', 'lécithines', 'soja', 'extrait', 'vanille', 'farine', \"d'avoine\", 'sansgluten', 'sucre', 'margarine', 'huile', 'palme', 'huile', 'colza', 'eau', 'sel', 'émulsifiant', 'mono', 'diglycérides', \"d'acides\", 'gras', 'correcteur', \"d'acidite\", 'acide', 'citrique', 'farine', 'maïs', 'farine', 'soja', 'sirop', 'sucre', 'inverti', 'eau', 'poudre', 'lever', 'carbonates', 'sodium', 'arôme', 'naturel', 'sel', 'lait', 'origine', 'hors', 'traces', 'éventuelles', 'fruits', 'coque'])\n",
      " list(['sucre', 'farine', \"d'avoine\", 'sansgluten', 'margarine', 'graisse', 'palme', 'huile', 'colza', 'eau', 'huile', 'palme', 'sel', 'émulsifiant', 'mono', 'diglycérides', \"d'acides\", 'gras', 'huiles', 'végétales', 'palme', 'palmiste', 'amidon', 'pomme', 'terre', 'farine', 'soja', 'farine', 'riz', 'poudre', 'cacao', 'cacao', 'maigre', 'poudre', 'sirop', 'sucre', 'partiellement', 'inverti', 'colorant', 'caramel', 'ordinaire', 'arômes', 'épaississant', 'gomme', 'xanthane', 'poudre', 'lever', 'carbonates', 'sodium', 'traces', 'éventuelles', 'fruits', 'coque'])\n",
      " list(['flocons', \"d'avoine\", 'sansgluten', 'semoule', 'maïs', 'graines', 'sésame', 'farine', \"d'avoine\", 'sansgluten', 'farine', 'riz', 'graines', 'chia', 'salvia', 'hispanica', 'huile', 'tournesol', 'amidon', 'maïs', 'sel', 'iodé', 'épaississant', 'gomme', 'guar', 'poudre', 'lever', 'carbonates', 'sodium'])\n",
      " list(['flocons', \"d'avoine\", 'sansgluten', 'semoule', 'maïs', 'graines', 'sésame', 'farine', \"d'avoine\", 'sansgluten', 'farine', 'riz', 'graines', 'chia', 'salvia', 'hispanica', 'huile', 'tournesol', 'amidon', 'maïs', 'sel', 'iodé', 'épaississant', 'gomme', 'guar', 'poudre', 'lever', 'carbonates', 'sodium'])\n",
      " list(['flocons', \"d'avoine\", 'sansgluten', 'sucre', 'canne', 'raisins', 'secs', 'raisins', 'huile', 'tournesol', 'huile', 'tournesol', 'sirop', 'riz', 'riz', 'figues', 'hachées', 'séchées', 'figues', 'farine', 'riz', 'amandes', 'grillées', 'tapioca', 'canneberges', 'sucrées', 'séchées', 'canneberges', 'sucre', 'canne', 'huile', 'tournesol', 'chips', 'bananes', 'bananes', 'huile', 'coco', 'sucre', 'canne', 'abricots', 'hachés', 'séchés', 'abricots', 'farine', 'riz', 'noisettes', 'grillées', 'sel', 'biologique', 'traces', 'éventuelles', \"d'autres\", 'fruits', 'coque', 'soja', 'lait', 'graines', 'sésame', \"d'arachide\"])\n",
      " list(['sirop', 'riz', 'flocons', \"d'avoine\", 'sansgluten', 'céréales', 'croustillantes', 'farine', 'riz', 'sucre', 'farine', 'maïs', 'dextrose', 'sel', 'pétales', 'maïs', 'maïs', 'sel', 'pépites', 'chocolat', 'noir', 'pâte', 'cacao', 'sucre', 'beurre', 'cacao', 'émulsifiant', 'lécithines', 'tournesol', 'huile', 'tournesol', 'sirop', 'riz', 'déshydraté', 'cacao', 'maigre', 'poudre', 'émulsifiant', 'lécithines', 'tournesol', 'antioxydant', 'extrait', 'riche', 'tocophérols', 'arôme', 'naturel', 'noisette', 'traces', 'éventuelles', 'lait', \"d'arachides\", \"d'autres\", 'fruits', 'coque'])\n",
      " list(['sirop', 'glucosefructose', 'amandes', 'flocons', \"d'avoine\", 'sansgluten', 'raisins', 'secs', 'raisins', 'huile', 'coton', 'graines', 'courge', 'pétales', 'maïs', 'maïs', 'sel', 'riz', 'soufflé', 'huile', 'tournesol', 'miel', 'sirop', 'glucose', 'poudre', 'émulsifiant', 'lécithines', 'tournesol', 'antioxydant', 'extrait', 'riche', 'tocophérols', 'traces', 'éventuelles', 'lait', \"d'arachides\", \"d'autres\", 'fruits', 'coque'])\n",
      " list(['pêches', 'cubes', 'jus', 'raisin', 'base', 'ulcentré', 'arômes', 'naturels', 'antioxydant', 'acide', 'ascorbique', 'acidifiant', 'acide', 'citrique', 'sansgluten', 'quot', 'produit', 'préparé', 'grèce', 'ayantouyeflure', 'conserve', 'endroit', 'frais', 'sec', \"l'abri\", 'lumière', 'aprèsouyerture', 'conserve', 'jours', 'réfrigérateur'])\n",
      " list(['eau', 'maltodextrine', 'isolat', 'protéine', 'soja', 'huile', 'tournesol', 'huile', 'colza', 'purée', 'fraise', 'purée', 'framboise', 'amidon', 'fibre', \"d'avoine\", 'sansgluten', 'arôme', 'naturel', 'émulsifiant', 'lécithine', 'stabilisant', 'gomme', 'gellane', 'gomme', 'caroube', 'sel', 'colorant', 'naturel', 'lycopene', 'édulcorant', 'sucralose', 'vitamines', 'b12', 'potassium', 'phosphore', 'calcium', 'magné', 'sium', 'fer', 'zinc', 'cuivre', 'manganèse', 'sélénium', 'chrome', 'molybdène', 'iode'])\n",
      " list(['sirop', \"d'agave\", 'protéines', 'végétales', 'pois', 'soja', 'riz', 'pépites', 'pomme', 'sirop', 'fructose', 'glucose', 'concentré', 'pommes', 'stabilisant', 'glycérol', 'sucre', 'fibre', 'blé', 'sansgluten', 'matière', 'grasse', 'végétale', 'gélifiant', 'pectine', 'arôme', 'antioxydant', 'acide', 'ascorbique', 'pommes', 'cube', 'déshydratées', 'pomme', 'farine', 'riz', 'correcteur', \"d'acidité\", 'acide', 'citrique', 'antioxydant', 'acide', 'ascorbique', 'sel', 'billettes', 'croustillantes', 'farine', 'riz', 'farine', 'pois', 'chiche', 'huile', 'colza', 'fibre', 'maïs', \"d'acacia\", 'amandes', 'stabilisant', 'glycérine', 'cranberries', 'séchées', 'cranberries', 'jus', 'pomme', 'concentré', 'huile', 'tournesol', 'isomaltulose', 'graines', \"d'amarante\", 'soufflées', 'sels', 'minéraux', 'carbonate', 'potassium', 'phosphate', 'calcium', 'carbonate', 'magnésium', 'citrate', 'magnésium', 'gluconate', 'zinc', 'gluconate', 'cuivre', 'gluconate', 'fer', 'gluconate', 'manganèse', 'iodure', 'potassium', 'levure', 'séléniée', 'picolinate', 'chrome', 'jus', 'concentré', 'citron', 'arâme', 'vitamines', 'b12', 'conservateur', 'sorbate', 'potassium', 'correcteur', \"d'acidité\", 'acide', 'malique', 'antioxydants', 'extrait', 'romarin', 'tocophérols', 'soja'])\n",
      " list(['eau', 'maltodextrine', 'isolat', 'protéine', 'soja', 'huile', 'tournesol', 'fibres', 'glucosolubles', 'huile', 'colza', 'amidon', 'fibres', \"d'avoine\", 'sansgluten', 'émulsifiant', 'lécithine', 'stabilisants', 'gomme', 'gellane', 'gomme', 'caroube', 'sel', 'épices', 'tomate', 'poudre', 'carottes', 'herbes', 'assaisonnement', 'colorant', 'complexes', 'cuivrechlorophylles', 'vitamines', 'b12', 'phosphore', 'potassium', 'calcium', 'magnésium', 'fer', 'zinc', 'cuivre', 'manganèse', 'sélénium', 'chrome', 'molybdene', 'iode'])\n",
      " list(['eau', 'maltodextrine', 'isolat', 'protéines', 'soja', 'huile', 'tournesol', 'huile', 'colza', 'amidon', 'fibre', \"d'avoine\", 'sansgluten', 'arômes', 'naturels', 'émulsifiant', 'lécithine', 'stabilisants', 'gomme', 'gellane', 'gomme', 'caroube', 'sel', 'édulcorant', 'sucralose', 'mix', 'vitaminique', 'minéral', 'citrate', 'potassium', 'phosphate', 'calcium', 'phosphate', 'potassium', 'oxyde', 'magnésium', 'ascorbate', 'sodium', 'pyrophosphate', 'ferrique', 'acide', 'folique', 'sulfate', 'zinc', 'iodure', 'potassium', 'nicotinamide', 'molybdate', 'sodium', 'dpantothénate', 'calcium', 'acétate', 'rétinule', 'sulfate', 'manganèse', 'biotine', 'sélénate', 'sodium', 'chromate', 'chrome', 'sulfate', 'cuivre', 'cyanocobalamine', 'vitamine', 'ergocalciférol', 'thiamine', 'chlorhydrate', 'depyridoxine', 'riboflavine'])\n",
      " list(['granola', 'sansgluten', 'flocons', \"d'avoine\", \"d'ecosse\", 'garantie', 'sansgluten', 'sucre', 'noix', 'coco', 'sarrasin', 'cru', 'sansgluten', 'graines', 'lin', 'broyées', 'jus', 'pomme', 'concentré', 'eau', 'morceaux', 'dattes', 'riz', 'soufflé', 'croustillant', 'copeaux', 'noix', 'coco', 'toastés', 'graines', 'tournesol', 'morceaux', \"d'abricot\", 'graines', 'courges', 'baies', 'dorées', 'physalis', 'séchée', 'morceaux', \"d'ananas\", 'séché', 'issu', \"l'agriculture\", 'biologique'])\n",
      " list(['pâte', 'sucre', 'produit', 'confiserie', 'sucre', 'sirop', 'glucose', 'huiles', 'gaisses', 'vegetales', 'non', 'hydrogenées', 'huile', 'palme', 'coton', 'carthame', 'tournesol', 'beurre', 'karité', \"d'illipé\", 'eau', 'amidon', 'maïs', 'épaississant', 'e466', 'e407', 'e412', 'humectant', 'e422', 'amidon', 'modifié', 'correcteur', \"d'acidité\", 'e330', 'arômes', 'colorants', 'e133', 'e171', 'bleu', 'clair', 'e160a', 'e133', 'vert', 'prairie', 'e160a', 'jaune', 'e120', 'fushia', 'e120', 'e133', 'violet', 'conservateur', 'e202', 'peut', 'contenir', 'traces', \"d'œufs\", 'lait', 'fruits', 'coques', 'dérivés', 'sansgluten'])\n",
      " list(['eau', 'farine', 'sansgluten', 'farine', 'riz', 'farine', 'tapioca', 'fécule', 'pomme', 'terre', 'fécule', 'riz', 'farine', 'maïs', 'fécule', 'maïs', 'farine', 'riz', 'fermenté', 'huile', 'tournesol', 'levure', 'levure', 'levure', 'enrichie', 'vitamine', 'écorce', 'psyllium', 'déshydratée', 'sirop', 'sucre', 'inverti', 'poudre', 'blanc', \"d'œuf\", 'humectant', 'glycérol', 'fibres', 'betteraves', 'sucre', 'flocons', 'millet', 'sel', 'stabilisants', 'hydroxypropylméthylcellulose', 'gomme', 'xanthane', 'fibres', 'pomme', 'terre', 'carbonate', 'calcium', 'colorant', 'caramel', 'ordinaire', 'huile', 'palme', 'huile', 'colza'])\n",
      " list(['eau', 'farine', 'sansgluten', 'farine', 'riz', 'farine', 'tapioca', 'fécule', 'pomme', 'terre', 'fécule', 'riz', 'farine', 'maïs', 'fécule', 'maïs', 'farine', 'riz', 'fermenté', 'mélange', 'graines', 'graines', 'tournesol', 'graines', 'millet', 'graines', 'lin', 'brun', 'graines', 'lin', 'doré', 'graines', 'pavot', 'huile', 'tournesol', 'levure', 'levure', 'levure', 'enrichie', 'vitamine', 'écorce', 'psyllium', 'déshydratée', 'poudre', 'blanc', 'œuf', 'humectant', 'glycérol', 'sucre', 'roux', 'sel', 'stabilisants', 'hydroxypropylméthylcellulose', 'gomme', 'xanthane', 'fibres', 'pomme', 'terre', 'carbonate', 'calcium', 'colorant', 'caramel', 'ordinaire', 'huile', 'palme', 'huile', 'colza', 'émulsifiant', 'mono', 'diglycérides', \"d'acides\", 'gras'])\n",
      " list(['eau', 'farine', 'sansgluten', 'farine', 'riz', 'farine', 'tapioca', 'fécule', 'pomme', 'terre', 'farine', 'maïs', 'huile', 'tournesol', 'levure', 'levure', 'levure', 'enrichie', 'vitamine', 'écorce', 'psyllium', 'déshydratée', 'fibres', 'pomme', 'terre', 'sirop', 'sucre', 'inverti', 'poudre', 'blanc', \"d'oeuf\", 'humectant', 'glycérol', 'sel', 'stabilisants', 'hydroxypropylméthylcellulose', 'gomme', 'xanthane', 'carbonate', 'calcium', 'fibres', \"d'agrumes\", 'ﬁbres', 'pois', 'huile', 'palme', 'huile', 'colza', 'ﬁbres', 'plantain', 'ﬁbres', \"d'algues\", 'émulsifiant', 'mono', 'diglycérides', \"d'acides\", 'gras'])\n",
      " list(['eau', 'farine', 'sansgluten', 'farine', 'riz', 'fécule', 'tapioca', 'fécule', 'pomme', 'terre', 'farine', 'maïs', 'fécule', 'riz', 'fécule', 'maïs', 'raisins', 'macérés', 'raisins', 'jus', \"d'orange\", 'concentré', 'levure', 'huile', 'tournesol', 'zestes', \"d'orange\", 'écorce', 'psyllium', 'déshydratée', 'poudre', 'blanc', \"d'œuf\", 'sirop', 'sucre', 'inverti', 'humectant', 'glycérol', 'mélasse', 'noire', 'stabilisant', 'hydroxypropylméthylcellulose', 'sel', 'jus', 'fruits', 'concentré', 'raisin', 'pomme', 'poire', 'cannelle', 'moulue', 'gingembre', 'moulu'])\n",
      " list(['eau', 'farine', 'sansgluten', 'farine', 'riz', 'farine', 'tapioca', 'fécule', 'pomme', 'terre', 'fécule', 'riz', 'farine', 'fécule', 'maïs', 'farine', 'riz', 'fermenté', 'huile', 'tournesol', 'écorce', 'psyllium', 'déshydratée', 'fibres', 'pomme', 'terre', 'levure', 'levure', 'levure', 'enrichie', 'vitamine', 'sirop', 'sucre', 'inverti', 'humectant', 'glycérol', 'poudre', 'blanc', \"d'œuf\", 'sel', 'stabilisants', 'hydroxypropylméthylcellulose', 'gomme', 'xanthane', 'carbonate', 'calcium', 'huile', 'palme', 'huile', 'colza'])\n",
      " list(['farine', 'sansgluten', 'farine', 'riz', 'fécule', 'tapioca', 'fécule', 'pomme', 'terre', 'fécule', 'riz', 'fécule', 'maïs', 'farine', 'eau', 'graines', 'graines', 'lin', 'brun', 'gaines', 'tournesol', 'graines', 'pavot', 'huile', 'tournesol', 'écore', 'psyllium', 'déshydratée', 'levure', 'sirop', 'sucre', 'inverti', 'poudre', 'blanc', \"d'œufs\", 'humectant', 'glycérol', 'levain', 'déshydraté', 'fibre', 'bambou', 'stabilisants', 'hydroxypropylméthylcellulose', 'gomme', 'xanthane', 'sel', 'poudre', 'sucre', 'caramélisé', 'fécule', 'maïs', 'fermenté'])\n",
      " list(['farine', 'sarrasin', 'sansgluten', 'sans', 'lait', 'sans', 'lactose', \"d'œuf\", 'ingrblb', 'ingrédient', 'isu', \"l'agricutture\", 'buckwheat', 'flour', 'free', 'lactose', 'frea'])\n",
      " list(['granola', 'sansgluten', 'flocons', \"d'avoine\", \"d'ecosse\", 'garantie', 'sansgluten', 'sucre', 'noix', 'coco', 'sarrasin', 'cru', 'sansgluten', 'graines', 'lin', 'broyées', 'jus', 'pomme', 'concentré', 'eau', 'morceaux', 'dattes', 'riz', 'soufflé', 'croustillant', 'copeaux', 'noix', 'coco', 'toastés', 'graines', 'tournesol', 'morceaux', \"d'abricot\", 'graines', 'courges', 'baies', 'dorées', 'physalis', 'séchée', 'morceaux', \"d'ananas\", 'séché', 'issu', \"l'agriculture\", 'biologique'])\n",
      " list(['plat', 'préparé', 'base', 'légumes', 'sansgluten', 'biologique', 'ingredlents', 'légumes', 'carottes', 'courgettes', 'pots', 'épinards', 'hartcots', 'cannellini', 'farine', 'rqz', 'huile', 'tournesol', 'hutl', \"d'olive\", 'vierge', 'extra', 'tym', 'paprika', 'sels', 'ingrédients', 'issus', \"l'agncu\", 'tur', 'biologique', 'peut', 'contenir', 'taces', 'soja', 'fruits', 'coqu', 'céleri', 'graines', 'sésame', 'moutarde', 'lupin', 'condiijc', 'nne', 'sous', 'atmosphere', 'protectrice', 'eur', 'uiunelles', 'moyennes', 'energie'])\n",
      " list(['viande', 'graisse', 'porc', 'sel', 'protéines', 'lait', 'lactose', 'vin', 'amidon', 'maïs', 'dextrose', 'épices', 'antioxydants', 'e301', 'e33', 'liii', 'conservateurs', 'e250', 'e252', 'colorants', 'e120', 'extrait', 'paprika', 'sansgluten', 'produit', 'sujet', 'dessiccation'])\n",
      " list(['oeufs', 'beurre', 'mix', 'sansgluten', 'farine', 'riz', 'fécule', 'maîs', 'sucre', 'psyllium', 'épaississant', 'sucre', 'sel', 'carbonates', \"d'ammonium\"])\n",
      " list(['avocat', 'piment', 'jalapeno', 'oignon', 'déshydraté', 'sel', 'sucre', 'correcteur', \"d'acidité\", 'acide', 'citrique', 'antioxydants', 'acide', 'ascorbique', 'ascorbate', 'sodium', 'citrate', 'sodium', 'arôme', \"d'ail\", 'coriandre', 'déshydraté', 'sansgluten'])\n",
      " list(['eau', 'purifiée', 'farine', 'konjac', 'bio', 'fibre', \"d'avoine\", 'bio', 'sansgluten'])\n",
      " list(['eau', 'purifiée', 'farine', 'konjac', 'bio', 'fibre', \"d'avoine\", 'bio', 'sansgluten', 'allergènes'])\n",
      " list(['eau', 'purifiée', 'farine', 'konjac', 'bio', 'fibre', \"d'avoine\", 'bio', 'sansgluten'])\n",
      " list(['eau', 'purifiée', 'farine', 'konjac', 'bio', 'fibre', \"d'avoine\", 'bio', 'sansgluten', 'allergènes'])\n",
      " list(['sirop', 'riz', 'non', 'raffiné', 'flocons', \"d'avoine\", 'sansgluten', 'amandes', 'noix', 'cajou', 'carottes', 'patates', 'douces', 'protéines', 'pois', 'graines', 'lin', 'graines', 'courge', 'sarrasin', 'grillé', \"d'avoine\", 'oignons', 'agave', 'fibres', \"d'acacia\", 'lithothamne', 'sel', 'guérande', 'acérola', 'moringa', 'roucou', 'riz', 'feuilles', 'curry', 'basilic', 'citrons', 'épinards', 'persil', 'amla', 'thé', 'vert', 'shitake', 'lichens', 'ingrédients', 'issus', \"l'agriculture\", 'biologique'])\n",
      " list(['céréales', 'noix', 'graines', 'flocons', \"d'avoine\", 'sansgluten', 'lin', 'jaune', 'amandes', 'noix', 'cajou', 'sarrasin', 'grillé', 'graines', 'courge', 'millet', 'soufflé', 'légumes', 'carottes', 'patates', 'douces', 'oignons', 'sirop', 'riz', 'non', 'raffiné', 'glycérine', 'végétale', 'protéines', 'pois', 'fibres', \"d'acacia\", 'jus', 'citron', 'curry', 'lithothamne', 'acérola', 'sel', 'guérande', 'curcuma', 'chlorella', 'extrait', 'goyave', 'extrait', 'spiruline', 'extrait', 'chlorella', 'extrait', 'levure', 'extrait', 'mangue', 'extrait', 'haricot', 'azuki', 'extrait', \"d'écorce\", 'citron', 'extrait', 'basilic', 'ingrédients', 'issus', \"l'agriculture\", 'biologique'])\n",
      " list(['flocons', \"d'avoine\", 'sansgluten', 'lin', 'jaune', 'farine', 'sarrasin', 'protéines', 'lait', 'origine', 'suisse', 'huile', 'tournesol', 'oléique', 'agave', 'sirop', 'manioc', 'non', 'raffiné', 'pulpe', \"d'orange\", 'lait', 'coco', 'guarana', 'maca', 'vitamix', 'focus', 'citron', 'schisandra', 'chinensis', 'arôme', 'naturel', \"d'orange\", 'acide', 'malique', 'piment', 'doux', 'choline', 'bitartrate', 'lion', 'mane', 'nacétylltyrosine', 'lactose', 'lthéanine', 'phosphatidylsérine', 'ginseng', 'extrait', 'naturel', 'pépin', 'raisin', 'antioxydant', 'extrait', 'naturel', 'romarin', \"d'ingrédients\", 'agricoles', 'biologiques', 'vitamines', 'acérola', 'minéraux', 'chlorure', 'sodium', 'citrate', 'fer', 'gluconate', 'zinc', 'iodure', 'potassium', 'molybdate', 'sodium', 'sélénite', 'sodium', 'chlorure', 'chrome', 'peut', 'contenir', 'traces', 'fruits', 'coque'])\n",
      " list(['amandes', 'sucre', 'sucre', 'glace', 'miel', 'lavande', 'melon', 'confit', 'sirop', 'glucose', 'blé', 'garanti', 'sansgluten', 'blanc', \"d'oeuf\", 'écorces', \"d'oranges\", 'confites', 'pain', 'azyme', 'fécule', 'pomme', 'terre', 'eau', 'extrait', 'grandmarnier', 'jus', 'citron', 'fruits', 'confits', 'correcteur', \"d'acidité\", 'informations', 'gras', 'destindes', 'personnes', 'intolérantes', 'allergiques'])\n",
      " list(['amandes', 'sucre', 'sucre', 'glace', 'miel', 'lavande', 'melon', 'confit', 'sirop', 'glucose', 'blé', 'garanti', 'sansgluten', 'maïs', 'blanc', \"d'euf\", 'quot', 'écorces', \"d'oranges\", 'confites', 'pain', 'azyme', 'fécule', 'pomme', 'terre', 'eau', 'extrait', 'grandmarnier', 'jus', 'citron', 'fruits', 'confits', 'correcteur', \"d'acidité\", 'informations', 'gras', 'destinées', 'personnes', 'intolérantes', 'allergiques'])\n",
      " list(['amandes', 'sucre', 'sucre', 'glace', 'miel', 'lavande', 'melon', 'confit', 'sirop', 'glucose', 'blé', 'garanti', 'sansgluten', 'blanc', \"d'euf\", 'écorces', \"d'oranges\", 'confites', 'pain', 'azyme', 'fécule', 'pomme', 'terre', 'eau', 'extrait', 'grandmarnier', 'jus', 'citron', 'fruits', 'confits', 'correcteur', \"d'acidité\"])\n",
      " list(['composition', 'ingrédients', 'mélange', 'panifiable', 'sansgluten', 'amidon', 'maïs', 'oeuf', 'dextrose', 'stabilisant', 'e415', 'antioxydant', 'e300', 'régulateur', \"d'acidité\", 'e341i', 'sel', 'préparation', 'lactée', 'mozzarella', 'protéines', 'lait', 'matière', 'grasse', 'végétale', 'palme', 'mozzarella', 'amidon', 'modifié', 'sel', 'émulsifiants', 'e331', 'e339', 'e452', 'stabilisants', 'e407', 'e440', 'e464', 'correcteur', \"d'acidité\", 'e330', 'antiagglomérant', 'amidon', 'maïs', 'jambon', 'cuit', 'standard', 'jambon', 'eau', 'sel', 'dextrose', 'lactose', 'stabilisants', 'e451', 'e420', 'antioxydants', 'e331', 'e316', 'gélifiant', 'carraghénanes', 'arômes', 'conservateur', 'e250', 'eau', 'tomate', 'concassée', 'tomate', 'sel', 'régulateur', 'acide', 'citrique', 'margarine', 'végétale', 'matières', 'grasses', 'palme', 'coco', 'soja', 'tournesol', 'proportion', 'variable', 'eau', 'émulsifiant', 'e471', 'lécithines', 'sel', 'acidifiant', 'e330', 'arômes', 'conservateur', 'e202', 'colorant', 'carotènes', 'oeuf', 'pasteurisé', 'oeuf', 'conserva', 'teur', 'sorbate', 'potassium', 'acide', 'citrique', 'levure', 'fraiche', 'sel', 'origan', 'conservateur', 'propionate', 'calcium', 'produit', 'élaboré', 'atelier', 'utilise', 'fruits', 'coque', 'poisson', 'ainsi', 'ingrédients', 'contenant', 'soja', 'moutarde'])\n",
      " list(['composition', 'ingrédients', 'mélange', 'panifiable', 'sansgluten', 'amidon', 'maïs', 'oeuf', 'dextrose', 'stabilisant', 'e415', 'sel', 'correcteur', \"d'acidité\", 'e341i', 'antioxydant', 'e300', 'sauce', 'barbecue', 'tomate', 'eau', 'sucres', 'vinaigre', \"d'alcool\", 'amidon', 'maïs', 'sel', 'stabilisants', 'e410', 'e412', 'e440', 'acidifiant', 'e330', 'conserva', 'teur', 'e202', 'e201', 'arôme', 'fumée', 'colorant', 'e150', 'épices', 'préparation', 'lactée', 'mozzarella', 'protéines', 'lait', 'matière', 'grasse', 'végétale', 'palme', 'mozzarella', 'amidon', 'modifié', 'sel', 'émulsifiants', 'e331', 'e339', 'e452', 'stabili', 'sants', 'e407', 'e440', 'e464', 'correcteur', \"d'acidité\", 'e330', 'antiagglomérant', 'amidon', 'maïs', 'eau', 'viande', 'bovine', 'cuisinée', 'viande', 'bovine', 'oignons', 'sel', 'épices', 'arômes', 'margarine', 'matières', 'grasses', 'végétales', 'palme', 'coco', 'soja', 'tournesol', 'proportion', 'variable', 'émulsifiant', 'e471', 'lécithines', 'sel', 'acidifiant', 'e330', 'arômes', 'conservateur', 'e202', 'colorant', 'carotènes', 'oeuf', 'pasteurisé', 'oeuf', 'conservateur', 'sorbate', 'potassium', 'acide', 'citrique', 'levure', 'fraiche', 'sel', 'origan', 'conservateur', 'propio', 'nate', 'calcium', 'produit', 'élaboré', 'atelier', 'utilise', 'fruits', 'coque', 'poisson', 'ainsi', 'ingrédients', 'contenant', 'soja', 'moutarde'])\n",
      " list(['farine', 'lentilles', 'farine', 'pois', 'chiches', 'farine', 'petits', 'pois', 'farine', 'haricots', 'peut', 'contenir', 'traces', 'soja', 'sansgluten'])\n",
      " list(['maccheroni', 'multicéréales', 'sansgluten', 'ngrédients', 'faine', 'maïs', 'farine', 'riz', 'faine', \"d'amarante\", 'eff', 'quinoa', 'peut', 'contenir', 'traces', 'soja', 'conserver', 'endroit', 'frais', 'sec'])\n",
      " list(['pulpe', 'tomates', 'huile', \"d'olive\", 'vierge', 'extra', 'basilic', 'genovese', 'aop', 'sirop', 'glucose', 'oignons', 'sel', 'concentré', 'tomates', 'sucre', 'ail', 'poivre', 'sansgluten'])\n",
      " list(['pupe', 'tomate', 'tournesol', 'tomates', 'séchées', 'vinaigre', 'vierge', 'extrat', 'oriaan', 'ail', 'sansgluten'])\n",
      " list(['viande', 'porc', 'panse', 'porc', 'sel', 'saccharose', 'epices', 'arômes', 'naturels', 'antioxygene', 'ascorbate', 'sodium', 'conservateur', 'nitrite', 'sodium', 'produit', 'peut', 'contenir', 'traces', 'pistache', 'sansgluten'])\n",
      " list(['viande', 'porc', 'sel', 'saccharose', 'pistaches', 'épices', 'antioxydant', 'e301', 'conservateur', 'e250', 'produit', 'garanti', 'sansgluten'])\n",
      " list(['farine', \"d'avoine\", 'complet', 'sansgluten', 'farine', 'riz', 'sel', 'produits', 'issus', \"l'agriculture\", 'biologique'])\n",
      " list(['sansgluten'])\n",
      " list(['lait', 'entier', 'frais', 'sucre', 'lait', 'écrémé', 'poudré', 'beurre', 'salé', 'lait', 'entier', 'pasteurisé', 'sel', 'sansgluten', 'sans', 'huile', 'palme', 'origine', 'france', 'produit', 'fini'])\n",
      " list(['lin', 'farines', 'sansgluten', 'multigraines', 'farine', 'sarrazin', 'farine', 'riz', 'mélange', 'graines', 'lin', 'toumesot', 'courge', 'pavot', 'farine', 'châtaigne', 'farine', 'amidon', 'maïs', 'huile', \"d'olive\", 'poudre', 'blanc', \"d'oeuf\", 'levure', 'sel', 'urs', 'moyennes', 'énergie'])\n",
      " list(['sarrasin', 'gourmand', 'bio', 'sansgluten', 'sablés', 'fenouil', 'fabriqué', 'france', 'certifié', 'fruio.oi', 'ue/nonaje'])\n",
      " list(['farine', 'riz', 'levain', 'sansgluten', 'eau', 'farine', 'quinoa', 'farine', 'riz', 'complet', 'levure', 'lactobacillus', 'brevjs', 'eau', 'fécule', 'pomme', 'terre', 'farine', 'quinoa', 'huile', 'palme', 'non', 'hydrogénée', 'épaississants', 'gomme', 'guars', 'farine', 'graines', 'caroube', 'sucre', 'canne', 'complet', 'levure', 'boulanger', 'sel', 'vinaigre', \"d'alcool\", 'issus', \"l'agriculture\", 'biologique', 'fabriqué', 'atelier', 'utilise', 'soja', 'oeufs', 'sésame', 'fruits', 'coque', 'produit', 'contient', \"l'huile\", 'palme', 'certifiée', 'durable', 'rspo', 'infos'])\n",
      " list(['graines', 'oléagineux', 'germés', 'pré', 'gcrmés', 'activés', 'sarrasin', 'tournesol', 'amandes', 'noisettes', 'noix', 'cajou', 'sirop', \"d'érable\", 'figues', 'cru', 'criollo', 'raisins', 'quot', 'fleur', 'coco', 'cannelle', 'bourbon', 'sel', 'guérande', 'produit', 'issu', \"l'agriculture\", 'bic', 'sars', 'sou', 'sansgluten', 'sars', 'agrtcuc7unv'])\n",
      " list(['filet', 'poulet', 'halal', 'sel', 'nitrité', 'iodé', 'sel', 'conserva', 'teurs', 'nitrite', 'sodium', 'iodate', 'potassium', 'dextrose', 'sirop', 'glucose', 'stabilisant', 'diphosphates', 'citrate', 'sodium', 'acidifiant', 'carbonate', 'sodium', 'assaisonnement', 'base', 'colza', 'tmaïs', 'huile', 'colza', 'tioxydant', 'ascorbate', 'sodium', 'sansgluten', 'sans', 'celeri'])\n",
      " list(['farine', 'riz', 'sucre', 'canne', 'non', 'raffiné', 'fécule', 'maïs', 'huile', 'tournesol', 'œufs', 'entiers', 'flocons', \"d'avoine\", 'sansgluten', 'poudre', \"d'amande\", 'farine', 'maïs', 'farine', 'lin', 'arôme', 'naturel', 'vanille'])\n",
      " list(['filets', 'anchois', 'engraulus', 'encrasicolus', 'huile', \"d'olive\", 'sel', 'sans', 'ogm', 'sansgluten', 'riche', 'oméga'])\n",
      " list(['protéines', 'lait', 'émulsifiant', 'lécithines', 'tournesol', 'farine', 'avoine', 'sansgluten', 'poudre', 'lait', 'écrémé', 'lin', 'jaune', 'farine', 'riz', 'matière', 'grasse', 'végétale', 'huile', 'tournesol', 'maltodextrine', 'minéraux', 'saveur', 'vanille', 'fibres', 'acacia', 'épaississants', 'gomme', 'guar', 'gomme', 'xanthane', 'maltodextrine', 'édulcorants', 'vitamines', 'b12', 'extrait', 'naturel', 'romarin'])\n",
      " list(['protéines', 'lait', 'émulsifiant', 'lécithines', 'tournesol', 'farine', 'avoine', 'sansgluten', 'poudre', 'lait', 'écrémé', 'chocolat', 'sucre', 'pâte', 'cacao', 'cacao', 'maigre', 'poudre', 'lin', 'jaune', 'farine', 'riz', 'matière', 'grasse', 'végétale', 'huile', 'tournesol', 'maltodextrine', 'saveur', 'stracciatella', 'minéraux', 'fibres', 'acacia', 'épaississants', 'gomme', 'guar', 'gomme', 'xanthane', 'maltodextrine', 'édulcorants', 'vitamines', 'b12', 'extrait', 'naturel', 'romarin'])\n",
      " list(['protéines', 'lait', 'émulsifiant', 'lécithines', 'tournesol', 'farine', 'avoine', 'sansgluten', 'poudre', 'lait', 'écrémé', 'lin', 'jaune', 'farine', 'riz', 'matière', 'grasse', 'végétale', 'huile', 'tournesol', 'maltodextrine', 'minéraux', 'saveur', 'cheesecakecitron', 'fibres', 'acacia', 'épaississants', 'gomme', 'guar', 'gomme', 'xanthane', 'maltodextrine', 'correcteur', 'acidité', 'acide', 'citrique', 'extrait', 'thé', 'vert', 'édulcorants', 'vitamines', 'b12', 'extrait', 'naturel', 'romarin'])\n",
      " list(['protéines', 'lait', 'émulsifiant', 'lécithines', 'tournesol', 'farine', 'avoine', 'sansgluten', 'poudre', 'lait', 'écrémé', 'biscuit', 'cacaoté', 'amidon', 'maïs', 'sucre', 'beurre', 'doux', 'lait', 'blanc', \"d'oeuf\", 'poudre', 'cacao', 'agent', 'levant', 'bicarbonate', 'sodium', 'arômes', 'lin', 'jaune', 'farine', 'riz', 'matière', 'grasse', 'végétale', 'huile', 'tournesol', 'maltodextrine', 'minéraux', 'phosphate', 'dipotassique', 'oxyde', 'magnésium', 'phosphate', 'tricalcique', 'gluconate', 'zinc', 'pyrophosphate', 'fer', 'gluconate', 'manganèse', 'gluconate', 'cuivre', 'iodure', 'potassium', 'chlorure', 'chrome', 'sélénite', 'sodium', 'fibres', 'acacia', 'épaississants', 'gomme', 'guar', 'gomme', 'xanthane', 'maltodextrine', 'extrait', 'thé', 'vert', 'édulcorants', 'sucralose', 'acésulfame', 'potassium', 'vitamines', 'b12', 'extrait', 'naturel', 'romarin'])\n",
      " list(['protéines', 'lait', 'émulsifiant', 'lécithines', 'tournesol', 'farine', 'avoine', 'sansgluten', 'poudre', 'lait', 'écrémé', 'biscuit', 'cacaoté', 'amidon', 'maïs', 'sucre', 'beurre', 'doux', 'lait', 'blanc', \"d'oeuf\", 'poudre', 'cacao', 'agent', 'levant', 'bicarbonate', 'sodium', 'arômes', 'lin', 'jaune', 'farine', 'riz', 'matière', 'grasse', 'végétale', 'huile', 'tournesol', 'maltodextrine', 'minéraux', 'phosphate', 'dipotassique', 'oxyde', 'magnésium', 'phosphate', 'tricalcique', 'gluconate', 'zinc', 'pyrophosphate', 'fer', 'gluconate', 'manganèse', 'gluconate', 'cuivre', 'iodure', 'potassium', 'chlorure', 'chrome', 'sélénite', 'sodium', 'fibres', 'acacia', 'épaississants', 'gomme', 'guar', 'gomme', 'xanthane', 'maltodextrine', 'extrait', 'thé', 'vert', 'édulcorants', 'sucralose', 'acésulfame', 'potassium', 'vitamines', 'b12', 'extrait', 'naturel', 'romarin'])\n",
      " list(['protéines', 'lait', 'émulsifiant', 'lécithines', 'tournesol', 'farine', \"d'avoine\", 'sansgluten', 'poudre', 'lait', 'écrémé', 'chocolat', 'sucre', 'pâte', 'cacao', 'cacao', 'maigre', 'poudre', 'noix', 'coco', 'râpée', 'lin', 'jaune', 'farine', 'riz', 'matière', 'grasse', 'végétale', 'huile', 'tournesol', 'maltodextrine', 'saveur', 'noix', 'coco', 'minéraux', 'fibres', 'acacia', 'épaississants', 'gomme', 'guar', 'gomme', 'xanthane', 'extrait', 'thé', 'vert', 'maltodextrine', 'édulcorants', 'vitamines', 'b12', 'extrait', 'naturel', 'romarin'])\n",
      " list(['protéines', 'lait', 'émulsifiant', 'lécithines', 'tournesol', 'farine', 'avoine', 'sansgluten', 'poudre', 'lait', 'écrémé', 'lin', 'jaune', 'farine', 'riz', 'matière', 'grasse', 'végétale', 'huile', 'tournesol', 'maltodextrine', 'café', 'poudre', 'minéraux', 'cacao', 'maigre', 'poudre', 'saveur', 'cappuccino', 'fibres', 'acacia', 'épaississants', 'gomme', 'guar', 'gomme', 'xanthane', 'maltodextrine', 'extrait', 'thé', 'vert', 'édulcorants', 'vitamines', 'b12', 'extrait', 'naturel', 'romarin'])\n",
      " list(['protéines', 'lait', 'émulsifiant', 'lécithines', 'tournesol', 'poudre', 'lait', 'écrémé', 'biscuit', 'cacaoté', 'amidon', 'maïs', 'sucre', 'beurre', 'doux', 'lait', 'blanc', \"d'œuf\", 'poudre', 'cacao', 'agent', 'levant', 'bicarbonate', 'sodium', 'cacao', 'maigre', 'poudre', 'farine', 'avoine', 'sansgluten', 'lin', 'jaune', 'farine', 'riz', 'matière', 'grasse', 'végétale', 'huile', 'tournesol', 'maltodextrine', 'saveur', 'chocolat', 'minéraux', 'fibres', 'acacia', 'épaississants', 'gomme', 'guar', 'gomme', 'xanthane', 'maltodextrine', 'extrait', 'thé', 'vert', 'édulcorants', 'vitamines', 'b12', 'extrait', 'naturel', 'romarin'])\n",
      " list(['haricots', 'blancs', 'cuits', 'eau', 'sel/', 'antioxydant', 'e223', 'e385', 'sansgluten', 'contient', 'sulfites'])\n",
      " list(['purée', 'tomate', 'tomates', 'émincées', 'tomate', 'acidifiant', 'acide', 'citrique', 'stabilisateur', 'e509', 'oignon', 'poivron', 'huile', 'tournesol', 'ail', 'sucre', 'sel', 'sansgluten'])\n",
      " list(['viande', 'poulet', 'piquillos', 'poivrons', 'oignons', 'sel', 'poivre', 'piment', 'ail', 'bouillon', 'poulet', 'sansgluten'])\n",
      " list(['avoine', 'sansgluten', 'farine', 'flocons', 'quot', 'farine', 'sarrasin', 'sucre', 'canne', 'blond', 'beurre', 'concentré', 'lait', 'amidon', 'maïs', 'quot', 'graines', 'lin', 'tournesol', 'quot', 'fécule', 'pomme', 'terre', 'quot', 'poudres', 'lever', 'carbonates', 'sodium', 'carbonates', \"d'ammonium\", 'phosphates', 'calcium', 'sel', 'jus', 'citron', 'concentré', 'quot', 'émulsifiant', 'lécithines', 'quot', 'ingrédients', 'issus', \"l'agriculture\", 'biologique', 'ingrédient', 'issu', 'commerce', 'équitable', 'sansgluten', 'allergènes', 'risque', 'traces', \"d'œufs\", 'fruits', 'coque'])\n",
      " list(['farine', 'riz', 'sucre', 'canne', 'non', 'raffiné', 'poudre', \"d'amande\", 'sucre', 'coco', 'farine', 'lin', 'huile', 'tournesol', 'pépite', 'chocolat', 'noir', 'masse', 'cacao', 'sucre', 'canne', 'beurre', 'cacao', 'émulsifiant', 'lécithine', 'tournesol', 'arôme', 'naturel', 'vanille', 'amidon', 'maïs', 'flocon', \"d'avoine\", 'graine', 'sésame', 'graine', 'tournesol', 'cacao', 'poudre', 'poudre', 'lever', 'sansgluten', 'fécule', 'pomme', 'terre', 'bicarbonate', 'sodium', 'acide', 'tartrique'])\n",
      " list(['farine', 'riz', 'sucre', 'canne', 'non', 'raffiné', 'poudre', \"d'amande\", 'farine', 'lin', 'noisette', 'huile', 'tournesol', 'flocon', \"d'avoine\", 'amidon', 'maïs', 'sucre', 'coco', 'graine', 'lin', 'graine', 'tournesol', 'poudre', 'lever', 'sansgluten', 'fécule', 'pomme', 'terre', 'bicarbonate', 'sodium', 'acide', 'tartrique'])\n",
      " list(['farine', 'riz', 'poudre', \"d'amande\", 'sucre', 'canne', 'non', 'raffiné', 'canneberge', 'canneberges', 'sucre', 'canne', 'huile', 'fournesol', 'huile', 'tournesol', 'fécule', 'maïs', 'flocon', \"d'avoine\", 'farine', 'lin', 'graines', 'tournesol', 'graines', 'lin', 'sucre', 'coco', 'farine', 'banane', 'verte', 'poudre', 'lever', 'sansgluten', 'fécule', 'pomme', 'terre', 'bicarbo', 'nate', 'sodium', 'acide', 'tartrique', 'ingrédient', 'issu', \"l'agriculture\", 'biologique', 'allergénes', 'fruits', 'coque', 'gluten', 'traces', 'possible', 'sésame', 'soja', \"d'autres\", 'fruits', 'coque', 'manger', 'sain', 'vivne', 'engagé', 'sans', 'farine', 'blé', 'riche', 'fibres', 'encres', 'végétales', 'ftui', 'carton', 'fsc'])\n",
      " list(['farine', 'riz', 'fécule', 'maïs', 'huile', 'tournesol', 'œufs', 'sucre', 'canne', 'non', 'raffiné', 'sucre', 'coco', 'pépite', 'chocolat', 'noir', 'masse', 'cacao', 'sucre', 'canne', 'beurre', 'cacao', 'émulsifiant', 'lécithine', 'tournesol', 'arôme', 'naturel', 'vanille', 'flocon', \"d'avoine\", 'sansgluten', 'farine', 'lin', 'farine', 'maïs', 'poudre', \"d'amande\", 'cacao', 'poudre'])\n",
      " list(['farine', 'riz', 'sucre', 'canne', 'non', 'raffiné', 'fécule', 'maïs', 'huile', 'tournesol', 'oeufs', 'flocon', \"d'avoine\", 'sansgluten', 'poudre', \"d'amande\", 'farine', 'maïs', 'farine', 'lin', 'arôme', 'naturel', 'vanille'])\n",
      " list(['farine', 'riz', 'fécule', 'maïs', 'sucre', 'canne', 'non', 'raffiné', 'oeufs', 'huile', 'tournesol', 'flocon', \"d'avoine\", 'sansgluten', 'poude', \"d'amande\", 'farine', 'lin', 'farine', 'maïs', 'jus', 'citron', 'écorce', 'citron', 'huile', 'essentielle', 'citron'])\n",
      " list(['farine', 'riz', 'poudre', \"d'amande\", 'sucre', 'canne', 'non', 'raffiné', 'canneberge', 'canneberges', 'sucre', 'canne', 'huile', 'tournesol', 'huile', 'tournesol', 'amidon', 'maïs', 'flocon', \"d'avoine\", 'farine', 'lin', 'graine', 'tournesol', 'graine', 'lin', 'sucre', 'coco', 'farine', 'banane', 'verte', 'poudre', 'lever', 'sansgluten', 'fécule', 'pomme', 'terre', 'bicarbonate', 'sodium', 'acide', 'tartrique'])\n",
      " list(['graines', 'graine', 'tournesol', 'graine', 'lin', 'graine', 'courge', 'farine', 'riz', 'farine', 'lin', 'flocons', 'céréales', 'flocon', \"d'avoine\", 'flocon', 'sarrasin', 'amidon', 'maïs', 'sucre', 'canne', 'non', 'raffiné', 'huile', 'tournesol', 'noix', 'coco', 'râpée', 'poudre', 'lever', 'sansgluten', 'fécule', 'pomme', 'terre', 'bicarbonate', 'sodium', 'acide', 'tartrique', 'sel', 'fin'])\n",
      " list(['graines', 'graine', 'tournesol', 'graine', 'lin', 'graine', 'courge', 'flocon', \"d'avoine\", 'farine', 'riz', 'farine', 'lin', 'concentré', 'protéine', 'riz', 'huile', 'tournesol', 'sucre', 'canne', 'amidon', 'maïs', 'poudre', 'lever', 'sansgluten', 'fécule', 'pomme', 'terre', 'bicarbonate', 'sodium', 'acide', 'tartrique'])\n",
      " list(['graines', 'graine', 'tournesol', 'graine', 'lin', 'graine', 'sarrasin', 'farine', 'riz', 'flocon', \"d'avoine\", 'farine', 'lin', 'huile', 'tournesol', 'amidon', 'maïs', 'sel', 'poudre', 'lever', 'sansgluten', 'fécule', 'pomme', 'terre', 'bicarbonate', 'sodium', 'acide', 'tartrique', 'thym', 'poivre'])\n",
      " list(['farine', 'riz', 'fécule', 'maïs', 'sucre', 'canne', 'non', 'raffiné', 'oeufs', 'huile', 'tournesol', 'flocon', \"d'avoine\", 'sansgluten', 'poudre', \"d'amande\", 'farine', 'lin', 'farine', 'maïs', 'cranberry', 'canneberge', 'sucre', 'canne', 'huile', 'tournesol', 'framboise', 'lyophilisée'])\n",
      " list(['farine', 'riz', 'pépites', 'chocolat', 'masse', 'cacao', 'sucre', 'canne', 'beurre', 'cacao', 'émulsifiant', 'lécithine', 'tournesol', 'arôme', 'naturel', 'vanille', 'sucre', 'canne', 'non', 'raffiné', 'sucre', 'coco', 'amidon', 'maïs', 'poudre', \"d'amande\", 'noisette', 'graines', 'graine', 'lin', 'graines', 'tournesol', 'flocon', \"d'avoine\", 'huile', 'vierge', 'colza', 'farine', 'lin', 'poudre', 'lever', 'sansgluten', 'fécule', 'pomme', 'terre', 'bicarbonate', 'sodium', 'acide', 'tartrique'])\n",
      " list(['farine', 'riz', 'pépite', 'chocolat', 'noir', 'masse', 'cacao', 'sucre', 'canne', 'beurre', 'cacao', 'émulsifiant', 'lécithine', 'tournesol', 'arôme', 'naturel', 'vanille', 'sucre', 'canne', 'non', 'raffiné', 'sucre', 'coco', 'amidon', 'maïs', 'flocon', \"d'avoine\", 'poudre', \"d'amande\", 'huile', 'vierge', 'colza', 'graine', 'lin', 'farine', 'lin', 'graine', 'tournesol', 'cacao', 'poudre', 'poudre', 'lever', 'sansgluten', 'fécule', 'pomme', 'terre', 'bicarbonate', 'sodium', 'acide', 'tartrique'])\n",
      " list(['farine', 'riz', 'amidon', 'maïs', 'poudre', \"d'amande\", 'flocon', \"d'avoine\", 'huile', 'vierge', 'colza', 'graine', 'lin', 'canneberges', 'canneberges', 'sucre', 'canne', 'huile', 'tournesol', 'graine', 'tournesol', 'sucre', 'canne', 'non', 'raffiné', 'sucre', 'coco', 'farine', 'lin', 'poudre', 'lever', 'sansgluten', 'fécule', 'pomme', 'terre', 'bicarbonate', 'sodium', 'acide', 'tartrique', 'arôme', 'naturel', 'framboise'])\n",
      " list(['farine', 'riz', 'huile', 'tournesol', 'flocon', \"d'avoine\", 'amidon', 'maïs', 'graine', 'lin', 'farine', 'maïs', 'poudre', \"d'amande\", 'farine', 'lin', 'graine', 'sésame', 'graine', 'tournesol', 'sel', 'mer', 'fin', 'poudre', 'lever', 'sansgluten', 'fécule', 'pomme', 'terre', 'bicarbonate', 'sodium', 'acide', 'tartrique', 'romarin', 'thym', 'gomme', 'xanthane', 'paprika', 'poivre', 'noir'])\n",
      " list(['farine', 'riz', 'huile', 'tournesol', 'flocon', \"d'avoine\", 'amidon', 'maïs', 'tomate', 'poudre', 'graine', 'lin', 'farine', 'maïs', 'poudre', \"d'amande\", 'farine', 'lin', 'graine', 'sésame', 'graine', 'tournesol', 'sel', 'mer', 'fin', 'poudre', 'lever', 'sansgluten', 'fécule', 'pomme', 'terre', 'bicarbonate', 'sodium', 'acide', 'tartrique', 'origan', 'gomme', 'xanthane', 'poivre', 'noir'])\n",
      " list(['farine', 'riz', 'sucre', 'canne', 'amidon', 'maïs', 'oeufs', 'huile', 'tournesol', 'flocon', \"d'avoine\", 'sansgluten', 'poudre', \"d'amande\", 'farine', 'lin', 'farine', 'maïs', 'graines', 'lin'])\n",
      " list(['farine', 'riz', 'huile', 'tournesol', 'amidon', 'maïs', 'flocon', \"d'avoine\", 'sucre', 'coco', 'sucre', 'canne', 'non', 'raffiné', 'oeuf', 'entier', 'noisette', 'farine', 'lin', 'graine', 'lin', 'poudre', 'lever', 'sansgluten', 'fécule', 'pomme', 'terre', 'bicarbonate', 'sodium', 'acide', 'tartrique'])\n",
      " list(['farine', 'riz', 'huile', 'colza', 'flocons', \"d'avoine\", 'amidon', 'maïs', 'œuf', 'entier', 'sucre', 'coco', 'sucre', 'canne', 'non', 'raffiné', 'farine', 'lin', 'pépites', 'chocolat', 'noir', 'masse', 'cacao', 'sucre', 'canne', 'beurre', 'cacao', 'émulsifiant', 'lécithine', 'tournesol', 'arôme', 'naturel', 'vanille', 'graine', 'lin', 'poudre', 'lever', 'sansgluten', 'fécule', 'pomme', 'terre', 'bicarbonate', 'sodium', 'acide', 'tartrique'])\n",
      " list(['farine', 'riz', 'huile', 'tournesol', 'flocon', \"d'avoine\", 'amidon', 'maïs', 'sucre', 'coco', 'sucre', 'canne', 'non', 'raffiné', 'oeuf', 'entier', 'pépite', 'chocolat', 'noir', 'masse', 'cacao', 'sucre', 'canne', 'beurre', 'cacao', 'émulsifiant', 'lécithine', 'tournesol', 'arôme', 'naturel', 'vanille', 'farine', 'lin', 'cacao', 'poudre', 'poudre', 'lever', 'sansgluten', 'fécule', 'pomme', 'terre', 'bicarbonate', 'sodium', 'acide', 'tartrique'])\n",
      " list(['farine', 'riz', 'vin', 'blanc', 'contient', 'sulfites', 'huile', \"d'olive\", 'extra', 'vierge', 'fécule', 'pomme', 'terre', 'farine', 'maïs', 'farine', 'pois', 'chiche', 'amidon', 'maïs', 'sel', 'épaississant', 'gomme', 'xanthane', 'romarin', 'issu', \"l'agriculture\", 'biologique', 'produit', 'pouvant', 'contenir', 'traces', \"d'oeufs\", 'sansgluten', 'bio', 'pauvre', 'sucres'])\n",
      " list([\"'ingrâèlts\", 'sardines', 'sardina', 'pilchardus', 'sansgluten', 'allergène', 'poisson'])\n",
      " list(['flocons', \"d'avoine\", 'sansgluten', 'mélange', 'graines12', 'tournesol', 'courge', 'sucre', 'canne', 'huile', 'coco', 'canneberges', 'canneberge', 'sucre', 'canne', 'huile', 'tournesol', 'amandes', 'poudre', 'raisins', 'secs', 'sirop', \"d'agave\", 'noisettes', 'grillées', 'poudre', 'noix', 'cajou', 'riz', 'soufflé', 'miel', 'gelée', 'royale'])\n",
      " list(['mélange', 'fruits', 'sirop', 'léger', 'aromatisé', 'pêches', 'cubes', 'poires', 'cubes', 'pommes', 'cubes', 'bigarreaux', 'dénoyautés', 'colorés', 'e127', 'eau', 'sirop', 'glucosefructose', 'sucre', 'arômes', 'naturels', 'acidifiants', 'acide', 'citrique', 'sansgluten', 'quot', 'comme', 'tous', 'produits', 'catégorie'])\n",
      " list(['farine', 'riz', 'fécule', 'pomme', 'terre', 'eau', 'beurre', 'margarine', 'huiles', 'palme', 'tournesol', 'eau', 'émulsifiant', 'lécithine', 'tournesol', 'sel', 'correcteur', \"d'acidité\", 'jus', 'citron', 'vinaigre', 'cidre', 'sel', 'épaississant', 'gomme', 'xanthane', 'ingrédients', 'issus', \"l'agriculture\", 'biologique', 'allergènes', 'garanti', 'sansgluten', 'contient', 'lait', 'risque', 'traces', \"d'oeuf\", 'poisson'])\n",
      " list(['lait', 'farine', 'riz', 'beurre', 'sucre', 'ingrédients', 'canne', 'fécule', 'pomme', 'terre', 'chocolat', 'laitx', 'sucre', 'canne', 'poudre', 'lait', 'beurre', 'cacao', 'pâte', 'cacao', 'extrait', 'vanille', 'poudre', 'glucose', 'extrait', 'vanille', 'poudre', 'lever', 'carbonate', \"d'ammonium\", 'épaississant', 'gomme', 'guar', 'sel', 'ingrédients', 'issus', \"l'agriculture\", 'biologique', 'allergènes', 'garanti', 'sansgluten', 'contient', 'lait', 'risque', 'traces', 'fruits', 'coque', 'conservation', 'conserver', 'température', 'ambiante', 'mei', 'rijstmeel', 'ingrediënten', 'boter', 'rietsuiker', 'aardappelzetmeel', 'melkchocolade', 'clet', 'uiker', 'melkpoeder'])\n",
      " list(['petites', 'brioches', 'ingédlenjs', 'amidon', 'maïs', 'boisson', 'riz', 'eau', 'riz', 'huile', 'tournesol', 'sel', 'acidifiant', 'carbonate', 'calcium', 'beurre', 'oeuf', 'sucre', 'canne', 'farine', 'maïs', 'levure', 'boulanger', 'sirop', 'sucre', 'inverti', 'épaississants', 'gomme', 'guar', 'farine', 'graines', 'caroube', 'sel', 'ingrédients', 'issus', \"l'agriculture\", 'biologique', 'alleœgènes', 'garanti', 'sansgluten', 'contient', 'œuf', 'lait'])\n",
      " list(['issus', \"l'agriculture\", 'biologique', 'ingredients', 'organic', 'farming', 'ingredienti', 'agricoltura', 'biologica', 'ingredientes', 'agricultura', 'ecolôgica', 'incrediénten', 'van', 'biologische', 'landbouw', 'sansgluten', 'traces', 'éventuelles', 'œufs', 'fruits', 'coque', 'glutenfree', 'may', 'contain', 'traces', 'eggs', 'nuts', 'glutine', 'contenere', 'ijova', 'frutta', 'guscio', 'sin', 'gluten', 'pijede', 'contener', 'hijevo', 'frutos', 'cascara', 'glutenvrij', 'kan', 'sporen', 'van', 'noten', 'bevatten', 'contient', 'sucres', 'naturellement', 'présents', 'naturally', 'contains', 'sugars', 'contiene', 'naturalmente', 'zuccheri', 'contiene', 'azijcares', 'naturales', 'bevat', 'van', 'nature', 'aanwezice', 'suikers'])\n",
      " list(['rillettes', 'sardines', 'rochelaise', 'sardines', 'filets', 'crème', 'liquide', 'lait', 'demiécrémé', 'tomates', 'concassées', 'poivrons', 'rouges', 'huile', 'tournesol', 'jus', 'citron', 'sel', 'agaragar', 'poivre', 'sansgluten'])\n",
      " list(['pâte', 'eau', 'farine', 'riz', 'farine', 'pois', 'chiche', 'farine', 'maïs', 'levure', 'épaississant', 'gomme', 'xanthane', 'gomme', 'guar', 'sucre', 'sel', 'sauce', 'tomate', 'purée', 'tomate', 'oignon', 'concentré', 'tomate', 'sel', 'sucre', 'ail', 'persil', 'basilic', 'poivre', 'origan', 'herbes', 'provence', 'emmental', 'râpé', 'tomates', 'séchées', 'marinées', \"l'huile\", \"d'olive\", 'basilic', 'olives', 'ingrédients', 'issus', \"l'agriculture\", 'biologique', 'informations', 'gras', 'destinées', 'personnes', 'intolérantes', 'allergiques', 'produit', 'élaboré', 'atelier', 'dédié', 'sansgluten', 'matières', 'premières', 'surgelées', 'produit', 'congeler'])\n",
      " list(['délice', 'tartiner', 'sansgluten', 'sqscclchrat', 'irgédprts', 'potte', 'sucre', 'fructose', 'i./ct0f', 'teneur'])\n",
      " list(['eau', 'farine', 'riz', 'levain', 'naturel', 'farine', 'riz', 'eau', 'farine', 'millet', 'abricots', 'secs', 'noisettes', 'farine', 'châtaigne', 'sel', 'guérande', 'gomme', 'xanthane', 'levure', 'boulanger', 'sansgluten'])\n",
      " list(['farine', 'riz', 'français', 'blancs', \"d'oeufs\", 'sucre', 'canne', 'amandes', 'poudre', 'sucre', 'inverti', 'huile', \"d'olive\", 'huile', 'tournesol', 'poudre', 'lever', 'sansgluten', 'fécule', 'pomme', 'terre', 'bicarbonate', 'sodium', 'acide', 'tartrique', 'gomme', 'guar', 'arôme', 'naturel', \"d'amandes\"])\n",
      " list(['contient', 'sulfites', 'sansgluten'])\n",
      " list(['riz', 'vinaigré', 'riz', 'vinaigre', 'sushi', 'vinaigre', \"d'alcool\", 'sucre', 'sel', 'extrait', 'kelp', 'jus', 'citron', 'huile', 'tournesol', 'sel', 'saumon', 'salmo', 'salar', 'oignons', 'frits', 'oignon', 'huile', 'palme', 'farine', 'sarrasin', 'amidon', 'riz', 'sel', 'avocat', 'préparation', 'fromagère', 'pasteurisé', 'crème', 'lait', 'pasteurisé', 'crème', 'pasteurisée', 'lait', 'protéines', 'lait', 'sel', 'sauce', 'sushis', 'sucre', 'sauce', 'soja', 'sansgluten', 'eau', 'soja', 'sel', 'vinaigre', \"d'alcool\", 'eau', 'caramel', 'aromatique', 'saccharose', 'sirop', 'glucose', 'sirop', 'glucosefructose', 'amidon', 'modifié', 'mélasses', 'canne', 'sel', 'eaudevie', 'marc', 'stabilisants', 'e401', 'e415', 'extrait', 'levure', 'mayonnaise', 'huile', 'colza', 'eau', 'sirop', 'glucosefructose', 'vinaigre', \"d'alcool\", 'amidon', 'modifié', 'sel', 'graines', 'moutarde', 'stabilisant', 'e415', 'épices', 'algues', 'sriracha', 'piment', 'eau', 'sucre', 'ail', 'ail', 'correcteur', \"d'acidité\", 'e330', 'vinaigre', \"d'alcool\", 'paprika', 'sel', 'piment', 'cayenne', 'épaississant', 'e412', 'stabilisant', 'e415', 'colorant', 'e160c', 'conservateur', 'e202', 'correcteur', \"d'acidité\", 'e330'])\n",
      " list(['eau', 'source', 'amandes', 'riz', 'ingrédients', \"d'origine\", 'agricole', 'issus', \"l'agriculture\", 'biologique', 'contient', 'fruits', 'coque', 'convient', 'végétarien', 'végétalien', 'sansgluten'])\n",
      " list(['celot', 'sansgluten', 'beurre', 'coque', 'valeurs'])\n",
      " list(['farine', 'riz', 'sansgluten', 'sucre', 'beurre', 'jaunes', \"d'œufs\", 'citrons', 'confits', 'écorce', 'citron', 'sirop', 'glucosefructose', 'sucre', 'acide', 'citrique', 'sorbate', 'potassium', 'disulfite', 'sodium', 'poudre', 'lever', 'diphosphate', 'disodique', 'bicarbonate', 'soude', 'sel', 'vendée', 'arôme', 'naturel', 'citron', 'fabriqué', 'atelier', 'utilisés', 'œufs', 'lait', 'graines', 'sésame', 'fruits', 'coque', 'céréales', 'contenant', 'gluten', 'sans', 'conservateur', 'sans', 'colorant', 'poids', 'net', 'emb'])\n",
      " list(['pommes', 'bio', 'frais', 'bio', 'cranberries', 'bio', 'poudre', 'noisettes', 'bio', 'jus', 'citron', 'bio', 'concentré', 'sansgluten'])\n",
      " list(['pommes', 'bio', 'eau', 'jus', 'fruits', 'passion', 'grenades', 'bio', 'jus', 'grenades', 'bio', 'farine', 'riz', 'bio', 'jus', 'citron', 'bio', 'concentrée', 'sansgluten'])\n",
      " list(['liste', 'ingrédients', 'farine', 'sarrasin', 'beurre', 'frais', 'farine', 'riz', 'amidon', 'maïs', 'gran', 'padano', 'oeuf', 'huile', 'tournesol', 'pépites', 'tournesol', 'sucre', 'ail', 'coriandre', 'sel', 'guérande', 'safran', 'sansgluten', 'produits', 'fabriqués', 'atelier', 'utilisant', 'fruits'])\n",
      " list(['noisette', 'sucre', 'cacao', 'naturel', 'huile', 'végétale', 'lait', 'poudre', 'sansgluten', 'ingrédients', 'naturels', 'susceptible', 'subir', 'légères', 'variations'])\n",
      " list(['sans', 'ogm', 'sans', 'huile', 'palme', 'sans', 'conservateur', 'sans', 'additif', 'colorant', 'sansgluten', 'popcorn', 'caramel', 'beurre', 'salé', 'maïs', 'éclaté', 'caramel', 'beurre', 'sapé', 'sucre', 'beurre', 'glucose', 'sel'])\n",
      " list(['graines', 'sarrasin', 'décortiquées', 'dattes', 'graines', 'millet', 'décortiquées', 'noix', 'coco', 'toastées', 'amandes', 'flocons', \"d'avoine\", 'sansgluten', 'fleur', 'sel', 'guérande', 'ingrédients', 'issus', \"l'agriculture\", 'biologique'])\n",
      " list(['graines', 'sarrasin', 'décortiquées', 'dattes', 'graines', 'millet', 'décortiquées', 'noisettes', 'flocons', \"d'avoine\", 'sansgluten', 'cacao', 'cru', 'poudre', 'fleur', 'sel', 'guérande', 'issus', \"l'agriculture\", 'biologique'])\n",
      " list(['graines', 'sarrasin', 'décortiquées', 'dattes', 'graines', 'tournesol', 'bananes', 'séchées', 'flocons', \"d'avoine\", 'sansgluten', 'cacao', 'cru', 'poudre', 'fleur', 'sel', 'issus', \"l'agriculture\", 'biologique'])\n",
      " list(['graines', 'sarrasin', 'décortiquées', 'dattes', 'graines', 'tournesol', 'cacahuètes', 'grillées', 'flocons', \"d'avoine\", 'sansgluten', 'cacao', 'cru', 'poudre', 'fleur', 'sel', 'issus', \"l'agriculture\", 'biologique'])\n",
      " list(['flocons', \"d'avoine\", 'sansgluten', 'graines', 'sarrasin', 'décortiquées', 'pépites', 'chocolat', 'noir', 'issues', 'commerce', 'équitable', 'masse', 'cacao', 'sucre', 'canne', 'beurre', 'cacao', 'extrait', 'vanille', 'cacahuètes', 'grillées', 'dattes', 'graines', 'tournesol', 'cacao', 'poudre', 'fleur', 'guérande', 'issus', \"l'agriculture\", 'biologique'])\n",
      " list(['farines', 'sansgluten', 'farine', 'riz', 'blanche', 'amidon', 'maïs', 'farine', 'riz', 'complète', 'fécule', 'manioc', 'fécule', 'pomme', 'terre', 'sucre', 'perlé', 'sucre', 'canne', 'mibtanc', 'sel', 'ingrédients', 'issus', \"l'aoricu\\\\ture\", 'biologique', 'garanti', 'bio', 'sansgluten'])\n",
      " list(['farine', \"d'avoine\", 'sansgluten', 'matière', 'grasse', 'végétale', 'huile', 'tournesol', 'amidon', 'transformé', 'sirop', 'glucose', 'antioxydant', 'extrait', 'romarin', 'isomaltulose', 'protéines', 'pois', 'lin', 'jaune', 'farine', 'riz', 'arôme', 'céleri', 'oignon', 'grillé', 'minéraux', 'phosphate', 'potassium', 'phosphate', 'tricalcique', 'citrate', 'magnesium', 'gluconate', 'zinc', 'gluconate', 'cuivre', 'chlorure', 'chrome', 'molybdate', 'sodium', 'iodure', 'potassium', 'sélénite', 'sodium', 'fibres', \"d'acacia\", 'poireau', 'sel', 'épaississants', 'gomme', 'guar', 'gomme', 'xanthane', 'maltodextrine', 'vitamines', 'b12', 'poivre', 'antioxydant', 'extrait', 'naturel', 'romarin'])\n",
      " list(['farine', \"d'avoine\", 'sansgluten', 'matière', 'grasse', 'végétale', 'huile', 'tournesol', 'antioxydant', 'extrait', 'romarin', 'isomaltulose', 'protéines', 'pois', 'sucre', 'canne', 'lin', 'jaune', 'farine', 'riz', 'maltodextrine', 'sels', 'minéraux', 'fibres', \"d'acacia\", 'arômes', 'fraises', 'lyophilisées', 'épaississants', 'gomme', 'guar', 'gomme', 'xanthane', 'colorants', 'rouge', 'betterave', 'concentré', 'baies', 'sureau', 'aronia', 'cassis', 'mix', 'vitaminique', 'b12', 'antioxydant', 'extrait', 'naturel', 'romarin'])\n",
      " list(['farine', \"d'avoine\", 'sansgluten', 'matière', 'grasse', 'végétale', 'huile', 'tournesol', 'antioxydant', 'extrait', 'romarin', 'isomaltulose', 'protéines', 'pois', 'lin', 'jaune', 'farine', 'riz', 'sels', 'minéraux', 'arômes', 'céleri', 'fibres', \"d'acacia\", 'cèpes', 'morceaux', 'sel', 'oignon', 'grillé', 'épaississants', 'gomme', 'guar', 'gomme', 'xanthane', 'maltodextrine', 'poivre', 'mix', 'vitaminique', 'b12', 'antioxydant', 'extrait', 'naturel', 'romarin'])\n",
      " list(['ingredients', 'farine', \"d'avoine\", 'sansgluten', 'matière', 'grasse', 'gétale', 'huile', 'tournesol', 'amidon', 'transformé', 'sirop', 'glucose', 'antioxydant', 'extrait', 'roma', 'rin', 'isomaltulose', 'protéines', 'pois', 'lin', 'jaune', 'farine', 'riz', 'arôme', 'céleri', 'oignon', 'grillé', 'néraux', 'phosphate', 'potassium', 'phosphate', 'tricalcique', 'citrate', 'magnésium', 'gluconate', 'zinc', 'gluconate', 'cuivre', 'chlorure', 'chrome', 'molybdate', 'sodium', 'iodure', 'potassium', 'sélénite', 'sodium', 'fibres', \"d'acacia\", 'poireau', 'sel', 'épaississants', 'gomme', 'guar', 'gomme', 'xanthane', 'maltodextrine', 'vitamines', 'poivre', 'tioxydant', 'extrait', 'naturel', 'romarin', 'support', 'vitamines', 'minéraux'])\n",
      " list(['farine', \"d'avoine\", 'sansgluten', 'matière', 'grasse', 'végétale', 'huile', 'tournesol', 'amidon', 'transformé', 'sirop', 'glucose', 'antioxydant', 'extrait', 'romarin', 'isomaltulose', 'protéines', 'pois', 'lin', 'jaune', 'farine', 'riz', 'minéraux', 'phosphate', 'potassium', 'phosphate', 'tricalcique', 'citrate', 'magnésium', 'gluconate', 'zinc', 'gluconate', 'cuivre', 'chlorure', 'chrome', 'molybdate', 'sodium', 'iodure', 'potassium', 'sélénite', 'sodium', 'arômes', 'céleri', 'fibres', \"d'acacia\", 'cèpes', 'morceaux', 'sel', 'oignon', 'grillé', 'épaississants', 'gomme', 'guar', 'gomme', 'xanthane', 'malto', 'dextrine', 'poivre', 'vitamines', 'b12', 'antioxydant', 'extrait', 'naturel', 'romarin'])\n",
      " list(['dattes', 'purée', 'noix', 'cajou', 'flocons', \"d'avoine\", 'sansgluten', 'purée', 'cacahuètes', 'éclats', 'cacao', 'cru', 'sel', 'rose', \"l'himalaya\", 'ingrédients', 'issus', \"l'agriculture\", 'biologique'])\n",
      " list(['eau', 'kiwi', 'sucre', 'glucose', 'jus', 'citron', 'gomme', 'guar', 'émulsifiant', 'e412', 'sansgluten', 'sans', 'lactose'])\n",
      " list(['flocons', \"d'avoine\", 'sansgluten', 'graines', 'sarrasin', 'décortiquées', 'noix', 'coco', 'toastées', 'dattes', 'graines', 'tournesol', 'décortiquées', 'amandes', 'fleur', 'sel', 'guérande', 'ingrédients', 'issus', 'agriculture', 'biologique'])\n",
      " list(['flocons', \"d'avoine\", 'sansgluten', 'graines', 'sarrasin', 'décortiquées', 'graines', 'tournesol', 'décortiquées', 'pépites', 'chocolat', 'noir', 'issues', 'commerce', 'équitable', 'masse', 'cacao', 'sucre', 'canne', 'beurre', 'cacao', 'extrait', 'vanille', 'dattes', 'noisettes', 'cacao', 'poudre', 'fleur', 'sel', 'guérande', 'issus', \"l'agriculture\", 'biologique'])\n",
      " list(['flocons', \"d'avoine\", 'sansgluten', 'graines', 'sarrasin', 'décortiquées', 'noix', 'coco', 'toastées', 'dattes', 'graines', 'tournesol', 'décortiquées', 'amandes', 'fleur', 'sel', 'guérande', 'ingrédients', 'issus', 'agriculture', 'biologique'])\n",
      " list(['flocons', \"d'avoine\", 'sansgluten', 'graines', 'sarrasin', 'décortiquées', 'graines', 'tournesol', 'décortiquées', 'pépites', 'chocolat', 'noir', 'issues', 'commerce', 'équitable', 'masse', 'cacao', 'sucre', 'canne', 'beurre', 'cacao', 'extrait', 'vanille', 'dattes', 'noisettes', 'cacao', 'poudre', 'fleur', 'sel', 'guérande', 'issus', \"l'agriculture\", 'biologique'])\n",
      " list(['flocons', \"d'avoine\", 'sansgluten', 'graines', 'sarrasin', 'décortiquées', 'noix', 'coco', 'toastées', 'dattes', 'graines', 'tournesol', 'décortiquées', 'amandes', 'fleur', 'sel', 'guérande', 'ingrédients', 'issus', 'agriculture', 'biologique'])\n",
      " list(['flocons', \"d'avoine\", 'sansgluten', 'graines', 'sarrasin', 'graines', 'tournesol', 'pépites', 'chocolat', 'noir', 'issues', 'commerce', 'équitable', 'masse', 'cacao', 'sucre', 'canne', 'beurre', 'cacao', 'extrait', 'vanille', 'dattes', 'noisettes', 'cacao', 'poudre', 'fleur', 'sel', 'guérande', 'ingrédients', 'issus', 'agriculture', 'biologique'])\n",
      " list(['bett', 'breakfast', 'nutritious', 'rich', 'deliciously', 'crunchy', 'perfect', 'combination', 'launch', 'adventure', 'positive', 'note', 'jumpstart', 'day', 'bett', 'way', 'bett', 'mornings', 'got', 'bett', 'maßku', 'безznymеноbu', 'oßесенu', 'яgku', 'opu306', 'cupon', 'agemus', 'kokocobo', 'macao', 'kokoco6', 'cupon', 'muk6енo', 'ceme', 'bett', 'био', 'зърнена', 'закуска', 'бадеми', 'тъмни', 'шоколадови', 'kanku', 'chч02negоbо', 'ceme', 'kakao', 'kong', 'kanku', 'kakaoa', 'maca', 'kokocoba', 'çaxap', 'kakaobo', 'macao', 'емулzamор', 'сahчо²еgо', 'neumí', 'kokосов', 'чипс', 'сусамово', 'семе', 'счукано', 'ленено', 'семе', 'пукана', 'kuhoa', 'счукани', 'kakaoви', 'зърна', 'сол', 'quot', 'биологично', 'земеделие', 'може', 'съдържа', 'следи', 'фъстъци', 'други', 'ядки', 'съхранение', 'прохладно', 'сухо', 'тъмно', 'място', 'партида/', 'найдобър', 'виж', 'печата', 'подолу', 'bett', 'organic', 'cereal', 'almond', 'choco', 'drops', 'dark', 'ingredients', 'glutenfree', 'oat', 'flakes', 'rice', 'syrup', 'almonds', 'coconut', 'oil', 'coconut', 'syrup', 'pumpkin', 'seeds', 'sunflower', 'seeds', 'cacao', 'powder', 'drops', 'dark', 'cocoa', 'mass', 'coconut', 'sugar', 'quot', 'cocoa', 'butter', 'emulsifier', 'sunflower', 'lecithin', 'coconut', 'chips', 'sesame', 'seeds', 'crushed', 'flax', 'seeds', 'quinoa', 'puffs', 'cacao', 'nibs', 'salt', 'organic', 'agriculture', 'may', 'contain', 'traces', 'peanuts', 'nuts', 'keep', 'cool', 'dry', 'dark', 'place', 'lot/', 'best', 'see', 'stamp', 'bett', 'biomüsli', 'mandeln', 'dunkle', 'schokoladentropfen', 'zutat', 'glutenfreie', 'haferflocken', 'reissirup', 'mandeln', 'kokosöl', 'kokossirup', 'kürbiskerne', 'sonnenblumenkerne', 'kakaopulver', 'dunkle', 'schokoladentropfen', 'kakaomasse', 'kokosblütenzucker', 'kakaobutter', 'emulgator', 'sonnenblumenlecithin', 'kokosnuss', 'chips', 'sesam', 'geschrotet', 'leinsamen', 'gepofte', 'quinoa', 'kakaonibs', 'salz', 'kontrolliert', 'biologischem', 'anbau', 'spuren', 'erdnüssen', 'nüssen', 'enthalten', 'kühlen', 'trockenen', 'dunklen', 'ort', 'aufbewahren', 'mindestens', 'haltbar', 'siehe', 'aufdruck', 'unten', 'bett', 'céréales', 'bio', 'amandes', 'gouttes', 'chocolat', 'noir', 'ingrédients', 'flocons', \"d'avoine\", 'sansgluten', 'sirop', 'riz', 'amandes', 'huile', 'coco', 'sirop', 'coco', 'graines', 'citrouille', 'graines', 'tournesol', 'poudre', 'cacao', 'gouttes', 'chocolat', 'noir', 'masse', 'cacao', 'sucre', 'coco', 'heurre', 'cacao', 'émulsifiant', 'lécithine', 'tournesol', 'chips', 'noix', 'coco', 'graines', 'sésame', 'graines', 'biologique', 'peut'])\n",
      " list(['sucre', 'canne', 'roux', 'matières', 'grasses', 'végétales', 'huile', 'tournesol', 'beurre', 'cacao', 'purée', 'noisettes', 'poudre', 'cacao', 'extrait', 'vanille', 'sel', 'issu', \"l'agriculture\", 'biologique', 'issu', 'commerce', 'équitable', 'sans', 'lecithine', 'sansgluten', 'sans', 'huile', 'palme', 'sans', 'lait', 'produits', 'laitiers'])\n",
      " list(['sucre', 'canne', 'roux', 'matières', 'grasses', 'végétales', 'huile', 'tournesol', 'beurre', 'cacao', 'purée', 'noisettes', 'poudre', 'cacao', 'extrait', 'vanille', 'sel', 'issu', \"l'agriculture\", 'biologique', 'issu', 'commerce', 'équitable', 'sans', 'lecithine', 'sansgluten', 'sans', 'huile', 'palme', 'sans', 'lait', 'produits', 'laitiers'])\n",
      " list(['eau', 'tomates', 'sucre', 'oignon', 'carotte', 'vinaigre', 'ananas', 'poivron', 'vert', 'amidon', 'maïs', 'poivron', 'rouge', 'céleri', 'pousses', 'bambou', 'sel', 'jus', 'tamarin', 'colorant', 'extrait', 'paprika', 'épices', 'sansgluten', 'pauvre', 'matières', 'grasses', 'sans', 'glutamate', 'ajouté', 'peut', 'être', 'congelé', 'sauce', 'prête', \"l'emploi\", 'idéale', 'utilisati0n', 'chaud', 'froid', 'marinade'])\n",
      " list(['amidon', 'pomme', 'terre', 'levure', 'concentré', 'tomates', 'romarini', 'protéines', 'tournesol', 'sel', 'marin', 'épices', 'contient', 'céleri', 'huile', 'tournesol', 'concentré', 'jus', 'pomme', 'sauce', 'soja', 'eau', 'fèves', 'sojai', 'sel', 'épaississant', 'gomme', 'guar', 'ingrédients', 'issus', 'iiagricuiture', 'elogique', 'fabriqué', 'allemagne', 'sansgluten', 'zvegetariskt', 'smôraàsn'])\n",
      " list(['eau', 'huile', 'coco', 'ciboulette', 'tofu', 'eau', 'fèves', 'soja', 'agent', 'coagulation', 'amidon', 'pomme', 'terre', 'levure', 'proteines', 'tournesol', 'raine', 'demoutarde', 'vinaigre', 'sel', 'marin', 'épices', 'sel', 'marin', 'épices', 'contient', 'céleri', 'huile', 'tournesol', 'concentré', 'jus', 'pomme', 'sauce', 'soja', 'eau', 'fèves', 'desojai', 'épaississant', 'gomme', 'guar', 'ingrédients', 'issus', 'agriculture', 'biologique', 'fabriqué', 'allemagne', 'vegan', 'sansgluten'])\n",
      " list(['flocons', \"d'avoine\", 'complets', 'sansgluten', 'graines', 'citrouille', 'graines', 'tournesol', 'graines', 'lin', 'concassées', 'sésame', 'graines', 'lin', 'graines', 'chia', 'salvia', 'hispanica', 'flocons', 'millet', 'complets', 'poudre', \"d'enveloppes\", 'psyllium', 'sel', 'issus', \"l'agriculture\", 'biologique'])\n",
      " list(['rgâteau', 'pâte', 'mélangée', 'bio', 'sansgluten', 'chocolat', 'noir', 'ingrédients', 'sucre', 'canne', 'oeuf', 'entier', 'margarine', 'huile', 'palme', 'eau', 'huile', 'tourne', 'sol', 'quot', 'émulsifiant', 'lécithines', 'tournesol', 'quot', 'sel', 'jus', 'citron', 'concentré', 'chocolat', 'noir', 'masse', 'cacao', 'sucre', 'canne', 'beurre', 'cacao', 'émulsifiant', 'lécithines', 'tournesol', 'farine', 'riz', 'quot', 'cacao', 'quot', 'épaississants', 'gomme', 'guar', 'quot', 'sel', 'mer', 'arôme', 'naturel', 'levure', 'tartrée', 'amidon', 'maïs', 'acidifiant', 'tartrate', 'potassium', 'poudre', 'lever', 'bicarbonate', 'sodium', 'quot', 'issu', \"l'agriculture\", 'biologique', 'contrôlée', 'peut', 'contenir', 'traces', 'graines', 'sésame', 'soja', 'lupin', 'lait'])\n",
      " list(['tofu', 'fèves', 'soja', 'eau', 'affermissants', 'chlorure', 'calcium', 'chlorure', 'magnésium', 'marinade', 'sauce', 'soja', 'eau', 'fèves', 'soja', 'fermentées', 'blé', 'fermenté', 'sansgluten', 'sel', 'eau', 'oignon', 'huile', 'colza', 'ail', 'poudre', 'épices', 'plantes', 'aromatiques', 'conserver', 'réfrigérateur', '+7°c', 'max', 'non', 'ouvert', 'consommer', \"jusqu'au\", 'voir', 'côté', 'après', 'ouverture'])\n",
      " list(['biscaits', 'véganes', 'sams', 'gluten', 'raisins', 'secs', 'graines', 'tournesol', 'aur', 'abricots', 'secs', 'graines', 'chia', 'graines', 'courges', 'aromatisés', 'ingrédients', 'farine', \"đ'avoine\", 'sansgluten', 'hulle', 'palme', 'avoine', 'sansgluten', 'raisins', 'secs', 'oligofructose', 'sucre', 'farinme', 'soja', 'graines', 'tournesol', 'abricots', 'secs', 'farine', 'sirop', 'sucre', 'partiellement', 'inverti', 'graines', 'chia', 'salvia', 'hispanica', 'graines', 'courge', 'poudres', 'lever', 'carbonates', 'sodium', 'carbonates', \"d'ammonium\", 'arôme', 'naturel', 'farine', 'conservateur', 'anhydride', 'sulfureux', 'peut', 'contenir', 'traces', 'fruits', 'coque', 'noix', 'conserver', \"l'abri\", 'chaleur', \"l'humidité\", 'non', 'ouvert', 'consommer', 'préférence', 'avant', 'fin', 'voir', 'dos', 'après', 'ouveture', 'conserver', 'récipient', 'hermétique', 'consommer', 'sous', 'jours', 'quot', 'suggestion', 'présentation', 'albicocche', 'semi', 'chia', 'semi', 'zucca', 'specificamente', 'formulati', 'per', 'persone', 'intolleranti', 'glutine', 'ingredienti', 'farina', 'avena', 'senza', 'glutine', 'olio', 'palma', 'avena', 'senza', 'glutine', 'uvetta', 'oligofnuttosio', 'zucchero', 'farina', 'soia', 'semi', 'girasole', 'albicocche', 'essiccate', 'farina', 'sciroppo', 'zucchero', 'parialmente', 'invertito', 'semi', 'chia', 'semi', 'zucca', 'agenti', 'lievitanti', 'carbonati', 'sodio', 'carbonati', 'ammonio', 'aroma', 'naturale', 'farma', 'riso', 'conservante', 'amidride', 'solforosa', 'può', 'contenere', 'tracce', 'frutta', 'guscia', 'conservare', 'luogo', 'fresco', 'asciutto', 'una', 'volta', 'aperto', 'conservare', 'contenitore', 'emetico', 'comoumare', 'entro', 'giomi', 'consumarsi', 'preferibilmente', 'entro', 'fine', 'confezione', 'integra', 'vedere', 'sotto', 'suggerimento', 'presentazione', 'scatola', 'pap', 'carta', 'incarto', 'inter', 'plastical', 'vassolo', 'pet', 'pastical', 'raccolta', 'differenziata', 'verifica', 'disposizioni', 'del', 'tuo', 'comune', 'vour/fur/pour/prodotto', 'per', 'lidi', 'stiftung', 'stiftsbergstr', 'neckarsulm', 'duitsland/deutschland/allemagne/germania', 'biscotti', 'vegani', 'con', 'uvetta', 'semi', 'girasole', 'polds', 'net', '/peso', 'netma', 'ravintoarvo/näringsvärde/næringsindhold/'])\n",
      " list(['lait', 'entier', 'bananes', 'amidon', 'maïs', 'poudre', 'cacao', 'épaississant', 'farine', 'caroube', 'produits', 'issus', \"l'agriculture\", 'biologique', 'sansgluten', 'tous', 'allergènes', 'indiqués', 'gras'])\n",
      " list(['lait', 'entier', 'bananes', 'pommes', 'framboises', 'amidon', 'maïs', 'jus', 'carotte', 'base', 'jus', 'carotte', 'concentré', 'lait', 'écrémé', 'poudre', 'épaississants', 'pectine', 'farine', 'caroube', 'correcteur', \"d'acidité\", 'carbonate', 'calcium', 'ferments', 'lactiques', 'lait', 'produits', 'issus', \"l'agriculture\", 'biologique', 'sansgluten', 'tous', 'allergènes', 'indiqués', 'gras'])\n",
      " list(['barre', 'proteinée', 'goût', 'banane', 'enrichies', 'vitamines', 'enrobées', 'chocolat', 'lait', 'sansgluten', 'ingrédients', 'protéines', 'lactiques', 'sirop', \"d'oligofructose\", 'sirop', 'sucre', 'inverti', 'sirop', 'glucose', 'sucre', 'humectant', 'glycérol', 'gélatine', 'alimentaire', 'boeurf', 'lait', 'entier', 'poudre', 'isolat', 'proteines', 'lactiques', 'huile', 'palme', 'beurre', 'cacao', 'cacao', 'pâte', 'lactose', 'aromes', 'naturels', 'aliments', 'colorants', 'jus', 'carottes', 'concentre', 'émulsifant', 'lécithines', 'dlalphatocophérylacetate', 'nicotinamide', 'calciumdpantothénate', 'chlorhydrate', 'pyridoxine', 'riboflavine', 'mononitrate', 'thiamine', 'cyanocobalamine', 'peut', 'contenir', 'traces', 'soja', 'sésame', \"d'ceuf\", 'noisettes', 'noix', 'cajou', 'noix', 'macadamia', \"d'amandes\", 'quantité', 'recommandée', 'barre', 'jour', 'veillez', 'conserver', 'alimentation', 'équilibrée', 'variée', 'ainsi', \"qu'un\", 'mode', 'vie', 'sain', 'pratiquer', 'beaucoup', \"d'exercice\", 'sansgluten'])\n",
      " list(['protéine', 'soja', 'inuline', 'concentré', 'protéique', 'lactosérum', 'protéines', 'pois', 'lait', 'coco', 'amidon', 'riz', 'maltodextrine', 'psyllium', 'brou/', 'psyllium', 'poudre', 'poudre', 'papaye', 'citrate', 'magnésium', 'citrate', 'potassium', 'arômes', 'grenade', 'poudre', 'extrait', 'thé', 'vert', 'édulcorant', 'acide', 'ascorbique', 'citrate', 'fer', 'nicotinamide', 'dlalphatocopheryl', 'acetate', 'rétinyle', 'gluconate', 'manganèse', 'cholécalciférolï', 'calcium', 'pyridoxine', 'citrate', 'cuivre', 'mononitrate', 'thiamine', 'ribofldlìne', 'phosphate', 'acide', 'ptéroylmonoglutamique', 'iodure', 'potassium', 'sélénate', 'sodium', 'addit', 'végétarien', 'sansgluten', 'contient', 'soja', 'lait'])\n",
      " list(['avoine', 'complète', 'sansgluten', 'huile', 'colza', 'poudre', 'support', 'maltodextrine', 'quot', 'lait', 'écrémé', 'poudre', 'amandes', 'graines', 'lin', 'moulue', 'poudre', \"d'agave\", 'graines', 'tournesol', 'farine', 'noix', 'arôme', 'naturel', 'gomme', 'caroube', 'poudre', \"d'argousier\", 'sel', 'iodé', 'farine', 'noix', 'coco', 'levure', 'alimentaire', 'poudre', \"d'algue\", 'porphyra', 'poudre', 'champignon', 'agaricus', 'bisporus', 'algue', 'poudre', 'chlorella', 'extrait', 'goyave', 'extrait', 'zest', 'citron', 'extrait', 'feuille', 'basilic', 'lssu', \"l'agriculture\", 'biologique'])\n",
      " list(['avoine', 'complète', 'sansgluten', 'huile', 'colza', 'poudre', 'support', 'maltodextrine', 'amandes', 'graines', 'lin', 'moulues', 'poudre', \"d'agave\", 'protéine', 'riz', 'graines', 'tournesol', 'farine', 'noix', 'arôme', 'naturel', 'poudre', \"d'argousier\", 'gomme', 'caroube', 'farine', 'noix', 'coco', 'poudre', \"d'algue\", 'porphyra', 'sel', 'iodé', 'levure', 'alimentaire', 'algue', 'poudre', 'lithotamne', 'poudre', 'champignon', 'agaricus', 'bisporus', 'algue', 'poudre', 'chlorella', 'extrait', 'goyave', 'extrait', 'zest', 'citron', 'extrait', 'feuille', 'basilic'])\n",
      " list(['lait', 'demiécrémé', 'eau', 'protéines', 'lait', 'huiles', 'végétales', 'colza', 'tournesol', 'lait', 'coco', 'fibres', \"d'avoine\", 'sansgluten', 'fibres', 'maïs', 'solubles', 'poudre', 'riz', 'farine', 'riz', 'amidon', 'riz', 'sirop', 'riz', 'vitamines', 'acide', 'folique', 'biotine', 'sels', 'minéraux', 'magnésium', 'fer', 'cuivre', 'manganèse', 'sélénium', 'chrome', 'molybdène', 'iode', 'émulsifiant', 'lécithines', 'maltodextrine', 'édulcorant', 'sucralose', 'stabilisants', 'gomme', 'gellane', 'algues', 'transformées', 'lactase', 'arômes', 'naturels'])\n",
      " list(['lait', 'demiécrémé', 'eau', 'protéines', 'lait', 'huile', 'végétale', 'colza', 'tournesol', 'lait', 'coco', 'poudre', 'fibre', \"d'avoine\", 'sansgluten', 'fibres', 'maïs', 'solubles', 'amidon', 'riz', 'cacao', 'maigre', 'vitamines', 'acide', 'folique', 'biotine', 'sels', 'minéraux', 'magnésium', 'fer', 'cuivre', 'manganèse', 'sélénium', 'chrome', 'molybdène', 'iode', 'émulsifiant', 'lécithines', 'édulcorant', 'sucralose', 'maltodextrine', 'stabilisants', 'gomme', 'gellane', 'algues', 'euchema', 'transformées', 'lactose', 'arômes', 'naturels'])\n",
      " list(['lait', 'demiécrémé', 'eau', 'protéines', 'lait', 'huiles', 'végétales', 'colza', 'tournesol', 'lait', 'coco', 'fibres', \"d'avoine\", 'sansgluten', 'fibres', 'maïs', 'solubles', 'poudre', 'riz', 'farine', 'riz', 'amidon', 'riz', 'sirop', 'riz', 'extrait', 'café', 'eau', 'café', 'arabica', 'cacao', 'maigre', 'vitamines', 'acide', 'folique', 'biotine', 'sels', 'minéraux', 'magnésium', 'fer', 'cuivre', 'manganèse', 'sélénium', 'chrome', 'molybdène', 'iode', 'émulsifiant', 'lécithines', 'maltodextrine', 'édulcorant', 'sucralose', 'stabilisants', 'gomme', 'gellane', 'algues', 'euchema', 'transformées', 'lactase', 'arômes', 'naturels'])\n",
      " list(['eau', 'amidon', 'blé', 'sansgluten', 'protéines', 'lactosérum', 'levure', 'graines', 'sésame', 'farine', 'lin', 'farine', 'lupin', 'doux', 'sirop', 'sucre', 'inverti', 'sucre', 'eau', 'sel', 'épaississant', 'gomme', 'guar', 'amidon', 'fermente', 'enveloppes', 'psyllium', 'dextrose', 'sucre', 'émulsifiant', 'lécithines', 'tournesol', 'correcteur', \"d'acidité\", 'hydroxyde', 'sodium'])\n",
      " list(['biscuits', 'sansgluten', 'sarrasin', 'chocolat', \"issùsdkl'agrlculture\", 'biologique', 'ingréd', 'ents', 'farine', 'sarrasin', 'beurre', 'frais', 'lait', 'amidon', 'sucre', 'canne', 'tapioca', 'maïs', 'pépites', 'chocolat', 'pâte', 'cacao', 'sucre', 'canne', 'beurre', 'cacao', 'lécithines', 'tournesol', 'extrait', 'vanille', 'farine', 'soja', 'sirop', 'riz', 'extraits', 'riz', 'eau', 'poudre', 'ever', 'bicarbonate', \"d'ammonium\", 'sel', 'ingrédients', 'issus', \"l'agriculture\", \"'8010gique\", 'informations', 'gras', 'destinées', 'personnes', 'intolérantes', 'allergiques', 'fabriqué', 'atelier', 'utilise', 'fruits', 'coque', 'graines', 'sésame', \"l'arachide\"])\n",
      " list(['sucre', 'roux', 'canne', 'brésil', 'matieres', 'grasses', 'végétales', 'huile', 'tournesol', 'beurre', 'cacao', 'equitable', 'noisettes', 'cacao', 'lait', 'écrémé', 'quot', 'extralt', 'vanille', 'issus', \"l'agriculture\", 'biologique', 'commerce', 'equitable', 'contrôlé', 'selon', 'référentiel', 'fair', 'life', 'disponible', 'www.fairforlife.org', 'ingrédients', \"d'origine\", 'agricole', 'sansgluten', 'traces', 'éventuelles', \"d'autres\", 'fruits', 'coques'])\n",
      " list(['mycoprotéine', 'micro', 'organisme', 'fermenté', 'arômes', 'naturels', 'blanc', \"d'oeufs\", 'ferme', 'réhydraté', 'affermissants', 'chlorure', 'calcium', 'acétate', 'calcium', 'extrait', 'malt', \"d'orge\", 'torréfié', 'sansgluten', 'sucre', 'caramélisé', 'protéines', 'pommes', 'terre'])\n",
      " list(['amandes', 'tamar', 'fèves', 'soja', 'eau', 'sel', 'marin', 'mirin', 'riz', 'doux', 'eau', 'ferment', 'riz', \"l'agriculture\", 'biologique', 'produit', 'autriche', 'sansgluten', 'peut', 'contenir', 'traces', 'noix'])\n",
      " list(['pommes', 'terre', 'huile', 'tournesol', 'sucre', 'extrait', 'levure', 'poudre', 'sauce', 'soja', 'sauce', 'soja', 'graines', 'soja', 'sel', 'vinaigre', \"d'alcool\", 'maltodextrine', 'sel', 'sel', 'épices', 'ail', 'poudre', 'arômes', 'naturels', 'herbes', 'aromatiques', 'colorants', 'naturels', 'extrait', 'paprika', 'poudre', 'caramel', 'poudre', 'mangue', 'extrait', 'piment', 'south', 'devon', 'chilli', 'farm', 'convient', 'végétariens', 'sansgluten'])\n",
      " list(['sucre', 'sirop', 'glucose', 'acidifiant', 'acide', 'citrique', 'jus', 'pulpe', \"d'orange\", 'arômes', 'sansgluten'])\n",
      " list(['cacahuètes', 'raisins', 'secs', 'pomme', 'graines', 'courge', 'avoine', 'sansgluten', 'jus', 'pomme', 'concentré'])\n",
      " list(['raisins', 'secs', 'cacahuètes', 'noisettes', 'avoine', 'sansgluten', 'jus', 'pomme', 'concentré', 'cacao', 'maigre', 'poudre'])\n",
      " list(['cacahuètes', 'raisins', 'secs', 'avoine', 'sansgluten', 'graines', 'tournesol', 'jus', 'pomme', 'concentré', 'graines', 'chia', 'salvia', 'hispanica'])\n",
      " list(['arachides', 'raisins', 'secs', 'pommes', 'séchées', 'avoine', 'sansgluten', 'jus', 'pomme', 'concentré'])\n",
      " list(['farine', 'sansgluten', 'farine', 'riz', 'fécule', 'pomme', 'terre', 'farine', 'sarrasin', 'farine', 'maïs', 'sirop', 'riz', 'farine', 'riz', 'jus', 'citron', 'noisettes', 'amandes', 'poudre', 'huile', 'palme', 'produite', 'durablement', 'sucre', 'canne', 'farine', 'riz', 'chocolat', 'noir', 'sucre', 'pâte', 'cacao', 'beurre', 'cacao', 'émulsifiant', 'lécithine', 'tournesol'])\n",
      " list(['viande', 'bœuf', 'séché', 'sucre', 'demerara', 'sauce', 'soja', 'sansgluten', 'eau', 'fèves', 'soja', 'sel', 'vinaigre', 'arôme', 'naturel', 'sel', 'vinaigre', 'cidre', 'pomme', 'concentré', \"d'ananas\", 'poivre', 'noir', 'ail', 'déshydraté', 'oignon', 'déshydraté', 'paprika'])\n",
      " list(['viande', 'bœuf', 'viande', 'fraîche', 'viande', 'séchée', 'cassonade', 'jus', 'pomme', 'purée', 'tomates', 'arômes', 'naturels', 'mélasse', 'sel', 'sauce', 'soja', 'sansgluten', 'eau', 'soja', 'sel', 'vinaigre', 'vinaigre', 'poivre', 'noir', 'purée', \"d'abricots\", 'épices', 'ail', 'séché', 'oignon', 'séché', 'herbes', 'aromatiques'])\n",
      " list(['sansgluten', 'sirop', 'riz', 'huiles', 'végétales', 'palme', 'tournesol', 'colza', 'croquants', 'protéines', 'soja', 'protéines', 'soja', 'amidon', 'tapioca', 'sel', 'farine', 'soja', 'canne', 'sel', 'arômes', 'naturels', 'lssu', 'sources', 'durables', 'peut', 'contenir', 'sésama', 'arachides', \"d'autres\", 'noix', 'lait', 'manganèse', 'contribue', 'reissirup', 'pflanzenòle', 'palme', 'tapiokaspeisestàrke', 'salz', 'sojameh\\\\', 'sesam', 'erdsse', 'nüsse', 'mitch', 'enthalten', 'mindestens', 'haltbar', 's\\\\ehe', 'gsselte', 'mangan', 'tràgt', 'energiestoffwechsel', 'bel', 'qreferenzmenge', 'erwachsene\\\\', 'plantaardiqe', 'oliën', 'palm', 'sojaeiwitcrurxcn\\\\', 'ruwe', 'rietsulker', 'zout', 'natuurliike', 'sûkstoffen.l'])\n",
      " list(['avoine', 'sansgluten', 'sirop', 'riz', 'croquants', 'protéines', 'soja', 'protéines', 'soja', 'amidon', 'tapioca', 'sel', 'huiles', 'palme', 'tournesol', 'colza', 'glaçage', 'saveur', 'chocolat', 'noir', 'sucre', 'huile', 'palme', 'poudre', 'cacao', 'émulsifiants', 'lécithine', 'tournesol', 'farine', 'soja', 'sucre', 'complet', 'canne', 'sel', 'arômes', 'naturels', 'issu', 'durables', 'peut', 'contenir', 'sésame', 'arachides', \"d'autres\", 'noix', 'lait'])\n",
      " list(['avoine', 'sansgluten', 'sirop', 'riz', 'croquants', 'protéines', 'soja', 'protéines', 'soja', 'amidon', 'tapioca', 'sel', 'huiles', 'végétales', 'palme', 'tournesol', 'colza', 'morceaux', 'banane', 'séchée', 'banane', 'farine', 'riz', 'farine', 'soja', 'sucre', 'canne', 'brut', 'sel', 'arômes', 'naturels', 'issu', 'sources', 'durables', 'traces', 'éventuelles', \"d'arachides\", 'sésame', \"d'autres\", 'fruits', 'coque', 'lait'])\n",
      " list(['avoine', 'sansgluten', 'margarine', 'huile', 'palme', 'huile', 'colza', 'eau', 'sel', 'émulsifiant', 'esters', 'polyglycériques', \"d'acides\", 'gras', 'arômes', 'colorants', 'curcumine', 'annatto', 'sucre', 'raisins', 'cassonade', 'sucre', 'mélasse', 'canne', 'sucre', 'sirop', 'sucre', 'inverti', 'colorant', 'caramel', 'eau', 'miel', 'farine', 'riz', 'amidon', 'pomme', 'terre', 'farine', 'maïs', 'poudres', 'lever', 'bicarbonate', 'disodique', 'bicarbonate', 'soude', 'hydrogénocarbonate', 'sodium', 'stabilisant', 'gomme', 'xanthane', 'huile', 'tournesol'])\n",
      " list(['flocons', \"d'avoine\", 'sansgluten', 'millet', 'farine', 'riz', 'complet', 'graines', 'lin', 'cheddar', 'lait', 'graines', 'citrouille', 'farine', 'maïs', 'gomme', 'xanthane', 'sel', 'mer', 'levure', 'sansgluten', 'vitamine'])\n",
      " list(['avoine', 'millet', 'riz', 'brun', 'graines', 'sésame', 'graines', 'chia', 'gomme', 'xanthane', 'sel', 'marin', 'levure', 'sansgluten', 'vitamine'])\n",
      " list(['concentré', 'noix', 'coco', 'brisures', 'biscuit', 'mélange', 'farines', 'sansgluten', 'farine', 'riz', 'complet', 'fécule', 'pomme', 'terre', 'farine', 'maïs', 'sucre', 'huile', 'palme', 'sirop', 'riz', 'déshydraté', 'bicarbonate', 'soude', 'chocolat', 'noir', 'masse', 'cacao', 'sucre', 'beurre', 'cacao', 'émulsifiant', 'lécithine', 'soja', 'arôme', 'naturel', 'vanille', 'sucre', 'demerara', 'préparation', 'végétale', 'eau', 'huile', 'noix', 'coco', 'concentré', 'protéines', 'soja', 'sel', 'acide', 'lactique', 'sans', 'produits', 'laitiers', 'sucre', 'épaississant', 'carraghénanes', 'arômes', 'naturels', 'conservateur', 'sorbate', 'potassium', 'sucre', 'huile', 'noix', 'coco', 'huile', 'végétale', 'huile', 'palme', 'huile', 'colza', 'sirop', 'glucose', 'cacao', 'poudre', 'agent', 'gélifiant', 'agaragar', 'épaississant', 'amidon', 'modifié', 'extrait', 'naturel', 'vanille', 'convient', 'végans', 'peut', 'contenir', 'lait', 'oeufs', 'fruits', 'coques'])\n",
      " list(['sucre', 'céréales', 'sansgluten', 'flocons', \"d'avoine\", 'graines', 'citrouille', 'graines', 'tournesol', 'miel', 'graines', 'chia', 'jus', 'pommes', 'riz', 'complet', 'soufflé', 'huile', 'colza', 'pressée', 'ifroid', 'cacahuètes', 'beurre', 'cacao', 'lait', 'entier', 'poudre', 'pâte', 'cacao', 'émulsifiant', 'lécithine', 'soja', 'sel', 'arôme', 'naturel', 'vanille', 'chocolat', 'lait', 'teneur', 'solides', 'cacao', 'minimum', 'teneur', 'solides', 'lait', 'minimum'])\n",
      " list(['pâte', 'cacao', 'quot', 'granolas', 'avoine', 'sansgluten', 'quot', 'graines', 'citrouille', 'graines', 'tournesol', 'miel', 'graines', 'chia', 'jus', 'pomme', 'riz', 'brun', 'soufflé', 'huile', 'colza', 'pressée', 'froid', 'sucre', 'beurre', 'cacao', 'arôme', 'orange', 'poudre', 'vanille', 'ingrédients', 'issus', \"l'agriculture\", 'biologique', 'chocclat', 'noir', 'contient', 'matières', 'solides', 'cacao', 'min'])\n",
      " list(['chocolat', 'blanc', 'sucre', 'beurre', 'decacao', 'poudre', 'émulsifiant', 'lécithine', 'soja', 'e322', 'arôme', 'naturel', 'vanille', 'caramel', 'lait', 'concentié', 'suc7é', 'rsifoïdògtucose', 'sulfites', 'beurre', 'sucre', 'partiellement', 'inverti', 'huile', 'palme', 'eau', 'sucre', 'émulsifiant', 'acides', 'gras', 'mono', \"'diîllyîeridês\", 'e471', 'yép', 'aêsissant', 'pecttne', 'cacahuetes', 'rtz', 'croustillant', 'sansgluten', 'farine', 'riz', 'fibres', 'riz', 'sucre', 'extraifde', 'cait', 'tjcurre', 'lait', 'enter', 'masse', 'cacao', 'émulsifiant', 'lécithine', 'soja', 'e322t', 'arôme', 'natu7el', 'vanille', 'beurre', 'matiè7', 'ra7sîdu', 'sclde', 'maigres', 'lait', 'sirop', 'sucre', 'raffiné', 'partiellement', 'inverti', 'présence', \"d'allergèn\", 'ingrédients', 'potentiéllementillergèrîê7sofit7nentjonnes', 'gras', 'peut', 'contenir', 'traces', 'œufs', 'fruits', 'coque'])\n",
      " list(['havervlokken', 'glutenvrij', 'zonnebloempitten', 'volledig', 'geraffineerde', 'zonnebloemolie', 'kokossuiker', 'rozijnen', 'cashewnoten', 'hazelnoten', 'amandelen', 'granola', 'fruits', 'secs', 'noix', 'ingrédients', 'flocons', \"d'avoine\", 'sansgluten', 'graines', 'tournesol', 'huile', 'tournesol', 'entièrement', 'raffinée', 'sucre', 'coco', 'raisins', 'secs', 'noix', 'cajou', 'noisettes', 'amandes', 'granola', 'trockenfrüchten', 'nüssen', 'zutat', 'haferflocken', 'glutenfrei', 'sonnenblumenkerne', 'vollständig', 'raffiniertes', 'sonnenblumenöl', 'kokoszucker', 'rosinen', 'cashewnüsse', 'haselnüsse', 'mandeln'])\n",
      " list(['pétales', 'maïs', 'sucrés', 'maïs', 'sucre', 'sel', 'stabilisant', 'e414', 'amidon', 'émulsifiant', 'e322', 'croustillant', 'riz', 'riz', 'sucre', 'sel', 'émulsifiant', 'e322', 'boules', \"d'avoine\", 'avoine', 'sansgluten', 'miel', 'copeaux', 'chocolat', 'noir', 'sucre', 'pâte', 'cacao', 'beurre', 'cacao', 'huile', 'beurre', 'émulsifiant', 'e322', 'contient', 'soja', 'arôme', 'naturel', 'vanille'])\n",
      " list(['eau', 'mélange', 'fromage', 'lait', 'sel', 'ferments', 'lactiques', 'coagulant', 'microbien', 'colorant', 'e160b', 'conservateur', 'e251', 'mélange', 'pain', 'amidon', 'blé', 'sansgluten', 'lait', 'écrémé', 'poudre', 'sucre', 'stabilisants', 'e412', 'e464', 'sel', 'fer', 'vitamines', 'acide', 'folique', 'beurre', 'lait', 'chapelure', 'farine', 'riz', 'dextrose', 'fibre', 'alimentaire', 'sel', 'amidon', 'blancs', \"d'oeufs\", 'lait', 'jaunes', \"d'œufs\", 'farine', 'grise', 'riz', 'sel', 'gélatine', 'bœuf', 'poivre', 'ppm'])\n",
      " list(['sucre', 'lait', 'poudre', 'beurre', 'cacao', 'pâte', 'cacao', 'huiles', 'végétales', 'non', 'hydrogénées', 'palme', 'colza', 'noisettes', 'huile', 'butyrique', 'sirop', 'glucose', 'extrait', 'café', 'émulsifiant', 'lécithine', 'soja', 'arôme', 'fraise', 'arôme', 'caramel', 'arôme', 'pistache', 'arôme', \"d'orange\", 'arôme', 'vanille', 'chocolat', 'noir', 'cacao', 'minimum', 'chocolate', 'lait', 'cacao', 'lait', 'chocolat', 'blanc', 'beurre', 'cacao', 'minimum', 'minimum', 'contient', 'lait', 'dérivées', 'lait', 'dérivées', 'soja', 'fruits', 'coque', 'peut', 'contenir', 'traces', 'autres', 'fruits', 'coque', 'sansgluten', 'tenir', 'endroit', 'frais', 'sec', 'sans', 'odeurs', 'étrangères', 'protéger', 'lumière', \"l'humidité\", 'chaleur'])\n",
      " list(['eau', 'huilede', 'moutarde', 'épices', 'contient', 'graine', 'moutarde', 'eau', 'vinaigre', 'sel', 'amidon', 'sansgluten', 'amidon', 'blé', 'amidon', 'tapioca', 'jaune', \"d'œuf\", 'sirop', 'glucose', 'sucre', 'sel', 'vinaigre', 'acidifiant', 'e270', 'conservateurs', 'e202', 'e211', 'épaississants', 'e412', 'e415', 'correcteur', \"d'acidité\", 'e575', 'antioxydant', 'e385', 'colora', 'épices'])\n",
      " list(['eau', 'torsades', 'sansgluten', 'farine', 'riz', 'farine', 'maïs', 'farine', 'sarrasin', 'émulsifiant', 'mono', 'diglycerides', \"d'acides\", 'gras', 'tomates', 'concassées', 'tomates', 'jus', 'tomates', 'acidifiant', 'acide', 'citrique', 'concentré', 'tomate', 'oignons', 'frits', 'oignons', 'huile', 'tournesol', 'carottes', 'amidon', 'modifié', 'protéines', 'soja', 'sucre', 'cristallisé', 'huile', \"d'olive\", 'sel', 'ail', 'mélange', \"d'herbes\", 'aromatiques', 'basilic', 'origan', 'romarin', 'thym', 'colorant', 'extrait', 'paprika', 'persil'])\n",
      " list(['eau', 'fèves', 'soja', 'décortiquées', 'sucre', 'canne', 'roux', 'myrtilles', 'jus', 'citron', 'base', 'concentré', 'stabilisant', 'pectines', 'arôme', 'naturel', 'amidon', 'tapioca', 'sel', 'marin', 'correcteur', \"d'acidité\", 'acide', 'citrique', 'ferments', 'yaourt', 'thermo', 'philus', 'bulgaricus', 'issus', 'pagriculture', 'biologique', 'naturellement', 'sans', 'lactose', 'sansgluten', 'peut', 'contenir', 'traces', 'fruits', 'coque', \"d'arachides\"])\n",
      " list(['sojabasis', 'wasser', 'geschälte', 'sojabohnen', 'zucker', 'modifizierte', 'stärke', 'magerkakao', 'schokolade', 'calciumcarbonat', 'saureregulator', 'kalumphosphate', 'verdickungsmittel', 'carrageen', 'aroma', 'meersalz', 'vitamine', 'gluten', 'natur', 'laktosefrei', 'gentechnik', 'source', 'calcium', 'source', 'protéines', 'végétales', 'naturellement', 'pauvre', 'matières', 'grasses', 'dessert', 'soja', 'chocolat', 'calcium', 'vitamines', 'ajoutés', 'ingrédients', 'base', 'soja', 'eau', 'fèves', 'soja', 'décortiquées', 'sucre', 'amidon', 'modifié', 'cacao', 'dégraisse', 'chocolat', 'carbonate', 'calcium', 'corecteur', \"d'acidité\", 'phosphates', 'potassium', 'épaississant', 'carraghénanes', 'arôme', 'sel', 'marin', 'vitamines', 'naturellement', 'sans', 'lactose', 'sansgluten', 'fonte', 'calcio', 'fonte', 'proteine', 'vegetali', 'naturalmente', 'povero', 'grassi', 'dessert', 'base', 'soia', 'cioccolato', 'con', 'aggiunta', 'calcio', 'vitamine', 'ingrediente', 'preparazione', 'soia', 'acqua', 'semi', 'soia', 'decorticati', 'zucchero', 'amido', 'modificato', 'cacao', 'magro', 'cioccolato', 'carbonatodi', 'calcio', 'comettore', 'acidità', 'fosfati', 'potassio', 'addensante', 'carragenina', 'aroma', 'sale', 'marino', 'vitamine', 'naturalmente', 'privo', 'lattosio', 'senza', 'glutine'])\n",
      " list(['eau', 'sucre', 'canne', 'roux', 'quot', 'fruits', 'framboises', 'myrtilles', 'fraises', 'fèves', 'soja', 'décortiquées', 'jus', 'framboise', 'base', 'jus', 'concentré', 'jus', 'fraise', 'base', 'jus', 'concentré', 'stabilisant', 'pectine', 'jus', 'citron', 'base', 'jus', 'concentré', 'jus', 'betteraves', 'rouges', 'base', 'jus', 'concentré', 'sel', 'marin', 'amidon', 'tapioca', 'correcteur', \"d'acidité\", 'acide', 'citrique', 'ferments', 'yaourt', 'thermophilus', 'bulgaricus', 'issus', \"l'agriculture\", 'biologique', 'naturellement', 'sans', 'lactose', 'sansgluten', 'peut', 'contenir', 'traces', \"d'amandes\", 'noisettes'])\n",
      " list(['chicorée', 'torréfiée', 'seigle', 'torréfié', 'orge', 'torréfiée', 'gland', 'grillé', 'issu', \"l'agriculture\", 'biologique', 'sans', 'caféine', 'sansgluten'])\n",
      " list(['pâtisserie', 'noix', 'coco', 'goût', 'chocolat', 'sucre', 'noix', 'coco', 'sirop', 'glucose', 'blanc', \"d'œuf\", 'dextrose', 'huiles', 'graisses', 'végétales', 'palme', 'palmiste', 'coprah', 'poudre', 'cacao', 'dégraissé', 'farine', 'riz', 'stabilisant', 'tristéarate', 'sorbitane', 'émulsifiant', 'lécithine', 'soja', 'peut', 'contenir', 'lait', 'fruits', 'coque', 'sansgluten', 'craint', 'chaleur', \"l'humidité\"])\n",
      " list(['farine', 'sansgluten', 'farine', 'blé', 'sansgluten', 'farine', 'lupin', 'épaississant', 'gomme', 'guar', 'lait', 'maigre', 'poudre', 'lactosérum', 'poudre', 'dextrose', 'émulsifiant', 'lécithine', 'soja', 'sucre', 'œuf', 'margarine', 'végétale', 'sucre', 'vanillé', 'sel', 'conservateur', 'proprionate', 'calcium', 'poudre', 'lever', 'gluconodeltalactone'])\n",
      " list(['tomates', 'viande', 'hachée', 'viande', 'porc', 'viande', 'bœuf', 'sel', 'épices', 'dextrose', 'oignon', 'purée', 'tomates', 'huile', 'colza', 'amidon', 'blé', 'sansgluten', 'sucre', 'sel', 'épices', 'céleri', 'ail', 'arôme', 'soja', 'céleri', 'sirop', 'glucose', 'dextrose', 'exhausteur', 'goût', 'e621', 'e635', 'protéine', 'soja', 'graisse', 'soja', 'émulsifiant', 'e472e', 'protéine', 'lait', 'stabilisant', 'e340', 'acidifiant', 'e270', 'e327', 'e325', 'vinaigre', 'poivre', 'rouge'])\n",
      " list(['tomates', 'viande', 'hachée', 'viande', 'porc', 'viande', 'boeuf', 'sel', 'épices', 'dextrose', 'oignon', 'purée', 'tomates', 'huile', 'colza', 'amidon', 'blé', 'sansgluten', 'sucre', 'sel', 'épices', 'céleri', 'ail', 'arôme', 'soja', 'céleri', 'sirop', 'glucose', 'dextrose', 'exhausteur', 'goût', 'e621', 'e635', 'protéine', 'soja', 'graisse', 'soja', 'émulsifiant', 'e472e', 'protéine', 'lait', 'stabilisant', 'e340', 'acidifiant', 'e270', 'e327', 'e325', 'vinaigre', 'poivre', 'rouge'])\n",
      " list(['eau', 'huile', 'végétale', 'cola', 'amidon', 'blé', 'sansgluten', 'amidons', 'jaune', \"d'oeuf\", 'glucose', 'sucre', 'vinaigre', 'sel', 'pli', 'herbes', 'épices', 'sambal', 'paprika', 'poivre', 'flocons', 'chili', 'acidifiants', 'e260', 'e270', 'conservateurs', 'e202', 'e211', 'épaississant', 'e412', 'e415', 'e1422', 'colorant', 'e160c'])\n",
      " list(['sucre', 'blanc', \"d'œuf\", 'protéines', 'lait', 'acidifiant', 'e330', 'régulateur', \"d'acidité\", 'e500', 'arôme', 'vanille', 'fibres', 'blé', 'sansgluten', 'poudre', 'lever', 'e170', 'gélifiant', 'e460'])\n",
      " list(['riz', 'noir', 'choufleur', 'tomate', 'brocoli', 'pois', 'eau', 'protéines', 'pois', 'eau', 'isolat', 'protéines', 'pois', 'purée', 'tomate', 'extrait', 'malt', 'orge', 'eau', 'orge', 'malté', 'houblon', 'levure', 'fibre', 'pois', 'farine', \"d'avoine\", 'complète', 'sansgluten', 'huile', 'colza', 'fécule', 'pomme', 'terre', 'sel', 'antioxydant', 'extrait', 'romarin', 'tomate', 'poudre', 'champignon', 'poudre', 'oignon', 'poudre', 'carvi', 'origan', 'pois', 'chiches', 'huile', 'colza', 'oignon', 'huile', 'tournesol', 'fromage', 'cheddar', 'lait', 'lait', 'sel', 'présure', 'microbienne', 'fibre', 'pomme', 'ail', 'basilic', 'arômes', 'naturels', 'stabilisant', 'méthylcellulose', 'sel', 'ail', 'déshydraté', 'poivre', 'noir', 'methylcellulose', 'provient', 'cellules', 'végétales', 'utilisé', 'afin', \"d'obtenir\", 'forme', 'texture', 'désirées'])\n",
      " list(['glucose', 'lait', 'entier', 'sirop', 'sucre', 'inverti', 'chocolat', 'noir', 'pâte', 'cacao', 'sucre', 'canne', 'fibre', \"d'agave\", 'inuline', 'pur', 'beurre', 'cacao', 'émulsifiant', 'lécithine', 'soja', 'arôme', 'naturel', 'vanille', 'cacao', 'minimum', 'inuline/oligofructose', 'fibre', 'beneo', 'cacao', 'maigre', 'poudre', 'sorbate', 'potassium', 'sel', 'extrait', 'naturel', 'romarin', 'sansgluten'])\n",
      " list(['farines', 'sansgluten', 'sarrasin', 'fécule', 'pomme', 'terre', 'tapioca', 'beurre', 'lait', 'sucre', 'canne', 'épaississant', 'gomme', 'xanthane', 'sel', 'vanille', 'produit', 'issu', \"l'agriculture\", 'biologique', 'peut', 'contenir', 'traces', 'noisettes', \"d'oeufs\"])\n",
      " list(['farines', 'sansgluten', 'sarrasin', 'fécule', 'pomme', 'terre', 'tapioca', 'beurre', 'lait', 'sucre', 'canne', 'chocolat', 'masse', 'cacao', 'sucre', 'beurre', 'cacao', 'noisettes', 'poudre', 'cacao', 'fleur', 'sel', 'vanille', 'épaississant', 'gomme', 'xanthane', 'poudre', 'lever', 'bicarbonate', 'sodium', 'produit', 'issu', \"l'agriculture\", 'biologique', 'certisys', 'bebio001', 'peut', 'contenir', 'traces', \"d'oeufs\"])\n",
      " list(['flocons', \"d'avoine\", 'complète', 'sansgluten', 'quot', 'morceaux', 'fruits', 'secs', 'date', 'figue', 'abricot', 'farine', 'riz', 'graines', 'chanvre', 'décortiquées', 'graines', 'courge', 'concassées', 'graines', 'lin', 'flocons', 'sarrasin'])\n",
      " list(['amande', 'noix', 'cajou', 'épices', 'speculoos', 'cannelle', 'girofle', 'muscade', 'gingembre', 'réglisse', 'anis', 'sel', 'guérande', 'quot', 'certifié', 'biologique', 'peut', 'contenir', 'traces', \"d'autres\", 'noix', 'sésame', 'soja', 'moutarde', 'sansgluten', 'ingrediënt', 'amandel', 'heerd', 'kan', 'sporen', 'van', 'noten', 'sesam', 'mosterd', 'soja', 'bevatten', 'cashew', 'speculoos', 'spices', 'cinnamon', 'cloves', 'nutmeg', 'ginger', 'kaneel', 'kruidnagel', 'quot', 'nootmuskaat', 'gember', 'zoethout', 'anijs', 'sal', 'organic', 'certified', 'uts', 'mustard', 'soy', 'glutenfree'])\n",
      " list(['avoine', 'sansgluten', 'sarrasin', 'moulu', 'pâte', 'noisette', 'noisettes', 'grillées', 'sucre', 'fleurs', 'coco', 'pépites', 'chocolat', 'pâte', 'cacao', 'sucre', 'cane', 'beurre', 'cacao', 'extrait', 'vanille', 'graines', 'lin', 'moulues', 'cacao', 'poudre', 'beurre', 'cacao', 'minimum', 'graines', 'tournesol', 'contient', \"l'avoine\", 'sansgluten', 'fruits', 'coque', 'noisettes', 'peut', 'contenir', 'traces', 'fruits', 'coque', 'amandes', 'graines', 'sésame', \"d'arachides\"])\n",
      " list(['áqua', 'aveia', 'inulina', 'óleo', 'girassol', 'sais', 'cálcio', 'àcido', 'ortofosfórico', 'estabilizador', 'goma', 'gelana', 'sal', 'marinho', 'vitaminas', 'riboflavina', 'cianocobalamina', 'b12', 'ergocalciferol', 'aroma', 'pode', 'conter', 'vestígios', 'soja', 'frutos', 'casca', 'rija', 'oat', 'drink', 'uht', 'naturally', 'lactose', 'free', 'glutenfree', 'source', 'calcium', 'vitamins', 'b12', 'suitable', 'coeliacs', 'ingredients', 'water', 'oat', 'inulin', 'sunflower', 'oil', 'calcium', 'salts', 'orthophosphoric', 'acid', 'stabilizer', 'gellan', 'gum', 'sea', 'salt', 'vitamins', 'riboflavin', 'cyanocobalamin', 'b12', 'ergocalciferol', 'flavor', 'may', 'contains', 'traces', 'soya', 'nuts', 'boisson', \"d'avoine\", 'uht', 'naturellement', 'sans', 'lactose', 'sansgluten', 'source', 'calcium', 'vitamines', 'b12', 'apte', 'coeliaques', 'ingrédients', 'eau', 'avoine', 'inuline', 'huile', 'tournesol', 'sels', 'calciques', \"l'acid\", 'orthophosphorique', 'stabilisant', 'gomme', 'gellane', 'sel', 'mer', 'vitamines', 'riboflavine', 'cyanocobalamine', 'b12', 'ergocalciférol', 'arôme', 'peut', 'contenir', 'traces', 'soja', 'fruits', 'coques', 'bebida', 'avena', 'uht', 'naturalmente', 'sin', 'lactosa', 'sin', 'gluten', 'fuente', 'calcio', 'vitaminas', 'b12', 'apto', 'para', 'celíacos', 'ingredientes', 'aqua', 'avena', 'inulina', 'aceite', 'girasol', 'sales', 'cálcicas', 'ácido', 'ortofosfórico', 'estabilizante', 'goma', 'gellan', 'sal', 'marina', 'vitaminas', 'riboflavina', 'cianocobalamina', 'b12', 'ergocalciferol', 'aroma', 'puede', 'contener', 'trazas', 'soja', 'frutos', 'cáscara'])\n",
      " list(['lait', 'écrémé', 'réhydraté', 'sucre', 'crème', 'lait', 'beurre', 'cacao', 'sirop', 'glucose', 'glucose', 'lait', 'concentré', 'sucré', 'lait', 'entier', 'sucre', 'beurre', 'concentré', 'lait', 'sel', 'amidon', 'modifié', 'gélifiants', 'pectines', 'gomme', 'xanthane', 'émulsifiant', 'monoet', 'mia', \"d'australie\", 'matière', 'grasse', 'lait', 'anhydre', 'poudre', 'petitlait', 'lait', 'pâte', 'cacao', 'lactose', 'lait', 'émulsifiants', 'mono', 'diglycérides', \"d'acides\", 'gras', 'lécithines', 'soja', 'e476', 'stabilisants', 'gomme', 'guar', 'farine', 'graines', 'caroube', 'concentré', 'carotte', 'sirop', 'sucre', 'inverti', 'extrait', 'vanille', 'peut', 'contenir', 'arachides', 'autres', 'fruits', 'coque', 'oeufs', \"d'origine\", 'végétale', 'sansgluten', 'sauce', 'caramel', 'salée', 'sucre', 'eau', 'sirop', 'diglycérides', \"d'acides\", 'gras', 'arôme', 'naturel', 'lait', 'écrémé', 'poudre', 'morceaux', 'noix', 'macada', 'conserver', 'à18', 'recongeler', 'produit', 'décongelé', 'lot'])\n",
      " list(['lait', 'écrémé', 'réhydraté', 'sucre', 'crème', 'lait', 'pûte', 'cacao', 'sirop', 'glucose', 'beurre', 'cacao', 'morceaux', 'noisettes', 'salés', 'grillés', 'morceoux', 'noisettes', 'grillés', 'sel', 'sauce', 'chocolat', 'sirop', 'glucose', 'sirop', 'sucre', 'inverti', 'crème', 'lait', 'eau', 'sucre', 'chocolat', 'pâte', 'caca', 'sucre', 'cacao', 'maigre', 'poudre', 'émulsifiant', 'lécithines', 'soja', 'cacao', 'maigre', 'poudre', 'émulsifiant', 'mono', 'diglycérides', \"d'acides\", 'gras', 'stabilisant', 'carraghénanes', 'sel', 'arôme', 'naturel', 'vanille', 'lait', 'écrémé', 'poudre', 'matière', 'grasse', 'lait', 'émulsifiants', 'mono', 'diglycérides', \"d'acides\", 'gras', 'lécihines', 'soja', 'e476', 'stabilisants', 'gomme', 'guar', 'farine', 'graines', 'caroube', 'café', 'déshydraté', 'tanzanie', 'grains', 'café', 'torréfié', 'tanzanie', 'arôme', 'naturel', 'vanille', 'peut', 'contenir', 'arachides', 'amandes', 'noix', 'pistaches', 'noix', 'macadamia', 'noix', 'brésil', 'noix', 'cajou', 'noix', 'pécan', 'oeufs', \"d'origine\", 'végétale', 'sansgluten'])\n",
      " list(['eau', 'jus', 'fruit', 'jus', 'citron', 'jus', 'lime', 'sucre', 'arômes', 'naturels', 'agrume', 'dioxyde', 'carbone', 'sansgluten', 'sans', 'conservateurs'])\n",
      " list(['pâte', 'noisettes', 'sucre', 'huiles', 'végétales', 'palme', 'tournesol', 'noisettes', 'lactose', 'lait', 'lactosérum', 'lait', 'poudre', 'lait', 'entier', 'poudre', 'arôme', 'naturel', 'vanille', 'émulsifiant', 'lécithine', 'tournesol', 'chocolat', 'lait', 'sucre', 'beurre', 'cacao', 'lait', 'entier', 'poudre', 'pâte', 'cacao', 'émulsifiant', 'lécithine', 'soja', 'arôme', 'naturel', 'vanille', 'gaufrette', 'sansgluten', 'fariné', 'riz', 'amidon', 'pomme', 'terre', 'protéines', 'lait', 'amidon', 'maïs', 'huile', 'palme', 'émulsifiant', 'lécithine', 'tournesol', 'poudre', 'lever', 'carbonate', 'acide', 'sodium', 'carbonate', 'acide', \"d'ammonium\", 'chocolat', 'noir', 'pâte', 'cacao', 'sucre', 'beurre', 'cacao', 'émulsifiant', 'lécithine', 'soja', 'arôme', 'naturel', 'vanille'])\n",
      " list(['chocolat', 'lait', 'sucre', 'canne', 'beurre', 'cacao', 'poudre', 'lait', 'entier', 'cacao', 'vanille', 'poudre', 'amidon', 'maïs', 'fécule', 'tapioca', 'farine', 'maïs', 'margarine', 'beurre', 'karité', 'huile', 'tournesol', 'eau', 'sel', 'jus', 'citron', 'concentré', 'sucre', 'canne', 'blond', 'quot', 'sirop', 'glucose', 'maïs', 'huile', 'tournesol', 'épaississant', 'gomme', 'guar', 'sel', 'marin', 'émulsifiant', 'lécithines', 'tournesol', 'poudre', 'lever', 'carbonates', \"d'ammonium\", 'ingrédients', 'issus', \"l'agriculture\", 'biologique', 'sansgluten', 'allergènes', 'traces', 'possibles', \"d'œuf\", 'fruits', 'coque'])\n",
      " list(['graines', 'tournesol', 'flocons', \"d'avoine\", 'sansgluten', 'graines', 'sésame', 'graines', 'lin', 'fibres', 'riz', 'miel', 'fibres', 'pomme', 'terre', 'huile', 'colza', 'fibres', 'betteraves', 'sucre', 'canne', 'eau', 'sel'])\n",
      " list(['graines', 'tournesol', 'flocons', \"d'avoine\", 'sansgluten', 'graines', 'sésame', 'graines', 'lin', 'farine', 'huile', 'colza', 'farine', 'quinoa', 'eau', 'fibre', 'pomme', 'terre', 'sel'])\n",
      " list(['farine', 'riz', 'amidon', 'amidon', 'pomme', 'terre', 'farine', 'sarrasin', 'fibres', 'betterave', 'sucrière', 'graines', 'chia', 'salvia', 'hispanica', 'fibres', 'pomme', 'extrait', 'malt', \"d'orge\", 'sansgluten', 'fibres', \"d'avoine\", 'sansgluten', 'farine', 'teff', 'huile', 'colza', 'sel', 'téguments', 'graines', 'puces', 'épaississant', 'hydroxypropylméthylcellulose', 'levure', 'fibres', 'cacao'])\n",
      " list(['avoine', 'sansgluten', 'graines', 'sésame', 'sarrasin', 'sansgluten', 'sansgluten', 'miel', 'sirop', 'ail', 'piment', 'quot', 'épices', 'sel', 'arôme', 'naturel', 'ingrédients', 'issus', \"l'agriculture\", 'biologique', 'peut', 'contenir', 'traces', 'lait', 'fruits', 'coque', 'amandes', 'noisettes'])\n",
      " list(['flocons', \"d'avoine\", 'bio', 'sansgluten', 'lin', 'jaune', 'bio', 'farine', 'sarrasin', 'bio', 'protéines', 'lait', 'bio', 'origine', 'suisse', 'huile', 'tournesol', 'oléique', 'agave', 'bio', 'extrait', 'manioc', 'bio', 'lait', 'coco', 'bio', 'mandarine', 'bio', 'guarana', 'bio', 'acide', 'citrique', 'arôme', 'naturel', 'clémentine', 'maca', 'bio', 'fibres', \"d'acacia\", 'bio', 'schisandra', 'chinensis', 'lécithine', 'acetyllcarnitine', 'choline', 'bitartrate', 'nacetylltyrosine', 'baies', \"d'açaï\", 'bio', 'extraits', 'concentrés', 'fruits', 'légumes', 'extrait', 'végétaux', 'titrés', 'polyphénols', 'thé', 'vert', 'pépins', 'marc', 'raisin', 'concentrés', 'fruits', 'légumes', 'myrtille', 'carotte', 'pamplemousse', 'papaye', 'ananas', 'fraise', 'pomme', 'abricot', 'cerise', 'orange', 'tomate', 'cassis', 'brocoli', 'chou', 'vert', 'oignon', 'ail', 'asperge', 'concombre', 'lactose', 'lthéanine', 'ginseng', 'spiruline', 'bio', 'chlorella', 'bio', 'antioxydant', 'extrait', 'naturel', 'romarin', 'bio', 'probiotiques', 'mix', 'vitamines', 'acérola', 'mix', 'minéraux', 'chlorure', 'sodium', 'chlorure', 'potassium', 'citrate', 'fer', 'gluconate', 'zinc', 'iodure', 'potassium', 'molybdate', 'sodium', 'sélénite', 'sodium', 'chlorure', 'chrome'])\n",
      " list(['longe', 'porc', 'eau', 'sel', 'dextrose', 'lactose', 'épices', 'antioxidants', 'e301', 'e331', 'conservateurs', 'e262', 'e250', 'sansgluten'])\n",
      " list(['courgeltei', 'aubergine', 'tomate', 'poireau', 'poivron', 'carotte•', 'ciboulette•', 'ail', 'marjolaine', 'persil', 'romarin', 'thym', 'basilic', 'issus', \"l'agriculture\", 'biologique', 'sansgluten', 'lactose', 'protéines', 'tactiques', 'sans', 'additifs'])\n",
      " list(['lait', 'suise', 'partiellement', 'écrémé', 'matière', 'grasse', 'avoine', 'sansgluten', 'protéines', 'lait', 'épaississants', 'gomme', 'xanthane', 'carraghénanes', 'arôme', 'sel', 'cuisine', 'édulcorants', 'cyclamates', 'acesulfamek'])\n",
      " list(['besoins', 'nutritionnels', 'cas', 'dénutrition', 'risque', 'dénutritior', 'apporte', 'nutriments', 'impliqués', 'cicatrisation', 'proline', 'arginine', 'vitamine', 'bêtacarotène', 'vitamine', 'vitamine', 'zinc', 'sélénium', 'avis', 'important', 'utiliser', 'sou', 'contrôle', 'médical', 'utiliser', 'complément', \"l'alimentation\", 'utilisation', 'conser', 'tion', 'consommer', 'préférence', 'frais', 'non', 'ouvert', 'conserver', 'endroit', 'fra', 'sec', 'après', 'ouverture', 'refermer', 'bouteille', 'entamée', 'conserver', 'réfrigérateur', 'consommer', 'heures', 'dosage', 'recommandé', 'nutrition', 'orale', 'patient', 'plus', 'ans', 'unités', 'jour', 'complémentation', 'adapter', 'selon', 'recommandations', 'médicales', \"l'âge\", 'besoins', \"l'état\", 'patient', 'ingrédients', 'eau', 'protéines', 'lait', 'sirop', 'glucose', 'saccharose', 'huile', 'colza', 'acides', 'aminé', 'lproline', 'larginine', 'amidon', 'minéraux', 'citrate', 'potassium', 'phosphate', 'sodium', 'chlorure', 'potassium', 'oxyde', 'magnésium', 'sulfate', 'zinc', 'pyrophos', 'phate', 'fer', 'sulfate', 'manganèse', 'sulfate', 'cuivre', 'fluorure', 'sodium', 'chlorur', 'chrome', 'sélénate', 'sodium', 'molybdate', 'sodium', 'iodure', 'potassium', 'vitamines', 'niacine', 'acide', 'pantothénique', 'bêtacarotène', 'b2/', 'acide', 'folique', 'biotine', 'émulsifiant', 'e471', 'épaississants', 'e41', 'e407', 'arômes', 'stérilisé', 'uht', 'conditionné', 'sous', 'atmosphère', 'protectrice', 'sansgluten', 'sans', 'lactose'])\n",
      " list(['lait', 'entier', 'sucre', 'amidon', 'transformé', 'protéines', 'lait', 'épaississant', 'pectine', 'ferments', 'lactiques', 'lait', 'arôme', 'naturel', 'lait', 'sansgluten'])\n",
      " list(['sucre', 'cacao', 'maigre', 'émulsifiant', 'lécithine', 'soja', 'sel', 'vitamines', 'minéraux', 'pyrophosphate', 'fer', 'sulfate', 'zinc', 'cannelle', 'arôme', 'naturel', 'peut', 'contenir', 'lait', 'sansgluten'])\n",
      " list(['filet', 'poulett', 'sel', 'dextrose', 'maïs', 'arômes', 'naturels', 'conservateur', 'nitrite', 'sodium', 'antioxydant', 'isoascorbate', 'sodium', 'colorant', 'caramel', 'ordinaire', 'fabriqué', 'france', 'viande', 'issue', \"d'élevages\", 'poulets', 'rigoureusement', 'sélectionnés', \"l'union\", 'européenne', 'viande', 'filet', 'poulet', 'sansgluten'])\n",
      " list(['filet', 'poulet', 'sel', 'arômes', 'naturels', 'miel', 'dextrose', 'conservateur', 'nitrite', 'sodium', 'antioxydant', 'isoascorbate', 'soéium', 'colorant', 'caramel', 'ordinaire', 'fumée', 'fabriqué', 'fronce', 'viande', 'issue', \"d'élevages\", 'poulets', 'rigoureusement', 'sélectionnés', \"l'union\", 'européenne', 'vignde', 'tilet', 'poulet', 'sansgluten'])\n",
      " list(['lactose', 'lait', 'écrémé', 'graisses', 'végétale', 'palme', 'noix', 'coco', 'maltodextrine', 'petitlait', 'pertiellement', 'déminéralisé', 'poudre', 'amidon', 'huiles', 'végétale', 'colza', 'tournesol', 'sels', 'minéraux', 'citrates', 'calcium', 'sels', 'potassium', \"l'acide\", 'orthophosphorique', 'orthophosphates', 'calcium', 'citrate', 'sodium', 'chlorure', 'sodium', 'chlorure', 'magnésium', 'citrates', 'potassium', 'sulfate', 'fer', 'sulfate', 'zinc', 'sulfate', 'cuivre', 'iodure', 'potassium', 'sélénate', 'sodium', 'huile', 'mortierella', 'alpina', 'émulsifiant', 'lécithine', 'soja', 'vitamines', 'niacine', 'acide', 'folique', 'acide', 'pantothénique', 'b12', 'biotine', 'huile', 'poisson', 'acides', 'gras', 'oméga3', 'langue', 'chaïne', 'cultures', 'bactéries', 'lactiques', 'lactis', 'thermophilus', 'sansgluten'])\n",
      " list(['jambon', 'frais', 'poic', 'bouillon', 'eau', 'couennes', 'poic', 'oignons', 'porc', 'carottes', 'sel', 'persil', 'ail', 'dou', 'girofle', 'poiv', 'laurier', 'sel', 'dextrose', 'maïs', 'arômes', 'natuìels', 'antioxydant', 'isoascorbate', 'sodium', 'conservateur', 'nitrite', 'sodium', 'fabriqué', 'franct', 'sansgluten'])\n",
      " list(['antioxydant', 'isoascorbate', 'sodium', 'conservateur', 'nitrite', 'sodium', 'fabriqué', 'viande', 'porcs', 'espagne', 'issus', \"d'élevages\", 'rigoureusement', 'sélectionnés', 'sansgluten'])\n",
      " list(['e326t', 'e261', 'e250', 'stabilisants', 'e450', 'e451', 'dextrose', 'arôme', 'arôme', 'fumée', 'antioxydant', 'isoascorbate', 'sodium', 'fumée', 'sel', 'réduit', 'rapport', 'moyenne', 'catégorie', 'fabriqué', 'france', 'viande', 'porcs', \"d'origine\", 'union', 'européenne', 'issus', \"d'élevages\", 'rigoureusement', 'sélectionnés', 'sansgluten', 'conditionne', 'sous', 'atmos', 'hère', 'rotectrice', 'conservation', '+40', 'service', 'consommateurs', 'herta', 'marne', 'vallée', 'cedex', 'propriétaire', 'marques', 'consommer', 'rapidemen'])\n",
      " list(['poitrine', 'porc', 'viande', 'porc', 'conservateurs', 'nitrite', 'sodium', 'lactate', 'potassium', 'acétate', 'sodium', 'sel', 'dextrose', 'maïs', 'antioxydant', 'isoascorbate', 'sodium', 'fumée', 'fabriqué', 'france', 'viande', 'porcs', \"d'origine\", 'union', 'euro', 'éenne', 'issus', \"d'élevages\", 'rigoureusement', 'sélectionnés', 'sansgluten'])\n",
      " list(['filets', 'poulet', 'bouillon', 'volaille', 'légumes', 'eau', 'morceaux', 'poulet', 'sel', 'sucre', 'extraits', 'carotte', \"d'oignon\", 'épices', 'aromates', 'ail', 'thym', 'laurier', 'livèche', 'circula', 'paprika', 'poivre', 'noir', 'muscade', 'clou', 'girofle', 'graisse', 'poulet', 'sel', 'dextrose', 'arôme', 'naturel', 'anfoxydants', 'extrait', 'romarin', 'isoascorbate', 'sodium', 'conservatiur•', 'nitrite', 'sodium', 'colorant', 'caramel', 'ordinaire', 'fumée', 'viande', 'filet', 'pou', 'quot', 'sansgluten'])\n",
      " list(['jambon', 'irais', 'porc', 'bouillon', 'eau', 'gras', 'couennes', 'porc', 'porc', 'concentré', \"d'oignons\", 'carottes', 'sel', 'persil', 'ail', 'clou', 'girofle', 'poivre', 'laurier', 'sel', 'dextrose', 'dymaïs', 'onservateur', 'nitrite', 'sodium', 'chlorure', 'potassium', 'antioxydont', 'isorscorbate', 'sodium', 'sel', 'réduit', 'dar', 'rapport', 'moyenne', 'catégorie', 'abriqué', 'enfrance', 'sansgluten', 'conditionnésousatmosphère', 'grotectnce'])\n",
      " list(['poitrine', 'porc', 'viande', 'porc', 'gonservateurs', 'nitrite', 'sodium', 'lactate', 'potassium', 'acétate', 'sodium', 'sel', 'dextrose', 'maïs', 'antioxydant', 'isoascorbate', 'sodium', 'fumée', 'fabriqué', 'france', 'fumage', 'traditionnel', 'bois', 'hêtre', 'sansgluten'])\n",
      " list(['cacao', 'maigre', 'poudre', 'fibres', 'solubles', 'maïs', 'sucres', 'farine', \"d'avoine\", 'émulsifiant', 'lécithine', 'soja', 'arômes', 'naturels', 'vitamines', 'bilan', 'massique', 'certifié', 'rainforest', 'alliance', 'www.ra.org/fr', 'sansgluten'])\n",
      " list(['cacao', 'maigre', 'poudre', 'fibres', 'solubles', 'maïs', 'sucres', 'farine', \"d'avoine\", 'émulsifiant', 'lécithine', 'soja', 'arômes', 'naturels', 'vitamines', 'bilan', 'massique', 'certifié', 'rainforest', 'alliance', 'www.ra.org/fr', 'sansgluten'])\n",
      " list(['sucre', 'eau', 'farine', 'riz', 'hydrolysée', 'huile', 'tournesol', 'farine', \"d'avoine\", 'sansgluten', 'peut', 'contenir', 'traces', 'lait'])\n",
      " list(['eau', 'épinards', 'ricotta', 'fromage', 'sans', 'lactose', 'fécule', 'tapioca', 'farine', 'riz', 'fromage', 'pâte', 'midure', 'sans', 'lactose', 'préparation', 'farine', 'petits', 'pois', 'farine', 'petits', 'pois', 'fibres', 'alimentaires', 'base', 'pommes', 'terre', 'maïs', 'petits', 'pois', 'plantago', 'psyllium', 'arômes', 'naturels', 'chapelure', 'sansgluten', 'farine', 'riz', 'sel', 'cuisine', 'émulsifiant', 'e471', 'oignons', 'œuf', 'entier', 'poudre', 'blanc', \"d'œuf\", 'poudre', \"d'œufs\", \"d'élevage\", 'plein', 'air', 'huile', 'colza', 'sel', 'cuisine', 'émulsifiant', 'e471', 'épaississant', 'gomme', 'guar', 'ail', 'poivre', 'noix', 'muscade'])\n",
      " list(['viande', 'poulet', 'chapelure', 'sansgluten', 'farine', 'riz', 'maïs', 'sel', 'cuisine', 'iodé', 'fibres', 'blé', 'épices', 'glucose', 'sirop', 'glucose', 'sucre', 'extrait', 'levure', 'antioxydant', 'e301', 'extrait', 'romarin'])\n",
      " list(['eau', 'amidon', 'tapioca', 'modifié', 'farine', 'riz', 'amidon', 'maïs', 'farine', 'sarrasin', 'amidon', 'pommes', 'terre', 'sirop', 'riz', 'huile', 'tournesol', 'psyllium', 'levain', 'déshydraté', 'sarrasin', 'quinoa', 'levure', 'sel', 'cuisine', 'épaississant', 'hydroxypropylméthylcel', 'lulose', 'extrait', 'malt', \"d'orge\", 'grillé', 'sansgluten', 'acidifiant', 'acétate', 'calcium', 'peut', 'contenir', 'fruits', 'coque', 'sésame', 'soja', 'protéine', 'lait', 'œufs'])\n",
      " list(['lait', 'entier', 'crème', 'sucre', 'sirop', 'glucosefructose', 'jus', \"d'orange\", 'protéines', 'lait', 'liqueur', \"d'orange\", 'arôme', 'naturel', 'pâte', 'cacao', 'beurre', 'cacao', 'jaune', \"d'œuf\", \"d'élevage\", 'plein', 'air', 'farine', 'riz', 'sirop', 'sucre', 'inverti', 'cacao', 'poudre', 'inuline', 'amidon', 'maïs', 'fibre', \"d'avoine\", 'sansgluten', 'arômes', 'naturels', 'écorce', \"d'orange\", 'jus', 'citron', 'extrait', 'paprika', 'arôme', 'naturel', \"d'orange\"])\n",
      " list(['flocons', \"d'avoine\", 'sansgluten', 'sucre', 'chocolat', 'sucre', 'cacao', 'pâte', 'beurre', 'cacao', 'beurre', 'fondu', 'émulsifiant', 'soja', 'arôme', 'huile', 'colza', 'sirop', 'glucose', 'miel'])\n",
      " list(['produit', 'champignon', 'quorn', 'angleterre', 'blanc', \"d'œuf\", \"d'œufs\", \"d'élevage\", 'plein', 'air', 'sucre', 'caramélisé', 'extrait', 'malt', \"d'orge\", 'sansgluten', 'affermissants', 'e263', 'e509'])\n",
      " list(['flocons', \"d'avoine\", 'sansgluten', 'grossebretagne', 'sucre', 'canne', 'brut', 'huile', 'tournesol', 'sirop', 'riz', 'baies', 'lyophilisé', 'fraises', 'mûres', 'framboises', 'miel'])\n",
      " list(['eau', 'avoine', 'sansgluten', 'danemark', 'huile', 'tournesol', 'sel', 'marin'])\n",
      " list(['flocons', \"d'avoine\", 'sansgluten', 'farine', 'tournesol', 'graines', 'chia', 'salvia', 'hispanica', 'farine', \"d'amande\", 'farine', 'souchet', 'cacao', 'maigre', 'poudre', 'grains', 'cacao'])\n",
      " list(['poire', 'eau', 'sucre', 'canne', 'flocons', \"d'avoine\", 'sansgluten', 'riz', 'rond', 'complet', 'poudre', 'cacao', 'maigre', 'graines', 'lin', 'protéines', 'riz', 'jus', 'citron', 'vert', 'ingrédients', 'bio'])\n",
      " list(['pêche', 'eau', 'sucre', 'canne', 'lait', 'coco', 'flocons', \"d'avoine\", 'sansgluten', 'riz', 'rond', 'complet', 'graines', 'lin', 'protéines', 'riz', 'thé', 'noir', 'gingembre', 'poudre', 'jus', 'citron', 'concentré', 'ingrédients', 'bio'])\n",
      " list(['eau', 'lait', 'coco', 'sucre', 'canne', 'flocons', \"d'avoine\", 'sansgluten', 'riz', 'rond', 'complet', 'protéine', 'riz', 'graine', 'lin', 'amidon', 'riz', 'cacao', 'poudre', 'extrait', 'café', 'arôme', 'naturel', 'vanille', 'ingrédients', 'bio'])\n",
      " list(['sucre', 'roux', 'canne', 'matières', 'grasses', 'végétales', 'huile', 'tournesol', 'beurre', 'cacao', 'purée', 'noisette', 'poudre', 'cacao', 'poudre', 'lait', 'écrémé', 'extrait', 'vanille', 'issus', \"l'agriculture\", 'biologique', 'commerce', 'équitable', 'contrôlé', 'selon', 'référentiel', 'fair', 'life', 'ingrédients', \"d'origine\", 'agricole', 'trace', 'éventuelles', \"d'autres\", 'fruits', 'coques', 'sansgluten'])\n",
      " list(['sucre', 'beurre', 'cacao¹', 'céréales', 'croustillantes', 'farine', 'riz', 'sucre', 'cacao', 'maigre¹', 'sel', 'pâte', 'cacao¹', 'lait', 'entier', 'poudre', 'lait', 'écrémé', 'poudre', 'petitlait', 'poudre', 'matière', 'grasse', 'lait', 'anhydre', 'emulsifiant', 'lécithines', 'arôme', 'naturel', 'vanille', 'peut', 'contenir', 'fruits', 'coque', 'sansgluten'])\n",
      " list(['sucre', 'noisettes', 'pâte', 'cacao', 'beurre', 'praline', 'chocolat', 'noir', 'fourré', 'nolsettes', 'ingrédients', 'sucre', 'noisettes', 'pate', 'cacao', 'beurre', 'cacao', 'beurre', 'anhydre', 'lait', 'lait', 'poudre', 'émulsifiant', 'lécithine', 'tournesol', 'arôme', 'naturel', 'vanille', 'peut', 'contenir', 'autres', 'fruits', 'coque', 'sansgluten', 'cacao', 'minirnum', 'conserver', 'endroit', 'frais', 'sec', \"l'abri\", 'chaleur'])\n",
      " list(['eau', 'purée', 'pêche', 'sucre', 'acidifiant', 'acide', 'citrique', 'antioxydant', 'acide', 'ascorbique', 'arôme', 'sansgluten'])\n",
      " list(['sucre', 'huile', 'palme', 'noisettes', 'lait', 'écrémé', 'poudre', 'cacao', 'maigre', 'émulsifiants', 'lécithines', 'soja', 'vanilline', 'sansgluten'])\n",
      " list(['lait', 'écrémé', 'réhydraté', 'sucre', 'beurre', 'cacao¹', 'eau', 'huile', 'coco', 'lait', 'poudre', 'écrémé', 'sirop', 'glucosefructose', 'sirop', 'glucose', 'beurre', 'concentré', 'lait', 'poudre', 'entier', 'lactose', 'protéines', 'lait', 'émulsifiants', 'e471', \"d'origine\", 'végétale', 'lécithines', 'tournesol', 'stabilisants', 'gomme', 'guar', 'farine', 'graines', 'caroube', 'carraghénanes', 'gousses', 'vanille', 'épuisées', 'broyées', 'arôme', 'naturel', 'vanille¹', 'dont', 'lait', 'arôme', 'colorant', 'caroténoïdes', 'peut', 'contenir', 'amandes', 'soja', 'sansgluten', '¹certifié', 'rainforest', 'alliance'])\n",
      " list(['lait', 'écrémé', 'réhydraté', 'sucre', 'beurre', 'cacao¹', 'huile', 'coco', 'amandes', 'lait', 'poudre', 'écrémé', 'sirop', 'glucose', 'sirop', 'glucosefructose', 'beurre', 'concentré', 'lactose', 'protéines', 'lait', 'pâte', 'cacao¹', 'émulsifiants', 'e442', 'e476', 'e471', 'gousses', 'vanille', 'épuisées', 'broyées', 'stabilisants', 'e407', 'e410', 'e412', 'arôme', 'naturel', 'vanille¹', 'dont', 'lait', 'arôme', 'colorant', 'e160a', 'peut', 'contenir', 'soja', 'autres', 'fruits', 'coque', 'sansgluten', '¹vérifié', 'rainforest', 'alliance™'])\n",
      " list(['tomate', 'dés', 'jus', 'double', 'concentré', 'huile', 'tournesol', 'fromage', 'parmigiano', 'reggiano', 'aop', 'lait', 'oignon', 'sel', 'carottes', 'poivre', 'noir', 'correcteur', \"d'acidité\", 'acide', 'lactique', 'sansgluten', 'ingrédients', 'biologiques'])\n",
      " list(['jus', 'tomates', 'base', 'concentré', 'jus', 'légumes', 'proportion', 'variable', 'jus', 'carottes', 'base', 'concentré', 'purée', 'céleri', 'purée', 'épinards', 'jus', 'laitue', 'purée', 'persil', 'jus', 'betterave', 'purée', 'fenouil', 'sel', 'jus', 'citron', 'base', 'concentré', 'sansgluten', 'ingrédients', 'biologiques'])\n",
      " list(['purée', 'tomate', 'eau', 'carottes', 'huile', 'tournesol', 'protéines', 'soja', 'persil', 'oignon', 'sucre', 'canne', 'sel', 'origan', 'poivre', 'noir', 'piment', 'correcteur', \"d'acidité\", 'acide', 'lactique', 'sansgluten', 'ingrédients', 'biologiques'])\n",
      " list(['artichauts', 'huile', 'tournesol', 'vinaigre', 'vin', 'sel', 'huile', 'dlolive', 'vierge', 'extra', 'persil', 'séché', 'ail', 'poudre', 'correcteur', 'dlacidité', 'acide', 'citrique', 'aci', 'lactique', 'extrait', 'dlherbes', 'épices', 'moutarde/', 'arôme', 'naturel', 'laurier', 'sansgluten'])\n",
      " list(['sauce', 'carbonara', 'idéal', 'pâtes', 'fraîches', '...', 'endives', 'jambon', 'eau', 'pancetta', 'pancetta', 'porc', 'selt', 'eftose', 'herèes', 'crème', 'yit', 'beurr', 'pefit', 'lait', 'lait', 'lait', 'écfémé', 'poudre', 'sel', 'grana', 'padano', 'oeuf', 'pecorino', 'romano', 'aop', 'lait', 'brebis', 'sucje', 'sels', 'citrate', 'sodium', 'arômes', 'naturels', 'lait', 'epaississantftrì', 'jaune', 'd10euf', 'poudre', 'poivre', 'noir', 'sansgluten'])\n",
      " list(['sauce', 'fromages', \"d'utilisation\", 'idéal', 'ôtes', 'fraîches', 'viande', 'rouge', 'type', 'fauxfilepou', 'entrecôte', 'grillée', 'eau', 'crème', 'lait', 'beurre', 'lait', 'emmental', 'moïs', 'modifié', 'hntal', 'uile', 'tournesol', 'moltodextrine', 'maïs', 'petit', 'lait', 'lai', 'écrémé', 'oudrej', 'aop', 'iii', 'lait', 'œuf', 'sel', 'arômes', 'naturels', 'sels', 'émulsifiants', 'poliphosphate', 'sodium', 'citrate', 'sodium', 'sucre', 'pecorino', 'romano', 'aop', 'lait', 'brebis', 'épaississant', 'xonthone', 'jaune', 'd10euf', 'poudre', 'poivre', 'noir', 'sansgluten', 'consommateur', 'sacla', 'fr/rubrique', '•contactez•nousl', 'info', 'soclo.fr', 'saclà', 'italia', 'sarl', 'impasse', 'plan', 'oriental/', 'montauroux', 'produit', 'italie', 'elli', 'saclò', 'préférence', 'avant', 'voir', 'date', 'sceau', 'aptes', 'ouvefiure', 'consommer', 'préférence', 'jours'])\n",
      " list(['tomates', 'purée', 'dés', 'jus', 'tomates', 'cerises', 'huile', 'tournesol', 'glucose', 'fromage', 'parmigiano', 'reggiano', 'aop', 'lait', 'amidon', 'maïs', 'modifié', 'sel', 'oignon', 'arômes', 'naturels', 'persil', 'ail', 'poudre', 'correcteur', 'acidité', 'acide', 'lactique', 'poivre', 'noir', 'sansgluten'])\n",
      " list(['poivrons', 'rouge', 'jaune', 'vert', 'anhydride', 'sulfureux', 'purée', 'tomates', 'huile', 'tournesol', 'aubergines', 'crème', 'poudre', 'crème', 'lait', 'entier', 'oignons', 'sel', 'marin', 'persil', 'séché', 'vinaigre', 'vin', 'origan', 'ail', 'poudre', 'oignons', 'poudre', 'sucre', 'arômes', 'correcteur', \"d'acidité\", 'acide', 'lactique', 'sansgluten'])\n",
      " list(['artichauts', 'huile', 'tournesol', 'vinaigre', 'vin', 'contient', 'sulfites', 'huile', 'dlolive', 'vierge', 'extra', 'sel', 'persil', 'ail', 'menthe', 'acidifiant', 'acide', 'lactique', 'antioxydant', 'iacide', 'ascorbique', 'poivre', 'moulu', 'arôrne', 'citron', 'sansgluten'])\n",
      " list(['tomates', 'séchées', 'réhydratées', 'contient', 'sulfites', 'huile', 'tournesol', 'pâte', 'tomate', 'double', 'câpres', 'sel', 'basilic', 'sucre', 'épices', 'vinaigre', 'vin', 'contient', 'sulfites', 'régulateur', \"l'acidité\", 'acide', 'lactique', 'antioxydant', 'acide', 'ascorbique', 'peut', 'contenir', 'traces', 'lait', 'œuf', 'noix', 'poisson', 'céleri', 'sansgluten'])\n",
      " list(['biologique', 'sucre', 'canne', 'brut', 'pâte', 'noisettes', 'grillées', 'huile', 'graines', 'tournesol', 'cacao', 'maigre', 'poudre', 'lait', 'écrémé', 'poudre', 'pâte', \"d'amandes\", 'pelées', 'grillées', 'beurre', 'cacao', 'émulsifiant', 'lécithine', 'tournesol', 'sansgluten'])\n",
      " list(['sirop', 'glucose', 'sucre', 'huile', 'essentielle', 'menthe', 'arômes', 'sansgluten'])\n",
      " list(['lt,21', 'lait', 'sansgluten', 'beurre', 'cacao', 'émulsifi', 'ant', 'lécithine', 'soja', 'irôme', 'naturel', 'vanille', 'minimum', 'talettes', 'riz', 'riz', 'complet', 'riz', 'peut', 'contenir', 'traces', 'fruits', 'coque', 'consommer'])\n",
      " list(['pastilles', 'violette', 'sansgluten', 'sucre', 'epaississants', 'gomme', 'arabique', 'gomme', 'adragante', 'arômes', 'colorant', 'naturel', 'e163'])\n",
      " list(['quot', 'noisette', 'piémont', 'quot', 'sucre', 'cacao', 'fèves', 'cacao', 'vanille', 'gousses', 'émulsifiant', 'lécithine', 'soja', 'peut', 'contenir', 'traces', 'lait', \"d'autres\", 'fruits', 'coque', 'sans', 'huile', 'palme', 'ogm', 'sansgluten'])\n",
      " list(['tomate', 'poitrine', 'viande', 'porc', 'sel', 'arômes', 'huile', 'tournesol', 'oignon', 'ail', 'sel', 'acidifiant', 'acide', 'citrique', 'sansgluten'])\n",
      " list(['tomate', 'champignon', 'paris', 'pulpe', 'tomate', 'oignon', 'huile', 'tournesol', 'cépes', 'ail/', 'persill', 'sel', 'acide', 'citrique', 'sansgluten'])\n",
      " list(['tomate', 'farine', 'soja', 'texturée', 'réhydratée', 'carotte', 'céleri', 'huile', 'graines', 'tournesol', 'herbes', 'aromatiques', 'oignon', 'sel', 'piment', 'acidifiant', 'acide', 'citrique', 'sansgluten'])\n",
      " list(['tomate', 'double', 'concentré', 'tomato', 'huile', \"d'olive\", 'extra', 'vierge', 'basilic', 'ail', 'oignon', 'fromage', 'parmigiano', 'reggiano', 'dérivés', 'lait', 'pignons', 'sucre', 'sel', 'acidifiant', 'acide', 'citrique', 'sansgluten'])\n",
      " list(['chocolat', 'noir', 'pâte', 'cacao', 'sucre', 'beurre', 'cacao', 'cacao', 'maigre', 'arôme', 'naturel', 'cacao', 'minimum', 'chocolat', 'lait', 'extra', 'fin', 'sucre', 'lait', 'entier', 'poudre', 'beurre', 'cacao', 'pâte', 'cacao', 'émulsifiant', 'lécithine', 'soja', 'cacao', 'minimum', 'noisettes', 'matière', 'grasse', 'végétale', 'coco', 'beurre', 'cacao', 'tournesol', 'olive', 'fourrage', 'sucre', 'lait', 'entier', 'poudre', 'émulsifiant', 'lécithine', 'soja', 'sansgluten'])\n",
      " list(['lait', 'écrémé', 'réhydraté', 'sucre', 'huile', 'coco', 'sirop', 'glucose', 'pâte', 'pistache', 'sirop', 'glucosefructose', 'pistaches', 'entières', 'grillées', 'émulsifiants', 'mono', 'diglycérides', \"d'acides\", 'gras', 'épaississants', 'alginate', 'sodium', 'farine', 'graines', 'caroube', 'colorants', 'complexes', 'curcumine', 'arôme', 'sansgluten', 'peut', 'contenir', 'traces', \"d'œuf\", \"d'autres\", 'fruits', 'coque'])\n",
      " list(['lait', 'entier', 'frais', 'crème', 'cassonade', 'brut', 'cacao', 'maigre', 'poudre', 'biologiques', 'sansgluten'])\n",
      " list(['viande', 'porc', 'sel', 'pistaches', 'sucre', 'épices', 'arômes', 'naturels', 'contenant', 'nitrites', 'origine', 'végétale', 'celeri', 'sansgluten', 'sans', 'dérivés', 'tait'])\n",
      " list(['mix', 'sansgluten', 'amidon', 'maïs', 'farine', 'riz', 'farine', 'pois', 'fibres', 'végétales', 'épaississant', 'gomme', 'guar', 'arômes', 'naturels', 'fromage', 'ricotta', 'lactosérum', 'lait', 'lait', 'sel', 'œufs', 'poules', 'élevées', 'plein', 'air', 'épinards', 'eau', 'fromage', 'mozzarella', 'lait', 'présure', 'sel', 'grana', 'padano', 'contient', 'lait', 'œufs', 'lysozyme', 'mascarpone', 'contient', 'lait', 'blanc', \"d'œuf\", 'flocons', 'pomme', 'terre', 'fibre', 'végétale', 'sel', 'noix', 'muscade'])\n",
      " list(['sirop', 'glucose', 'fructose', 'flocons', 'riz', 'farine', 'riz', 'semoule', 'sucre', 'sel', 'flocons', \"d'avoine\", 'sansgluten', 'raisins', 'maltodextrine', 'isomaltulose', 'beurre', 'cacao', 'arôme', 'émulsifiant', 'lécithine', 'tournesol', 'colorant', 'caramel', 'ordinaire', 'acidifiant', 'acide', 'citrique'])\n",
      " list(['viande', 'bœuf', 'sel', 'aromes', 'conservateurs', 'e252', 'e250', 'sansgluten'])\n",
      " list(['sucre', 'huile', 'végétale', 'palme', 'tournesol', 'noisettes', 'cacao', 'maigre', 'poudre', 'lactose', 'protéines', 'lait', 'lait', 'écrémé', 'poudre', 'émulsifiant', 'lécithine', 'soja', 'arômes', 'peut', 'contenir', 'traces', \"d'autres\", 'noix', 'sansgluten'])\n",
      " list(['contener', 'trazas', 'altramuz', 'sin', 'lactosa', 'sin', 'trigo', 'conservar', 'lugar', 'fresco', 'seco', 'consumir', 'preferentemente', 'antes', 'véase', 'abajo', 'biscuit', 'sansgluten', 'pépites', 'chocolat', 'spécialement', 'formulé', 'personnes', 'souffrant', \"d'une\", 'intolérance', 'gluten', 'ingrédients', 'amidon', 'maïs', 'huile', 'palme', 'farine', 'maïs', 'pépites', 'chocolat', 'sucre', 'pâte', 'cacao', 'beurre', 'cacao', 'émulsifiant', 'lécithine', 'tournesol', 'arôme', 'naturel', 'sucre', 'maltodextrine', 'farine', 'soja', 'flocons', 'coco', 'fécule', 'tapioca', 'modifié', 'poudres', 'lever', 'carbonate', 'acide', \"d'ammonium\", 'carbonate', 'acide', 'sodium', 'sel', 'arôme', 'naturel', 'peut', 'contenir', 'traces', 'lupin', 'sans', 'lactose', 'sans', 'ble', 'conserver', 'lieu', 'frais', 'sec', 'consommer', 'préférence', 'avant', 'voir', 'cidessous', 'rec', 'hidro', 'sal', 'lacto', 'pres', 'rainfo', 'herges', 'proc', 'pro'])\n",
      " list(['incrédie', 'câpres', 'eau', 'vinaigre', 'vin', 'sulfites', 'sel', 'sansgluten', 'sans', 'colorants', 'sans', 'conservateurs', 'ajoutés'])\n",
      " list(['chocolat', 'lait', 'extra', 'fin', 'sucre', 'beurre', 'cacao', 'lait', 'poudre', 'entier', 'pâte', 'cacao', 'émulsifiant', 'lécithine', 'soja', 'arôme', 'naturel', 'vanille', 'cacao', 'min', 'farine', 'riz', 'sel', 'peut', 'contenir', 'traces', 'noisettes', 'sansgluten', 'spécialement', 'formulé', 'personnes', 'atteintes', 'maladie', 'coeliaque'])\n",
      " list(['riz', 'carnaroli', 'assaisonnement', 'légumes', 'sel', 'fécule', 'pomme', 'terre', 'extrait', 'levure', 'maltodextrine', 'pomme', 'terre', 'légumes', 'déshydratés', 'oignon', 'carotte', 'céleri', 'persil', 'huile', 'tournesol', 'gingembre', 'noix', 'muscade', 'arômes', 'naturels', 'oignon', 'déshydraté', 'ail', 'déshydraté', 'céleri', 'déshydraté', 'safran', 'curcuma', 'sansgluten', 'allergène', 'céleri', 'consommer', 'après', 'cuisson'])\n",
      " list(['riz', 'carnaroli', 'assaisonnement', 'légumes', 'sel', 'fécule', 'pomme', 'terre', 'extrait', 'levure', 'maltodextrine', 'pomme', 'terre', 'légumes', 'déshydratés', 'oignon', 'carotte', 'céleri', 'persil', 'huile', 'tournesol', 'gingembre', 'noix', 'muscade', 'arômes', 'naturels', 'oignon', 'déshydraté', 'ail', 'déshydraté', 'céleri', 'déshydraté', 'safran', 'curcuma', 'sansgluten', 'allergène', 'céleri', 'consommer', 'après', 'cuisson'])\n",
      " list(['riz', 'carnaroli', 'fromages', 'déshydrates', 'proportion', 'variable', 'emmental', 'parmesan', 'zola', 'pecorino', 'lactosérum', 'assaisonnement', 'légumes', 'sel', 'fécule', 'pomme', 'terre', 'extrait', 'levure', 'maltodextrine', 'pomme', 'terre', 'légumes', 'déshydratés', 'oignon', 'carotte', 'céleri', 'persil', 'huile', 'tournesols', 'gingembrey', 'noix', 'muscade', 'arômes', 'naturels', 'oignon', 'déshydraté', 'sansgluten', 'allergèn', 'céleri/lait', 'consommer', 'après', 'cuisson'])\n",
      " list(['riz', 'carnaroli', 'assaisonnement', 'pesto', 'basilic', 'basilic', 'ail', 'déshydratés', 'proportions', 'variables', 'sel', 'farine', 'riz', 'sucre', 'fromage', 'pecorino', 'huile', 'tournesol', 'extrait', 'levure', 'sansgluten', 'allergèn', 'lait', 'consommer', 'après', 'cuisson'])\n",
      " list(['qktra', 'vierge', \"d'olive\", 'produit', 'sansgluten', \"d'olive\", 'huile', 'végétale', 'palme', 'fibre', 'graines', 'psyllium', 'graines', 'lin', 'sirop', 'glucose', 'sel', 'poudres', 'carbonate', \"d'ammonium\", 'hydrogène', 'carbonate', 'sodium', 'diphosphate', 'émulsifiant', 'lécithine', 'soja', 'arômes', 'peut', 'contenir', 'traces', 'fruits', 'coque', \"d'arachides\", 'graines', 'sésame', 'conserver', 'endroit', 'frais', 'sec', \"l'abri\", 'lumière'])\n",
      " list(['pommes', 'terre', 'huile', \"d'été\", 'tuber', 'aestivum', 'vitt', 'liophilisée', 'équivalent', 'izfémefraîche', 'sel', 'arôme', 'sansgluten', 'chips', 'met', 'truffel', 'ingrediënten', 'aardappelen', 'zonnebloeff', 'zomertruffel', 'tuber', 'aestivum', 'vitt', 'zout', 'aroma', 'glutenvrij', 'chips', 'med', 'tryffe', 'ingredienser', 'potatis', 'yamalrffel', 'tuber', 'aestivum', 'vitt', 'motsvarar', 'glutenfri', 'med', 'troffe', 'ingredienser', 'potet', 'troffel', 'tuber', 'aestivum', 'vitt', 'tilsvare', 'gflet', 'arorna', 'gluten', 'fri', 'lant2em', 'sl02enf', 'brambory'])\n",
      " list(['pâte', 'cacao', 'sucre', 'noisettes', 'beurre', 'cacao', 'sirop', 'glucose', 'émulsifiant', 'lécithine', 'soja', 'sirop', 'sucre', 'inverti', 'extrait', 'vanille', 'peut', 'contenir', 'amandes', 'noix', 'pistaches', 'contient', 'lait', 'sansgluten'])\n",
      " list(['sucre', 'quot', 'noisette', 'piémont', 'quot', 'pâte', 'cacao', 'lait', 'entier', 'poudre', 'beurre', 'cacao', 'amandes', 'vanille', 'poudre', 'peut', 'contenir', 'soja', 'sansgluten', 'conserver', 'lieu', 'frais', 'sec', 'fabriqué', 'italie'])\n",
      " list(['sucre', 'noisette', 'piémont', 'pâte', 'cacao', 'lait', 'entier', 'poudre', 'beurre', 'cacao', 'amandes', 'vanille', 'poudre', 'peut', 'contenir', 'soja', 'sansgluten'])\n",
      " list(['lait', 'concentré', 'sucré', 'eau', 'enrobage', 'cacao', 'huile', 'noix', 'coco', 'sucre', 'cacao', 'poudre', 'émulsifiant', 'lécithine', 'soja', 'arômes', 'émulsifiant', 'stabilisateurs', 'arômes', 'couleurs', 'peut', 'contenir', 'traces', 'cacahuete', 'oeuf', 'autre', 'fruits', 'secs', 'sansgluten'])\n",
      " list(['cuisse', 'porc', 'italien', 'sel', 'conditionne', 'sous', 'atmosphère', 'protectrice', 'debut', 'maturation', 'www.rosaangeloait', 'jambon', 'parme', 'sansgluten', 'sagem', 'srl', 'via', 'parma', 'traversetolo', 'italia'])\n",
      " list(['konservaaon', 'temperatura', 'amblenre', 'gnocchl', 'pommes', 'terre', 'sansgluten', 'spécialement', 'formulées', 'personnes', 'souffrant', \"d'une\", 'intolérance', 'gluten', 'ngrédients', 'flocons', 'pommes', 'terre', 'renydratées', 'farine', 'riz', 'fécule', 'pommes', 'terre', 'sel', 'correcteur', \"d'acidité\", 'acide', 'lactique', 'conservateur', 'acide', 'sorbique', 'conserver', 'endroit', 'frais', 'sec', 'fois', 'ouvert', 'conserver', 'réfrigérateur', 'pendant', 'jours', 'maximum', 'percer', 'paquet', 'conservable', 'température', 'ambiante', 'refore/'])\n",
      " list(['cuisse', 'porc', 'italien', 'sel', 'poivre', 'aromes', 'naturels', 'conditionné', 'sous', 'athmosphère', 'protectrice', 'sansgluten'])\n",
      " list(['blanc', 'dinde', 'italien', 'sel', 'aromes', 'aromes', 'naturels', 'conservateur', 'nitrite', 'sodium', 'conditionné', 'sous', 'athmosphère', 'protectrice', 'sansgluten'])\n",
      " list(['tomates', 'dés', 'jus', 'purée', 'cèpes', 'boletus', 'edulis', 'partiellement', 'réhydratés', 'huile', \"d'olive\", 'vierge', 'extra', 'oignon', 'sel', 'correcteur', \"d'acidité\", 'acide', 'citrique', 'sansgluten', 'ingrédients', 'biologiques'])\n",
      " list(['tomates', 'dés', 'purée', 'carottes', 'oignon', 'poivrons', 'huile', 'tournesol', 'sel', 'sucre', 'canne', 'basilic', 'acide', 'lactique', 'correcteur', \"d'acidité\", 'sansgluten', 'ingrédients', 'biologiques'])\n",
      " list(['préparation', 'pâte', 'sansgluten', 'amidon', 'blé', 'sansgluten', 'amidon', 'farine', 'riz', 'fibre', 'chicorée', 'psyllium', 'glucose', 'déshydraté', 'farine', 'graines', 'guar', 'épaississant', 'e464', 'oeuf', 'eau', 'huile', \"d'olive\", 'allergènes', 'présents', \"l'usine\", 'lait', 'oeufs', 'soja', 'céleri', 'sulfites'])\n",
      " list(['tomates', 'séchées', 'réhydratés', 'huile', 'tournesol', 'huile', \"d'olive\", 'extra', 'vierge', 'sel', 'sucre', 'ail', 'origan', 'acidifiant', 'acide', 'citrique', 'antioxydant', 'acide', 'ascorbique', 'poivre', 'sansgluten', 'sans', 'colorants', 'sans', 'conservateurs', 'ajoutés'])\n",
      " list(['sunflower', 'seeds', 'salt', 'colouring', 'e471', 'may', 'contain', 'peanuts', 'shell', 'nuts', 'sin', 'gluten', 'sansgluten', 'gluten.free', 'consumir', 'antes', 'dell', 'lote/', 'orig', 'ver', 'parte', 'frontal', 'mmcr'])\n",
      " list(['sucre', 'arachide', 'sirop', 'glucosefructose', 'blanc', \"d'oeuf\", 'pain', 'azyme', 'amidon', 'pomme', 'terre', 'huile', 'tournesol', 'peut', 'contenir', 'traces', 'fruits', 'coque', 'sansgluten', 'pain', 'azyme', 'comme', 'enrobage', 'surface'])\n",
      " list(['isolat', 'protéines', 'pois', 'pisane', 'poudre', 'cacao', 'allégée', 'theobroma', 'cacao', 'isolat', 'protéine', 'riz', 'arôme', 'modcarb', \"d'avoine\", 'sansgluten', 'quinoa', 'amaranth', 'blé', 'sarrasin', 'sansgluten', 'millet', 'arôme', 'naturel', 'extrait', 'fruit', 'greens', 'paprika', 'gingembre', 'brocoli', 'épinard', 'chou', 'frisé', 'chou', 'thé', 'vert', 'framboise', 'banane', 'kiwi', 'mangue', 'prune', 'citron', 'canneberge', 'ananas', 'orange', 'pamplemousse', 'cerise', 'citron', 'vert', 'choufleur', 'herbe', 'blé', 'vert', 'sansgluten', 'luzerne', 'spiruline', 'chlorelle', 'maltodextrine', 'gomme', 'arabique', 'fécule', 'maïs', 'édulcorant', 'glycosides', 'stéviol', 'extrait', 'stevia', 'chlorure', 'sodium'])\n",
      " list(['amidon', 'maïs', 'modifiée', 'maltodextrine', 'sucre', 'glucose', 'eau', 'huile', 'végétale', 'palme', 'stabilisant', 'e422', 'e460i', 'e414', 'e415', 'dextrose', 'émulsifiants', 'e435', 'e471', 'e491', 'lécithine', 'soja', 'arôme', 'vanille', 'conservateur', 'e330', 'e202', 'colorants', 'extrait', 'carthame', 'sansgluten'])\n",
      " list(['chocolat', 'minimum', 'cocoa', 'canne', 'sucre', 'beurre', 'cacao', 'émulsifiait', 'lécithine', 'vainille', 'amande', 'coco', 'gomme', 'arabique', 'saccharose', 'miel', 'éthanol', 'biologique', 'peut', 'contenir', 'traces', \"d'autres\", 'fruits', 'coque', 'sansgluten', 'sac', 'sous', 'atmosphère', 'protectrice'])\n",
      " list(['ingredientes', 'cane', 'cerdo', 'pimentén', 'almid6n', 'leche', 'antioxidante', 'e301', 'copsenadores', 'e250', 'e252', 'e05', 'fripa', 'natunl', 'cerdo', 'sin', 'gluten', 'ingrèdlents', 'ail', 'lactos', 'lait', 'éœme', 'stabilignt', 'e452', 'andoxydant', 'e301', 'conserateurs', 'e250', \"e'252\", 'e235', 'boyau', 'naturel', 'porc', 'sansgluten', 'atm6sfera', 'protectora'])\n",
      " list(['ing', 'ents', 'viande', 'gras', 'porc', 'sel', 'lactose', 'lait', 'ecreme', 'poudre', 'conservateurs', 'e250', 'e252', 'e262', 'épices', 'antioxydants', 'e316', 'e392', 'arôme', 'naturel', 'levure', 'dextrose', 'fuet', 'extra', 'espagnol', 'boyau', 'naturel', 'porc', 'comestible', 'peut', 'contenir', 'traces', 'soja', 'produit', 'soumis', 'dessiccation', 'réduction', 'poids', 'conserver', 'endroit', 'frais', 'sec', 'sansgluten'])\n",
      " list(['farine', 'riz', 'farine', 'quinoa', 'royal', \"l'agriculture\", 'biologique', 'agriculture', 'non', 'sansgluten', 'modo', \"d'utilisation\", 'faire', 'cuire', 'pâtes', 'goût', 'durée', 'approximative', 'cuisson', 'minutes'])\n",
      " list(['viande', 'porc', 'nécessaires', 'viande', 'produit', 'sel', 'protéines', 'lait', 'protéines', 'petits', 'pois', 'épices', 'lactose', 'dextrine', 'maïs', 'dextrose', 'maïs', 'antioxydant', 'e316', 'conservateurs', 'e252', 'e250', 'arôme', 'fumé', 'agent', 'sapidité', 'e621', 'colorants', 'e120', 'oléorésine', 'paprika', 'e160c', 'boyau', 'comestible', 'enrobage', 'agent', 'conservation', 'e235', 'ouvrir', 'min', 'avant', 'consommer', 'aucune', 'présence', \"d'organismes\", 'génétiquement', 'modifiés', 'sans', 'ionisation', 'sansgluten'])\n",
      " list(['sauce', 'saveur', 'caramel', 'édulcorants', 'matières', 'gras6', 'sucres', 'sansgluten', 'lactose', 'ingrédients', 'épaississants', 'e460', 'e466', 'e405', 'e415', 'colorant', 'arômes', 'édulcorants', 'e955', 'e960', 'conservateurs', 'e202', 'acidifiant', 'e300'])\n",
      " list(['lifebar', 'abricot', 'lifebar', 'abrikoos', 'sansgluten', 'datès•', 'eecs•', 'coque•', 'brésr', 'amandes•', 'amandes', 'douces', 'noyaux', 'issu', \"l'agriculbare\", 'biologique', 'peut', 'conenir', \"d'aubes\", 'coque', 'etde', 'sésame', 'peut', 'contenir', 'morceaux', 'coquilles', 'noyaux', 'conserver', \"l'abri\", 'chaleur', 'lumière', 'ihumidité'])\n",
      " list(['ingrédients', 'lait', 'écrémé', 'réhydraté', 'sucre', 'beurre', 'cacao¹', 'eau', 'amandes', 'huile', 'coco', 'lait', 'poudre', 'écrémé', 'beurre', 'concentré', 'sirop', 'glucosefructose', 'sirop', 'glucose', 'lait', 'poudre', 'entier', 'lactose', 'protéines', 'lait', 'émulsifiants', 'e471', \"d'origine\", 'végétale', 'lécithines', 'tournesol', 'gousses', 'vanille', 'épuisées', 'broyées', 'stabilisants', 'gomme', 'guar', 'farine', 'graines', 'caroube', 'carraghénanes', 'arôme', 'naturel', 'vanille¹', 'dont', 'lait', 'arôme', 'colorant', 'carotènes', 'peut', 'contenir', 'soja', 'autres', 'fruits', 'coque', 'sansgluten', '¹certifié', 'rainforest', 'alliance'])\n",
      " list(['crème', 'glacée', 'vanille.lait', 'entier', 'infusé', 'gousses', 'vanille', 'lait', 'entier', 'extrait', 'vanille', 'crème', 'sucre', 'canne', 'lait', 'concentré', 'entier', 'jaune', \"d'œuf\", 'dextrose', 'protéines', 'lait', 'stabilisant', 'farine', 'graines', 'caroube', 'gousses', 'vanille', 'broyées', 'peut', 'contenir', 'fruits', 'coque', 'sansgluten'])\n",
      " list(['lait', 'entier', 'jaune', \"d'œuf\", 'mascarpone', 'sucre', 'lait', 'concentré', 'entier', 'sucre', 'canne', 'crème', 'dextrose', 'farine', 'maïs', 'œuf', 'huile', \"d'olive\", 'lactose', 'protéines', 'lait', 'café', 'espresso', 'guatemala', 'cacao', 'poudre', 'beurre', 'stabilisant', 'farine', 'graines', 'caroube', 'poudre', 'lever', 'carbonates', 'sodium', 'sucre', 'caramélisé', 'peut', 'contenir', 'fruits', 'coque', 'soja', 'sansgluten'])\n",
      " list(['lait', 'écrémé', 'réhydraté', 'sucre', 'beurre', 'cacao', 'pâte', 'cacao', 'eau', 'huile', 'coco', 'sirop', 'sucre', 'caramélisé', 'sirop', 'glucose', 'lait', 'poudre', 'entier', 'sirop', 'glucosefructose', 'lactose', 'protéines', 'lait', 'beurre', 'concentré', 'émulsifiants', 'e471', 'lécithine', 'soja', 'e476', 'sel', 'mer', 'stabilisants', 'e410', 'e412', 'e407', 'arômes', 'peut', 'contenir', 'fruits', 'coque', 'arachides', 'sansgluten', 'vérifié', 'rainforest', 'alliance™'])\n",
      " list(['lait', 'écrémé', 'réhydraté', 'sucre', 'graisse', 'coco', 'sirop', 'glucosefructose', 'pâte', 'cacao¹', 'purée', 'fraise', 'sirop', 'glucose', 'beurre', 'cacao¹', 'crème', 'lait', 'poudre', 'entier', 'sirop', 'fructose', 'beurre', 'concentré', 'jus', 'fraise', 'concentré', 'lactose', 'protéines', 'lait', 'cacao', 'maigre', 'poudre¹', 'amidon', 'modifié', 'émulsifiants', 'e471', 'e476', 'e442', 'stabilisants', 'e410', 'e440', 'e412', 'e407', 'lait', 'poudre', 'écrémé', 'jus', 'carotte', 'concentré', 'correcteurs', \"d'acidité\", 'e330', 'e331', 'jus', 'citron', 'concentré', 'sel', 'arômes', 'peut', 'contenir', 'soja', 'amande', 'sansgluten', '¹certifé', 'rainforest', 'alliance™'])\n",
      " list(['ingrédients', 'lait', 'écrémé', 'réhydraté', 'sucre', 'huile', 'coco', 'eau', 'pâte', 'cacao¹', 'lactose', 'protéines', 'lait', 'beurre', 'cacao¹', 'cacao', 'maigre', 'poudre¹', 'lait', 'poudre', 'entier', 'beurre', 'concentré', 'sirop', 'glucose', 'pâte', 'noisette', 'sirop', 'glucosefructose', 'lait', 'écrémé', 'poudre', 'concentré', 'émulsifiants', 'e471', 'e476', 'e442', 'lécithines', 'soja', 'stabilisants', 'e410', 'e412', 'e407', 'lait', 'poudre', 'écrémé', 'amidon', 'modifié', 'arômes', 'peut', 'contenir', 'autres', 'fruits', 'coque', 'sansgluten', '¹vérifié', 'rainforest', 'alliance™'])\n",
      " list(['lait', 'entier', 'crème', 'sucre', 'caramélisé', 'jaune', \"d'œuf\", 'sucre', 'canne', 'lactose', 'protéines', 'lait', 'sucre', 'sirop', 'glucose', 'sel', 'stabilisant', 'farine', 'graines', 'caroube', 'beurre', 'cacao', 'beurre', 'peut', 'contenir', 'fruits', 'coque', 'sansgluten'])\n",
      " list(['lait', 'écrémé', 'réhydraté', 'sucre', 'eau', 'beurre', 'cacao¹', 'pâte', 'cacao¹', 'huile', 'coco', 'sirop', 'glucose', 'sirop', 'glucosefructose', 'lait', 'poudre', 'entier', 'lactose', 'protéines', 'lait', 'beurre', 'concentré', 'émulsifiants', 'e471', \"d'origine\", 'végétale', 'lécithines', 'stabilisants', 'gomme', 'guar', 'farine', 'graines', 'caroube', 'gomme', 'tara', 'carraghénanes', 'gousses', 'vanille', 'épuisées', 'broyées', 'arôme', 'naturel', 'vanille¹', 'dont', 'lait', 'arôme', 'naturel', 'vanille', 'colorant', 'caroténoïdes', 'peut', 'contenir', 'amandes', 'pistaches', 'sansgluten', '¹certifié', 'rainforest', 'alliance'])\n",
      " list(['lait', 'écrémé', 'réhydraté', 'sucre', 'beurre', 'cacao¹', 'amandes', 'lait', 'écrémé', 'poudre', 'concentré', 'pâte', 'coco', 'sirop', 'glucosefructose', 'beurre', 'concentré', 'lait', 'poudre', 'entier', 'huile', 'coco', 'sirop', 'glucose', 'émulsifiants', 'e471', \"d'origine\", 'végétale', 'lécithines', 'lactose', 'protéines', 'lait', 'stabilisants', 'gomme', 'tara', 'farine', 'graines', 'caroube', 'gomme', 'guar', 'carraghénanes', 'arôme', 'naturel', 'arôme', 'naturel', 'vanille', 'peut', 'contenir', 'pistaches', 'soja', 'sansgluten', '¹certifié', 'rainforest', 'alliance'])\n",
      " list(['lait', 'écrémé', 'réhydraté', 'sucre', 'huile', 'coco', 'pâte', 'cacao', 'sirop', 'glucosefructose', 'beurre', 'cacao', 'cacao', 'maigre', 'poudre', 'lait', 'poudre', 'entier', 'beurre', 'concentré', 'lait', 'écrémé', 'poudre', 'concentré', 'émulsifiants', 'e471', \"d'origine\", 'végétale', 'e476', 'e442', 'stabilisants', 'carraghénanes', 'gomme', 'guar', 'gomme', 'tara', 'farine', 'graines', 'caroube', 'lait', 'poudre', 'écrémé', 'amidon', 'modifié', 'arômes', 'peut', 'contenir', 'soja', 'amandes', 'sansgluten', '¹certifié', 'rainforest', 'alliance', 'contient', 'lait', 'produits', 'base', 'lait', 'peut', 'contenir', 'algn078', 'soja', 'produits', 'base', 'soja', 'sans', 'alcool', 'irradiation', 'viande', 'convient', 'ovo', 'lacto', 'végétarien'])\n",
      " list(['lait', 'écrémé', 'réhydraté', 'sucre', 'huile', 'coco', 'sirop', 'glucosefructose', 'pâte', 'cacao¹', 'sirop', 'glucose', 'beurre', 'cacao¹', 'beurre', 'concentré', 'lait', 'poudre', 'entier', 'lactose', 'protéines', 'lait', 'lait', 'poudre', 'écrémé', 'cacao', 'maigre', 'poudre¹', 'émulsifiants', 'e471', \"d'origine\", 'végétale', 'e476', 'e442', 'sirop', 'sucre', 'caramélisé', 'stabilisants', 'carraghénanes', 'gomme', 'guar', 'gomme', 'tara', 'farine', 'graines', 'caroube', 'sel', 'gousses', 'vanille', 'épuisées', 'broyées', 'arôme', 'naturel', 'vanille¹', 'dont', 'lait', 'arômes', 'colorant', 'caroténoïdes', 'peut', 'contenir', 'soja', 'amandes', 'sansgluten', '¹certifié', 'rainforest', 'alliance'])\n",
      " list(['lait', 'écrémé', 'réhydraté', 'sucre', 'huile', 'coco', 'pâte', 'cacao¹', 'sirop', 'fructoseglucose', 'beurre', 'cacao¹', 'cacao', 'maigre', 'poudre¹', 'lait', 'poudre', 'entier', 'beurre', 'concentré', 'lait', 'écrémé', 'poudre', 'concentré', 'émulsifiants', 'e471', \"d'origine\", 'végétale', 'e476', 'e442', 'stabilisants', 'carraghénanes', 'gomme', 'guar', 'gomme', 'tara', 'farine', 'graines', 'caroube', 'lait', 'poudre', 'écrémé', 'amidon', 'modifié', 'arômes', 'peut', 'contenir', 'soja', 'amandes', 'sansgluten', '¹certifié', 'rainforest', 'alliance'])\n",
      " list(['lait', 'écrémé', 'réhydraté', 'sucre', 'pâte', 'cacao¹', 'huile', 'coco', 'sirop', 'glucosefructose', 'beurre', 'cacao¹', 'lait', 'poudre', 'entier', 'cacao', 'maigre', 'poudre¹', 'beurre', 'concentré', 'lait', 'écrémé', 'poudre', 'concentré', 'émulsifiants', 'e471', \"d'origine\", 'végétale', 'e476', 'e442', 'stabilisants', 'carraghénanes', 'gomme', 'guar', 'gomme', 'tara', 'farine', 'graine', 'caroube', 'lait', 'poudre', 'écrémé', 'amidon', 'modifié', 'arômes', 'peut', 'contenir', 'soja', 'amandes', 'sansgluten', '¹certifié', 'rainforest', 'alliance'])\n",
      " list(['lait', 'écrémé', 'réhydraté', 'sucre', 'pâte', 'cacao¹', 'huile', 'coco', 'sirop', 'glucosefructose', 'beurre', 'cacao¹', 'lait', 'entier', 'poudre', 'cacao', 'maigre', 'poudre¹', 'beurre', 'concentré', 'lait', 'écrémé', 'poudre', 'concentré', 'émulsifiants', 'e471', \"d'origine\", 'végétale', 'e476', 'e442', 'stabilisants', 'carraghénanes', 'gomme', 'guar', 'gomme', 'tara', 'farine', 'graines', 'caroube', 'lait', 'poudre', 'écrémé', 'amidon', 'modifié', 'arômes', 'peut', 'contenir', 'soja', 'amandes', 'sansgluten', '¹certifié', 'rainforest', 'alliance'])\n",
      " list(['lait', 'écrémé', 'réhydraté', 'sucre', 'huile', 'coco', 'pâte', 'cacao¹', 'sirop', 'glucosefructose', 'sirop', 'glucose', 'beurre', 'cacao¹', 'beurre', 'concentré', 'lait', 'poudre', 'entier', 'lactose', 'protéines', 'lait', 'lait', 'écrémé', 'poudre', 'concentré', 'cacao', 'maigre', 'poudre¹', 'émulsifiants', 'e471', \"d'origine\", 'végétale', 'e476', 'e442', 'stabilisants', 'gomme', 'guar', 'carraghénanes', 'gomme', 'tara', 'farine', 'graines', 'caroube', 'sirop', 'sucre', 'caramélisé', 'lait', 'poudre', 'écrémé', 'sel', 'gousse', 'vanille', 'épuisée', 'broyée', 'arôme', 'naturel', 'vanille¹', 'dontlait', 'arômes', 'colorant', 'bêtacarotène', 'peut', 'contenir', 'amandes', 'soja', 'sansgluten', '¹certifié', 'rainforest', 'alliance'])\n",
      " list(['lait', 'écrémé', 'réhydraté', 'sucre', 'purée', 'framboise', 'huile', 'coco', 'sirop', 'glucosefructose', 'pâte', 'cacao¹', 'sirop', 'glucose', 'beurre', 'cacao¹', 'lait', 'poudre', 'entier', 'beurre', 'concentré', 'fructose', 'lactose', 'protéines', 'lait', 'cacao', 'maigre', 'poudre¹', 'lait', 'écrémé', 'poudre', 'concentré', 'jus', 'yuzu', 'émulsifiants', 'e471', \"d'origine\", 'végétale', 'e476', 'e442', 'amidon', 'modifié', 'stabilisants', 'pectines', 'farine', 'graines', 'caroube', 'gomme', 'tara', 'gomme', 'guar', 'carraghénanes', 'lait', 'poudre', 'écrémé', 'correcteurs', \"d'acidité\", 'e330', 'e331', 'jus', 'betterave', 'rouge', 'concentré', 'arômes', 'arôme', 'naturel', 'framboise', 'jus', 'carottes', 'concentré', 'jus', 'citron', 'concentré', 'jus', 'cassis', 'concentré', 'sel', 'peut', 'contenir', 'amandes', 'soja', 'sansgluten', '¹certifié', 'rainforest', 'alliance'])\n",
      " list(['lait', 'écrémé', 'réhydraté', 'sucre', 'beurre', 'cacao¹', 'sirop', 'glucosefructose', 'lait', 'écrémé', 'poudre', 'sirop', 'glucose', 'beurre', 'concentré', 'purée', 'mangue', 'lait', 'poudre', 'entier', 'sucre', 'inverti', 'noix', 'coco', 'pâte', 'coco', 'huile', 'coco', 'fructose', 'mangue', 'jus', 'fruit', 'passion²', 'lait', 'écrémé', 'poudre', 'concentré', 'jus', 'citron', 'vert²', 'sirop', 'fructose', 'lactose', 'protéines', 'lait', 'purée', 'fruit', 'passion', 'émulsifiants', 'e471', \"d'origine\", 'végétale', 'lécithines', 'amidon', 'modifié', 'stabilisants', 'e412', 'e440', 'e410', 'e417', 'e407', 'arômes', 'naturels', 'arômes', 'correcteurs', \"d'acidité\", 'e330', 'e331', 'jus', 'citrouille²', 'jus', 'pomme²', 'jus', 'carotte²', 'sel', 'jus', 'citron²', 'colorant', 'e160a', 'peut', 'contenir', 'amandes', 'soja', 'sansgluten', '¹certifié', 'rainforest', 'alliance', 'ra.org', 'base', 'jus', 'concentré'])\n",
      " list(['lait', 'écrémé', 'réhydraté', 'sucre', 'sirop', 'glucose', 'pâte', 'cacao¹', 'beurre', 'cacao¹', 'sirop', 'glucosefructose', 'beurre', 'concentré', 'lait', 'poudre', 'entier', 'sirop', 'fructose', 'crème', 'huile', 'coco', 'lactose', 'protéines', 'lait', 'lait', 'écrémé', 'poudre', 'concentré', 'sirop', 'sucre', 'caramélisé', 'beurre', 'maïs', 'émulsifiants', 'e471', \"d'origine\", 'végétale', 'e476', 'e442', 'lécithines', 'stabilisants', 'e412', 'e407', 'e410', 'e417', 'sel', 'huile', 'tournesol', 'arômes', 'naturels', 'lait', 'écrémé', 'poudre', 'peut', 'contenir', 'noix', 'macadamia', 'amandes', 'noisettes', 'soja', 'sansgluten', '¹certifié', 'rainforest', 'alliance'])\n",
      " list(['lait', 'écrémé', 'réhydraté', 'sucre', 'purée', 'framboise', 'huile', 'coco', 'pâte', 'cacao¹', 'sirop', 'glucosefructose', 'sirop', 'glucose', 'beurre', 'cacao¹', 'lait', 'poudre', 'entier', 'beurre', 'concentré', 'fructose', 'lactose', 'protéines', 'lait', 'cacao', 'maigre', 'poudre¹', 'lait', 'écrémé', 'poudre', 'concentré', 'jus', 'yuzu', 'amidon', 'modifié', 'stabilisants', 'pectines', 'farine', 'graines', 'caroube', 'gomme', 'tara', 'gomme', 'guar', 'carraghénanes', 'lait', 'poudre', 'écrémé', 'correcteurs', \"d'acidité\", 'e330', 'e331', 'jus', 'betterave', 'concentré', 'jus', 'carotte', 'concentré', 'jus', 'citron', 'concentré', 'jus', 'cassis', 'concentré', 'sel', 'émulsifiants', 'e476', 'e471', \"d'origine\", 'végétale', 'e442', 'arômes', 'arôme', 'naturel', 'framboise', 'peut', 'contenir', 'amandes', 'soja', 'sansgluten', '¹certifié', 'rainforest', 'alliance'])\n",
      " list(['lait', 'écrémé', 'réhydraté', 'sucre', 'beurre', 'cacao¹', 'sirop', 'glucosefructose', 'lait', 'écrémé', 'poudre', 'concentré', 'lait', 'écrémé', 'poudre', 'sirop', 'glucose', 'purée', 'mangue', 'beurre', 'concentré', 'sucre', 'inverti', 'lait', 'poudre', 'entier', 'noix', 'coco', 'pâte', 'coco', 'huile', 'coco', 'fructose', 'mangue', 'jus', 'fruit', 'passion²', 'jus', 'citron', 'vert²', 'sirop', 'fructose', 'lactose', 'protéines', 'lait', 'purée', 'fruit', 'passion', 'émulsifiants', 'e471', \"d'origine\", 'végétale', 'lécithines', 'amidon', 'modifié', 'stabilisants', 'e440', 'e412', 'e410', 'e417', 'e407', 'correcteurs', \"d'acidité\", 'e330', 'e331', 'arômes', 'naturels', 'arômes', 'jus', 'citrouille²', 'jus', 'pomme²', 'jus', 'carotte²', 'sel', 'jus', 'citron²', 'colorant', 'e160a', 'peut', 'contenir', 'amandes', 'soja', 'sansgluten', '¹certifié', 'rainforest', 'alliance', 'base', 'jus', 'concentré'])\n",
      " list(['lait', 'écrémé', 'réhydraté', 'sucre', 'sirop', 'glucose', 'pâte', 'cacao', 'sirop', 'glucosefructose', 'beurre', 'concentré', 'beurre', 'cacao', 'sirop', 'fructose', 'crème', 'lait', 'poudre', 'entier', 'huile', 'coco', 'lactose', 'protéines', 'lait', 'lait', 'écrémé', 'poudre', 'sirop', 'sucre', 'caramélisé', 'émulsifiants', 'e471', \"d'origine\", 'végétale', 'e476', 'e442', 'lécithines', 'beurre', 'stabilisants', 'e407', 'e412', 'e410', 'e417', 'sel', 'huile', 'toumesol', 'arômes', 'naturels', 'peut', 'contenir', 'noix', 'macadamia', 'amandes', 'noisettes', 'soja', 'sansgluten'])\n",
      " list(['lait', 'écrémé', 'réhydraté', 'sucre', 'sirop', 'glucose', 'pâte', 'cacao¹', 'sirop', 'glucosefructose', 'beurre', 'concentré', 'beurre', 'cacao¹', 'sirop', 'fructose', 'crème', 'lait', 'poudre', 'entier', 'huile', 'coco', 'lactose', 'protéines', 'lait', 'lait', 'écrémé', 'poudre', 'sirop', 'sucre', 'caramélisé', 'émulsifiants', 'e471', \"d'origine\", 'végétale', 'e476', 'e442', 'lécithines', 'beurre', 'maïs', 'stabilisants', 'e407', 'e412', 'e410', 'e417', 'sel', 'huile', 'tournesol', 'arômes', 'naturels', 'peut', 'contenir', 'noix', 'macadamia', 'amandes', 'noisettes', 'soja', 'sansgluten', '¹certifié', 'rainforest', 'alliance'])\n",
      " list(['crème', 'glacée', 'café', 'expresso', 'crème', 'café', 'expresso', 'sucre', 'canne', 'lait', 'entier', 'jaune', \"d'œuf\", 'lactose', 'protéines', 'lait', 'dextrose', 'stabilisant', 'farine', 'graines', 'caroube', 'grains', 'vanille', 'sauce', 'noisettecacao', 'maigre', 'noisettes', 'grillées', 'cacao', 'maigre', 'poudre', 'sucre', 'huile', 'tournesol', 'huile', 'coco', 'émulsifiant', 'lécithines', 'peut', 'contenir', 'autres', 'fruits', 'coque', 'sansgluten'])\n",
      " list(['lait', 'écrémé', 'réhydraté', 'sucre', 'eau', 'beurre', 'cacao¹', 'pâte', 'cacao¹', 'huile', 'coco', 'sirop', 'glucose', 'sirop', 'glucosefructose', 'lait', 'entier', 'poudre', 'lactose', 'protéines', 'lait', 'beurre', 'concentré', 'émulsifiants', 'e471', \"d'origine\", 'végétale', 'lécithines', 'stabilisants', 'gomme', 'guar', 'farine', 'graines', 'caroube', 'gomme', 'tara', 'carraghénanes', 'gousses', 'vanille', 'épuisées', 'broyées', 'arôme', 'naturel', 'vanille¹', 'dont', 'lait', 'arôme', 'naturel', 'vanille', 'colorant', 'caroténoïdes', 'peut', 'contenir', 'amandes', 'pistaches', 'sansgluten', '¹certifié', 'rainforest', 'alliance'])\n",
      " list(['lait', 'écrémé', 'réhydraté', 'sucre', 'eau', 'beurre', 'cacao¹', 'pâte', 'cacao¹', 'huile', 'coco', 'sirop', 'glucose', 'sirop', 'glucosefructose', 'lait', 'entier', 'poudre', 'lactose', 'protéines', 'lait', 'beurre', 'concentré', 'émulsifiants', 'e471', \"d'origine\", 'végétale', 'lécithines', 'stabilisants', 'gomme', 'guar', 'farine', 'graines', 'caroube', 'gomme', 'tara', 'carraghénanes', 'gousses', 'vanille', 'épuisées', 'broyées', 'arôme', 'naturel', 'vanille¹', 'dont', 'lait', 'arôme', 'naturel', 'vanille', 'colorant', 'caroténoïdes', 'peut', 'contenir', 'amandes', 'pistaches', 'sansgluten', '¹certifié', 'rainforest', 'alliance'])\n",
      " list(['lait', 'écrémé', 'réhydraté', 'sucre', 'beurre', 'cacao¹', 'pâte', 'cacao¹', 'huile', 'coco', 'sirop', 'glucose', 'lait', 'entier', 'poudre', 'fructose', 'beurre', 'concentré', 'émulsifiants', 'e471', \"d'origine\", 'végétale', 'lécithines', 'lactose', 'protéines', 'lait', 'stabilisants', 'gomme', 'guar', 'farine', 'graines', 'caroube', 'gomme', 'tara', 'carraghénanes', 'arômes', 'dont', 'lait', 'lait', 'écrémé', 'poudre', 'concentré', 'arôme', 'naturel', 'menthe', 'peut', 'contenir', 'fruits', 'coque', 'sansgluten', '¹certifié', 'rainforest', 'alliance'])\n",
      " list(['lait', 'écrémé', 'réhydraté', 'sucre', 'purée', 'fraise', 'beurre', 'cacao¹', 'eau', 'lait', 'poudre', 'écrémé', 'huile', 'coco', 'sirop', 'glucose', 'lait', 'écrémé', 'poudre', 'concentré', 'beurre', 'concentré', 'fructose', 'lait', 'poudre', 'entier', 'sirop', 'glucosefructose', 'émulsifiants', 'e471', \"d'origine\", 'végétale', 'lécithines', 'acidifiant', 'acide', 'citrique', 'lactose', 'protéines', 'lait', 'stabilisants', 'gomme', 'guar', 'farine', 'graines', 'caroube', 'gomme', 'tara', 'carraghénanes', 'jus', 'betterave', 'concentré', 'arômes', 'dont', 'lait', 'jus', 'sureau', 'concentré', 'arôme', 'naturel', 'vanille', 'peut', 'contenir', 'amandes', 'pistaches', 'sansgluten', '¹certifié', 'rainforest', 'alliance'])\n",
      " list(['lait', 'écrémé', 'réhydraté', 'sucre', 'beurre', 'cacao¹', 'eau', 'huile', 'coco', 'lait', 'poudre', 'écrémé', 'amandes', 'sirop', 'glucose', 'beurre', 'concentré', 'sirop', 'glucosefructose', 'lait', 'poudre', 'entier', 'lactose', 'protéines', 'lait', 'émulsifiants', 'e471', \"d'origine\", 'végétale', 'lécithines', 'stabilisants', 'gomme', 'guar', 'farine', 'graines', 'caroube', 'gomme', 'tara', 'carraghénanes', 'gousses', 'vanille', 'épuisées', 'broyées', 'arôme', 'naturel', 'vanille¹', 'dont', 'lait', 'arôme', 'naturel', 'vanille', 'colorant', 'caroténoïdes', 'peut', 'contenir', 'autres', 'fruits', 'coque', 'sansgluten', '¹certifié', 'rainforest', 'alliance'])\n",
      " list(['lait', 'écrémé', 'réhydraté', 'sucre', 'eau', 'beurre', 'cacao¹', 'huile', 'coco', 'lait', 'poudre', 'écrémé', 'sirop', 'glucose', 'beurre', 'concentré', 'sirop', 'glucosefructose', 'lait', 'poudre', 'entier', 'lactose', 'protéines', 'lait', 'émulsifiants', 'e471', \"d'origine\", 'végétale', 'lécithines', 'stabilisants', 'gomme', 'guar', 'farine', 'graines', 'caroube', 'gomme', 'tara', 'carraghénanes', 'gousses', 'vanille', 'épuisées', 'broyées', 'arôme', 'naturel', 'vanille¹', 'dont', 'lait', 'arôme', 'naturel', 'vanille', 'colorant', 'caroténoïdes', 'peut', 'contenir', 'amandes', 'pistaches', 'sansgluten', '¹certifié', 'rainforest', 'alliance'])\n",
      " list(['lait', 'écrémé', 'réhydraté', 'sucre', 'eau', 'beurre', 'cacao¹', 'huile', 'coco', 'lait', 'poudre', 'écrémé', 'amandes', 'sirop', 'glucose', 'beurre', 'concentré', 'sirop', 'glucosefructose', 'pâte', 'cacao¹', 'lactose', 'protéines', 'lait', 'émulsifiants', 'e471', \"d'origine\", 'végétale', 'lécithines', 'stabilisants', 'gomme', 'guar', 'farine', 'graines', 'caroube', 'gomme', 'tara', 'carraghénanes', 'gousses', 'vanille', 'épuisées', 'broyées', 'arôme', 'naturel', 'vanille¹', 'dont', 'lait', 'arôme', 'naturel', 'vanille', 'colorant', 'caroténoïdes', 'peut', 'contenir', 'autres', 'fruits', 'coque', 'sansgluten', '¹certifié', 'rainforest', 'alliance'])\n",
      " list(['lait', 'écrémé', 'réhydraté', 'sucre', 'eau', 'beurre', 'cacao¹', 'huile', 'coco', 'lait', 'poudre', 'écrémé', 'amandes', 'sirop', 'glucose', 'beurre', 'concentré', 'sirop', 'glucosefructose', 'pâte', 'cacao¹', 'lactose', 'protéines', 'lait', 'émulsifiants', 'e471', \"d'origine\", 'végétale', 'lécithines', 'stabilisants', 'gomme', 'guar', 'farine', 'graines', 'caroube', 'gomme', 'tara', 'carraghénanes', 'gousses', 'vanille', 'épuisées', 'broyées', 'arôme', 'naturel', 'vanille¹', 'dont', 'lait', 'arôme', 'naturel', 'vanille', 'colorant', 'caroténoïdes', 'peut', 'contenir', 'autres', 'fruits', 'coque', 'sansgluten', '¹certifié', 'rainforest', 'alliance'])\n",
      " list(['lait', 'écrémé', 'réhydraté', 'sucre', 'beurre', 'cacao¹', 'eau', 'lait', 'poudre', 'écrémé', 'huile', 'coco', 'sirop', 'glucose', 'beurre', 'concentré', 'lait', 'poudre', 'entier', 'sirop', 'glucosefructose', 'lactose', 'protéines', 'lait', 'émulsifiants', 'e471', \"d'origine\", 'végétale', 'lécithines', 'stabilisants', 'gomme', 'guar', 'farine', 'graines', 'caroube', 'gomme', 'tara', 'carraghénanes', 'gousses', 'vanille', 'épuisées', 'broyées', 'arôme', 'naturel', 'vanille¹', 'dont', 'lait', 'arôme', 'naturel', 'vanille', 'colorant', 'caroténoïdes', 'peut', 'contenir', 'amandes', 'pistaches', 'sansgluten', '¹certifié', 'rainforest', 'alliance'])\n",
      " list(['lait', 'écrémé', 'réhydraté', 'sucre', 'eau', 'beurre', 'cacao¹', 'huile', 'coco', 'lait', 'poudre', 'écrémé', 'sirop', 'glucose', 'beurre', 'concentré', 'sirop', 'glucosefructose', 'lait', 'poudre', 'entier', 'lactose', 'protéines', 'lait', 'émulsifiants', 'e471', \"d'origine\", 'végétale', 'lécithines', 'stabilisants', 'gomme', 'guar', 'farine', 'graines', 'caroube', 'gomme', 'tara', 'carraghénanes', 'gousses', 'vanille', 'épuisées', 'broyées', 'arôme', 'naturel', 'vanille¹', 'dont', 'lait', 'arôme', 'naturel', 'vanille', 'colorant', 'caroténoïdes', 'peut', 'contenir', 'amandes', 'pistaches', 'sansgluten', '¹certifié', 'rainforest', 'alliance'])\n",
      " list(['lait', 'écrémé', 'réhydraté', 'sucre', 'purée', 'fraise', 'beurre', 'cacao¹', 'eau', 'huile', 'coco', 'lait', 'poudre', 'écrémé', 'sirop', 'glucose', 'lait', 'poudre', 'écrémé', 'concentré', 'beurre', 'concentré', 'fructose', 'lait', 'poudre', 'entier', 'sirop', 'glucosefructose', 'acidifiant', 'acide', 'citrique', 'émulsifiants', 'e471', \"d'origine\", 'végétale', 'lécithines', 'tournesol', 'lactose', 'protéines', 'lait', 'stabilisants', 'farine', 'graines', 'caroube', 'gomme', 'guar', 'carraghénanes', 'jus', 'betterave', 'concentré', 'arômes', 'jus', 'sureau', 'concentré', 'peut', 'contenir', 'soja', 'amandes', 'sansgluten', '¹certifié', 'rainforest', 'alliance'])\n",
      " list(['mini', 'white', 'lait', 'écrémé', 'réhydraté', 'sucre', 'beurre', 'cacao¹', 'eau', 'huile', 'coco', 'lait', 'poudre', 'entier', 'sirop', 'glucose', 'sirop', 'glucosefructose', 'beurre', 'concentré', 'lait', 'poudre', 'écrémé', 'lactose', 'protéines', 'lait', 'émulsifiants', 'e471', 'e476', 'e442', 'stabilisants', 'e410', 'e412', 'e407', 'gousses', 'vanille', 'épuisées', 'broyées', 'arômes', 'colorant', 'e160a', 'peut', 'contenir', 'soja', 'fruits', 'coque', 'arachides', 'sansgluten', '¹vérifiié', 'rainforest', 'alliance™', 'mini', 'white', 'almond', 'lait', 'écrémé', 'réhydraté', 'sucre', 'beurre', 'cacao¹', 'eau', 'morceaux', \"d'amandes\", 'lait', 'poudre', 'entier', 'huile', 'coco', 'sirop', 'glucose', 'sirop', 'glucosefructose', 'beurre', 'concentré', 'lait', 'poudre', 'écrémé', 'lactose', 'protéines', 'lait', 'émulsifiants', 'e471', 'e442', 'e476', 'stabilisants', 'e410', 'e412', 'e407', 'gousses', 'vanille', 'épuisées', 'broyées', 'arômes', 'colorant', 'e160a', 'peut', 'contenir', 'autres', 'fruits', 'coque', 'arachides', 'sansgluten', '¹vérifié', 'rainforest', 'alliance™'])\n",
      " list(['lait', 'écrémé', 'réhydraté', 'sucre', 'beurre', 'cacao¹', 'eau', 'amandes', 'huile', 'coco', 'lait', 'poudre', 'entier', 'sirop', 'glucose', 'sirop', 'glucosefructose', 'beurre', 'concentré', 'lactose', 'protéines', 'lait', 'lait', 'poudre', 'écrémé', 'émulsifiants', 'e442', 'e476', 'e471', 'gousses', 'vanille', 'épuisées', 'broyées', 'stabilisants', 'e407', 'e410', 'e412', 'arôme', 'naturel', 'vanille¹', 'dont', 'lait', 'arôme', 'colorant', 'e160a', 'peut', 'contenir', 'soja', 'autres', 'fruits', 'coque', 'sansgluten', '¹vérifié', 'rainforest', 'alliance™'])\n",
      " list(['lait', 'écrémé', 'réhydraté', 'sucre', 'huile', 'coco', 'pâte', 'cacao', 'sirop', 'glucosefructose', 'beurre', 'cacao', 'lait', 'poudre', 'entier', 'sirop', 'glucose', 'beurre', 'concentré', 'lactose', 'protéines', 'lait', 'cacao', 'maigre', 'poudre', 'stabilisants', 'e407', 'e410', 'e412', 'émulsifiants', 'e471', 'e442', 'e476', 'amidon', 'modifié', 'colorants', 'e150b', 'e160a', 'lait', 'poudre', 'écrémé', 'gousses', 'vanille', 'épuisées', 'broyées', 'sel', 'arôme', 'naturel', 'vanille', 'autres', 'arômes', 'naturels', 'arômes', 'sansgluten', 'vérifié', 'rainforest', 'alliance™'])\n",
      " list(['lait', 'écrémé', 'réhydraté', 'sucre', 'huile', 'coco', 'pâte', 'cacao', 'sirop', 'glucosefructose', 'beurre', 'cacao', 'lait', 'poudre', 'entier', 'sirop', 'glucose', 'beurre', 'concentré', 'lactose', 'protéines', 'lait', 'cacao', 'maigre', 'poudre', 'émulsifiants', 'e471', 'e476', 'e442', 'stabilisants', 'e407', 'e412', 'e410', 'amidon', 'modifié', 'colorants', 'e150b', 'e160a', 'lait', 'poudre', 'écrémé', 'gousses', 'vanille', 'épuisées', 'broyées', 'arôme', 'naturel', 'vanille', 'dont', 'lait', 'arôme', 'naturel', 'arôme', 'sel', 'sansgluten'])\n",
      " list(['lait', 'écrémé', 'réhydraté', 'sucre', 'eau', 'huiles', 'végétales', 'coco', 'colza', 'soja', 'pâte', 'cacao¹', 'sirop', 'glucose', 'cacahuète', 'arachides', 'beurre', 'cacao¹', 'lait', 'poudre', 'entier', 'sirop', 'glucosefructose', 'beurre', 'concentré', 'cacao', 'maigre', 'poudre¹', 'lait', 'poudre', 'écrémé', 'concentré', 'émulsifiants', 'e471', 'e442', 'e476', 'lactose', 'protéines', 'lait', 'sel', 'stabilisants', 'e407', 'e410', 'e412', 'lait', 'poudre', 'écrémé', 'amidon', 'modifié', 'sirop', 'sucre', 'caramélisé', 'arômes', 'dont', 'sésame', 'peut', 'contenir', 'fruits', 'coque', 'sansgluten', '¹vérifié', 'rainforest', 'alliance™'])\n",
      " list(['ingrédients', 'lait', 'écrémé', 'réhydraté', 'sucre', 'beurre', 'cacao¹', 'amandes', 'huile', 'coco', 'lait', 'poudre', 'écrémé', 'sirop', 'glucose', 'beurre', 'concentré', 'sirop', 'glucosefructose', 'lactose', 'protéines', 'lait', 'pâte', 'cacao¹', 'émulsifiants', 'e471', \"d'origine\", 'végétale', 'e442', 'e476', 'gousses', 'vanille', 'épuisées', 'broyées', 'stabilisants', 'farine', 'graines', 'caroube', 'gomme', 'guar', 'carraghénanes', 'arôme', 'naturel', 'vanille¹', 'dont', 'lait', 'arôme', 'colorant', 'caroténoïdes', 'peut', 'contenir', 'soja', 'autres', 'fruits', 'coque', 'sansgluten', '¹certifié', 'rainforest', 'alliance'])\n",
      " list(['ingrédients', 'lait', 'écrémé', 'réhydraté', 'sucre', 'eau', 'jus', \"d'ananas\", 'base', 'jus', 'concentré', 'purée', 'pêche', 'sirop', 'glucosefructose', 'jus', 'fruit', 'passion', 'purée', 'mangue', 'huile', 'coco', 'lactose', 'protéines', 'lait', 'stabilisants', 'farine', 'graines', 'caroube', 'gomme', 'guar', 'gomme', 'tara', 'émulsifiant', 'mono', 'diglycérides', \"d'acides\", 'gras', 'colorant', 'caroténoïdes', 'correcteur', \"d'acidité\", 'acide', 'citrique', 'arômes', 'naturels', 'vanille', 'peut', 'contenir', 'soja', 'sansgluten'])\n",
      " list(['lait', 'écrémé', 'réhydraté', 'sucre', 'beurre', 'cacao¹', 'eau', 'amandes', 'huile', 'coco', 'lait', 'poudre', 'écrémé', 'sirop', 'fris', 'glucose', 'beurre', 'concentré', 'sirop', 'glucosefructose', 'lactose', 'protéines', 'lait', 'pâte', 'cacao¹', 'émulsifiants', 'e471', 'e442', 'e476', 'gousses', 'vanille', 'épuisées', 'broyées', 'stabilisants', 'e410', 'e412', 'e407', 'arôme', 'naturel', 'vanille', 'dont', 'lait', 'arôme', 'colorant', 'e160a', 'peut', 'contenir', 'autres', 'fruits', 'coque', 'sansgluten', \"'vérifié\", 'rainforest', 'alliance', 'magnum', 'cracking', 'chocolate', 'chocolat', 'magnum', 'craquant', 'californian', 'almonds', 'amandes', 'californie'])\n",
      " list(['lait', 'écrémé', 'réhydraté', 'sucre', 'beurre', 'cacao¹', 'eau', 'huile', 'coco', 'pâte', 'cacao¹', 'sirop', 'glucose', 'sirop', 'glucosefructose', 'lait', 'poudre', 'entier', 'lactose', 'protéines', 'lait', 'beurre', 'concentré', 'émulsifiants', 'lécithine', 'soja', 'e476', 'e471', 'gousses', 'vanille', 'épuisées', 'broyées', 'stabilisants', 'e407', 'e410', 'e412', 'arôme', 'naturel', 'vanille¹', 'dont', 'lait', 'arôme', 'colorant', 'e160a', 'peut', 'contenir', 'amande', 'sansgluten'])\n",
      " list(['lait', 'écrémé', 'réhydraté', 'sucre', 'beurre', 'cacao¹', 'lactose', 'protéines', 'lait', 'pâte', 'cacao¹', 'huile', 'coco', 'sirop', 'glucose', 'sirop', 'glucosefructose', 'lait', 'poudre', 'entier', 'beurre', 'concentré', 'émulsifiants', 'e471', 'lécithine', 'soja', 'e476', 'stabilisants', 'e410', 'e412', 'e407', 'gousses', 'vanille', 'épuisées', 'broyées', 'arôme', 'naturel', 'vanille', 'autres', 'arômes', 'naturels', 'arôme', 'colorant', 'e160a', 'sansgluten', '¹vérifié', 'rainforest', 'alliance™'])\n",
      " list(['lait', 'écrémé', 'réhydraté', 'sucre', 'beurre', 'cacao¹', 'eau', 'huile', 'coco', 'lait', 'poudre', 'écrémé', 'beurre', 'concentré', 'sirop', 'glucosefructose', 'sirop', 'glucose', 'lait', 'poudre', 'entier', 'lactose', 'protéines', 'lait', 'émulsifiants', 'e471', \"d'origine\", 'végétale', 'lécithines', 'tournesol', 'stabilisants', 'farine', 'graines', 'caroube', 'gomme', 'guar', 'carraghénanes', 'gousses', 'vanille', 'épuisées', 'broyées', 'arôme', 'naturel', 'vanille¹', 'dont', 'lait', 'arôme', 'colorant', 'carotènes', 'peut', 'contenir', 'amandes', 'soja', 'sansgluten', '¹certifié', 'rainforest', 'alliance'])\n",
      " list(['lait', 'écrémé', 'réhydraté', 'sucre', 'beurre', 'cacao¹', 'eau', 'huile', 'coco', 'pâte', 'cacao¹', 'sirop', 'glucose', 'sirop', 'glucosefructose', 'lait', 'poudre', 'entier', 'lactose', 'protéines', 'lait', 'beurre', 'concentré', 'émulsifiants', 'e471', \"d'origine\", 'végétale', 'lécithine', 'soja', 'e476', 'gousses', 'vanille', 'épuisées', 'broyées', 'stabilisants', 'farine', 'graines', 'caroube', 'gomme', 'guar', 'carraghénanes', 'arôme', 'naturel', 'vanille¹', 'dont', 'lait', 'arôme', 'colorant', 'caroténoïdes', 'peut', 'contenir', 'amandes', 'sansgluten', '¹vérifié', 'rainforest', 'alliance'])\n",
      " list(['lait', 'écrémé', 'réhydraté', 'sucre', 'beurre', 'cacao¹', 'eau', 'huile', 'coco', 'lait', 'poudre', 'écrémé', 'beurre', 'concentré', 'sirop', 'glucosefructose', 'sirop', 'glucose', 'lait', 'poudre', 'entier', 'lactose', 'protéines', 'lait', 'émulsifiants', 'e471', \"d'origine\", 'végétale', 'lécithines', 'tournesol', 'stabilisants', 'farine', 'graines', 'caroube', 'gomme', 'guar', 'carraghénanes', 'gousses', 'vanille', 'épuisées', 'broyées', 'arôme', 'naturel', 'vanille¹', 'dont', 'lait', 'arôme', 'colorant', 'carotènes', 'peut', 'contenir', 'amandes', 'soja', 'sansgluten', '¹certifié', 'rainforest', 'alliance'])\n",
      " list(['lait', 'écrémé', 'réhydraté', 'sucre', 'beurre', 'cacao¹', 'amandes', 'huile', 'coco', 'lait', 'poudre', 'écrémé', 'sirop', 'glucose', 'beurre', 'concentré', 'sirop', 'glucosefructose', 'lactose', 'protéines', 'lait', 'pâte', 'cacao¹', 'émulsifiants', 'e471', \"d'origine\", 'végétale', 'e442', 'e476', 'gousses', 'vanille', 'épuisées', 'broyées', 'stabilisants', 'farine', 'graines', 'caroube', 'gomme', 'guar', 'carraghénanes', 'arôme', 'naturel', 'vanille¹', 'dont', 'lait', 'arôme', 'colorant', 'caroténoïdes', 'peut', 'contenir', 'soja', 'autres', 'fruits', 'coque', 'sansgluten', '¹certifié', 'rainforest', 'alliance'])\n",
      " list(['lait', 'écrémé', 'réhydraté', 'sucre', 'beurre', 'cacao¹', 'eau', 'huile', 'coco', 'pâte', 'cacao¹', 'sirop', 'glucose', 'sirop', 'glucosefructose', 'lait', 'poudre', 'entier', 'lactose', 'protéines', 'lait', 'beurre', 'concentré', 'émulsifiants', 'e471', \"d'origine\", 'végétale', 'lécithine', 'soja', 'e476', 'gousses', 'vanille', 'épuisées', 'broyées', 'stabilisants', 'farine', 'graines', 'caroube', 'gomme', 'guar', 'carraghénanes', 'arôme', 'naturel', 'vanille¹', 'dont', 'lait', 'arôme', 'colorant', 'caroténoïdes', 'peut', 'contenir', 'amandes', 'sansgluten', '¹certifié', 'rainforest', 'alliance'])\n",
      " list(['lait', 'écrémé', 'réhydraté', 'sucre', 'beurre', 'cacao¹', 'eau', 'huile', 'coco', 'lait', 'poudre', 'écrémé', 'beurre', 'concentré', 'sirop', 'glucosefructose', 'sirop', 'glucose', 'lait', 'poudre', 'entier', 'lactose', 'protéines', 'lait', 'émulsifiants', 'e471', \"d'origine\", 'végétale', 'lécithines', 'tournesol', 'stabilisants', 'farine', 'graines', 'caroube', 'gomme', 'guar', 'carraghénanes', 'gousses', 'vanille', 'épuisées', 'broyées', 'arôme', 'naturel', 'vanille¹', 'dont', 'lait', 'arôme', 'colorant', 'caroténoïdes', 'peut', 'contenir', 'amandes', 'soja', 'sansgluten', '¹certifié', 'rainforest', 'alliance'])\n",
      " list(['mini', 'double', 'chocolate', 'lait', 'écrémé', 'réhydraté', 'sucre', 'huile', 'coco', 'pâte', 'cacao¹', 'sirop', 'glucose', 'beurre', 'cacao¹', 'cacao', 'maigre', 'poudre¹', 'lait', 'poudre', 'entier', 'beurre', 'concentré', 'sirop', 'glucosefructose', 'lait', 'poudre', 'écrémé', 'concentré', 'stabilisants', 'e410', 'e407', 'émulsifiants', 'e471', 'e442', 'e476', 'lait', 'poudre', 'écrémé', 'amidon', 'modifié', 'arômes', 'peut', 'contenir', 'fruits', 'coque', 'arachides', 'sansgluten', '¹vérifié', 'rainforest', 'alliance™', 'mini', 'double', 'caramel', 'lait', 'écrémé', 'réhydraté', 'sucre', 'huile', 'coco', 'pâte', 'cacao¹', 'sirop', 'glucosefructose', 'beurre', 'cacao¹', 'lait', 'poudre', 'entier', 'beurre', 'concentré', 'sirop', 'glucose', 'cacao', 'maigre', 'poudre¹', 'lactose', 'protéines', 'lait', 'stabilisants', 'e407', 'e410', 'e412', 'émulsifiants', 'e471', 'e442', 'e476', 'amidon', 'modifié', 'colorants', 'e150b', 'e160a', 'lait', 'poudre', 'écrémé', 'gousses', 'vanille', 'épuisées', 'broyées', 'sel', 'arôme', 'naturel', 'vanille', 'autres', 'arômes', 'naturels', 'arômes', 'peut', 'contenir', 'fruits', 'coque', 'arachides', 'sansgluten', '¹vérifié', 'rainforest', 'alliance™'])\n",
      " list(['lait', 'écrémé', 'réhydraté', 'sucre', 'beurre', 'cacao¹', 'pâte', 'cacao¹', 'huile', 'coco', 'sirop', 'glucosefructose', 'sirop', 'glucose', 'lait', 'poudre', 'entier', 'lait', 'poudre', 'écrémé', 'concentré', 'beurre', 'concentré', 'eau', 'lactose', 'protéines', 'lait', 'café', 'arabica', 'soluble', 'émulsifiants', 'lécithine', 'soja', 'e476', 'e471', 'stabilisants', 'e412', 'e407', 'e410', 'cacao', 'maigre', 'poudre¹', 'arôme', 'naturel', 'vanille', 'arômes', 'peut', 'contenir', 'amande', 'sansgluten', '¹vérifié', 'rainforest', 'alliance™'])\n",
      " list(['lait', 'écrémé', 'réhydraté', 'sucre', 'crème', 'sirop', 'glucosefructose', 'beurre', 'cacao¹', 'amandes', 'lait', 'poudre', 'écrémé', 'beurre', 'concentré', 'lait', 'écrémé', 'poudre', 'concentré', 'pâte', 'cacao¹', 'sirop', 'glucose', 'émulsifiants', 'e471', \"d'origine\", 'végétale', 'lécithines', 'stabilisants', 'gomme', 'guar', 'farine', 'graines', 'caroube', 'gomme', 'tara', 'carraghénanes', 'gousses', 'vanille', 'épuisées', 'broyées', 'arôme', 'naturel', 'vanille¹', 'dont', 'lait', 'sirop', 'sucre', 'caramélisé', 'arôme', 'naturel', 'vanille', 'colorant', 'caroténoïdes', 'peut', 'contenir', 'autres', 'fruits', 'coque', 'sansgluten', '¹certifié', 'rainforest', 'alliance'])\n",
      " list(['lait', 'écrémé', 'réhydraté', 'sucre', 'crème', 'beurre', 'cacao¹', 'sirop', 'glucosefructose', 'lait', 'poudre', 'entier', 'beurre', 'concentré', 'lait', 'écrémé', 'poudre', 'concentré', 'sirop', 'glucose', 'émulsifiants', 'e442', 'e476', 'e471', 'stabilisants', 'e407', 'e410', 'e412', 'gousses', 'vanille', 'épuisées', 'broyées', 'arôme', 'naturel', 'vanille', 'arôme', 'dont', 'lait', 'colorant', 'e160a', 'peut', 'contenir', 'amande', 'noix', 'pécan', 'sansgluten', '¹vérifié', 'rainforest', 'alliance™', 'ra.org'])\n",
      " list(['lait', 'écrémé', 'réhydraté', 'sucre', 'sirop', 'glucose', 'huile', 'coco', 'lactose', 'protéines', 'lait', 'dextrose', 'stabilisants', 'farine', 'graines', 'caroube', 'gomme', 'guar', 'carraghénanes', 'concentrés', 'fruits', 'plante', 'pomme', 'jus', 'citron', 'carthame', 'émulsifiant', 'mono', 'concentré', 'soiruline', 'sansgluten'])\n",
      " list(['lait', 'écrémé', 'réhydraté', 'sucre', 'pâte', 'cacao¹', 'beurre', 'cacao¹', 'huile', 'coco', 'lait', 'poudre', 'entier', 'beurre', 'concentré', 'sirop', 'glucosefructose', 'dextrose', 'lait', 'poudre', 'écrémé', 'concentré', 'fibre', 'blé²', 'émulsifiants', 'e471', 'e442', 'e476', 'stabilisant', 'e410', 'maltodextrine', 'arômes', 'dont', 'lait', 'arôme', 'naturel', 'vanille', 'peut', 'contenir', 'fruits', 'coque', 'arachides', 'sansgluten', '¹vérifié', 'rainforest', 'alliance™', '²ingrédient', 'convenant', 'produits', 'sansgluten', 'ingrédients', 'lait', 'écrémé', 'sucre', 'pâte', 'cacao¹', 'beurre', 'cacao¹', 'graisse', 'coco', 'lait', 'poudre', 'entier', 'beurre', 'concentré', 'sirop', 'glucosefructose', 'dextrose', 'lait', 'poudre', 'écrémé', 'concentré', 'fibres', 'blé²', 'émulsifiants', 'e471', 'e442', 'e476', 'stabilisant', 'e410', 'maltodextrine', 'arômes', 'dont', 'lait', 'peut', 'contenir', 'autres', 'fruits', 'coques', 'arachides', 'sansgluten', '¹certifié', 'rainforest', 'alliance™', '²ingrédient', 'convenant', 'produits', 'sansgluten'])\n",
      " list(['lait', 'écrémé', 'réhydraté', 'sucre', 'beurre', 'cacao¹', 'pâte', 'cacao¹', 'eau', 'huile', 'coco', 'sirop', 'glucose', 'lait', 'poudre', 'entier', 'sirop', 'glucosefructose', 'lactose', 'protéines', 'lait', 'beurre', 'concentré', 'émulsifiants', 'lécithine', 'soja', 'e476', 'e471', 'gousses', 'vanille', 'épuisées', 'broyées', 'stabilisants', 'e407', 'e410', 'e412', 'arôme', 'naturel', 'vanille¹', 'dont', 'lait', 'arôme', 'colorant', 'e160a', 'peut', 'contenir', 'amande', 'sansgluten', '¹vérifié', 'rainforest', 'alliance™'])\n",
      " list(['lait', 'écrémé', 'réhydraté', 'sucre', 'beurre', 'cacao1', 'eau', 'huile', 'coco', 'lait', 'écrémé', 'poudre', 'beurre', 'concentré', 'sirop', 'glucosefructose', 'lait', 'poudre', 'entier', 'sirop', 'glucose', 'lactose', 'protéines', 'lait', 'émulsifiants', 'e471', \"d'origine\", 'végétale', 'lécithine', 'tournesol', 'gousses', 'vanille', 'épuisées', 'broyées', 'stabilisants', 'gomme', 'guar', 'farine', 'graine', 'caroube', 'carraghénanes', 'arôme', 'naturel', 'vanille1', 'dont', 'lait', 'arôme', 'colorant', 'caroténoïdes', 'peut', 'contenir', 'amandes', 'soja', 'sansgluten', 'rainforest', 'alliance'])\n",
      " list(['lait', 'écrémé', 'réhydraté', 'pâte', 'cacao1', 'sucre', 'sirop', 'glucosefructose', 'huile', 'coco', 'cacao', 'maigre', 'poudre1', 'beurre', 'cacao1', 'beurre', 'concentré', 'émulsifiants', 'lécithine', 'soja', 'e471', 'e442', 'lait', 'poudre', 'entier', 'stabilisants', 'e410', 'e407', 'peut', 'contenir', 'amandes', 'sansgluten', '¹vérifié', 'rainforest', 'alliance', 'ra.org'])\n",
      " list(['lait', 'écrémé', 'réhydraté', 'sucre', 'beurre', 'cacao¹', 'eau', 'huile', 'coco', 'lait', 'poudre', 'écrémé', 'amandes', 'sirop', 'glucose', 'beurre', 'concentré', 'sirop', 'glucosefructose', 'lactose', 'protéines', 'lait', 'pâte', 'cacao¹', 'émulsifiants', 'e471', \"d'origine\", 'végétale', 'e442', 'e476', 'gousses', 'vanille', 'épuisées', 'broyées', 'stabilisants', 'farine', 'graines', 'caroube', 'gomme', 'guar', 'carraghénanes', 'arôme', 'naturel', 'vanille¹', 'dont', 'lait', 'arôme', 'colorant', 'caroténoïdes', 'peut', 'contenir', 'soja', 'autres', 'fruits', 'coque', 'sansgluten', '¹certifié', 'rainforest', 'alliance'])\n",
      " list(['lait', 'entier', 'infusé', 'gousses', 'vanille', 'crème', 'sucre', 'sucre', 'canne', 'lait', 'concentré', 'sucré', 'partiellement', 'écrémé', 'dextrose', 'pâte', 'cacao1', 'lactose', 'protéines', 'lait', 'beurre', 'cacao1', 'stabilisants', 'farine', 'graines', 'caroube', 'gomme', 'guar', 'peut', 'contenir', 'œuf', 'fruits', 'coque', 'soja', 'sansgluten', 'rainforest', 'alliance'])\n",
      " list(['lait', 'entier', 'pâte', 'noisette', 'sucre', 'dextrose', 'noisette', 'crème', 'jaune', \"d'œuf\", 'lactose', 'protéines', 'lait', 'stabilisant', 'farine', 'graines', 'caroube', 'peut', 'contenir', 'autres', 'fruits', 'coque', 'sansgluten'])\n",
      " list(['lait', 'écrémé', 'réhydraté', 'sucre', 'huile', 'coco', 'pâte', 'cacao¹', 'beurre', 'cacao¹', 'sirop', 'glucosefructose', 'cacao', 'maigre', 'poudre¹', 'lait', 'poudre', 'entier', 'pâte', 'noix', 'coco', 'beurre', 'concentré', 'sirop', 'glucose', 'lait', 'écrémé', 'poudre', 'concentré', 'lactose', 'protéines', 'lait', 'stabilisants', 'e410', 'e407', 'e412', 'émulsifiants', 'e471', 'e442', 'e476', 'lait', 'poudre', 'écrémé', 'amidon', 'modifié', 'arômes', 'peut', 'contenir', 'soja', 'sansgluten', '¹vérifié', 'rainforest', 'alliance™'])\n",
      " list(['sucre', 'lait', 'écrémé', 'réhydraté', 'purée', 'framboise', 'sirop', 'glucosefructose', 'huile', 'coco', 'pâte', 'cacao¹', 'beurre', 'cacao¹', 'lait', 'poudre', 'entier', 'lait', 'écrémé', 'poudre', 'concentré', 'beurre', 'concentré', 'sirop', 'glucose', 'cacao', 'maigre', 'poudre¹', 'jus', 'framboise', 'concentré', 'amidon', 'modifié', 'émulsifiants', 'e476', 'e471', 'e442', 'lactose', 'protéines', 'lait', 'stabilisants', 'e412', 'e410', 'e440i', 'lait', 'poudre', 'écrémé', 'concentré', 'carotte', 'arôme', 'naturel', 'framboise', 'arômes', 'naturels', 'arôme', 'correcteurs', \"d'acidité\", 'e331iii', 'e270', 'e330', 'sel', 'jus', 'betterave', 'concentré', 'concentré', 'carthame', 'concentré', 'cassis', 'concentré', 'citron', 'peut', 'contenir', 'soja', 'amande', 'sansgluten', '¹vérifié', 'rainforest', 'alliance™'])\n",
      " list(['lait', 'écrémé', 'réhydraté', 'pâte', 'cacao¹', 'sucre', 'sirop', 'glucosefructose', 'huile', 'coco', 'cacao', 'maigre', 'poudre¹', 'beurre', 'cacao¹', 'beurre', 'concentré', 'émulsifiants', 'lécithines', 'soja', 'e471', \"d'origine\", 'végétale', 'e442', 'lait', 'poudre', 'entier', 'stabilisants', 'e410', 'e407', 'peut', 'contenir', 'amandes', 'sansgluten', '¹certifié', 'rainforest', 'alliance'])\n",
      " list(['ingrédients', 'lait', 'écrémé', 'réhydraté', 'pâte', 'cacao1', 'sucre', 'sirop', 'glucosefructose', 'huile', 'coco', 'cacao', 'maigre', 'poudre1', 'beurre', 'cacao1', 'beurre', 'concentré', 'émulsifiants', 'lécithine', 'soja', 'e471', 'e442', 'lait', 'poudre', 'entier', 'stabilisants', 'e410', 'e407', 'peut', 'contenir', 'amandes', 'sansgluten', '¹vérifié', 'rainforest', 'alliance', 'ra.org'])\n",
      " list(['eau', 'jus', 'fraise', 'base', 'jus', 'concentré', 'sucre', 'fraise', 'sirop', 'glucose', 'amidon', 'modifié', 'stabilisants', 'pectines', 'gomme', 'guar', 'farine', 'graines', 'caroube', 'jus', 'citron', 'concentré', 'arômes', 'naturels', 'dont', 'lait', 'jus', 'betterave', 'concentré', 'correcteurs', \"d'acidité\", 'acide', 'citrique', 'acide', 'ascorbique', 'concentré', 'carotte', 'sansgluten'])\n",
      " list(['lait', 'entier', 'sucre', 'canne', 'crème', 'dextrose', 'cacao', 'poudre', 'pâte', 'cacao', 'jaune', \"d'œuf\", 'sucre', 'beurre', 'cacao', 'lactose', 'protéines', 'lait', 'stabilisant', 'farine', 'graines', 'caroube', 'peut', 'contenir', 'soja', 'fruits', 'coque', 'sansgluten'])\n",
      " list(['crème', 'glacée', 'café', 'expresso', 'café', 'expresso', 'liquide', 'crème', 'sucre', 'canne', 'jaune', \"d'œuf/\", 'lait', 'entier', 'lactose', 'protéines', 'lait', 'dextrose', 'stabilisant', 'farine', 'graines', 'caroube', 'gousses', 'vanille', 'épuisées', 'broyées', 'peut', 'contenir', 'fruits', 'coque', 'sansgluten'])\n",
      " list(['fonds', 'volaille', 'concentré', 'eau', 'viande', 'poule', 'sel', 'extrait', 'levure', 'arômes', 'dont', 'orge', 'œuf', 'sucre', 'graisse', 'poule', 'jus', 'légumes', 'concentrés', 'poireau', 'carotte', 'oignon', 'amidon', 'modifié', 'maïs', 'maltodextrine', 'jus', 'citron', 'épaississant', 'gomme', 'xanthane', 'épices', 'poivre', 'curcuma', 'antioxydant', 'extrait', 'romarin', 'ingrédient', 'convenant', 'produits', 'sansgluten'])\n",
      " list(['lait', 'écrémé', 'réhydraté', 'sucre', 'crème', 'beurre', 'cacao¹', 'lait', 'concentré', 'écrémé', 'pâte', 'cacao¹', 'sirop', 'glucosefructose', 'noisettes', 'lait', 'poudre', 'entier', 'pâte', 'noisette', 'beurre', 'concentré', 'cacao', 'maigre', 'poudre¹', 'émulsifiants', 'e471', 'lécithine', 'soja', 'e442', 'e476', 'stabilisants', 'e410', 'e412', 'e407', 'arômes', 'sirop', 'glucose', 'sirop', 'sucre', 'caramélisé', 'peut', 'contenir', 'autres', 'fruits', 'coque', 'sansgluten', '¹vérifié', 'rainforest', 'alliance™', 'ingrédients', 'lait', 'écrémé', 'réhydraté', 'sucre', 'crème', 'beurre', 'cacao¹', 'lait', 'concentré', 'écrémé', 'pâte', 'cacao¹', 'sirop', 'glucosefructose', 'noisettes', 'lait', 'poudre', 'entier', 'pâte', 'noisette', 'beurre', 'concentré', 'cacao', 'maigre', 'poudre¹', 'émulsifiants', 'e471', 'lécithine', 'soja', 'e442', 'e476', 'stabilisants', 'e410', 'e412', 'e407', 'arômes', 'sirop', 'glucose', 'sirop', 'sucre', 'caramélisé', 'peut', 'contenir', 'autres', 'fruits', 'coque', 'sansgluten', '¹vérifié', 'rainforest', 'alliance™', 'ouvrez', 'patientez', 'min', 'craquez'])\n",
      " list(['ingrédients', 'sucre', 'lait', 'écrémé', 'réhydraté', 'eau', 'huile', 'coco', 'pâte', 'cacao¹', 'beurre', 'cacao¹', 'sirop', 'glucosefructose', 'lait', 'poudre', 'entier', 'beurre', 'concentré', 'sirop', 'glucose', 'lactose', 'protéines', 'lait', 'cacao', 'maigre', 'poudre¹', 'lait', 'poudre', 'écrémé', 'émulsifiants', 'e476', 'e471', 'e442', 'stabilisants', 'e410', 'e412', 'e407', 'amidon', 'modifié', 'colorants', 'e150a', 'e160b', 'gousses', 'vanille', 'épuisées', 'broyées', 'lait', 'écrémé', 'poudre', 'concentré', 'sel', 'arôme', 'naturel', 'vanille¹', 'dont', 'lait', 'arômes', 'peut', 'contenir', 'soja', 'amandes', 'sansgluten', '¹vérifié', 'rainforest', 'alliance™'])\n",
      " list(['pois', 'chiches', 'trempés', \"l'eau\", 'eau', 'huile', 'tournesol', 'sésame', 'coriandre', 'farine', 'maïs', 'sel', 'marin', 'ail', 'citron', 'mariné', 'cumin', 'poivre', 'noir', 'poivrons', 'rouges', 'piment', 'rouge', 'cardamome', 'acidifiants', 'naturels', 'acide', 'lactique', 'issu', 'sucre', 'canne', 'issus', 'agriculture', 'biologique.végétalien', 'sansgluten'])\n",
      " list(['quot', 'tomates', 'müries', 'soleil', 'cultivons', 'passion', 'expertise', 'arömes', 'naturels', 'seulement+', 'sans', 'conservateur', '•sans', 'épaississant', 'végane+', 'sansgluten', 'tomates', 'tomato', 'ketchup', 'vinaigre', \"d'alcool\", 'sucte', 'sel', 'exstraits', 'épices', 'herbes', 'contiennent', 'céleri', 'épice'])\n",
      " list(['lait', 'écrémé', 'réhydraté', 'sucre', 'pâte', 'cacao¹', 'lait', 'poudre', 'écrémé', 'concentré', 'beurre', 'cacao¹', 'huile', 'coco', 'lait', 'poudre', 'entier', 'beurre', 'concentré', 'sirop', 'glucosefructose', 'dextrose', 'émulsifiants', 'e471', 'e476', 'e442', 'stabilisant', 'e410', 'arômes', 'dont', 'lait', 'arôme', 'naturel', 'vanille', 'peut', 'contenir', 'amandes', 'sansgluten', '¹vérifié', 'rainforest', 'alliance', 'ra.org'])\n",
      " list(['sesamzaad', 'rijstsiroop', 'biologisch', 'bar', 'sesame', 'seeds', 'glutenfree', 'ingredients', 'sesame', 'seeds', 'rice', 'syrup', 'organic', 'riegel', 'sesamsamen', 'glutenfrei', 'zutat', 'sesamsamen', 'reissirup', 'biologisch', 'barre', 'graines', 'sésame', 'sansgluten', 'ingrédients', 'graines', 'sésame', 'sirop', 'riz', 'biologique', 'gemiddelde', 'voedingswaardes', 'per/', 'average', 'nutritional', 'values', 'per/', 'durchschnittliche', 'nährwerte', 'pro/', 'valeurs', 'nutritionnelles', 'moyenne', 'kj/', 'kj/', 'kcal', 'kcal', 'energie/energy/energie/énergie', 'vetten/fat/fett/matières', 'grass', 'waarvan', 'verzadigde', 'vetzuren/of', 'saturates', 'davon', 'gesättigte', 'fettsäuren/dont', 'acides', 'gras', 'saturés', 'koolhydraten/carbohydrate/kohlenhydrate/glucid', 'waarvan', 'suikers/of', 'sugars/davon', 'zucker/dont', 'sucr', 'vezels/', 'fibre/ballaststoffe/fibres', 'alimentair', 'eiwitten/protein/eiweiß/protéin', 'zout/salt/salz/s', 'portie/', 'serving/', 'portion/', 'portion', 'porties/', 'servings/', 'portionen/', 'portions'])\n",
      " list(['fil', '—amo', 'copsmarsi', 'pref', 'vedi', 'lato', 'mélange', 'noix', 'raisins', 'issus', \"l'agriculture\", 'biologique', 'contrôlée', 'sansgluten', 'fabriquée', 'vqir', 'ünprimé', 'côte', 'ingre', 'rrs', 'noix', 'blanchies', 'noix', 'cajou', 'amandes', 'noix', 'raisins', 'seœ', 'blonds', 'raisins', 'secs', 'blonds', 'huile', 'tournesol', 'isus', \"l'agi\", 'culture', 'biologique', 'contrôlée', 'peut', 'contenir', 'ùaces', 'sésame', 'soja', 'lupins', 'auùes', 'fruits', 'sous', 'coque', 'conditionné', 'pre', 'atmosphere', 'protectrice', 'server', 'chaleur', 'etdepre', 'lunidité', 'consornrngte', 'ference', 'avant', 'voir', 'côte'])\n",
      " list(['flocons', \"d'avoine\", 'complète', 'concassés', 'sansgluten', 'dattes', 'hachées', 'dattes', 'farine', 'riz', 'dés', 'pommes', 'amandes', 'hachées', 'fraises', 'graines', 'chia', 'salvia', 'hispanica', 'graines', 'lin', 'brun', 'issu', \"l'agriculture\", 'biologique', 'peut', 'contenir', 'traces', 'graines', 'sésame', 'soja', \"d'autres\", 'fruits', 'coque'])\n",
      " list(['mélange', 'protéines', 'végetales', 'isolat', 'protéique', 'pois', 'concentré', 'protéines', 'riz', 'protéines', 'chanvre', 'arôme', 'naturel', 'sel', 'mer', 'sucralose', 'stévia', 'édulcorant', 'végétalien', 'sansgluten', 'sans', 'soja', 'sans', 'lactose', 'sans', 'ogm'])\n",
      " list(['pâte', 'soja', 'sansgluten', 'eau', 'graines', 'soja', 'sel', 'riz', 'sucre', 'eau', 'épaississant', 'e1422', 'citron', 'salé', 'citron', 'sel', 'levure', 'riz', 'rouge', 'régulateurs', \"d'acidité\", 'e260', 'e270', 'graines', 'sésame', 'ail', 'sel'])\n",
      " list(['cacao', 'min', 'beurre', 'cacao', 'poudre', 'cacao', 'nectar', 'coco', 'huile', 'coco', 'cerises', 'aigres', 'farine', 'graines', 'caroube', 'gousse', 'vanilla', 'cannelle', 'ceylan', 'sel', 'gemme', 'issu', \"l'agriculture\", 'biologique', 'ausblo107', 'note', 'allergi', 'peut', 'contenir', 'traces', 'fruits', 'coque', 'handmade', 'fait', 'main', 'vegan', 'végétalien', 'dairy', 'sans', 'produits', 'laitiers', 'soy', 'sans', 'soja', 'glutenfree', 'sansgluten'])\n",
      " list(['raw', 'cacao', 'bar', 'fig', 'wild', 'orange', 'essential', 'oil', 'cacao', 'min', 'butte', 'ceao', 'powder•', 'coconut', 'nectar', 'coconut', 'ceylon', 'wild', 'essential', 'rock', '•raw', 'ingredients', 'certified', 'organicany', 'grown', 'contains', 'naturany', 'occurring', 'sugars', 'anerg', 'may', 'contain', 'traces', 'nues', 'barre', 'cacao', 'cru', 'figure', \"l'huile\", 'essentielle', \"d'oranges\", 'sauvages', 'cacao', 'min', 'beurre', 'ceao•', 'poudre', 'cacao', 'nectar', 'coco•', 'huile', 'cœo•', 'car•oube•', 'figues', 'cannelle', 'ceylan•', 'huile', 'essentielle', \"d'oranges\", 'sauvages', 'sel', 'gemme', 'nssu', 'ragriculture', 'biologique', 'contient', 'sucres', 'naturellement', 'présents', 'note', 'anergi', 'peut', 'contenir', 'traces', 'fruits', 'handmade', 'fait', 'main', 'vegan', 'végétalien', 'dairy', 'sans', 'produits', 'laitiers', 'soy', 'sans', 'soja', 'glutenfree', 'sansgluten', 'added', 'sugar', 'sans', 'sucre', 'ajouté'])\n",
      " list(['lait', 'écrémé', 'réhydraté', 'sucre', 'beurre', 'cacao', 'huile', 'coco', 'pâte', 'cacao', 'sirop', 'glucose', 'sirop', 'glucosefructose', 'lait', 'poudre', 'entier', 'lactose', 'protéine', 'lait', 'beurre', 'concentré', 'émulsifiant', 'lécithine', 'soja', 'e476', 'gousse', 'vanille', 'épuisées', 'broyées', 'stabilisants', 'e407', 'e410', 'e412', 'arome', 'naturel', 'vanille', 'dont', 'lait', 'arôme', 'colorant', 'ea60a', 'peut', 'contenir', 'amande', 'sansgluten', 'vérifié', 'rain', 'forest', 'alliance'])]\n"
     ]
    }
   ],
   "source": [
    "# Tests: cherche le mot 'sansgluten' dans la colonne 'ingredients_tokens', et affiche le contenu de la colonne 'ingredients_text' pour les lignes où le mot est trouvé\n",
    "df[df['ingredients_tokens'].apply(lambda x: 'sansgluten' in x)]['ingredients_tokens']\n",
    "# affiche le texte complet\n",
    "print(df[df['ingredients_tokens'].apply(lambda x: 'sansgluten' in x)]['ingredients_tokens'].values)\n"
   ]
  },
  {
   "cell_type": "markdown",
   "metadata": {},
   "source": [
    "la fonction de tokenisation a bien fonctionné. Exportons ce df."
   ]
  },
  {
   "cell_type": "code",
   "execution_count": 9,
   "metadata": {},
   "outputs": [],
   "source": [
    "# Exporter le df en csv\n",
    "df.shape\n",
    "df.to_csv('data_allergens_ingredients_tokenized_glutenfree.csv', index=False)\n"
   ]
  },
  {
   "cell_type": "markdown",
   "metadata": {},
   "source": [
    "Essayons sur notre classifieur"
   ]
  },
  {
   "cell_type": "code",
   "execution_count": 6,
   "metadata": {},
   "outputs": [
    {
     "name": "stderr",
     "output_type": "stream",
     "text": [
      "/tmp/ipykernel_29241/2899512039.py:1: DtypeWarning: Columns (0,17) have mixed types. Specify dtype option on import or set low_memory=False.\n",
      "  df = pd.read_csv('data_allergens_ingredients_tokenized_glutenfree.csv')\n"
     ]
    }
   ],
   "source": [
    "df = pd.read_csv('data_allergens_ingredients_tokenized_glutenfree.csv')"
   ]
  },
  {
   "cell_type": "code",
   "execution_count": 11,
   "metadata": {},
   "outputs": [
    {
     "name": "stdout",
     "output_type": "stream",
     "text": [
      "Shape of X: (244028, 500)\n",
      "Accuracy: 0.8822275949678319\n"
     ]
    }
   ],
   "source": [
    "# Vectorisons les tokens de la colonne 'ingredients_tokens' du dataframe df.\n",
    "# Cette colonne a déjà été tokénisée pour accélerer les calculs\n",
    "\n",
    "data = df['ingredients_tokens']\n",
    "\n",
    "# creating the feature matrix (vectorisation)\n",
    "from sklearn.feature_extraction.text import CountVectorizer\n",
    "matrix = CountVectorizer(max_features=500)\n",
    "X = matrix.fit_transform(data).toarray()\n",
    "print(f\"Shape of X: {X.shape}\")\n",
    "\n",
    "from sklearn.model_selection import train_test_split\n",
    "from sklearn.tree import DecisionTreeClassifier\n",
    "from sklearn.metrics import accuracy_score \n",
    "\n",
    "# Diviser les données en features (X) et target (y)\n",
    "X\n",
    "y = df['gluten_presence']\n",
    "\n",
    "# Diviser les données en ensembles d'entraînement et de test\n",
    "X_train, X_test, y_train, y_test = train_test_split(X, y, test_size=0.2, random_state=42)\n",
    "\n",
    "# Initialiser et entraîner le modèle d'arbre de décision\n",
    "clf = DecisionTreeClassifier()\n",
    "clf.fit(X_train, y_train)\n",
    "\n",
    "# Faire des prédictions sur l'ensemble de test\n",
    "y_pred = clf.predict(X_test)\n",
    "\n",
    "# Calculer l'exactitude du modèle\n",
    "accuracy = accuracy_score(y_test, y_pred)\n",
    "print(\"Accuracy:\", accuracy)"
   ]
  },
  {
   "cell_type": "code",
   "execution_count": 18,
   "metadata": {},
   "outputs": [
    {
     "name": "stdout",
     "output_type": "stream",
     "text": [
      "échantillon tokénisé: ['sucre', 'sel']\n",
      "Pas de gluten, faites vous plaisir\n"
     ]
    }
   ],
   "source": [
    "# tester le modèle avec un nouvel échantillon\n",
    "nouvel_échantillon = 'sucre, sel'\n",
    "nouvel_échantillon_tokénisé = tokenize(nouvel_échantillon)\n",
    "print(f\"échantillon tokénisé: {nouvel_échantillon_tokénisé}\")\n",
    "\n",
    "nouvel_échantillon_vectorisé = matrix.transform(nouvel_échantillon_tokénisé).toarray()\n",
    "prediction = clf.predict(nouvel_échantillon_vectorisé)\n",
    "\n",
    "if prediction[0] == 1:\n",
    "    print(\"Attention: Présence de gluten\")\n",
    "else :\n",
    "    print(\"Pas de gluten, faites vous plaisir\")"
   ]
  },
  {
   "cell_type": "code",
   "execution_count": 11,
   "metadata": {},
   "outputs": [
    {
     "name": "stderr",
     "output_type": "stream",
     "text": [
      "/home/matthieu/anaconda3/envs/dsproj/lib/python3.11/site-packages/sklearn/tree/_classes.py:298: FutureWarning: `max_features='auto'` has been deprecated in 1.1 and will be removed in 1.3. To keep the past behaviour, explicitly set `max_features='sqrt'`.\n",
      "  warnings.warn(\n",
      "/home/matthieu/anaconda3/envs/dsproj/lib/python3.11/site-packages/sklearn/tree/_classes.py:298: FutureWarning: `max_features='auto'` has been deprecated in 1.1 and will be removed in 1.3. To keep the past behaviour, explicitly set `max_features='sqrt'`.\n",
      "  warnings.warn(\n",
      "/home/matthieu/anaconda3/envs/dsproj/lib/python3.11/site-packages/sklearn/tree/_classes.py:298: FutureWarning: `max_features='auto'` has been deprecated in 1.1 and will be removed in 1.3. To keep the past behaviour, explicitly set `max_features='sqrt'`.\n",
      "  warnings.warn(\n",
      "/home/matthieu/anaconda3/envs/dsproj/lib/python3.11/site-packages/sklearn/tree/_classes.py:298: FutureWarning: `max_features='auto'` has been deprecated in 1.1 and will be removed in 1.3. To keep the past behaviour, explicitly set `max_features='sqrt'`.\n",
      "  warnings.warn(\n",
      "/home/matthieu/anaconda3/envs/dsproj/lib/python3.11/site-packages/sklearn/tree/_classes.py:298: FutureWarning: `max_features='auto'` has been deprecated in 1.1 and will be removed in 1.3. To keep the past behaviour, explicitly set `max_features='sqrt'`.\n",
      "  warnings.warn(\n",
      "/home/matthieu/anaconda3/envs/dsproj/lib/python3.11/site-packages/sklearn/tree/_classes.py:298: FutureWarning: `max_features='auto'` has been deprecated in 1.1 and will be removed in 1.3. To keep the past behaviour, explicitly set `max_features='sqrt'`.\n",
      "  warnings.warn(\n",
      "/home/matthieu/anaconda3/envs/dsproj/lib/python3.11/site-packages/sklearn/tree/_classes.py:298: FutureWarning: `max_features='auto'` has been deprecated in 1.1 and will be removed in 1.3. To keep the past behaviour, explicitly set `max_features='sqrt'`.\n",
      "  warnings.warn(\n",
      "/home/matthieu/anaconda3/envs/dsproj/lib/python3.11/site-packages/sklearn/tree/_classes.py:298: FutureWarning: `max_features='auto'` has been deprecated in 1.1 and will be removed in 1.3. To keep the past behaviour, explicitly set `max_features='sqrt'`.\n",
      "  warnings.warn(\n",
      "/home/matthieu/anaconda3/envs/dsproj/lib/python3.11/site-packages/sklearn/tree/_classes.py:298: FutureWarning: `max_features='auto'` has been deprecated in 1.1 and will be removed in 1.3. To keep the past behaviour, explicitly set `max_features='sqrt'`.\n",
      "  warnings.warn(\n",
      "/home/matthieu/anaconda3/envs/dsproj/lib/python3.11/site-packages/sklearn/tree/_classes.py:298: FutureWarning: `max_features='auto'` has been deprecated in 1.1 and will be removed in 1.3. To keep the past behaviour, explicitly set `max_features='sqrt'`.\n",
      "  warnings.warn(\n",
      "/home/matthieu/anaconda3/envs/dsproj/lib/python3.11/site-packages/sklearn/model_selection/_validation.py:378: FitFailedWarning: \n",
      "30 fits failed out of a total of 50.\n",
      "The score on these train-test partitions for these parameters will be set to nan.\n",
      "If these failures are not expected, you can try to debug them by setting error_score='raise'.\n",
      "\n",
      "Below are more details about the failures:\n",
      "--------------------------------------------------------------------------------\n",
      "30 fits failed with the following error:\n",
      "Traceback (most recent call last):\n",
      "  File \"/home/matthieu/anaconda3/envs/dsproj/lib/python3.11/site-packages/sklearn/model_selection/_validation.py\", line 686, in _fit_and_score\n",
      "    estimator.fit(X_train, y_train, **fit_params)\n",
      "  File \"/home/matthieu/anaconda3/envs/dsproj/lib/python3.11/site-packages/sklearn/tree/_classes.py\", line 969, in fit\n",
      "    super().fit(\n",
      "  File \"/home/matthieu/anaconda3/envs/dsproj/lib/python3.11/site-packages/sklearn/tree/_classes.py\", line 238, in fit\n",
      "    check_scalar(\n",
      "  File \"/home/matthieu/anaconda3/envs/dsproj/lib/python3.11/site-packages/sklearn/utils/validation.py\", line 1452, in check_scalar\n",
      "    raise TypeError(\n",
      "TypeError: max_depth must be an instance of int, not rv_discrete_frozen.\n",
      "\n",
      "  warnings.warn(some_fits_failed_message, FitFailedWarning)\n",
      "/home/matthieu/anaconda3/envs/dsproj/lib/python3.11/site-packages/sklearn/model_selection/_search.py:953: UserWarning: One or more of the test scores are non-finite: [       nan 0.85971865        nan 0.86715122        nan        nan\n",
      " 0.81427308        nan        nan 0.8574341 ]\n",
      "  warnings.warn(\n"
     ]
    },
    {
     "name": "stdout",
     "output_type": "stream",
     "text": [
      "Best parameters found:\n",
      "{'criterion': 'entropy', 'max_depth': None, 'max_features': 'sqrt', 'min_samples_leaf': 2, 'min_samples_split': 13}\n",
      "Best accuracy found: 0.867151218777259\n",
      "Accuracy of the best model: 0.8566159898373151\n"
     ]
    }
   ],
   "source": [
    "# A présent je voudrais faire une un grid search pour trouver les meilleurs hyperparamètres pour le modèle d'arbre de décision\n",
    "from sklearn.model_selection import RandomizedSearchCV\n",
    "from scipy.stats import randint\n",
    "\n",
    "# Définir les distributions des hyperparamètres à rechercher\n",
    "param_dist = {\n",
    "    'criterion': ['gini', 'entropy'],\n",
    "    'max_depth': [None, randint(1, 100)],\n",
    "    'min_samples_split': randint(2, 20),\n",
    "    'min_samples_leaf': randint(1, 20),\n",
    "    'max_features': ['auto', 'sqrt', 'log2', None]\n",
    "}\n",
    "\n",
    "# Initialiser le modèle d'arbre de décision\n",
    "clf = DecisionTreeClassifier()\n",
    "\n",
    "# Créer l'objet RandomizedSearchCV\n",
    "random_search = RandomizedSearchCV(clf, param_distributions=param_dist, n_iter=10, cv=5, scoring='accuracy', random_state=42)\n",
    "\n",
    "# Exécuter la recherche aléatoire sur les données d'entraînement\n",
    "random_search.fit(X_train, y_train)\n",
    "\n",
    "# Afficher les meilleurs paramètres\n",
    "print(\"Best parameters found:\")\n",
    "print(random_search.best_params_)\n",
    "\n",
    "# Afficher la meilleure précision\n",
    "print(\"Best accuracy found:\", random_search.best_score_)\n",
    "\n",
    "# Utiliser le meilleur modèle pour faire des prédictions sur l'ensemble de test\n",
    "best_clf = random_search.best_estimator_\n",
    "y_pred = best_clf.predict(X_test)\n",
    "\n",
    "# Calculer l'exactitude du meilleur modèle sur l'ensemble de test\n",
    "accuracy = accuracy_score(y_test, y_pred)\n",
    "print(\"Accuracy of the best model:\", accuracy)\n"
   ]
  },
  {
   "cell_type": "code",
   "execution_count": 12,
   "metadata": {},
   "outputs": [
    {
     "name": "stdout",
     "output_type": "stream",
     "text": [
      "Shape of X: (244028, 500)\n",
      "Accuracy of the best model: 0.8615948858746876\n"
     ]
    }
   ],
   "source": [
    "# Vectoriser les tokens de la colonne 'ingredients_tokens' du dataframe df.\n",
    "data = df['ingredients_tokens']\n",
    "\n",
    "# Créer la matrice des caractéristiques (vectorisation)\n",
    "matrix = CountVectorizer(max_features=500)\n",
    "X = matrix.fit_transform(data).toarray()\n",
    "print(f\"Shape of X: {X.shape}\")\n",
    "\n",
    "# Diviser les données en features (X) et target (y)\n",
    "y = df['gluten_presence']\n",
    "\n",
    "# Diviser les données en ensembles d'entraînement et de test\n",
    "X_train, X_test, y_train, y_test = train_test_split(X, y, test_size=0.2, random_state=42)\n",
    "\n",
    "# Définir les meilleurs paramètres trouvés par RandomizedSearchCV\n",
    "best_params = {\n",
    "    'criterion': random_search.best_params_['criterion'],\n",
    "    'max_depth': random_search.best_params_['max_depth'],\n",
    "    'min_samples_split': random_search.best_params_['min_samples_split'],\n",
    "    'min_samples_leaf': random_search.best_params_['min_samples_leaf'],\n",
    "    'max_features': random_search.best_params_['max_features']\n",
    "}\n",
    "\n",
    "# Initialiser et entraîner le modèle d'arbre de décision avec les meilleurs paramètres\n",
    "best_clf = DecisionTreeClassifier(**best_params)\n",
    "best_clf.fit(X_train, y_train)\n",
    "\n",
    "# Faire des prédictions sur l'ensemble de test\n",
    "y_pred = best_clf.predict(X_test)\n",
    "\n",
    "# Calculer l'exactitude du modèle\n",
    "accuracy = accuracy_score(y_test, y_pred)\n",
    "print(\"Accuracy of the best model:\", accuracy)\n"
   ]
  },
  {
   "cell_type": "code",
   "execution_count": 15,
   "metadata": {},
   "outputs": [
    {
     "name": "stdout",
     "output_type": "stream",
     "text": [
      "Lines in \n",
      "[[24808  2783]\n",
      " [ 3942 17273]]\n",
      "              precision    recall  f1-score   support\n",
      "\n",
      "           0       0.86      0.90      0.88     27591\n",
      "           1       0.86      0.81      0.84     21215\n",
      "\n",
      "    accuracy                           0.86     48806\n",
      "   macro avg       0.86      0.86      0.86     48806\n",
      "weighted avg       0.86      0.86      0.86     48806\n",
      "\n",
      "f1_score: 0.84\n",
      "recall_score: 0.81\n",
      "precision_score: 0.86\n"
     ]
    },
    {
     "data": {
      "image/png": "[encoded data removed]",
      "text/plain": [
       "<Figure size 1200x800 with 1 Axes>"
      ]
     },
     "metadata": {},
     "output_type": "display_data"
    }
   ],
   "source": [
    "model = best_clf\n",
    "evaluation(model, X_train, X_test, y_train, y_test, display_learning_curve=True)"
   ]
  },
  {
   "cell_type": "markdown",
   "metadata": {},
   "source": [
    "Utilisons ces best parameters dans le modèle:"
   ]
  },
  {
   "cell_type": "markdown",
   "metadata": {},
   "source": [
    "C'est moins bien que le classifier de base. Essayons un grid search pour trouver les meilleurs hyperparamètres, plutôt qu'un randomized search."
   ]
  },
  {
   "cell_type": "code",
   "execution_count": 16,
   "metadata": {},
   "outputs": [
    {
     "name": "stdout",
     "output_type": "stream",
     "text": [
      "Shape of X: (244028, 500)\n"
     ]
    },
    {
     "name": "stderr",
     "output_type": "stream",
     "text": [
      "/home/matthieu/anaconda3/envs/dsproj/lib/python3.11/site-packages/sklearn/tree/_classes.py:298: FutureWarning: `max_features='auto'` has been deprecated in 1.1 and will be removed in 1.3. To keep the past behaviour, explicitly set `max_features='sqrt'`.\n",
      "  warnings.warn(\n",
      "/home/matthieu/anaconda3/envs/dsproj/lib/python3.11/site-packages/sklearn/tree/_classes.py:298: FutureWarning: `max_features='auto'` has been deprecated in 1.1 and will be removed in 1.3. To keep the past behaviour, explicitly set `max_features='sqrt'`.\n",
      "  warnings.warn(\n",
      "/home/matthieu/anaconda3/envs/dsproj/lib/python3.11/site-packages/sklearn/tree/_classes.py:298: FutureWarning: `max_features='auto'` has been deprecated in 1.1 and will be removed in 1.3. To keep the past behaviour, explicitly set `max_features='sqrt'`.\n",
      "  warnings.warn(\n",
      "/home/matthieu/anaconda3/envs/dsproj/lib/python3.11/site-packages/sklearn/tree/_classes.py:298: FutureWarning: `max_features='auto'` has been deprecated in 1.1 and will be removed in 1.3. To keep the past behaviour, explicitly set `max_features='sqrt'`.\n",
      "  warnings.warn(\n",
      "/home/matthieu/anaconda3/envs/dsproj/lib/python3.11/site-packages/sklearn/tree/_classes.py:298: FutureWarning: `max_features='auto'` has been deprecated in 1.1 and will be removed in 1.3. To keep the past behaviour, explicitly set `max_features='sqrt'`.\n",
      "  warnings.warn(\n",
      "/home/matthieu/anaconda3/envs/dsproj/lib/python3.11/site-packages/sklearn/tree/_classes.py:298: FutureWarning: `max_features='auto'` has been deprecated in 1.1 and will be removed in 1.3. To keep the past behaviour, explicitly set `max_features='sqrt'`.\n",
      "  warnings.warn(\n",
      "/home/matthieu/anaconda3/envs/dsproj/lib/python3.11/site-packages/sklearn/tree/_classes.py:298: FutureWarning: `max_features='auto'` has been deprecated in 1.1 and will be removed in 1.3. To keep the past behaviour, explicitly set `max_features='sqrt'`.\n",
      "  warnings.warn(\n",
      "/home/matthieu/anaconda3/envs/dsproj/lib/python3.11/site-packages/sklearn/tree/_classes.py:298: FutureWarning: `max_features='auto'` has been deprecated in 1.1 and will be removed in 1.3. To keep the past behaviour, explicitly set `max_features='sqrt'`.\n",
      "  warnings.warn(\n"
     ]
    }
   ],
   "source": [
    "from sklearn.model_selection import GridSearchCV\n",
    "from sklearn.tree import DecisionTreeClassifier\n",
    "from sklearn.metrics import accuracy_score\n",
    "from sklearn.feature_extraction.text import CountVectorizer\n",
    "from sklearn.model_selection import train_test_split\n",
    "\n",
    "# Vectoriser les tokens de la colonne 'ingredients_tokens' du dataframe df.\n",
    "data = df['ingredients_tokens']\n",
    "\n",
    "# Créer la matrice des caractéristiques (vectorisation)\n",
    "matrix = CountVectorizer(max_features=500)\n",
    "X = matrix.fit_transform(data).toarray()\n",
    "print(f\"Shape of X: {X.shape}\")\n",
    "\n",
    "# Diviser les données en features (X) et target (y)\n",
    "y = df['gluten_presence']\n",
    "\n",
    "# Diviser les données en ensembles d'entraînement et de test\n",
    "X_train, X_test, y_train, y_test = train_test_split(X, y, test_size=0.2, random_state=42)\n",
    "\n",
    "# Définir la grille des hyperparamètres à rechercher\n",
    "param_grid = {\n",
    "    'criterion': ['gini', 'entropy'],\n",
    "    'max_depth': [None, 10, 20, 30, 40, 50, 60, 70, 80, 90, 100],\n",
    "    'min_samples_split': [2, 5, 10, 15, 20],\n",
    "    'min_samples_leaf': [1, 5, 10, 15, 20],\n",
    "    'max_features': ['auto', 'sqrt', 'log2', None]\n",
    "}\n",
    "\n",
    "# Initialiser le modèle d'arbre de décision\n",
    "clf = DecisionTreeClassifier()\n",
    "\n",
    "# Créer l'objet GridSearchCV\n",
    "grid_search = GridSearchCV(clf, param_grid=param_grid, cv=5, scoring='accuracy')\n",
    "\n",
    "# Exécuter la recherche sur grille sur les données d'entraînement\n",
    "grid_search.fit(X_train, y_train)\n",
    "\n",
    "# Afficher les meilleurs paramètres\n",
    "print(\"Best parameters found:\")\n",
    "print(grid_search.best_params_)\n",
    "\n",
    "# Afficher la meilleure précision\n",
    "print(\"Best accuracy found:\", grid_search.best_score_)\n",
    "\n",
    "# Utiliser le meilleur modèle pour faire des prédictions sur l'ensemble de test\n",
    "best_clf = grid_search.best_estimator_\n",
    "y_pred = best_clf.predict(X_test)\n",
    "\n",
    "# Calculer l'exactitude du meilleur modèle sur l'ensemble de test\n",
    "accuracy = accuracy_score(y_test, y_pred)\n",
    "print(\"Accuracy of the best model:\", accuracy)\n"
   ]
  },
  {
   "cell_type": "markdown",
   "metadata": {},
   "source": [
    "C'est beaucoup trop lourd. Je dois réduire les paramètres testés."
   ]
  },
  {
   "cell_type": "code",
   "execution_count": 3,
   "metadata": {},
   "outputs": [
    {
     "ename": "NameError",
     "evalue": "name 'df' is not defined",
     "output_type": "error",
     "traceback": [
      "\u001b[0;31m---------------------------------------------------------------------------\u001b[0m",
      "\u001b[0;31mNameError\u001b[0m                                 Traceback (most recent call last)",
      "Cell \u001b[0;32mIn[3], line 8\u001b[0m\n\u001b[1;32m      5\u001b[0m \u001b[38;5;28;01mfrom\u001b[39;00m \u001b[38;5;21;01msklearn\u001b[39;00m\u001b[38;5;21;01m.\u001b[39;00m\u001b[38;5;21;01mmodel_selection\u001b[39;00m \u001b[38;5;28;01mimport\u001b[39;00m train_test_split\n\u001b[1;32m      7\u001b[0m \u001b[38;5;66;03m# Vectoriser les tokens de la colonne 'ingredients_tokens' du dataframe df.\u001b[39;00m\n\u001b[0;32m----> 8\u001b[0m data \u001b[38;5;241m=\u001b[39m df[\u001b[38;5;124m'\u001b[39m\u001b[38;5;124mingredients_tokens\u001b[39m\u001b[38;5;124m'\u001b[39m]\n\u001b[1;32m     10\u001b[0m \u001b[38;5;66;03m# Créer la matrice des caractéristiques (vectorisation)\u001b[39;00m\n\u001b[1;32m     11\u001b[0m matrix \u001b[38;5;241m=\u001b[39m CountVectorizer(max_features\u001b[38;5;241m=\u001b[39m\u001b[38;5;241m500\u001b[39m)\n",
      "\u001b[0;31mNameError\u001b[0m: name 'df' is not defined"
     ]
    }
   ],
   "source": [
    "from sklearn.model_selection import GridSearchCV\n",
    "from sklearn.tree import DecisionTreeClassifier\n",
    "from sklearn.metrics import accuracy_score\n",
    "from sklearn.feature_extraction.text import CountVectorizer\n",
    "from sklearn.model_selection import train_test_split\n",
    "\n",
    "# Vectoriser les tokens de la colonne 'ingredients_tokens' du dataframe df.\n",
    "data = df['ingredients_tokens']\n",
    "\n",
    "# Créer la matrice des caractéristiques (vectorisation)\n",
    "matrix = CountVectorizer(max_features=500)\n",
    "X = matrix.fit_transform(data).toarray()\n",
    "print(f\"Shape of X: {X.shape}\")\n",
    "\n",
    "# Diviser les données en features (X) et target (y)\n",
    "y = df['gluten_presence']\n",
    "\n",
    "# Diviser les données en ensembles d'entraînement et de test\n",
    "X_train, X_test, y_train, y_test = train_test_split(X, y, test_size=0.2, random_state=42)\n",
    "\n",
    "# Définir la grille des hyperparamètres à rechercher\n",
    "param_grid = {\n",
    "    'criterion': ['gini', 'entropy'],\n",
    "    'max_depth': [None, 10, 20, 30],\n",
    "    'min_samples_split': [2, 5, 10],\n",
    "    'min_samples_leaf': [1, 5, 10],\n",
    "    'max_features': [None, 'sqrt']\n",
    "}\n",
    "\n",
    "# Initialiser le modèle d'arbre de décision\n",
    "clf = DecisionTreeClassifier()\n",
    "\n",
    "# Créer l'objet GridSearchCV\n",
    "grid_search = GridSearchCV(clf, param_grid=param_grid, cv=4, scoring='accuracy')\n",
    "\n",
    "# Exécuter la recherche sur grille sur les données d'entraînement\n",
    "grid_search.fit(X_train, y_train)\n",
    "\n",
    "# Afficher les meilleurs paramètres\n",
    "print(\"Best parameters found:\")\n",
    "print(grid_search.best_params_)\n",
    "\n",
    "# Afficher la meilleure précision\n",
    "print(\"Best accuracy found:\", grid_search.best_score_)\n",
    "\n",
    "# Utiliser le meilleur modèle pour faire des prédictions sur l'ensemble de test\n",
    "best_clf = grid_search.best_estimator_\n",
    "y_pred = best_clf.predict(X_test)\n",
    "\n",
    "# Calculer l'exactitude du meilleur modèle sur l'ensemble de test\n",
    "accuracy = accuracy_score(y_test, y_pred)\n",
    "print(\"Accuracy of the best model:\", accuracy)"
   ]
  },
  {
   "cell_type": "markdown",
   "metadata": {},
   "source": [
    "Shape of X: (244028, 500)\n",
    "Best parameters found:\n",
    "{'criterion': 'gini', 'max_depth': None, 'max_features': None, 'min_samples_leaf': 10, 'min_samples_split': 10}\n",
    "Best accuracy found: 0.8928758060169713\n",
    "Accuracy of the best model: 0.8930869155431709"
   ]
  },
  {
   "cell_type": "code",
   "execution_count": 9,
   "metadata": {},
   "outputs": [
    {
     "name": "stdout",
     "output_type": "stream",
     "text": [
      "Lines in \n",
      "[[25315  2276]\n",
      " [ 2940 18275]]\n",
      "              precision    recall  f1-score   support\n",
      "\n",
      "           0       0.90      0.92      0.91     27591\n",
      "           1       0.89      0.86      0.88     21215\n",
      "\n",
      "    accuracy                           0.89     48806\n",
      "   macro avg       0.89      0.89      0.89     48806\n",
      "weighted avg       0.89      0.89      0.89     48806\n",
      "\n",
      "f1_score: 0.88\n",
      "recall_score: 0.86\n",
      "precision_score: 0.89\n"
     ]
    },
    {
     "data": {
      "image/png": "[encoded data removed]",
      "text/plain": [
       "<Figure size 1200x800 with 1 Axes>"
      ]
     },
     "metadata": {},
     "output_type": "display_data"
    }
   ],
   "source": [
    "model = best_clf\n",
    "evaluation(model, X_train, X_test, y_train, y_test, display_learning_curve=True)"
   ]
  },
  {
   "cell_type": "code",
   "execution_count": 7,
   "metadata": {},
   "outputs": [
    {
     "name": "stdout",
     "output_type": "stream",
     "text": [
      "Shape of X: (244028, 500)\n",
      "Accuracy: 0.892451747735934\n"
     ]
    }
   ],
   "source": [
    "# Avec les meilleurs paramètres:\n",
    "from sklearn.model_selection import train_test_split\n",
    "from sklearn.tree import DecisionTreeClassifier\n",
    "from sklearn.metrics import accuracy_score\n",
    "from sklearn.feature_extraction.text import CountVectorizer\n",
    "\n",
    "# Vectoriser les tokens de la colonne 'ingredients_tokens' du dataframe df.\n",
    "data = df['ingredients_tokens']\n",
    "\n",
    "# Créer la matrice des caractéristiques (vectorisation)\n",
    "matrix = CountVectorizer(max_features=500)\n",
    "X = matrix.fit_transform(data).toarray()\n",
    "print(f\"Shape of X: {X.shape}\")\n",
    "\n",
    "# Diviser les données en features (X) et target (y)\n",
    "y = df['gluten_presence']\n",
    "\n",
    "# Diviser les données en ensembles d'entraînement et de test\n",
    "X_train, X_test, y_train, y_test = train_test_split(X, y, test_size=0.2, random_state=42)\n",
    "\n",
    "# Utiliser les meilleurs paramètres obtenus\n",
    "best_params = {'criterion': 'gini', 'max_depth': None, 'max_features': None, 'min_samples_leaf': 10, 'min_samples_split': 10}\n",
    "\n",
    "# Initialiser le modèle d'arbre de décision avec les meilleurs paramètres\n",
    "clf = DecisionTreeClassifier(**best_params)\n",
    "\n",
    "# Entraîner le modèle\n",
    "clf.fit(X_train, y_train)\n",
    "\n",
    "# Faire des prédictions sur l'ensemble de test\n",
    "y_pred = clf.predict(X_test)\n",
    "\n",
    "# Calculer l'exactitude du modèle\n",
    "accuracy = accuracy_score(y_test, y_pred)\n",
    "print(\"Accuracy:\", accuracy)\n"
   ]
  },
  {
   "cell_type": "code",
   "execution_count": 9,
   "metadata": {},
   "outputs": [
    {
     "name": "stdout",
     "output_type": "stream",
     "text": [
      "Lines in \n",
      "[[25360  2231]\n",
      " [ 3014 18201]]\n",
      "              precision    recall  f1-score   support\n",
      "\n",
      "           0       0.89      0.92      0.91     27591\n",
      "           1       0.89      0.86      0.87     21215\n",
      "\n",
      "    accuracy                           0.89     48806\n",
      "   macro avg       0.89      0.89      0.89     48806\n",
      "weighted avg       0.89      0.89      0.89     48806\n",
      "\n",
      "f1_score: 0.87\n",
      "recall_score: 0.86\n",
      "precision_score: 0.89\n"
     ]
    },
    {
     "data": {
      "image/png": "[encoded data removed]",
      "text/plain": [
       "<Figure size 1200x800 with 1 Axes>"
      ]
     },
     "metadata": {},
     "output_type": "display_data"
    }
   ],
   "source": [
    "model = clf\n",
    "evaluation(model, X_train, X_test, y_train, y_test, display_learning_curve=True)"
   ]
  },
  {
   "cell_type": "code",
   "execution_count": null,
   "metadata": {},
   "outputs": [],
   "source": [
    "# exporter le modèle clf"
   ]
  },
  {
   "cell_type": "markdown",
   "metadata": {},
   "source": [
    "# Réseaux de neurones"
   ]
  },
  {
   "cell_type": "code",
   "execution_count": 21,
   "metadata": {},
   "outputs": [
    {
     "name": "stdout",
     "output_type": "stream",
     "text": [
      "Accuracy: 0.8872064910052043\n"
     ]
    }
   ],
   "source": [
    "from sklearn.neural_network import MLPClassifier\n",
    "from sklearn.model_selection import train_test_split\n",
    "from sklearn.metrics import accuracy_score\n",
    "\n",
    "# Vectorisons les tokens de la colonne 'ingredients_tokens' du dataframe df.\n",
    "data = df['ingredients_tokens']\n",
    "\n",
    "# Création de la matrice de caractéristiques avec des 1-grammes\n",
    "from sklearn.feature_extraction.text import CountVectorizer\n",
    "matrix = CountVectorizer(max_features=500, ngram_range=(1, 1))\n",
    "X = matrix.fit_transform(data).toarray()\n",
    "\n",
    "# Diviser les données en features (X) et target (y)\n",
    "y = df['gluten_presence']\n",
    "\n",
    "# Diviser les données en ensembles d'entraînement et de test\n",
    "X_train, X_test, y_train, y_test = train_test_split(X, y, test_size=0.2, random_state=42)\n",
    "\n",
    "# Initialiser et entraîner le modèle de réseau de neurones\n",
    "clf = MLPClassifier(hidden_layer_sizes=(100, 50), max_iter=300, random_state=42)\n",
    "clf.fit(X_train, y_train)\n",
    "\n",
    "# Faire des prédictions sur l'ensemble de test\n",
    "y_pred = clf.predict(X_test)\n",
    "\n",
    "# Calculer l'exactitude du modèle\n",
    "accuracy = accuracy_score(y_test, y_pred)\n",
    "print(\"Accuracy:\", accuracy)"
   ]
  },
  {
   "cell_type": "markdown",
   "metadata": {},
   "source": [
    "Accuracy: 0.8872064910052043"
   ]
  },
  {
   "cell_type": "code",
   "execution_count": null,
   "metadata": {},
   "outputs": [],
   "source": []
  },
  {
   "cell_type": "code",
   "execution_count": 33,
   "metadata": {},
   "outputs": [
    {
     "name": "stdout",
     "output_type": "stream",
     "text": [
      "Attention: Présence de gluten\n"
     ]
    }
   ],
   "source": [
    "# tester le modèle avec un nouvel échantillon\n",
    "nouvel_échantillon = ['lait, sucre, oeufs, sel, truffe, gluten-free']\n",
    "nouvel_échantillon_vectorisé = matrix.transform(nouvel_échantillon).toarray()\n",
    "prediction = clf.predict(nouvel_échantillon_vectorisé)\n",
    "\n",
    "if prediction[0] == 1:\n",
    "    print(\"Attention: Présence de gluten\")\n",
    "else :\n",
    "    print(\"Pas de gluten, faites vous plaisir\")"
   ]
  },
  {
   "cell_type": "code",
   "execution_count": 42,
   "metadata": {},
   "outputs": [
    {
     "name": "stdout",
     "output_type": "stream",
     "text": [
      "Lines in \n",
      "[[24994  2597]\n",
      " [ 2908 18307]]\n",
      "              precision    recall  f1-score   support\n",
      "\n",
      "           0       0.90      0.91      0.90     27591\n",
      "           1       0.88      0.86      0.87     21215\n",
      "\n",
      "    accuracy                           0.89     48806\n",
      "   macro avg       0.89      0.88      0.89     48806\n",
      "weighted avg       0.89      0.89      0.89     48806\n",
      "\n",
      "f1_score: 0.87\n",
      "recall_score: 0.86\n",
      "precision_score: 0.88\n"
     ]
    }
   ],
   "source": [
    "model = MLPClassifier(hidden_layer_sizes=(100, 50), max_iter=300, random_state=42)\n",
    "evaluation(model, X_train, X_test, y_train, y_test, display_learning_curve=False)"
   ]
  },
  {
   "cell_type": "code",
   "execution_count": 1,
   "metadata": {},
   "outputs": [],
   "source": [
    "# Fonction d'évaluation du modèle, modifiée pour afficher l'étiquette 'score_f1'\n",
    "import numpy as np\n",
    "import matplotlib.pyplot as plt\n",
    "from sklearn.metrics import f1_score, confusion_matrix, classification_report, recall_score, precision_score\n",
    "from sklearn.model_selection import learning_curve\n",
    "\n",
    "def evaluation(model, X_train, X_test, y_train, y_test, display_learning_curve=False):\n",
    "    model.fit(X_train, y_train)\n",
    "    y_pred = model.predict(X_test)\n",
    "    print(f\"Lines in \")\n",
    "    print(confusion_matrix(y_test, y_pred))\n",
    "    print(classification_report(y_test, y_pred))\n",
    "    print(f\"f1_score: {round(f1_score(y_test, y_pred), 2)}\")\n",
    "    print(f\"recall_score: {round(recall_score(y_test, y_pred), 2)}\")\n",
    "    print(f\"precision_score: {round(precision_score(y_test, y_pred), 2)}\")\n",
    "    \n",
    "    if display_learning_curve:\n",
    "        N, train_score, val_score = learning_curve(model, X_train, y_train, cv=4, scoring='f1' , train_sizes=np.linspace(0.1, 1, 10))\n",
    "        plt.figure(figsize=(12,8))\n",
    "        plt.plot(N, train_score.mean(axis=1), label='train score')\n",
    "        plt.plot(N, val_score.mean(axis=1), label='validation score')\n",
    "        plt.xlabel('Training examples')\n",
    "        plt.ylabel('F1-score')\n",
    "        plt.legend()\n",
    "        plt.show()"
   ]
  }
 ],
 "metadata": {
  "kernelspec": {
   "display_name": "dsproj",
   "language": "python",
   "name": "python3"
  },
  "language_info": {
   "codemirror_mode": {
    "name": "ipython",
    "version": 3
   },
   "file_extension": ".py",
   "mimetype": "text/x-python",
   "name": "python",
   "nbconvert_exporter": "python",
   "pygments_lexer": "ipython3",
   "version": "3.11.7"
  }
 },
 "nbformat": 4,
 "nbformat_minor": 2
}
